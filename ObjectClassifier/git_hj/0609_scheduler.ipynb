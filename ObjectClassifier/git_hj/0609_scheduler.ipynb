{
 "cells": [
  {
   "cell_type": "code",
   "execution_count": 1,
   "id": "7b3a6593",
   "metadata": {},
   "outputs": [
    {
     "name": "stdout",
     "output_type": "stream",
     "text": [
      "Thu Jun  9 16:22:27 2022       \r\n",
      "+-----------------------------------------------------------------------------+\r\n",
      "| NVIDIA-SMI 450.142.00   Driver Version: 450.142.00   CUDA Version: 11.0     |\r\n",
      "|-------------------------------+----------------------+----------------------+\r\n",
      "| GPU  Name        Persistence-M| Bus-Id        Disp.A | Volatile Uncorr. ECC |\r\n",
      "| Fan  Temp  Perf  Pwr:Usage/Cap|         Memory-Usage | GPU-Util  Compute M. |\r\n",
      "|                               |                      |               MIG M. |\r\n",
      "|===============================+======================+======================|\r\n",
      "|   0  Tesla T4            On   | 00000000:00:1E.0 Off |                    0 |\r\n",
      "| N/A   37C    P0    26W /  70W |   6767MiB / 15109MiB |      0%      Default |\r\n",
      "|                               |                      |                  N/A |\r\n",
      "+-------------------------------+----------------------+----------------------+\r\n",
      "                                                                               \r\n",
      "+-----------------------------------------------------------------------------+\r\n",
      "| Processes:                                                                  |\r\n",
      "|  GPU   GI   CI        PID   Type   Process name                  GPU Memory |\r\n",
      "|        ID   ID                                                   Usage      |\r\n",
      "|=============================================================================|\r\n",
      "|    0   N/A  N/A      2963      C   ...untu/anaconda3/bin/python     1411MiB |\r\n",
      "|    0   N/A  N/A     17082      C   ...nvs/pytorch_16/bin/python     5353MiB |\r\n",
      "+-----------------------------------------------------------------------------+\r\n"
     ]
    }
   ],
   "source": [
    "!nvidia-smi"
   ]
  },
  {
   "cell_type": "code",
   "execution_count": 2,
   "id": "4c356142",
   "metadata": {},
   "outputs": [],
   "source": [
    "import numpy as np\n",
    "import random\n",
    "import os\n",
    "import math\n",
    "import easydict  # hyper-parameter\n",
    "from sklearn import preprocessing\n",
    "from sklearn.preprocessing import MinMaxScaler\n",
    "\n",
    "from glob import glob\n",
    "import pandas as pd\n",
    "import cv2\n",
    "from tqdm.auto import tqdm\n",
    "\n",
    "import torch\n",
    "import torch.nn as nn\n",
    "import torch.nn.functional as F\n",
    "import torch_optimizer as optim  # optimizer\n",
    "from torch.utils.data import DataLoader, Dataset\n",
    "\n",
    "from torch.autograd import Variable\n",
    "\n",
    "import torchvision.models as models\n",
    "from torchvision import transforms"
   ]
  },
  {
   "cell_type": "markdown",
   "id": "20e7367e",
   "metadata": {},
   "source": [
    "## Config\n",
    "Hyper-parameter"
   ]
  },
  {
   "cell_type": "code",
   "execution_count": 3,
   "id": "3bc07b04",
   "metadata": {},
   "outputs": [],
   "source": [
    "args = easydict.EasyDict(\n",
    "    {\n",
    "     'epochs':30,\n",
    "     # Optimizer\n",
    "     'optimizer':'Lamb',\n",
    "     \n",
    "     'initial_lr':5e-6,\n",
    "     'weight_decay':1e-3,\n",
    "\n",
    "     # Scheduler (OnecycleLR)\n",
    "     'scheduler':'cycle',\n",
    "     'warm_epoch':5,\n",
    "     'max_lr':1e-3,\n",
    "\n",
    "     # Cosine Annealing\n",
    "     'min_lr':5e-6,\n",
    "     'tmax':145,\n",
    "    })"
   ]
  },
  {
   "cell_type": "code",
   "execution_count": null,
   "id": "e4b8d4c5",
   "metadata": {},
   "outputs": [],
   "source": []
  },
  {
   "cell_type": "code",
   "execution_count": 4,
   "id": "b9e119fa",
   "metadata": {},
   "outputs": [
    {
     "name": "stdout",
     "output_type": "stream",
     "text": [
      "Using cuda device\n"
     ]
    }
   ],
   "source": [
    "device = 'cuda' if torch.cuda.is_available() else 'cpu'\n",
    "print(f\"Using {device} device\")"
   ]
  },
  {
   "cell_type": "code",
   "execution_count": 5,
   "id": "3e024084",
   "metadata": {},
   "outputs": [
    {
     "data": {
      "text/plain": [
       "True"
      ]
     },
     "execution_count": 5,
     "metadata": {},
     "output_type": "execute_result"
    }
   ],
   "source": [
    "torch.cuda.is_available()"
   ]
  },
  {
   "cell_type": "code",
   "execution_count": 6,
   "id": "840c846c",
   "metadata": {},
   "outputs": [],
   "source": [
    "torch.cuda.empty_cache()"
   ]
  },
  {
   "cell_type": "markdown",
   "id": "0e248641",
   "metadata": {},
   "source": [
    "### data"
   ]
  },
  {
   "cell_type": "code",
   "execution_count": 7,
   "id": "36f8c3d1",
   "metadata": {},
   "outputs": [],
   "source": [
    "def get_train_data(data_dir):\n",
    "    img_path_list = []\n",
    "    label_list = []\n",
    "    \n",
    "    image_path = os.path.join(data_dir, 'image')\n",
    "    label_path = os.path.join(data_dir, 'label')\n",
    "    \n",
    "    for product_name in os.listdir(image_path):\n",
    "        product_path = os.path.join(image_path, product_name)\n",
    "        if os.path.isdir(product_path):\n",
    "            # get image path\n",
    "            img_path_list.extend(glob(os.path.join(product_path, '*.jpg')))\n",
    "            img_path_list.extend(glob(os.path.join(product_path, '*.png')))\n",
    "            label = list(product_name[:5])\n",
    "            \n",
    "            # get label\n",
    "            label_list.append(''.join(label))\n",
    "                \n",
    "    return img_path_list, label_list"
   ]
  },
  {
   "cell_type": "code",
   "execution_count": 8,
   "id": "9b328db6",
   "metadata": {
    "scrolled": true
   },
   "outputs": [],
   "source": [
    "img_list, label_list = get_train_data('/home/lab16/jupyter_home/Data/product_image/Training/')"
   ]
  },
  {
   "cell_type": "code",
   "execution_count": 9,
   "id": "166e8203",
   "metadata": {},
   "outputs": [],
   "source": [
    "def data_blanced(img, label):\n",
    "    x = []\n",
    "    y = []\n",
    "    \n",
    "    for i in range(len(label)):\n",
    "        _img = img[(i * 114): ((i + 1) * 114)]\n",
    "        _label = label[i]\n",
    "        \n",
    "        for img_product in _img:\n",
    "            x.append(img_product)\n",
    "            y.append(_label)\n",
    "            \n",
    "    return x, y"
   ]
  },
  {
   "cell_type": "code",
   "execution_count": 10,
   "id": "42e0b929",
   "metadata": {},
   "outputs": [],
   "source": [
    "x, y = data_blanced(img_list, label_list)"
   ]
  },
  {
   "cell_type": "code",
   "execution_count": 11,
   "id": "29ee4584",
   "metadata": {},
   "outputs": [],
   "source": [
    "le = preprocessing.LabelEncoder()\n",
    "targets = le.fit_transform(y)\n",
    "targets = torch.as_tensor(targets)"
   ]
  },
  {
   "cell_type": "code",
   "execution_count": 12,
   "id": "d65e78c8",
   "metadata": {},
   "outputs": [
    {
     "data": {
      "text/plain": [
       "8664"
      ]
     },
     "execution_count": 12,
     "metadata": {},
     "output_type": "execute_result"
    }
   ],
   "source": [
    "len(targets)"
   ]
  },
  {
   "cell_type": "code",
   "execution_count": 13,
   "id": "86c082f5",
   "metadata": {},
   "outputs": [],
   "source": [
    "one_hot_y = F.one_hot(targets)"
   ]
  },
  {
   "cell_type": "code",
   "execution_count": 14,
   "id": "a97f9ee2",
   "metadata": {},
   "outputs": [
    {
     "data": {
      "text/plain": [
       "torch.Size([8664, 76])"
      ]
     },
     "execution_count": 14,
     "metadata": {},
     "output_type": "execute_result"
    }
   ],
   "source": [
    "one_hot_y.shape"
   ]
  },
  {
   "cell_type": "code",
   "execution_count": 15,
   "id": "c7f75455",
   "metadata": {},
   "outputs": [],
   "source": [
    "def get_valid_data(data_dir):\n",
    "    img_valid_list = []\n",
    "    label_valid_list = []\n",
    "    \n",
    "    image_path = os.path.join(data_dir, 'image')\n",
    "    label_path = os.path.join(data_dir, 'label')\n",
    "    \n",
    "    for product_name in os.listdir(image_path):\n",
    "        product_path = os.path.join(image_path, product_name)\n",
    "        if os.path.isdir(product_path):\n",
    "            # get image path\n",
    "            img_valid_list.extend(glob(os.path.join(product_path, '*.jpg')))\n",
    "            img_valid_list.extend(glob(os.path.join(product_path, '*.png')))\n",
    "            label = list(product_name[:5])\n",
    "            \n",
    "            # get label\n",
    "            label_valid_list.append(''.join(label))\n",
    "                \n",
    "    return img_valid_list, label_valid_list"
   ]
  },
  {
   "cell_type": "code",
   "execution_count": 16,
   "id": "a8c424ff",
   "metadata": {},
   "outputs": [],
   "source": [
    "def valid_data_blanced(img, label):\n",
    "    x = []\n",
    "    y = []\n",
    "    \n",
    "    for i in range(len(label)):\n",
    "        _img = img[(i * 15): ((i + 1) * 15)]\n",
    "        _label = label[i]\n",
    "        \n",
    "        for img_product in _img:\n",
    "            x.append(img_product)\n",
    "            y.append(_label)\n",
    "            \n",
    "    return x, y"
   ]
  },
  {
   "cell_type": "code",
   "execution_count": 17,
   "id": "818d155e",
   "metadata": {},
   "outputs": [],
   "source": [
    "img_valid_list, label_valid_list = get_valid_data('/home/lab16/jupyter_home/Data/product_image/Validation/')"
   ]
  },
  {
   "cell_type": "code",
   "execution_count": 18,
   "id": "63ac9d27",
   "metadata": {},
   "outputs": [],
   "source": [
    "x_valid, y_valid = valid_data_blanced(img_valid_list, label_valid_list)"
   ]
  },
  {
   "cell_type": "code",
   "execution_count": 19,
   "id": "30a2be3e",
   "metadata": {},
   "outputs": [
    {
     "data": {
      "text/plain": [
       "1140"
      ]
     },
     "execution_count": 19,
     "metadata": {},
     "output_type": "execute_result"
    }
   ],
   "source": [
    "len(y_valid)"
   ]
  },
  {
   "cell_type": "code",
   "execution_count": 20,
   "id": "850ef446",
   "metadata": {},
   "outputs": [],
   "source": [
    "le2 = preprocessing.LabelEncoder()\n",
    "targets_y = le2.fit_transform(y_valid)\n",
    "targets_y = torch.as_tensor(targets_y)\n",
    "one_hot_valid_y = F.one_hot(targets_y)"
   ]
  },
  {
   "cell_type": "code",
   "execution_count": 21,
   "id": "c9b0b287",
   "metadata": {},
   "outputs": [
    {
     "data": {
      "text/plain": [
       "torch.Size([1140, 76])"
      ]
     },
     "execution_count": 21,
     "metadata": {},
     "output_type": "execute_result"
    }
   ],
   "source": [
    "one_hot_valid_y.shape"
   ]
  },
  {
   "cell_type": "code",
   "execution_count": 22,
   "id": "04b09677",
   "metadata": {},
   "outputs": [],
   "source": [
    "class CustomDataset(Dataset):\n",
    "    def __init__(self, img_path_list, label_list, train_mode=True, transforms=None):\n",
    "        self.transforms = transforms\n",
    "        self.train_mode = train_mode\n",
    "        self.img_path_list = img_path_list\n",
    "        self.label_list = label_list\n",
    "\n",
    "    def __getitem__(self, index):\n",
    "        img_path = self.img_path_list[index]\n",
    "        # Get image data\n",
    "        image = cv2.imread(img_path)\n",
    "        if self.transforms is not None:\n",
    "            image = self.transforms(image)\n",
    "\n",
    "        if self.train_mode:\n",
    "            label = self.label_list[index]\n",
    "            return image, label\n",
    "        else:\n",
    "            return image\n",
    "    \n",
    "    def __len__(self):\n",
    "        return len(self.img_path_list)"
   ]
  },
  {
   "cell_type": "code",
   "execution_count": 23,
   "id": "ebfa6b7f",
   "metadata": {},
   "outputs": [],
   "source": [
    "train_transform = transforms.Compose([\n",
    "                    transforms.ToTensor(),\n",
    "                    transforms.Resize((256, 256)),\n",
    "                    transforms.Normalize(mean=(0.5, 0.5, 0.5), std=(0.5, 0.5, 0.5))\n",
    "                    ])\n",
    "\n",
    "test_transform = transforms.Compose([\n",
    "                    transforms.ToTensor(),\n",
    "                    transforms.Resize((256, 256)),\n",
    "                    transforms.Normalize(mean=(0.5, 0.5, 0.5), std=(0.5, 0.5, 0.5))\n",
    "                    ])"
   ]
  },
  {
   "cell_type": "code",
   "execution_count": 24,
   "id": "77eb80be",
   "metadata": {},
   "outputs": [],
   "source": [
    "train_dataset = CustomDataset(x, one_hot_y, train_mode=True, transforms=train_transform)\n",
    "train_loader = DataLoader(train_dataset, batch_size = 32, shuffle=True, num_workers=0, collate_fn=None)\n",
    "\n",
    "vali_dataset = CustomDataset(x_valid, one_hot_valid_y, train_mode=True, transforms=test_transform)\n",
    "vali_loader = DataLoader(vali_dataset, batch_size = 5, shuffle=False, num_workers=0, collate_fn=None)"
   ]
  },
  {
   "cell_type": "markdown",
   "id": "91233e3c",
   "metadata": {},
   "source": [
    "### model"
   ]
  },
  {
   "cell_type": "code",
   "execution_count": 27,
   "id": "0add7f63",
   "metadata": {},
   "outputs": [],
   "source": [
    "class ResNet50(torch.nn.Module):\n",
    "    def __init__(self):\n",
    "        super(ResNet50, self).__init__()\n",
    "        model = models.resnet50(pretrained=True)\n",
    "        modules = list(model.children())[:-1]\n",
    "        self.feature_extract = nn.Sequential(*modules)\n",
    "        self.fc1 = nn.Linear(2048, 1000)\n",
    "        self.relu = nn.ReLU()\n",
    "        self.dropout = nn.Dropout(0.3)\n",
    "        self.fc2 = nn.Linear(1000,76)\n",
    "\n",
    "    def forward(self, x):\n",
    "        x = self.feature_extract(x)\n",
    "        # x = x.mean(dim=(-2, -1))\n",
    "        # (batch, 2048, 4, 4)\n",
    "        x = torch.squeeze(x)\n",
    "        x = self.relu(self.fc1(x))\n",
    "        out = self.fc2(x)\n",
    "        return out"
   ]
  },
  {
   "cell_type": "markdown",
   "id": "cd612a8c",
   "metadata": {},
   "source": [
    "### training"
   ]
  },
  {
   "cell_type": "code",
   "execution_count": 28,
   "id": "4ea305bf",
   "metadata": {},
   "outputs": [],
   "source": [
    "def validation(model, vali_loader, criterion, device):\n",
    "    model.eval() # Evaluation\n",
    "    vali_loss = []\n",
    "    # regressor = nn.Linear(1000, 1).to(device)\n",
    "\n",
    "    with torch.no_grad():\n",
    "        for img, label in tqdm(iter(vali_loader)):\n",
    "            img, label = img.float().to(device), label.float().to(device)\n",
    "\n",
    "            logit = model(img)\n",
    "            # logit = regressor(logit)\n",
    "            logit = torch.squeeze(logit)\n",
    "            loss = criterion(logit, label)\n",
    "            \n",
    "            vali_loss.append(loss.item())\n",
    "\n",
    "    vali_mae_loss = np.mean(vali_loss)\n",
    "    return vali_mae_loss"
   ]
  },
  {
   "cell_type": "code",
   "execution_count": 29,
   "id": "54f084a8",
   "metadata": {},
   "outputs": [],
   "source": [
    "def train(model, optimizer, train_loader, vali_loader, scheduler, device):\n",
    "    \n",
    "    model.to(device)\n",
    "    \n",
    "    epochs = 30\n",
    "#     epochs = args.epochs\n",
    "\n",
    "    loss_plot = []\n",
    "    vali_loss_plot = []\n",
    "\n",
    "    # Loss Function\n",
    "    criterion = torch.nn.CrossEntropyLoss()\n",
    "    best_loss = 9999\n",
    "    \n",
    "    for epoch in range(1,epochs+1):\n",
    "        model.train()\n",
    "        train_loss = []\n",
    "        for img, label in tqdm(iter(train_loader)):\n",
    "            img, label = img.float().to(device), label.float().to(device)\n",
    "            \n",
    "            optimizer.zero_grad()\n",
    "\n",
    "            # Data -> Model -> Output\n",
    "            logit = model(img)\n",
    "            logit = torch.squeeze(logit)\n",
    "            # Calc loss\n",
    "            loss = criterion(logit, label)\n",
    "            loss_plot.append(loss)\n",
    "\n",
    "            # backpropagation\n",
    "            loss.backward()\n",
    "            optimizer.step()\n",
    "\n",
    "            train_loss.append(loss.item())\n",
    "            \n",
    "        if scheduler is not None:\n",
    "            scheduler.step()\n",
    "            \n",
    "        # Evaluation Validation set\n",
    "        vali_loss = validation(model, vali_loader, criterion, device)\n",
    "        vali_loss_plot.append(vali_loss)\n",
    "        \n",
    "        print(f'Epoch [{epoch}] Train loss : [{np.mean(train_loss):.5f}] Validation loss : [{vali_loss:.5f}]\\n')\n",
    "        \n",
    "        # Model Saved\n",
    "        if best_loss > vali_loss:\n",
    "            best_loss = vali_loss\n",
    "            torch.save(model.state_dict(), '/home/lab16/jupyter_home/saved_models/resnet50_scheduler.pth')\n",
    "            print('Model Saved.')"
   ]
  },
  {
   "cell_type": "code",
   "execution_count": 30,
   "id": "6a7ccce8",
   "metadata": {},
   "outputs": [],
   "source": [
    "model = ResNet50()\n",
    "\n",
    "# model_state_dict = torch.load(\"./saved_models/resnet50.pth\", map_location=device)\n",
    "# model.load_state_dict(model_state_dict)\n",
    "\n",
    "# set optimizer\n",
    "optimizer = torch.optim.Adam(model.parameters(), lr=0.003)\n",
    "\n",
    "# optimizer = optim.Lamb(model.parameters(), lr=args.initial_lr, weight_decay=args.weight_decay)"
   ]
  },
  {
   "cell_type": "markdown",
   "id": "f95d7e69",
   "metadata": {},
   "source": [
    "### Scheduler"
   ]
  },
  {
   "cell_type": "code",
   "execution_count": 31,
   "id": "2ef99078",
   "metadata": {},
   "outputs": [
    {
     "name": "stdout",
     "output_type": "stream",
     "text": [
      "Adjusting learning rate of group 0 to 3.0000e-03.\n"
     ]
    }
   ],
   "source": [
    "# set scheduler\n",
    "scheduler = torch.optim.lr_scheduler.CosineAnnealingLR(optimizer, T_max=10, eta_min=0.001, verbose=True)"
   ]
  },
  {
   "cell_type": "code",
   "execution_count": null,
   "id": "622a0e76",
   "metadata": {},
   "outputs": [],
   "source": []
  },
  {
   "cell_type": "code",
   "execution_count": 33,
   "id": "e95837d6",
   "metadata": {},
   "outputs": [],
   "source": [
    "# # scheduler 변경 시 사용 코드\n",
    "\n",
    "# # hyper-parameter에 들어갈 scheduler list\n",
    "# scheduler_list = []\n",
    "\n",
    "# # 사용할 scheduler 선택, parameter 수치 적절히 설정 필요\n",
    "# if args.scheduler == 'lambda':\n",
    "#     lambda1 = lambda epoch: 0.65 ** epoch\n",
    "#     scheduler = torch.optim.lr_scheduler.LambdaLR(optimizer, lr_lambda=lambda1, verbose=True)\n",
    "# elif args.scheduler == 'multiplicative':\n",
    "#     lmbda = lambda epoch: 0.65 ** epoch\n",
    "#     scheduler = torch.optim.lr_scheduler.MultiplicativeLR(optimizer, lr_lambda=lmbda, verbose=True)\n",
    "# elif args.scheduler == 'step':\n",
    "#     scheduler = torch.optim.lr_scheduler.StepLR(optimizer, step_size=2, gamma=0.1, verbose=True)\n",
    "# elif args.scheduler == 'multistep':\n",
    "#     scheduler = torch.optim.lr_scheduler.MultiStepLR(optimizer, milestones=[6,8,9], gamma=0.1, verbose=True)\n",
    "    \n",
    "# elif args.scheduler == 'exponential': \n",
    "#     scheduler = torch.optim.lr_scheduler.ExponentialLR(optimizer, gamma=0.1, verbose=True)\n",
    "    \n",
    "# elif args.scheduler == 'cos':\n",
    "#     scheduler = torch.optim.lr_scheduler.CosineAnnealingLR(optimizer, T_max=10, eta_min=0, verbose=True)\n",
    "    \n",
    "# elif args.scheduler == 'cycle':\n",
    "#     scheduler = torch.optim.lr_scheduler.CyclicLR(optimizer, base_lr=0.001, max_lr=0.1, step_size_up=5, mode=\"triangular\", verbose=True)\n",
    "# elif args.scheduler == 'cycle2':\n",
    "#     scheduler = torch.optim.lr_scheduler.CyclicLR(optimizer, base_lr=0.001, max_lr=0.1, step_size_up=5, mode=\"triangular2\", verbose=True)\n",
    "# elif args.scheduler == 'cycle_exp':\n",
    "#     scheduler = torch.optim.lr_scheduler.CyclicLR(optimizer, base_lr=0.001, max_lr=0.1, step_size_up=5, mode=\"exp_range\", gamma=0.85, verbose=True)\n",
    "    \n",
    "# elif args.scheduler == 'one_linear':\n",
    "#     scheduler = torch.optim.lr_scheduler.OneCycleLR(optimizer, max_lr=0.1, steps_per_epoch=10, epochs=10, anneal_strategy='linear', verbose=True)\n",
    "# elif args.scheduler == 'one_cos':\n",
    "#     scheduler = torch.optim.lr_scheduler.OneCycleLR(optimizer, max_lr=0.1, steps_per_epoch=10, epochs=10, anneal_strategy='cos', verbose=True)\n",
    "    \n",
    "# elif args.scheduler == 'cos_warm_restarts':\n",
    "#     scheduler = torch.optim.lr_scheduler.CosineAnnealingWarmRestarts(optimizer, T_0=10, T_mult=1, eta_min=0.001, last_epoch=-1, verbose=True)\n",
    "    \n",
    "# # input으로 val loss/metric, optimizer에 momentum 설정 필요\n",
    "# elif args.scheduler == 'reduce':\n",
    "#     scheduler = torch.optim.lr_scheduler.ReduceLROnPlateau(optimizer, 'min', verbose=True)\n",
    "    \n",
    "# # elif args.scheduler == 'cos_warmup':\n",
    "# #     scheduler = transformers.get_cosine_schedule_with_warmup(optimizer, \n",
    "# #                                                          num_warmup_steps=num_warmup_steps, \n",
    "# #                                                          num_training_steps=num_total_steps, verbose=True)"
   ]
  },
  {
   "cell_type": "code",
   "execution_count": 34,
   "id": "f7018530",
   "metadata": {},
   "outputs": [],
   "source": [
    "# # scheduler 목록/설명\n",
    "\n",
    "# ## 1. Lambda LR - Epoch에 따른 가중치로 lr를 점점 감소\n",
    "# ## lr_lambda: lr에 곱해질 factor\n",
    "# lambda1 = lambda epoch: 0.65 ** epoch\n",
    "# scheduler = torch.optim.lr_scheduler.LambdaLR(optimizer, lr_lambda=lambda1)\n",
    "\n",
    "# ## 2. MultiplicativeLR - 이전 Epoch에 따른 가중치(누적곱)로 lr를 점점 감소\n",
    "# lmbda = lambda epoch: 0.65 ** epoch\n",
    "# scheduler = torch.optim.lr_scheduler.MultiplicativeLR(optimizer, lr_lambda=lmbda)\n",
    "\n",
    "# ## *3. StepLR - step size마다 * gamma만큼 lr 감소\n",
    "# scheduler = torch.optim.lr_scheduler.StepLR(optimizer, step_size=2, gamma=0.1)\n",
    "\n",
    "# ## *4. MultiStepLR - lr를 감소시킬 epoch 지정\n",
    "# ## milestones: lr를 줄일 epoch index의 list\n",
    "# scheduler = torch.optim.lr_scheduler.MultiStepLR(optimizer, milestones=[6,8,9], gamma=0.1)\n",
    "\n",
    "# ## *5. ExponentialLR - learing rate decay가 exponential 함수를 따름\n",
    "# scheduler = torch.optim.lr_scheduler.ExponentialLR(optimizer, gamma=0.1)\n",
    "\n",
    "# ## 6. CosineAnnealingLR - Cosine 파형 사용 ( lr가 cos함수를 따라서 eat_min까지 감소 후 다시 초기 lr까지 증가)\n",
    "# ## T_max: 최대 iteration 횟수\n",
    "# ## eta_min: 최소로 떨어질 수있는 learning rate default=0\n",
    "# scheduler = torch.optim.lr_scheduler.CosineAnnealingLR(optimizer, T_max=10, eta_min=0)\n",
    "\n",
    "# ## 7-1. CyclicLR - triangular (A basic triangular cycle without amplitude scaling)\n",
    "# ## step_size_up – Number of training iterations in the increasing half of a cycle. Default: 2000\n",
    "# scheduler = torch.optim.lr_scheduler.CyclicLR(optimizer, base_lr=0.001, max_lr=0.1,step_size_up=5,mode=\"triangular\")\n",
    "\n",
    "# ## 7-2. CyclicLR - triangular2 (A basic triangular cycle that scales initial amplitude by half each cycle)\n",
    "# scheduler = torch.optim.lr_scheduler.CyclicLR(optimizer, base_lr=0.001, max_lr=0.1,step_size_up=5,mode=\"triangular2\")\n",
    "\n",
    "# ## 7-3. CyclicLR - exp_range (A cycle that scales initial amplitude by gamma at each cycle iteration)\n",
    "# scheduler = torch.optim.lr_scheduler.CyclicLR(optimizer, base_lr=0.001, max_lr=0.1,step_size_up=5,mode=\"exp_range\",gamma=0.85)\n",
    "\n",
    "# ## 8-1. OneCycleLR - linear\n",
    "# scheduler = torch.optim.lr_scheduler.OneCycleLR(optimizer, max_lr=0.1, steps_per_epoch=10, epochs=10, anneal_strategy='linear')\n",
    "\n",
    "# ## 8-2. OneCycleLR - cos\n",
    "# scheduler = torch.optim.lr_scheduler.OneCycleLR(optimizer, max_lr=0.1, steps_per_epoch=10, epochs=10, anneal_strategy='cos')\n",
    "\n",
    "# ## 9. CosineAnnealingWarmRestarts\n",
    "# ## T_0 – Number of iterations for the first restart.\n",
    "# ## T_mult (int, optional) – A factor increases T_{i} after a restart. Default: 1.\n",
    "# ## eta_min (float, optional) – Minimum learning rate. Default: 0.\n",
    "# scheduler = torch.optim.lr_scheduler.CosineAnnealingWarmRestarts(optimizer, T_0=10, T_mult=1, eta_min=0.001, last_epoch=-1)\n",
    "# # scheduler = torch.optim.lr_scheduler.CosineAnnealingWarmRestarts(optimizer, T_0=10, T_mult=2, eta_min=0.01, last_epoch=-1)\n",
    "\n",
    "# ## 10. *ReduceLROnPlateau - 성능 향상 없을 때 lr 감소, input으로 val loss/metric, optimizer에 momentum 설정\n",
    "# optimizer = torch.optim.SGD(model.parameters(), lr=0.01, momentum=0.9)\n",
    "# scheduler = torch.optim.lr_scheduler.ReduceLROnPlateau(optimizer, 'min')\n",
    "# # for epoch in range(100):\n",
    "# #      train(...)\n",
    "# #      val_loss = validate(...)\n",
    "\n",
    "# #      # Note that step should be called after validate()\n",
    "# #      scheduler.step(val_loss)\n",
    "    \n",
    "# ## 11. get_cosine_schedule_with_warmup - 0과 optimzier에 설정된 초기 lr 사이에서 선형적 증가의 워밍업 기간 후에 opimizer에서 0으로 설정된 초기 lr 사이의 코사인 함수 값에 따라 감소하는 lr\n",
    "# scheduler = transformers.get_cosine_schedule_with_warmup(optimizer, \n",
    "#                                                          num_warmup_steps=num_warmup_steps, \n",
    "#                                                          num_training_steps=num_total_steps)\n"
   ]
  },
  {
   "cell_type": "code",
   "execution_count": 35,
   "id": "496bca9a",
   "metadata": {},
   "outputs": [
    {
     "data": {
      "application/vnd.jupyter.widget-view+json": {
       "model_id": "3070b9b236fa425c897c11d64e4b55dc",
       "version_major": 2,
       "version_minor": 0
      },
      "text/plain": [
       "  0%|          | 0/271 [00:00<?, ?it/s]"
      ]
     },
     "metadata": {},
     "output_type": "display_data"
    },
    {
     "name": "stdout",
     "output_type": "stream",
     "text": [
      "Adjusting learning rate of group 0 to 2.9511e-03.\n"
     ]
    },
    {
     "data": {
      "application/vnd.jupyter.widget-view+json": {
       "model_id": "ca15fcb407aa4dc1bcbc9160cb8eaf44",
       "version_major": 2,
       "version_minor": 0
      },
      "text/plain": [
       "  0%|          | 0/228 [00:00<?, ?it/s]"
      ]
     },
     "metadata": {},
     "output_type": "display_data"
    },
    {
     "name": "stdout",
     "output_type": "stream",
     "text": [
      "Epoch [1] Train loss : [4.03590] Validation loss : [4.40235]\n",
      "\n",
      "Model Saved.\n"
     ]
    },
    {
     "data": {
      "application/vnd.jupyter.widget-view+json": {
       "model_id": "1b0b10f8b43d410b9d8508411939f7e5",
       "version_major": 2,
       "version_minor": 0
      },
      "text/plain": [
       "  0%|          | 0/271 [00:00<?, ?it/s]"
      ]
     },
     "metadata": {},
     "output_type": "display_data"
    },
    {
     "name": "stdout",
     "output_type": "stream",
     "text": [
      "Adjusting learning rate of group 0 to 2.8090e-03.\n"
     ]
    },
    {
     "data": {
      "application/vnd.jupyter.widget-view+json": {
       "model_id": "aaca724e97b54466baa886eb08db6b8f",
       "version_major": 2,
       "version_minor": 0
      },
      "text/plain": [
       "  0%|          | 0/228 [00:00<?, ?it/s]"
      ]
     },
     "metadata": {},
     "output_type": "display_data"
    },
    {
     "name": "stdout",
     "output_type": "stream",
     "text": [
      "Epoch [2] Train loss : [3.38776] Validation loss : [4.62732]\n",
      "\n"
     ]
    },
    {
     "data": {
      "application/vnd.jupyter.widget-view+json": {
       "model_id": "57cfcad97274408aa4c0b4822cd5b8a2",
       "version_major": 2,
       "version_minor": 0
      },
      "text/plain": [
       "  0%|          | 0/271 [00:00<?, ?it/s]"
      ]
     },
     "metadata": {},
     "output_type": "display_data"
    },
    {
     "ename": "KeyboardInterrupt",
     "evalue": "",
     "output_type": "error",
     "traceback": [
      "\u001b[0;31m---------------------------------------------------------------------------\u001b[0m",
      "\u001b[0;31mKeyboardInterrupt\u001b[0m                         Traceback (most recent call last)",
      "Input \u001b[0;32mIn [35]\u001b[0m, in \u001b[0;36m<cell line: 3>\u001b[0;34m()\u001b[0m\n\u001b[1;32m      1\u001b[0m \u001b[38;5;66;03m# scheduler = None\u001b[39;00m\n\u001b[0;32m----> 3\u001b[0m \u001b[43mtrain\u001b[49m\u001b[43m(\u001b[49m\u001b[43mmodel\u001b[49m\u001b[43m,\u001b[49m\u001b[43m \u001b[49m\u001b[43moptimizer\u001b[49m\u001b[43m,\u001b[49m\u001b[43m \u001b[49m\u001b[43mtrain_loader\u001b[49m\u001b[43m,\u001b[49m\u001b[43m \u001b[49m\u001b[43mvali_loader\u001b[49m\u001b[43m,\u001b[49m\u001b[43m \u001b[49m\u001b[43mscheduler\u001b[49m\u001b[43m,\u001b[49m\u001b[43m \u001b[49m\u001b[43mdevice\u001b[49m\u001b[43m)\u001b[49m\n",
      "Input \u001b[0;32mIn [29]\u001b[0m, in \u001b[0;36mtrain\u001b[0;34m(model, optimizer, train_loader, vali_loader, scheduler, device)\u001b[0m\n\u001b[1;32m     16\u001b[0m model\u001b[38;5;241m.\u001b[39mtrain()\n\u001b[1;32m     17\u001b[0m train_loss \u001b[38;5;241m=\u001b[39m []\n\u001b[0;32m---> 18\u001b[0m \u001b[38;5;28;01mfor\u001b[39;00m img, label \u001b[38;5;129;01min\u001b[39;00m tqdm(\u001b[38;5;28miter\u001b[39m(train_loader)):\n\u001b[1;32m     19\u001b[0m     img, label \u001b[38;5;241m=\u001b[39m img\u001b[38;5;241m.\u001b[39mfloat()\u001b[38;5;241m.\u001b[39mto(device), label\u001b[38;5;241m.\u001b[39mfloat()\u001b[38;5;241m.\u001b[39mto(device)\n\u001b[1;32m     21\u001b[0m     optimizer\u001b[38;5;241m.\u001b[39mzero_grad()\n",
      "File \u001b[0;32m/home/ubuntu/anaconda3/envs/pytorch_16/lib/python3.8/site-packages/tqdm/notebook.py:258\u001b[0m, in \u001b[0;36mtqdm_notebook.__iter__\u001b[0;34m(self)\u001b[0m\n\u001b[1;32m    256\u001b[0m \u001b[38;5;28;01mtry\u001b[39;00m:\n\u001b[1;32m    257\u001b[0m     it \u001b[38;5;241m=\u001b[39m \u001b[38;5;28msuper\u001b[39m(tqdm_notebook, \u001b[38;5;28mself\u001b[39m)\u001b[38;5;241m.\u001b[39m\u001b[38;5;21m__iter__\u001b[39m()\n\u001b[0;32m--> 258\u001b[0m     \u001b[38;5;28;01mfor\u001b[39;00m obj \u001b[38;5;129;01min\u001b[39;00m it:\n\u001b[1;32m    259\u001b[0m         \u001b[38;5;66;03m# return super(tqdm...) will not catch exception\u001b[39;00m\n\u001b[1;32m    260\u001b[0m         \u001b[38;5;28;01myield\u001b[39;00m obj\n\u001b[1;32m    261\u001b[0m \u001b[38;5;66;03m# NB: except ... [ as ...] breaks IPython async KeyboardInterrupt\u001b[39;00m\n",
      "File \u001b[0;32m/home/ubuntu/anaconda3/envs/pytorch_16/lib/python3.8/site-packages/tqdm/std.py:1195\u001b[0m, in \u001b[0;36mtqdm.__iter__\u001b[0;34m(self)\u001b[0m\n\u001b[1;32m   1192\u001b[0m time \u001b[38;5;241m=\u001b[39m \u001b[38;5;28mself\u001b[39m\u001b[38;5;241m.\u001b[39m_time\n\u001b[1;32m   1194\u001b[0m \u001b[38;5;28;01mtry\u001b[39;00m:\n\u001b[0;32m-> 1195\u001b[0m     \u001b[38;5;28;01mfor\u001b[39;00m obj \u001b[38;5;129;01min\u001b[39;00m iterable:\n\u001b[1;32m   1196\u001b[0m         \u001b[38;5;28;01myield\u001b[39;00m obj\n\u001b[1;32m   1197\u001b[0m         \u001b[38;5;66;03m# Update and possibly print the progressbar.\u001b[39;00m\n\u001b[1;32m   1198\u001b[0m         \u001b[38;5;66;03m# Note: does not call self.update(1) for speed optimisation.\u001b[39;00m\n",
      "File \u001b[0;32m/home/ubuntu/anaconda3/envs/pytorch_16/lib/python3.8/site-packages/torch/utils/data/dataloader.py:530\u001b[0m, in \u001b[0;36m_BaseDataLoaderIter.__next__\u001b[0;34m(self)\u001b[0m\n\u001b[1;32m    528\u001b[0m \u001b[38;5;28;01mif\u001b[39;00m \u001b[38;5;28mself\u001b[39m\u001b[38;5;241m.\u001b[39m_sampler_iter \u001b[38;5;129;01mis\u001b[39;00m \u001b[38;5;28;01mNone\u001b[39;00m:\n\u001b[1;32m    529\u001b[0m     \u001b[38;5;28mself\u001b[39m\u001b[38;5;241m.\u001b[39m_reset()\n\u001b[0;32m--> 530\u001b[0m data \u001b[38;5;241m=\u001b[39m \u001b[38;5;28;43mself\u001b[39;49m\u001b[38;5;241;43m.\u001b[39;49m\u001b[43m_next_data\u001b[49m\u001b[43m(\u001b[49m\u001b[43m)\u001b[49m\n\u001b[1;32m    531\u001b[0m \u001b[38;5;28mself\u001b[39m\u001b[38;5;241m.\u001b[39m_num_yielded \u001b[38;5;241m+\u001b[39m\u001b[38;5;241m=\u001b[39m \u001b[38;5;241m1\u001b[39m\n\u001b[1;32m    532\u001b[0m \u001b[38;5;28;01mif\u001b[39;00m \u001b[38;5;28mself\u001b[39m\u001b[38;5;241m.\u001b[39m_dataset_kind \u001b[38;5;241m==\u001b[39m _DatasetKind\u001b[38;5;241m.\u001b[39mIterable \u001b[38;5;129;01mand\u001b[39;00m \\\n\u001b[1;32m    533\u001b[0m         \u001b[38;5;28mself\u001b[39m\u001b[38;5;241m.\u001b[39m_IterableDataset_len_called \u001b[38;5;129;01mis\u001b[39;00m \u001b[38;5;129;01mnot\u001b[39;00m \u001b[38;5;28;01mNone\u001b[39;00m \u001b[38;5;129;01mand\u001b[39;00m \\\n\u001b[1;32m    534\u001b[0m         \u001b[38;5;28mself\u001b[39m\u001b[38;5;241m.\u001b[39m_num_yielded \u001b[38;5;241m>\u001b[39m \u001b[38;5;28mself\u001b[39m\u001b[38;5;241m.\u001b[39m_IterableDataset_len_called:\n",
      "File \u001b[0;32m/home/ubuntu/anaconda3/envs/pytorch_16/lib/python3.8/site-packages/torch/utils/data/dataloader.py:570\u001b[0m, in \u001b[0;36m_SingleProcessDataLoaderIter._next_data\u001b[0;34m(self)\u001b[0m\n\u001b[1;32m    568\u001b[0m \u001b[38;5;28;01mdef\u001b[39;00m \u001b[38;5;21m_next_data\u001b[39m(\u001b[38;5;28mself\u001b[39m):\n\u001b[1;32m    569\u001b[0m     index \u001b[38;5;241m=\u001b[39m \u001b[38;5;28mself\u001b[39m\u001b[38;5;241m.\u001b[39m_next_index()  \u001b[38;5;66;03m# may raise StopIteration\u001b[39;00m\n\u001b[0;32m--> 570\u001b[0m     data \u001b[38;5;241m=\u001b[39m \u001b[38;5;28;43mself\u001b[39;49m\u001b[38;5;241;43m.\u001b[39;49m\u001b[43m_dataset_fetcher\u001b[49m\u001b[38;5;241;43m.\u001b[39;49m\u001b[43mfetch\u001b[49m\u001b[43m(\u001b[49m\u001b[43mindex\u001b[49m\u001b[43m)\u001b[49m  \u001b[38;5;66;03m# may raise StopIteration\u001b[39;00m\n\u001b[1;32m    571\u001b[0m     \u001b[38;5;28;01mif\u001b[39;00m \u001b[38;5;28mself\u001b[39m\u001b[38;5;241m.\u001b[39m_pin_memory:\n\u001b[1;32m    572\u001b[0m         data \u001b[38;5;241m=\u001b[39m _utils\u001b[38;5;241m.\u001b[39mpin_memory\u001b[38;5;241m.\u001b[39mpin_memory(data)\n",
      "File \u001b[0;32m/home/ubuntu/anaconda3/envs/pytorch_16/lib/python3.8/site-packages/torch/utils/data/_utils/fetch.py:49\u001b[0m, in \u001b[0;36m_MapDatasetFetcher.fetch\u001b[0;34m(self, possibly_batched_index)\u001b[0m\n\u001b[1;32m     47\u001b[0m \u001b[38;5;28;01mdef\u001b[39;00m \u001b[38;5;21mfetch\u001b[39m(\u001b[38;5;28mself\u001b[39m, possibly_batched_index):\n\u001b[1;32m     48\u001b[0m     \u001b[38;5;28;01mif\u001b[39;00m \u001b[38;5;28mself\u001b[39m\u001b[38;5;241m.\u001b[39mauto_collation:\n\u001b[0;32m---> 49\u001b[0m         data \u001b[38;5;241m=\u001b[39m [\u001b[38;5;28mself\u001b[39m\u001b[38;5;241m.\u001b[39mdataset[idx] \u001b[38;5;28;01mfor\u001b[39;00m idx \u001b[38;5;129;01min\u001b[39;00m possibly_batched_index]\n\u001b[1;32m     50\u001b[0m     \u001b[38;5;28;01melse\u001b[39;00m:\n\u001b[1;32m     51\u001b[0m         data \u001b[38;5;241m=\u001b[39m \u001b[38;5;28mself\u001b[39m\u001b[38;5;241m.\u001b[39mdataset[possibly_batched_index]\n",
      "File \u001b[0;32m/home/ubuntu/anaconda3/envs/pytorch_16/lib/python3.8/site-packages/torch/utils/data/_utils/fetch.py:49\u001b[0m, in \u001b[0;36m<listcomp>\u001b[0;34m(.0)\u001b[0m\n\u001b[1;32m     47\u001b[0m \u001b[38;5;28;01mdef\u001b[39;00m \u001b[38;5;21mfetch\u001b[39m(\u001b[38;5;28mself\u001b[39m, possibly_batched_index):\n\u001b[1;32m     48\u001b[0m     \u001b[38;5;28;01mif\u001b[39;00m \u001b[38;5;28mself\u001b[39m\u001b[38;5;241m.\u001b[39mauto_collation:\n\u001b[0;32m---> 49\u001b[0m         data \u001b[38;5;241m=\u001b[39m [\u001b[38;5;28;43mself\u001b[39;49m\u001b[38;5;241;43m.\u001b[39;49m\u001b[43mdataset\u001b[49m\u001b[43m[\u001b[49m\u001b[43midx\u001b[49m\u001b[43m]\u001b[49m \u001b[38;5;28;01mfor\u001b[39;00m idx \u001b[38;5;129;01min\u001b[39;00m possibly_batched_index]\n\u001b[1;32m     50\u001b[0m     \u001b[38;5;28;01melse\u001b[39;00m:\n\u001b[1;32m     51\u001b[0m         data \u001b[38;5;241m=\u001b[39m \u001b[38;5;28mself\u001b[39m\u001b[38;5;241m.\u001b[39mdataset[possibly_batched_index]\n",
      "Input \u001b[0;32mIn [22]\u001b[0m, in \u001b[0;36mCustomDataset.__getitem__\u001b[0;34m(self, index)\u001b[0m\n\u001b[1;32m      9\u001b[0m img_path \u001b[38;5;241m=\u001b[39m \u001b[38;5;28mself\u001b[39m\u001b[38;5;241m.\u001b[39mimg_path_list[index]\n\u001b[1;32m     10\u001b[0m \u001b[38;5;66;03m# Get image data\u001b[39;00m\n\u001b[0;32m---> 11\u001b[0m image \u001b[38;5;241m=\u001b[39m \u001b[43mcv2\u001b[49m\u001b[38;5;241;43m.\u001b[39;49m\u001b[43mimread\u001b[49m\u001b[43m(\u001b[49m\u001b[43mimg_path\u001b[49m\u001b[43m)\u001b[49m\n\u001b[1;32m     12\u001b[0m \u001b[38;5;28;01mif\u001b[39;00m \u001b[38;5;28mself\u001b[39m\u001b[38;5;241m.\u001b[39mtransforms \u001b[38;5;129;01mis\u001b[39;00m \u001b[38;5;129;01mnot\u001b[39;00m \u001b[38;5;28;01mNone\u001b[39;00m:\n\u001b[1;32m     13\u001b[0m     image \u001b[38;5;241m=\u001b[39m \u001b[38;5;28mself\u001b[39m\u001b[38;5;241m.\u001b[39mtransforms(image)\n",
      "\u001b[0;31mKeyboardInterrupt\u001b[0m: "
     ]
    }
   ],
   "source": [
    "# scheduler = None\n",
    "\n",
    "train(model, optimizer, train_loader, vali_loader, scheduler, device)"
   ]
  },
  {
   "cell_type": "code",
   "execution_count": null,
   "id": "0d5d6869",
   "metadata": {},
   "outputs": [],
   "source": [
    "def predict(model, test_loader, device):\n",
    "    model.eval()\n",
    "    model_pred = []\n",
    "    with torch.no_grad():\n",
    "        for img, label in tqdm(iter(test_loader)):\n",
    "            img = img.float().to(device)\n",
    "            \n",
    "            pred_logit = model(img)\n",
    "            pred_logit = pred_logit.squeeze().detach().cpu()\n",
    "            \n",
    "            model_pred.extend(pred_logit.tolist())\n",
    "    return model_pred"
   ]
  },
  {
   "cell_type": "code",
   "execution_count": null,
   "id": "5168de9a",
   "metadata": {},
   "outputs": [],
   "source": [
    "checkpoint = torch.load('/home/lab16/jupyter_home/saved_models/resnet50_scheduler.pth')\n",
    "model = ResNet50().to(device)\n",
    "model.load_state_dict(checkpoint)\n",
    "\n",
    "preds = predict(model, vali_loader, device)"
   ]
  },
  {
   "cell_type": "code",
   "execution_count": null,
   "id": "df70a6f8",
   "metadata": {},
   "outputs": [],
   "source": [
    "pred_labels = np.argmax(preds, axis=1)\n",
    "true_labels = one_hot_valid_y.argmax(-1)"
   ]
  },
  {
   "cell_type": "code",
   "execution_count": null,
   "id": "775d88e8",
   "metadata": {},
   "outputs": [],
   "source": [
    "from sklearn.metrics import accuracy_score\n",
    "\n",
    "accuracy_score(true_labels, pred_labels)"
   ]
  }
 ],
 "metadata": {
  "kernelspec": {
   "display_name": "Python [conda env:pytorch_16] *",
   "language": "python",
   "name": "conda-env-pytorch_16-py"
  },
  "language_info": {
   "codemirror_mode": {
    "name": "ipython",
    "version": 3
   },
   "file_extension": ".py",
   "mimetype": "text/x-python",
   "name": "python",
   "nbconvert_exporter": "python",
   "pygments_lexer": "ipython3",
   "version": "3.8.13"
  }
 },
 "nbformat": 4,
 "nbformat_minor": 5
}
