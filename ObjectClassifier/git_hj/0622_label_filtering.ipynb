{
 "cells": [
  {
   "cell_type": "markdown",
   "id": "29aec509",
   "metadata": {},
   "source": [
    "각 카테고리별 index 범위 설정 후 csv 파일에 존재하는 label만 남기고 나머지 이미지 폴더 삭제하는 코드"
   ]
  },
  {
   "cell_type": "code",
   "execution_count": null,
   "id": "553dc872",
   "metadata": {},
   "outputs": [],
   "source": [
    "import pandas as pd\n",
    "import os\n",
    "import shutil"
   ]
  },
  {
   "cell_type": "code",
   "execution_count": null,
   "id": "ee2ced42",
   "metadata": {},
   "outputs": [],
   "source": [
    "df = pd.read_csv('goodsdf.csv')  # csv 파일 경로"
   ]
  },
  {
   "cell_type": "code",
   "execution_count": null,
   "id": "590a1895",
   "metadata": {},
   "outputs": [],
   "source": [
    "valid_path = ''  # 이미지 파일 들어있는 경로\n",
    "valid_dir_list = os.listdir(valid_path)"
   ]
  },
  {
   "cell_type": "code",
   "execution_count": null,
   "id": "996d4088",
   "metadata": {},
   "outputs": [],
   "source": [
    "valid_dir_list"
   ]
  },
  {
   "cell_type": "code",
   "execution_count": null,
   "id": "62070290",
   "metadata": {},
   "outputs": [],
   "source": [
    "sep_dir_list = []\n",
    "for i in valid_dir_list:\n",
    "    sep_dir_list.append(i.split('_')[0])"
   ]
  },
  {
   "cell_type": "code",
   "execution_count": null,
   "id": "a5240004",
   "metadata": {},
   "outputs": [],
   "source": [
    "sep_dir_list"
   ]
  },
  {
   "cell_type": "code",
   "execution_count": null,
   "id": "a995e64d",
   "metadata": {},
   "outputs": [],
   "source": [
    "len(sep_dir_list)"
   ]
  },
  {
   "cell_type": "code",
   "execution_count": null,
   "id": "556785d2",
   "metadata": {},
   "outputs": [],
   "source": [
    "start_index = 1522  # csv 파일에서 해당 카테고리 시작 index\n",
    "end_index = 1630  # csv 파일에서 해당 카테고리 끝 index"
   ]
  },
  {
   "cell_type": "code",
   "execution_count": null,
   "id": "438b8b8d",
   "metadata": {},
   "outputs": [],
   "source": [
    "print(df['id'][start_index - 2])\n",
    "print(df['id'][end_index - 2])"
   ]
  },
  {
   "cell_type": "code",
   "execution_count": null,
   "id": "855b82ba",
   "metadata": {},
   "outputs": [],
   "source": [
    "cnt = 0\n",
    "dir_list = []\n",
    "for i in range(start_index - 2, end_index - 1):\n",
    "#     print(df['id'][i])\n",
    "    dir_list.append(df['id'][i])\n",
    "    cnt += 1"
   ]
  },
  {
   "cell_type": "code",
   "execution_count": null,
   "id": "752b695e",
   "metadata": {},
   "outputs": [],
   "source": [
    "cnt"
   ]
  },
  {
   "cell_type": "code",
   "execution_count": null,
   "id": "6ccfb819",
   "metadata": {},
   "outputs": [],
   "source": [
    "dir_list"
   ]
  },
  {
   "cell_type": "code",
   "execution_count": null,
   "id": "215c7043",
   "metadata": {},
   "outputs": [],
   "source": [
    "total_len = 0\n",
    "for i in range(len(sep_dir_list)): \n",
    "    if sep_dir_list[i] in dir_list:\n",
    "        print(sep_dir_list[i])\n",
    "        total_len += 1\n",
    "    else: \n",
    "#         print('shutil')\n",
    "#         print(valid_dir_list[i])\n",
    "        shutil.rmtree(os.path.join(valid_path, valid_dir_list[i]))"
   ]
  },
  {
   "cell_type": "code",
   "execution_count": null,
   "id": "d232bb87",
   "metadata": {},
   "outputs": [],
   "source": [
    "print(total_len)"
   ]
  }
 ],
 "metadata": {
  "kernelspec": {
   "display_name": "Python [conda env:pytorch_16] *",
   "language": "python",
   "name": "conda-env-pytorch_16-py"
  },
  "language_info": {
   "codemirror_mode": {
    "name": "ipython",
    "version": 3
   },
   "file_extension": ".py",
   "mimetype": "text/x-python",
   "name": "python",
   "nbconvert_exporter": "python",
   "pygments_lexer": "ipython3",
   "version": "3.8.13"
  }
 },
 "nbformat": 4,
 "nbformat_minor": 5
}
