{
 "cells": [
  {
   "cell_type": "markdown",
   "id": "24c3de41",
   "metadata": {},
   "source": [
    "# Inference"
   ]
  },
  {
   "cell_type": "code",
   "execution_count": 1,
   "id": "40d30ca5",
   "metadata": {},
   "outputs": [],
   "source": [
    "import numpy as np\n",
    "import random\n",
    "import os\n",
    "import math\n",
    "from itertools import product\n",
    "\n",
    "from sklearn import preprocessing\n",
    "from sklearn.preprocessing import MinMaxScaler\n",
    "\n",
    "\n",
    "from glob import glob\n",
    "import pandas as pd\n",
    "import cv2\n",
    "from tqdm.auto import tqdm\n",
    "from PIL import Image\n",
    "from pathlib import Path\n",
    "import matplotlib.pyplot as plt\n",
    "\n",
    "\n",
    "import torch\n",
    "import torch.nn as nn\n",
    "import torch.nn.functional as F\n",
    "from torch.utils.data import DataLoader, Dataset\n",
    "# from torch.utils.tensorboard import SummaryWriter\n",
    "\n",
    "from torch.autograd import Variable\n",
    "\n",
    "import torchvision.models as models\n",
    "from torchvision import transforms\n",
    "\n",
    "import albumentations as A\n",
    "import albumentations.pytorch\n",
    "\n",
    "from sklearn.metrics import accuracy_score"
   ]
  },
  {
   "cell_type": "code",
   "execution_count": 2,
   "id": "d0c81cfc",
   "metadata": {},
   "outputs": [
    {
     "name": "stdout",
     "output_type": "stream",
     "text": [
      "Using cuda device\n"
     ]
    }
   ],
   "source": [
    "device = 'cuda' if torch.cuda.is_available() else 'cpu'\n",
    "print(f\"Using {device} device\")"
   ]
  },
  {
   "cell_type": "code",
   "execution_count": 3,
   "id": "20bc0d44",
   "metadata": {},
   "outputs": [],
   "source": [
    "# import tensorflow as tf\n",
    "# from tensorflow.python.client import device_lib\n",
    "# device_lib.list_local_devices()\n",
    "\n",
    "# tf.test.is_gpu_available()"
   ]
  },
  {
   "cell_type": "code",
   "execution_count": 4,
   "id": "e643018e",
   "metadata": {},
   "outputs": [],
   "source": [
    "CFG = {\n",
    "    'IMG_SIZE':256,\n",
    "    'EPOCHS':50,\n",
    "    'PATIENCE':10,\n",
    "#     'class':41 # quasi_drug\n",
    "#     'class':126 # home_clean\n",
    "    'class':100 # HMR \n",
    "}"
   ]
  },
  {
   "cell_type": "code",
   "execution_count": 5,
   "id": "2d5d77fb",
   "metadata": {},
   "outputs": [
    {
     "data": {
      "text/plain": [
       "['RegNet_0.001_rmsprop_CosineAnnealing_example.pth',\n",
       " 'RegNet_0.0001_rmsprop_CosineAnnealing_example.pth',\n",
       " 'RegNet_1e-05_rmsprop_CosineAnnealing_example.pth']"
      ]
     },
     "execution_count": 5,
     "metadata": {},
     "output_type": "execute_result"
    }
   ],
   "source": [
    "os.listdir('./saved_models/HMR')"
   ]
  },
  {
   "cell_type": "code",
   "execution_count": 6,
   "id": "fb70e957",
   "metadata": {},
   "outputs": [],
   "source": [
    "# Train_path = '/home/lab17/jupyter_home/Data/product_image/Training/'\n",
    "# Valid_path = '/home/lab17/jupyter_home/Data/product_image/Validation/'\n",
    "# Test_path = '/home/lab17/jupyter_home/git/test_img/'\n",
    "# save_graph_path = './result/'\n",
    "# save_model_path = '/home/lab17/jupyter_home/saved_models/'"
   ]
  },
  {
   "cell_type": "code",
   "execution_count": 7,
   "id": "51431069",
   "metadata": {},
   "outputs": [],
   "source": [
    "Train_path = './Data/product_image/Training/HMR'\n",
    "Test_path = '/home/lab16/jupyter_home/git/test_img/HMR'"
   ]
  },
  {
   "cell_type": "markdown",
   "id": "af6c340a",
   "metadata": {},
   "source": [
    "# Load Data"
   ]
  },
  {
   "cell_type": "markdown",
   "id": "fcca14fa",
   "metadata": {},
   "source": [
    "### train"
   ]
  },
  {
   "cell_type": "code",
   "execution_count": 8,
   "id": "caabde28",
   "metadata": {},
   "outputs": [],
   "source": [
    "def get_train_data(data_dir):\n",
    "#     img_path_list = []\n",
    "    label_list = []\n",
    "    label_name_list = []\n",
    "    \n",
    "#     image_path = os.path.join(data_dir, 'dessert')\n",
    "    image_path = data_dir\n",
    "    \n",
    "    for product_name in os.listdir(image_path):\n",
    "        product_path = os.path.join(image_path, product_name)\n",
    "        if os.path.isdir(product_path):\n",
    "#             get image path\n",
    "#             img_path_list.extend(glob(os.path.join(product_path, '*.jpg')))\n",
    "#             img_path_list.extend(glob(os.path.join(product_path, '*.png')))\n",
    "            label = list(product_name.split('_')[0])\n",
    "            name = product_name[6:]\n",
    "            \n",
    "            # get label\n",
    "            label_list.append(''.join(label))\n",
    "            label_name_list.append(name)\n",
    "                \n",
    "#     return img_path_list, label_list\n",
    "    return label_list, label_name_list"
   ]
  },
  {
   "cell_type": "code",
   "execution_count": 9,
   "id": "d0c65a9b",
   "metadata": {},
   "outputs": [],
   "source": [
    "# def get_train_data(data_dir):\n",
    "#     img_path_list = []\n",
    "#     label_list = []\n",
    "    \n",
    "# #     image_path = os.path.join(data_dir, dir_name)\n",
    "#     image_path = data_dir\n",
    "    \n",
    "#     for product_name in os.listdir(image_path):\n",
    "#         product_path = os.path.join(image_path, product_name)\n",
    "#         if os.path.isdir(product_path):\n",
    "#             # get image path\n",
    "#             img_path_list.extend(glob(os.path.join(product_path, '*.jpg')))\n",
    "#             img_path_list.extend(glob(os.path.join(product_path, '*.png')))\n",
    "# #             label = list(product_name[:5])\n",
    "            \n",
    "#             label = list(product_name.split('_')[0])\n",
    "            \n",
    "#             # get label\n",
    "#             label_list.append(''.join(label))\n",
    "                \n",
    "#     return img_path_list, label_list"
   ]
  },
  {
   "cell_type": "code",
   "execution_count": 10,
   "id": "a4b750e5",
   "metadata": {},
   "outputs": [],
   "source": [
    "label_list, label_name_list = get_train_data(Train_path)"
   ]
  },
  {
   "cell_type": "code",
   "execution_count": 11,
   "id": "f7fc35cb",
   "metadata": {},
   "outputs": [
    {
     "name": "stdout",
     "output_type": "stream",
     "text": [
      "--targets\n",
      " [97 39 87 64 60 47 25 54 50 34 65 19 70 27 13 20 72 29 99 98 23  7 14 38\n",
      " 11 55 41 62 86 32 85 58 31  2  1 30 96 88 81 52 92 22 46 74 17 18 40  5\n",
      " 61 21 91 35 49 24 69 75 77  8 28 76 44 63 33 53 90 10 94 82 89 80 42 79\n",
      " 57 37 95 71 51 66 83  3 36  9 48 12 26 78 16 93 67 43 68 56 73  6  0 45\n",
      " 84 15  4 59]\n",
      "{'25705': 97, '15453': 39, '25428': 87, '20237': 64, '20208': 60, '15647': 47, '15266': 25, '15949': 54, '15820': 50, '15448': 34, '20256': 65, '15091': 19, '25095': 70, '15425': 27, '15028': 13, '15092': 20, '25115': 72, '15427': 29, '25707': 99, '25706': 98, '15104': 23, '10240': 7, '15029': 14, '15452': 38, '10305': 11, '16056': 55, '15456': 41, '20228': 62, '25426': 86, '15446': 32, '25425': 85, '20197': 58, '15445': 31, '10187': 2, '10185': 1, '15428': 30, '25703': 96, '25429': 88, '25421': 81, '15945': 52, '25653': 92, '15103': 22, '15478': 46, '25121': 74, '15088': 17, '15090': 18, '15455': 40, '10224': 5, '20216': 61, '15102': 21, '25608': 91, '15449': 35, '15819': 49, '15261': 24, '25087': 69, '25175': 75, '25417': 77, '10241': 8, '15426': 28, '25226': 76, '15476': 44, '20235': 63, '15447': 33, '15946': 53, '25456': 90, '10261': 10, '25656': 94, '25422': 82, '25455': 89, '25420': 80, '15457': 42, '25419': 79, '20184': 57, '15451': 37, '25658': 95, '25114': 71, '15888': 51, '25038': 66, '25423': 83, '10188': 3, '15450': 36, '10245': 9, '15722': 48, '10316': 12, '15424': 26, '25418': 78, '15082': 16, '25655': 93, '25073': 67, '15463': 43, '25085': 68, '20183': 56, '25120': 73, '10226': 6, '10184': 0, '15477': 45, '25424': 84, '15071': 15, '10202': 4, '20199': 59}\n"
     ]
    }
   ],
   "source": [
    "# encoder\n",
    "le = preprocessing.LabelEncoder()\n",
    "targets = le.fit_transform(label_list)\n",
    "print('--targets\\n' , targets)\n",
    "\n",
    "label_encoder = {key:val for key, val in zip(label_list, targets)}\n",
    "print(label_encoder)"
   ]
  },
  {
   "cell_type": "code",
   "execution_count": 12,
   "id": "c8bdf9da",
   "metadata": {},
   "outputs": [],
   "source": [
    "# decoder\n",
    "label_decoder = {v: k for k, v in label_encoder.items()}\n",
    "label_name_decoder = {key : value for key, value in zip(label_list, label_name_list)}"
   ]
  },
  {
   "cell_type": "markdown",
   "id": "ad7f7ecf",
   "metadata": {},
   "source": [
    "### validation"
   ]
  },
  {
   "cell_type": "code",
   "execution_count": 13,
   "id": "a0584b14",
   "metadata": {},
   "outputs": [],
   "source": [
    "# def get_valid_data(data_dir):\n",
    "#     img_valid_list = []\n",
    "#     label_valid_list = []\n",
    "    \n",
    "#     image_path = os.path.join(data_dir, 'dessert')\n",
    "    \n",
    "#     for product_name in os.listdir(image_path):\n",
    "#         product_path = os.path.join(image_path, product_name)\n",
    "#         if os.path.isdir(product_path):\n",
    "#             # get image path\n",
    "#             img_valid_list.extend(glob(os.path.join(product_path, '*.jpg')))\n",
    "#             img_valid_list.extend(glob(os.path.join(product_path, '*.png')))\n",
    "#             label = list(product_name[:5])\n",
    "            \n",
    "#             # get label\n",
    "#             label_valid_list.append(''.join(label))\n",
    "                \n",
    "#     return img_valid_list, label_valid_list"
   ]
  },
  {
   "cell_type": "code",
   "execution_count": 14,
   "id": "c37a8826",
   "metadata": {},
   "outputs": [],
   "source": [
    "# def valid_data_blanced(img, label):\n",
    "#     x = []\n",
    "#     y = []\n",
    "    \n",
    "#     for i in range(CFG['class']):\n",
    "#         _img = img[(i * 15): ((i + 1) * 15)]\n",
    "#         _label = label[i]\n",
    "        \n",
    "#         for img_product in _img:\n",
    "#             x.append(img_product)\n",
    "#             y.append(_label)\n",
    "            \n",
    "#     return x, y"
   ]
  },
  {
   "cell_type": "code",
   "execution_count": 15,
   "id": "72826760",
   "metadata": {},
   "outputs": [],
   "source": [
    "# img_valid_list, label_valid_list = get_valid_data(Valid_path)\n",
    "# x_valid, y_valid = valid_data_blanced(img_valid_list, label_valid_list)\n",
    "# len(label_valid_list)"
   ]
  },
  {
   "cell_type": "code",
   "execution_count": 16,
   "id": "c4795154",
   "metadata": {},
   "outputs": [],
   "source": [
    "# le2 = preprocessing.LabelEncoder()\n",
    "# targets_y = le2.fit_transform(y_valid)\n",
    "# targets_y_t = torch.as_tensor(targets_y)\n",
    "# one_hot_valid_y = F.one_hot(targets_y_t)\n",
    "# one_hot_valid_y.shape"
   ]
  },
  {
   "cell_type": "markdown",
   "id": "700ad3ff",
   "metadata": {},
   "source": [
    "### test"
   ]
  },
  {
   "cell_type": "code",
   "execution_count": 17,
   "id": "f87f431a",
   "metadata": {},
   "outputs": [],
   "source": [
    "def get_test_data(data_dir):\n",
    "    img_path_list = []\n",
    "    label_list = []\n",
    "    \n",
    "    image_path = data_dir\n",
    "    \n",
    "#     for product in os.listdir(image_path):\n",
    "\n",
    "    # get image path\n",
    "    img_path_list.extend(glob(os.path.join(image_path, '*.jpg')))\n",
    "    img_path_list.extend(glob(os.path.join(image_path, '*.png')))\n",
    "    label_list = [ip[len(Test_path):].split('_')[0][1:] for ip in img_path_list]\n",
    "    # get label\n",
    "#     label_list.append(''.join(label))\n",
    "                \n",
    "    return img_path_list, label_list"
   ]
  },
  {
   "cell_type": "code",
   "execution_count": 18,
   "id": "15f3cab8",
   "metadata": {},
   "outputs": [],
   "source": [
    "test_img_path, test_label_list = get_test_data(Test_path)"
   ]
  },
  {
   "cell_type": "code",
   "execution_count": 19,
   "id": "b74f986b",
   "metadata": {},
   "outputs": [
    {
     "name": "stdout",
     "output_type": "stream",
     "text": [
      "224\n"
     ]
    }
   ],
   "source": [
    "print(len(test_label_list))"
   ]
  },
  {
   "cell_type": "code",
   "execution_count": 20,
   "id": "6076d281",
   "metadata": {},
   "outputs": [],
   "source": [
    "# test data\n",
    "test_x = test_img_path\n",
    "# 레이블을 one-hot-vector로 변환\n",
    "test_y = [label_encoder[key] for key in test_label_list]\n",
    "test_targets = torch.as_tensor(test_y)\n",
    "one_hot_test_y = F.one_hot(test_targets)"
   ]
  },
  {
   "cell_type": "code",
   "execution_count": 21,
   "id": "9280e427",
   "metadata": {},
   "outputs": [
    {
     "name": "stdout",
     "output_type": "stream",
     "text": [
      "['15266, 25', '10245, 9', '16056, 55', '25656, 94', '15082, 16', '15888, 51', '25456, 90', '15071, 15', '15447, 33', '10185, 1', '25073, 67', '25426, 86', '25425, 85', '15424, 26', '10316, 12', '25428, 87', '15647, 47', '10184, 0', '15028, 13', '15949, 54', '25455, 89', '15455, 40', '25121, 74', '25121, 74', '25420, 80', '15476, 44', '20184, 57', '15478, 46', '20208, 60', '15451, 37', '20183, 56', '15445, 31', '15888, 51', '10241, 8', '15450, 36', '25114, 71', '25425, 85', '10261, 10', '25418, 78', '15446, 32', '25706, 98', '25653, 92', '25175, 75', '25422, 82', '15091, 19', '15949, 54', '15102, 21', '25705, 97', '10226, 6', '25706, 98', '15092, 20', '15945, 52', '15946, 53', '20256, 65', '10240, 7', '25420, 80', '25455, 89', '25425, 85', '25456, 90', '20228, 62', '20237, 64', '20197, 58', '25087, 69', '15028, 13', '25418, 78', '25608, 91', '15478, 46', '20208, 60', '15820, 50', '25703, 96', '15455, 40', '10224, 5', '20197, 58', '10316, 12', '25114, 71', '15445, 31', '25422, 82', '15452, 38', '15945, 52', '25226, 76', '25417, 77', '25114, 71', '15103, 22', '25707, 99', '15029, 14', '15424, 26', '25226, 76', '15819, 49', '15450, 36', '20199, 59', '15722, 48', '25653, 92', '15028, 13', '15091, 19', '25653, 92', '10240, 7', '10188, 3', '15456, 41', '15425, 27', '25426, 86', '10185, 1', '25423, 83', '15463, 43', '15088, 17', '10188, 3', '15453, 39', '15820, 50', '25121, 74', '25120, 73', '20199, 59', '15477, 45', '25420, 80', '25428, 87', '10226, 6', '15449, 35', '25421, 81', '15476, 44', '25707, 99', '25115, 72', '20184, 57', '15426, 28', '15029, 14', '15427, 29', '15447, 33', '15088, 17', '15448, 34', '10202, 4', '25424, 84', '15102, 21', '10245, 9', '10305, 11', '15819, 49', '10184, 0', '20228, 62', '15427, 29', '25656, 94', '25418, 78', '25428, 87', '25175, 75', '25655, 93', '15452, 38', '25656, 94', '15449, 35', '25456, 90', '15945, 52', '10224, 5', '15104, 23', '15453, 39', '25426, 86', '15426, 28', '10245, 9', '20197, 58', '10226, 6', '25085, 68', '25419, 79', '15456, 41', '10184, 0', '25419, 79', '25038, 66', '15451, 37', '15448, 34', '25703, 96', '25120, 73', '15425, 27', '25658, 95', '10202, 4', '15457, 42', '15092, 20', '25175, 75', '25608, 91', '15647, 47', '25417, 77', '15445, 31', '25655, 93', '20216, 61', '25455, 89', '20235, 63', '20235, 63', '20235, 63', '20216, 61', '25120, 73', '25705, 97', '25658, 95', '20228, 62', '20199, 59', '25424, 84', '25417, 77', '25421, 81', '10185, 1', '10187, 2', '10241, 8', '15478, 46', '15090, 18', '25423, 83', '15946, 53', '25429, 88', '20208, 60', '15457, 42', '25706, 98', '20183, 56', '25429, 88', '15104, 23', '25707, 99', '15477, 45', '25095, 70', '25423, 83', '20256, 65', '20256, 65', '16056, 55', '25424, 84', '25419, 79', '25115, 72', '25421, 81', '20197, 58', '25422, 82', '15463, 43', '15722, 48', '15090, 18', '15071, 15', '16056, 55', '15446, 32', '10187, 2', '25608, 91', '10305, 11']\n"
     ]
    }
   ],
   "source": [
    "print([f'{i}, {y}' for i, y in zip(test_label_list, test_y)])"
   ]
  },
  {
   "cell_type": "markdown",
   "id": "a00fd5d0",
   "metadata": {},
   "source": [
    "# Model"
   ]
  },
  {
   "cell_type": "code",
   "execution_count": 22,
   "id": "b6b00271",
   "metadata": {},
   "outputs": [],
   "source": [
    "class AlbumentationsCustomDataset(Dataset):\n",
    "    def __init__(self, img_path_list, label_list, train_mode=True, transforms=None):\n",
    "        self.transforms = transforms\n",
    "        self.train_mode = train_mode\n",
    "        self.img_path_list = img_path_list\n",
    "        self.label_list = label_list\n",
    "\n",
    "    def __getitem__(self, index):\n",
    "        img_path = self.img_path_list[index]\n",
    "        # Get image data\n",
    "        image = cv2.imread(img_path)\n",
    "        \n",
    "        # By default OpenCV uses BGR color space for color images,\n",
    "        # so we need to convert the image to RGB color space.\n",
    "        image = cv2.cvtColor(image, cv2.COLOR_BGR2RGB)\n",
    "\n",
    "        if self.train_mode:\n",
    "#             image = image.astype(np.int16)\n",
    "            augmented = self.transforms(image=image)\n",
    "            image = augmented['image']\n",
    "            label = self.label_list[index]\n",
    "            return image, label\n",
    "        else:\n",
    "            augmented = self.transforms(image=image)\n",
    "            image = augmented['image']\n",
    "            label = self.label_list[index]\n",
    "            return image, label\n",
    "    \n",
    "    def __len__(self):\n",
    "        return len(self.img_path_list)\n",
    "    \n",
    "A_test_transform = albumentations.Compose([\n",
    "                                    A.Resize(256, 256),\n",
    "#                                     A.Normalize(mean=(0.744859, 0.735139, 0.711357), std=(0.100712, 0.120692, 0.167998)),  # dessert\n",
    "                                    A.Normalize(mean=(0.719834, 0.727319, 0.72394), std=(0.135879, 0.130642, 0.137573)),   # quasi_drug\n",
    "#                                     A.pytorch.transforms.ToTensor(),\n",
    "                                    A.pytorch.transforms.ToTensorV2(transpose_mask=True),\n",
    "                                ])\n",
    "\n",
    "# A_vali_dataset = AlbumentationsCustomDataset(x_valid, one_hot_valid_y, train_mode=True, transforms=A_test_transform)\n",
    "# A_vali_loader = DataLoader(A_vali_dataset, batch_size = 5, shuffle=False, num_workers=0, collate_fn=None)\n",
    "\n",
    "A_test_dataset = AlbumentationsCustomDataset(test_x, one_hot_test_y, train_mode=False, transforms=A_test_transform)\n",
    "A_test_loader = DataLoader(A_test_dataset, batch_size = 4, shuffle=False, num_workers=0, collate_fn=None)"
   ]
  },
  {
   "cell_type": "code",
   "execution_count": 23,
   "id": "2dddfe1e",
   "metadata": {},
   "outputs": [],
   "source": [
    "class ResNet50(torch.nn.Module):\n",
    "    def __init__(self):\n",
    "        super(ResNet50, self).__init__()\n",
    "        model = models.resnet50(pretrained=True)\n",
    "        modules = list(model.children())[:-1]\n",
    "        self.feature_extract = nn.Sequential(*modules)\n",
    "        self.fc1 = nn.Linear(2048, 1000)\n",
    "        self.relu = nn.ReLU()\n",
    "        self.fc2 = nn.Linear(1000,CFG['class'])\n",
    "#         self.softmax = nn.Softmax(dim=1)\n",
    "\n",
    "    def forward(self, x):\n",
    "        x = self.feature_extract(x)\n",
    "        # x = x.mean(dim=(-2, -1))\n",
    "        # (batch, 2048, 4, 4)\n",
    "        x = torch.squeeze(x)\n",
    "        x = self.relu(self.fc1(x))\n",
    "        out = self.fc2(x)\n",
    "#         out = self.softmax(x)\n",
    "        \n",
    "        return out"
   ]
  },
  {
   "cell_type": "code",
   "execution_count": 24,
   "id": "75c0cca5",
   "metadata": {},
   "outputs": [],
   "source": [
    "class EfficientNetb4(torch.nn.Module):\n",
    "    def __init__(self):\n",
    "        super(EfficientNetb4, self).__init__()\n",
    "        model = models.efficientnet_b4(pretrained=True)\n",
    "        modules = list(model.children())[:-1]\n",
    "        self.feature_extract = nn.Sequential(*modules)\n",
    "        self.fc1 = nn.Linear(1792, 1000)\n",
    "        self.relu = nn.ReLU()\n",
    "        self.fc2 = nn.Linear(1000, CFG['class'])\n",
    "#         self.softmax = nn.Softmax(dim=1)\n",
    "        \n",
    "    def forward(self, x):\n",
    "        x = self.feature_extract(x)\n",
    "        # (batch, 1792, 1, 1)\n",
    "        x = torch.squeeze(x)\n",
    "        x = self.relu(self.fc1(x))\n",
    "        out = self.fc2(x)\n",
    "#         out = self.softmax(x)\n",
    "        \n",
    "        return out"
   ]
  },
  {
   "cell_type": "code",
   "execution_count": 25,
   "id": "71e4f17e",
   "metadata": {},
   "outputs": [],
   "source": [
    "class RegNet(torch.nn.Module):\n",
    "    def __init__(self):\n",
    "        super(RegNet, self).__init__()\n",
    "        model = models.regnet_y_16gf(pretrained=True)\n",
    "        modules = list(model.children())[:-1]\n",
    "        self.feature_extract = nn.Sequential(*modules)\n",
    "        self.fc1 = nn.Linear(3024, 1000)\n",
    "        self.relu = nn.ReLU()\n",
    "        self.fc2 = nn.Linear(1000, CFG['class'])\n",
    "#         self.softmax = nn.Softmax(dim=1)\n",
    "        \n",
    "    def forward(self, x):\n",
    "        x = self.feature_extract(x)\n",
    "        # (batch, 3024, 1, 1)\n",
    "        x = torch.squeeze(x)\n",
    "        x = self.relu(self.fc1(x))\n",
    "        out = self.fc2(x)\n",
    "#         out = self.softmax(x)\n",
    "        \n",
    "        return out"
   ]
  },
  {
   "cell_type": "code",
   "execution_count": 26,
   "id": "cf06d1de",
   "metadata": {},
   "outputs": [],
   "source": [
    "def score_function(real, pred):\n",
    "    score = accuracy_score(real, pred)\n",
    "    return score"
   ]
  },
  {
   "cell_type": "markdown",
   "id": "21aea86d",
   "metadata": {},
   "source": [
    "# Inference2"
   ]
  },
  {
   "cell_type": "code",
   "execution_count": 27,
   "id": "387f3ac9",
   "metadata": {
    "scrolled": false
   },
   "outputs": [],
   "source": [
    "# # sorted(os.listdir('/home/lab17/jupyter_home/saved_models/'))\n",
    "# file_list = sorted(glob('/home/lab17/jupyter_home/saved_models/*.pth'))\n",
    "# print(len(file_list))\n",
    "# sorted(glob('/home/lab17/jupyter_home/saved_models/*.pth'))"
   ]
  },
  {
   "cell_type": "code",
   "execution_count": 28,
   "id": "e92b95a7",
   "metadata": {},
   "outputs": [],
   "source": [
    "# file_list=['/home/lab17/jupyter_home/saved_models/RegNet_0.001_rmsprop_CosineAnnealing_example.pth']"
   ]
  },
  {
   "cell_type": "code",
   "execution_count": 29,
   "id": "21919430",
   "metadata": {},
   "outputs": [],
   "source": [
    "# model_dir = './data/quasi_drug/'"
   ]
  },
  {
   "cell_type": "code",
   "execution_count": 30,
   "id": "e90cc794",
   "metadata": {},
   "outputs": [],
   "source": [
    "model_dir = './saved_models/HMR/'"
   ]
  },
  {
   "cell_type": "code",
   "execution_count": 31,
   "id": "54f62ebf",
   "metadata": {},
   "outputs": [
    {
     "data": {
      "text/plain": [
       "['RegNet_0.001_rmsprop_CosineAnnealing_example.pth',\n",
       " 'RegNet_0.0001_rmsprop_CosineAnnealing_example.pth',\n",
       " 'RegNet_1e-05_rmsprop_CosineAnnealing_example.pth']"
      ]
     },
     "execution_count": 31,
     "metadata": {},
     "output_type": "execute_result"
    }
   ],
   "source": [
    "os.listdir(model_dir)"
   ]
  },
  {
   "cell_type": "code",
   "execution_count": 32,
   "id": "54a37111",
   "metadata": {},
   "outputs": [
    {
     "data": {
      "text/plain": [
       "['./saved_models/HMR/RegNet_0.0001_rmsprop_CosineAnnealing_example.pth',\n",
       " './saved_models/HMR/RegNet_0.001_rmsprop_CosineAnnealing_example.pth',\n",
       " './saved_models/HMR/RegNet_1e-05_rmsprop_CosineAnnealing_example.pth']"
      ]
     },
     "execution_count": 32,
     "metadata": {},
     "output_type": "execute_result"
    }
   ],
   "source": [
    "file_list = sorted(glob(os.path.join(model_dir,'*.pth') ))\n",
    "file_list"
   ]
  },
  {
   "cell_type": "code",
   "execution_count": 33,
   "id": "0d024171",
   "metadata": {},
   "outputs": [
    {
     "data": {
      "application/vnd.jupyter.widget-view+json": {
       "model_id": "0c984f86a4f2483cb0d810b4c41c9b47",
       "version_major": 2,
       "version_minor": 0
      },
      "text/plain": [
       "  0%|          | 0/56 [00:00<?, ?it/s]"
      ]
     },
     "metadata": {},
     "output_type": "display_data"
    },
    {
     "name": "stdout",
     "output_type": "stream",
     "text": [
      "gNet_0.0001_rmsprop_CosineAnnealing_example.pth\n",
      "test loss : 4.32976750976273\n",
      "test acc : 0.3080357142857143\n"
     ]
    },
    {
     "data": {
      "application/vnd.jupyter.widget-view+json": {
       "model_id": "0b51a4c70fa74a329a2bee22dc433aa9",
       "version_major": 2,
       "version_minor": 0
      },
      "text/plain": [
       "  0%|          | 0/56 [00:00<?, ?it/s]"
      ]
     },
     "metadata": {},
     "output_type": "display_data"
    },
    {
     "name": "stdout",
     "output_type": "stream",
     "text": [
      "gNet_0.001_rmsprop_CosineAnnealing_example.pth\n",
      "test loss : 14.852109125682286\n",
      "test acc : 0.0625\n"
     ]
    },
    {
     "data": {
      "application/vnd.jupyter.widget-view+json": {
       "model_id": "f791c5ac69c94c51adb5d0e4c61d215c",
       "version_major": 2,
       "version_minor": 0
      },
      "text/plain": [
       "  0%|          | 0/56 [00:00<?, ?it/s]"
      ]
     },
     "metadata": {},
     "output_type": "display_data"
    },
    {
     "name": "stdout",
     "output_type": "stream",
     "text": [
      "gNet_1e-05_rmsprop_CosineAnnealing_example.pth\n",
      "test loss : 2.5920331930475577\n",
      "test acc : 0.42857142857142855\n"
     ]
    }
   ],
   "source": [
    "pred_ensemble = []\n",
    "batch_size = 34\n",
    "\n",
    "device = torch.device('cpu')\n",
    "\n",
    "for m_path in file_list:\n",
    "    if 'ResNet50' in m_path:\n",
    "        model_test = ResNet50().to(device)\n",
    "    elif 'EfficientNetb4' in m_path:\n",
    "        model_test = EfficientNetb4().to(device)\n",
    "    elif 'RegNet' in m_path:\n",
    "        model_test = RegNet().to(device)    \n",
    "\n",
    "    model_test.load_state_dict(torch.load(m_path, map_location=device))\n",
    "    model_test.eval()\n",
    "\n",
    "    criterion = torch.nn.CrossEntropyLoss()\n",
    "\n",
    "    test_loss = []\n",
    "    f_pred = []\n",
    "\n",
    "#     for img, label in tqdm(iter(A_vali_loader)):\n",
    "#         img, label = img.float().to(device), label.float().to(device)\n",
    "\n",
    "#         # Data -> Model -> Output\n",
    "#         logit = model_test(img)\n",
    "#         logit = torch.squeeze(logit)\n",
    "\n",
    "#         # Calc loss\n",
    "#         loss = criterion(logit, label)\n",
    "\n",
    "#         test_loss.append(loss.item())\n",
    "#         f_pred.extend(logit.argmax(1).detach().cpu().numpy().tolist())\n",
    "\n",
    "#     print('val loss :' ,np.mean(test_loss))\n",
    "#     print('val acc :', score_function(targets_y, f_pred))\n",
    "\n",
    "#     test_loss = []\n",
    "#     f_pred = []\n",
    "\n",
    "    for img, label in tqdm(iter(A_test_loader)):\n",
    "        img, label = img.float().to(device), label.float().to(device)\n",
    "\n",
    "        # Data -> Model -> Output\n",
    "        logit = model_test(img)\n",
    "        logit = torch.squeeze(logit)\n",
    "\n",
    "        # Calc loss\n",
    "        loss = criterion(logit, label)\n",
    "\n",
    "        test_loss.append(loss.item())\n",
    "        f_pred.extend(logit.argmax(1).detach().cpu().numpy().tolist())\n",
    "        \n",
    "        \n",
    "    print(m_path[len(model_dir)+2:])\n",
    "\n",
    "    print('test loss :' ,np.mean(test_loss))\n",
    "    print('test acc :', score_function(test_y, f_pred))"
   ]
  },
  {
   "cell_type": "code",
   "execution_count": 34,
   "id": "c54fb4b7",
   "metadata": {
    "scrolled": false
   },
   "outputs": [
    {
     "name": "stdout",
     "output_type": "stream",
     "text": [
      "o/x | onehot test, pred num | img_num : pred_img_name\n",
      "\n",
      "o | 25, 25 | \n",
      "o | 9, 9 | \n",
      "o | 55, 55 | \n",
      "o | 94, 94 | \n",
      "x | 16, 69 | 15082, 백설우리밀핫케잌믹스500G : 큐원홈메이드머핀믹스300G\n",
      "o | 51, 51 | \n",
      "x | 90, 95 | 25456, CJ비비고육개장500G : 백설컵전김치전210G\n",
      "o | 15, 15 | \n",
      "x | 33, 7 | 15447, CJ햇반컵반강된장보리비빔밥280G : CJ햇반컵반설렁탕밥253g\n",
      "x | 1, 0 | 10185, 오뚜기쇠고기스프80G : 오뚜기옥수수스프80G\n",
      "x | 67, 98 | 25073, CJ비비고추어탕460G : CJ다담냉이된장찌개양념140G\n",
      "x | 86, 35 | 25426, 오뚜기컵밥춘천닭갈비덮밥310G : 오뚜기컵밥햄버그덮밥310G\n",
      "x | 85, 65 | 25425, 오뚜기컵밥불닭마요덮밥277g : 오뚜기고추참치\n",
      "o | 26, 26 | \n",
      "x | 12, 65 | 10316, 동원살코기참치250G : 오뚜기고추참치\n",
      "x | 87, 35 | 25428, 오뚜기컵밥소시지카레덮밥315G : 오뚜기컵밥햄버그덮밥310G\n",
      "o | 47, 47 | \n",
      "x | 0, 15 | 10184, 오뚜기옥수수스프80G : 모리나가핫케잌믹스300G\n",
      "o | 13, 13 | \n",
      "x | 54, 64 | 15949, 쉬바파우치참치와게맛살70G : 동원양반한우사골설렁국\n",
      "x | 89, 7 | 25455, 청정원일상가정식장어탕450G : CJ햇반컵반설렁탕밥253g\n",
      "x | 40, 18 | 15455, CJ비비고소고기미역국500G : 양반수라우거지감자탕460G\n",
      "o | 74, 74 | \n",
      "o | 74, 74 | \n",
      "x | 80, 7 | 25420, CJ햇반컵반황태국밥170G : CJ햇반컵반설렁탕밥253g\n",
      "x | 44, 45 | 15476, 청정원일상가정식한우진곰탕450G : 청정원일상가정식나주곰탕450G\n",
      "o | 57, 57 | \n",
      "x | 46, 31 | 15478, CJ비비고차돌된장찌개460G : CJ햇반컵반철판제육덮밥256G\n",
      "o | 60, 60 | \n",
      "x | 37, 64 | 15451, 양반진국닭곰탕460G : 동원양반한우사골설렁국\n",
      "x | 56, 0 | 20183, 오뚜기)크림스프80G : 오뚜기옥수수스프80G\n",
      "x | 31, 84 | 15445, CJ햇반컵반철판제육덮밥256G : CJ햇반컵반볶은김치덮밥247G\n",
      "o | 51, 51 | \n",
      "o | 8, 8 | \n",
      "x | 36, 88 | 15450, 오뚜기컵밥부산식돼지국밥316G : 오뚜기컵밥참치마요덮밥247G\n",
      "o | 71, 71 | \n",
      "x | 85, 95 | 25425, 오뚜기컵밥불닭마요덮밥277g : 백설컵전김치전210G\n",
      "o | 10, 10 | \n",
      "x | 78, 80 | 25418, CJ햇반컵반사골곰탕국밥166G : CJ햇반컵반황태국밥170G\n",
      "x | 32, 58 | 15446, CJ햇반컵반스팸마요덮밥219G : 뽀로로매콤떡볶이120G\n",
      "x | 98, 70 | 25706, CJ다담냉이된장찌개양념140G : 백설스윗메이플팬케익160G\n",
      "x | 92, 94 | 25653, 오뚜기쉐이크앤팬핫케이크믹스오리지널150G : 오뚜기쉐이크앤팬핫케이크믹스치즈150G\n",
      "x | 75, 63 | 25175, 농심켈로그)아몬드푸레이크컵시리얼30G : CJ햇반컵반낙지콩나물비빔밥216g\n",
      "x | 82, 95 | 25422, CJ햇반컵반치킨커리덮밥278G : 백설컵전김치전210G\n",
      "o | 19, 19 | \n",
      "x | 54, 49 | 15949, 쉬바파우치참치와게맛살70G : CJ쁘띠첼워터젤리사과130ML\n",
      "o | 21, 21 | \n",
      "o | 97, 97 | \n",
      "x | 6, 36 | 10226, CJ밥이랑야채랑27G : 오뚜기컵밥부산식돼지국밥316G\n",
      "o | 98, 98 | \n",
      "x | 20, 95 | 15092, 양반수라낙지김치죽420G : 백설컵전김치전210G\n",
      "o | 52, 52 | \n",
      "o | 53, 53 | \n",
      "x | 65, 58 | 20256, 오뚜기고추참치 : 뽀로로매콤떡볶이120G\n",
      "x | 7, 62 | 10240, CJ햇반컵반설렁탕밥253g : CJ)햇반컵반중화마파두부덮밥270G\n",
      "x | 80, 58 | 25420, CJ햇반컵반황태국밥170G : 뽀로로매콤떡볶이120G\n",
      "o | 89, 89 | \n",
      "x | 85, 58 | 25425, 오뚜기컵밥불닭마요덮밥277g : 뽀로로매콤떡볶이120G\n",
      "x | 90, 20 | 25456, CJ비비고육개장500G : 양반수라낙지김치죽420G\n",
      "x | 62, 80 | 20228, CJ)햇반컵반중화마파두부덮밥270G : CJ햇반컵반황태국밥170G\n",
      "o | 64, 64 | \n",
      "o | 58, 58 | \n",
      "o | 69, 69 | \n",
      "o | 13, 13 | \n",
      "x | 78, 59 | 25418, CJ햇반컵반사골곰탕국밥166G : 뽀로로짜장떡볶이120G\n",
      "x | 91, 57 | 25608, 오뚜기간편사골우거지국50G : 오뚜기)옛날쇠고기죽85G\n",
      "x | 46, 17 | 15478, CJ비비고차돌된장찌개460G : CJ비비고스팸부대찌개460G\n",
      "x | 60, 91 | 20208, 오뚜기3분짜장200G : 오뚜기간편사골우거지국50G\n",
      "o | 50, 50 | \n",
      "o | 96, 96 | \n",
      "o | 40, 40 | \n",
      "x | 5, 62 | 10224, 청정원카레여왕(분말)구운마늘양파108G : CJ)햇반컵반중화마파두부덮밥270G\n",
      "o | 58, 58 | \n",
      "x | 12, 65 | 10316, 동원살코기참치250G : 오뚜기고추참치\n",
      "o | 71, 71 | \n",
      "x | 31, 58 | 15445, CJ햇반컵반철판제육덮밥256G : 뽀로로매콤떡볶이120G\n",
      "x | 82, 80 | 25422, CJ햇반컵반치킨커리덮밥278G : CJ햇반컵반황태국밥170G\n",
      "x | 38, 64 | 15452, 양반한우사골설렁탕460G : 동원양반한우사골설렁국\n",
      "o | 52, 52 | \n",
      "o | 76, 76 | \n",
      "x | 77, 80 | 25417, CJ햇반컵반미역국밥167G : CJ햇반컵반황태국밥170G\n",
      "x | 71, 23 | 25114, 매일맘마밀안심이유식미역과소고기100G : 매일맘마밀안심이유식아스파라거스와닭가슴살100G\n",
      "o | 22, 22 | \n",
      "x | 99, 58 | 25707, CJ다담바지락순두부찌개양념140G : 뽀로로매콤떡볶이120G\n",
      "o | 14, 14 | \n",
      "x | 26, 28 | 15424, 오뚜기의정부식부대찌개 : 오뚜기부산식돼지국밥곰탕\n",
      "o | 76, 76 | \n",
      "o | 49, 49 | \n",
      "x | 36, 58 | 15450, 오뚜기컵밥부산식돼지국밥316G : 뽀로로매콤떡볶이120G\n",
      "o | 59, 59 | \n",
      "o | 48, 48 | \n",
      "x | 92, 94 | 25653, 오뚜기쉐이크앤팬핫케이크믹스오리지널150G : 오뚜기쉐이크앤팬핫케이크믹스치즈150G\n",
      "o | 13, 13 | \n",
      "o | 19, 19 | \n",
      "o | 92, 92 | \n",
      "x | 7, 84 | 10240, CJ햇반컵반설렁탕밥253g : CJ햇반컵반볶은김치덮밥247G\n",
      "o | 3, 3 | \n",
      "x | 41, 90 | 15456, CJ비비고전복미역국500G : CJ비비고육개장500G\n",
      "x | 27, 57 | 15425, 오뚜기종로식도가니탕 : 오뚜기)옛날쇠고기죽85G\n",
      "x | 86, 35 | 25426, 오뚜기컵밥춘천닭갈비덮밥310G : 오뚜기컵밥햄버그덮밥310G\n",
      "x | 1, 0 | 10185, 오뚜기쇠고기스프80G : 오뚜기옥수수스프80G\n",
      "x | 83, 75 | 25423, CJ햇반컵반고추장나물현미비빔밥229G : 농심켈로그)아몬드푸레이크컵시리얼30G\n",
      "x | 43, 21 | 15463, CJ비비고불낙죽450G : CJ비비고새우계란죽450G\n",
      "x | 17, 95 | 15088, CJ비비고스팸부대찌개460G : 백설컵전김치전210G\n",
      "o | 3, 3 | \n",
      "x | 39, 58 | 15453, 청정원일상가정식얼큰양곰탕450G : 뽀로로매콤떡볶이120G\n",
      "o | 50, 50 | \n",
      "x | 74, 21 | 25121, CJ비비고녹두닭죽450G : CJ비비고새우계란죽450G\n",
      "x | 73, 70 | 25120, CJ비비고동지팥죽450G : 백설스윗메이플팬케익160G\n",
      "o | 59, 59 | \n",
      "o | 45, 45 | \n",
      "o | 80, 80 | \n",
      "x | 87, 35 | 25428, 오뚜기컵밥소시지카레덮밥315G : 오뚜기컵밥햄버그덮밥310G\n",
      "x | 6, 36 | 10226, CJ밥이랑야채랑27G : 오뚜기컵밥부산식돼지국밥316G\n",
      "x | 35, 88 | 15449, 오뚜기컵밥햄버그덮밥310G : 오뚜기컵밥참치마요덮밥247G\n",
      "x | 81, 62 | 25421, CJ햇반컵반직화불고기덮밥257G : CJ)햇반컵반중화마파두부덮밥270G\n",
      "x | 44, 89 | 15476, 청정원일상가정식한우진곰탕450G : 청정원일상가정식장어탕450G\n",
      "x | 99, 58 | 25707, CJ다담바지락순두부찌개양념140G : 뽀로로매콤떡볶이120G\n",
      "x | 72, 23 | 25115, 매일맘마밀안심이유식가리비와두부100G : 매일맘마밀안심이유식아스파라거스와닭가슴살100G\n",
      "o | 57, 57 | \n",
      "o | 28, 28 | \n",
      "o | 14, 14 | \n",
      "x | 29, 9 | 15427, 동원양반통참치김치찌개 : 오뚜기오즈키친버섯불고기죽\n",
      "x | 33, 7 | 15447, CJ햇반컵반강된장보리비빔밥280G : CJ햇반컵반설렁탕밥253g\n",
      "x | 17, 9 | 15088, CJ비비고스팸부대찌개460G : 오뚜기오즈키친버섯불고기죽\n",
      "x | 34, 36 | 15448, 오뚜기컵밥수원식갈비탕밥311G : 오뚜기컵밥부산식돼지국밥316G\n",
      "x | 4, 91 | 10202, 오뚜기맛있는사골우거지국22G : 오뚜기간편사골우거지국50G\n",
      "x | 84, 92 | 25424, CJ햇반컵반볶은김치덮밥247G : 오뚜기쉐이크앤팬핫케이크믹스오리지널150G\n",
      "o | 21, 21 | \n",
      "o | 9, 9 | \n",
      "x | 11, 58 | 10305, 샘표가쓰오샤브샤브육수200G : 뽀로로매콤떡볶이120G\n",
      "o | 49, 49 | \n",
      "o | 0, 0 | \n",
      "x | 62, 58 | 20228, CJ)햇반컵반중화마파두부덮밥270G : 뽀로로매콤떡볶이120G\n",
      "x | 29, 20 | 15427, 동원양반통참치김치찌개 : 양반수라낙지김치죽420G\n",
      "o | 94, 94 | \n",
      "x | 78, 95 | 25418, CJ햇반컵반사골곰탕국밥166G : 백설컵전김치전210G\n",
      "x | 87, 75 | 25428, 오뚜기컵밥소시지카레덮밥315G : 농심켈로그)아몬드푸레이크컵시리얼30G\n",
      "x | 75, 58 | 25175, 농심켈로그)아몬드푸레이크컵시리얼30G : 뽀로로매콤떡볶이120G\n",
      "o | 93, 93 | \n",
      "x | 38, 64 | 15452, 양반한우사골설렁탕460G : 동원양반한우사골설렁국\n",
      "o | 94, 94 | \n",
      "o | 35, 35 | \n",
      "x | 90, 95 | 25456, CJ비비고육개장500G : 백설컵전김치전210G\n",
      "o | 52, 52 | \n",
      "x | 5, 10 | 10224, 청정원카레여왕(분말)구운마늘양파108G : 대상종가집고추장멸치볶음\n",
      "x | 23, 62 | 15104, 매일맘마밀안심이유식아스파라거스와닭가슴살100G : CJ)햇반컵반중화마파두부덮밥270G\n",
      "x | 39, 7 | 15453, 청정원일상가정식얼큰양곰탕450G : CJ햇반컵반설렁탕밥253g\n",
      "x | 86, 35 | 25426, 오뚜기컵밥춘천닭갈비덮밥310G : 오뚜기컵밥햄버그덮밥310G\n",
      "o | 28, 28 | \n",
      "o | 9, 9 | \n",
      "o | 58, 58 | \n",
      "o | 6, 6 | \n",
      "x | 68, 52 | 25085, 백설식빵믹스760G : 템테이션고소한참치맛85G\n",
      "x | 79, 7 | 25419, CJ햇반컵반콩나물해장국밥270G : CJ햇반컵반설렁탕밥253g\n",
      "x | 41, 43 | 15456, CJ비비고전복미역국500G : CJ비비고불낙죽450G\n",
      "o | 0, 0 | \n",
      "x | 79, 80 | 25419, CJ햇반컵반콩나물해장국밥270G : CJ햇반컵반황태국밥170G\n",
      "o | 66, 66 | \n",
      "x | 37, 64 | 15451, 양반진국닭곰탕460G : 동원양반한우사골설렁국\n",
      "x | 34, 36 | 15448, 오뚜기컵밥수원식갈비탕밥311G : 오뚜기컵밥부산식돼지국밥316G\n",
      "o | 96, 96 | \n",
      "x | 73, 35 | 25120, CJ비비고동지팥죽450G : 오뚜기컵밥햄버그덮밥310G\n",
      "o | 27, 27 | \n",
      "o | 95, 95 | \n",
      "o | 4, 4 | \n",
      "x | 42, 70 | 15457, CJ비비고감자탕460G : 백설스윗메이플팬케익160G\n",
      "o | 20, 20 | \n",
      "o | 75, 75 | \n",
      "o | 91, 91 | \n",
      "o | 47, 47 | \n",
      "x | 77, 80 | 25417, CJ햇반컵반미역국밥167G : CJ햇반컵반황태국밥170G\n",
      "x | 31, 80 | 15445, CJ햇반컵반철판제육덮밥256G : CJ햇반컵반황태국밥170G\n",
      "o | 93, 93 | \n",
      "x | 61, 57 | 20216, 오뚜기야채스프80G : 오뚜기)옛날쇠고기죽85G\n",
      "o | 89, 89 | \n",
      "x | 63, 58 | 20235, CJ햇반컵반낙지콩나물비빔밥216g : 뽀로로매콤떡볶이120G\n",
      "x | 63, 36 | 20235, CJ햇반컵반낙지콩나물비빔밥216g : 오뚜기컵밥부산식돼지국밥316G\n",
      "x | 63, 95 | 20235, CJ햇반컵반낙지콩나물비빔밥216g : 백설컵전김치전210G\n",
      "x | 61, 70 | 20216, 오뚜기야채스프80G : 백설스윗메이플팬케익160G\n",
      "x | 73, 43 | 25120, CJ비비고동지팥죽450G : CJ비비고불낙죽450G\n",
      "x | 97, 58 | 25705, CJ제일안주소양불막창170G : 뽀로로매콤떡볶이120G\n",
      "o | 95, 95 | \n",
      "x | 62, 80 | 20228, CJ)햇반컵반중화마파두부덮밥270G : CJ햇반컵반황태국밥170G\n",
      "x | 59, 58 | 20199, 뽀로로짜장떡볶이120G : 뽀로로매콤떡볶이120G\n",
      "x | 84, 95 | 25424, CJ햇반컵반볶은김치덮밥247G : 백설컵전김치전210G\n",
      "x | 77, 62 | 25417, CJ햇반컵반미역국밥167G : CJ)햇반컵반중화마파두부덮밥270G\n",
      "x | 81, 80 | 25421, CJ햇반컵반직화불고기덮밥257G : CJ햇반컵반황태국밥170G\n",
      "x | 1, 56 | 10185, 오뚜기쇠고기스프80G : 오뚜기)크림스프80G\n",
      "o | 2, 2 | \n",
      "o | 8, 8 | \n",
      "o | 46, 46 | \n",
      "x | 18, 9 | 15090, 양반수라우거지감자탕460G : 오뚜기오즈키친버섯불고기죽\n",
      "x | 83, 7 | 25423, CJ햇반컵반고추장나물현미비빔밥229G : CJ햇반컵반설렁탕밥253g\n",
      "o | 53, 53 | \n",
      "o | 88, 88 | \n",
      "o | 60, 60 | \n",
      "x | 42, 28 | 15457, CJ비비고감자탕460G : 오뚜기부산식돼지국밥곰탕\n",
      "x | 98, 70 | 25706, CJ다담냉이된장찌개양념140G : 백설스윗메이플팬케익160G\n",
      "x | 56, 0 | 20183, 오뚜기)크림스프80G : 오뚜기옥수수스프80G\n",
      "x | 88, 58 | 25429, 오뚜기컵밥참치마요덮밥247G : 뽀로로매콤떡볶이120G\n",
      "o | 23, 23 | \n",
      "o | 99, 99 | \n",
      "o | 45, 45 | \n",
      "x | 70, 80 | 25095, 백설스윗메이플팬케익160G : CJ햇반컵반황태국밥170G\n",
      "x | 83, 7 | 25423, CJ햇반컵반고추장나물현미비빔밥229G : CJ햇반컵반설렁탕밥253g\n",
      "o | 65, 65 | \n",
      "o | 65, 65 | \n",
      "o | 55, 55 | \n",
      "x | 84, 7 | 25424, CJ햇반컵반볶은김치덮밥247G : CJ햇반컵반설렁탕밥253g\n",
      "x | 79, 7 | 25419, CJ햇반컵반콩나물해장국밥270G : CJ햇반컵반설렁탕밥253g\n",
      "x | 72, 29 | 25115, 매일맘마밀안심이유식가리비와두부100G : 동원양반통참치김치찌개\n",
      "x | 81, 80 | 25421, CJ햇반컵반직화불고기덮밥257G : CJ햇반컵반황태국밥170G\n",
      "x | 58, 59 | 20197, 뽀로로매콤떡볶이120G : 뽀로로짜장떡볶이120G\n",
      "x | 82, 7 | 25422, CJ햇반컵반치킨커리덮밥278G : CJ햇반컵반설렁탕밥253g\n",
      "x | 43, 28 | 15463, CJ비비고불낙죽450G : 오뚜기부산식돼지국밥곰탕\n",
      "o | 48, 48 | \n",
      "x | 18, 9 | 15090, 양반수라우거지감자탕460G : 오뚜기오즈키친버섯불고기죽\n",
      "o | 15, 15 | \n",
      "o | 55, 55 | \n",
      "x | 32, 80 | 15446, CJ햇반컵반스팸마요덮밥219G : CJ햇반컵반황태국밥170G\n",
      "o | 2, 2 | \n",
      "o | 91, 91 | \n",
      "x | 11, 9 | 10305, 샘표가쓰오샤브샤브육수200G : 오뚜기오즈키친버섯불고기죽\n"
     ]
    }
   ],
   "source": [
    "def print_ox(test_y,f_pred):\n",
    "    return 'o' if test_y==f_pred else 'x'\n",
    "def print_name(test_y, f_pred):\n",
    "    return f'{label_decoder[y]}, {label_name_decoder[label_decoder[y]]} : {label_name_decoder[label_decoder[p]]}' if test_y!=f_pred else ''\n",
    "print('o/x | onehot test, pred num | img_num : pred_img_name\\n')\n",
    "for y, p in zip(test_y, f_pred):\n",
    "    print(f'{print_ox(y,p)} | {y}, {p} | {print_name(y,p)}')\n",
    "    \n",
    "    \n",
    "# print(f'{print_ox(y,p)} | {y}, {p} | {label_decoder[y]} : {label_name_decoder[label_decoder[p]]}')    \n",
    "#     print(f'{print_ox(y,p)} {y} : {p} {label_name_decoder[y]}, {label_name_decoder[p]}')\n",
    "# print(f'{test_y}, {f_pred}')\n",
    "# print(f'{print_ox(test_y,f_pred)} {test_y} : {f_pred} {label_name_decoder[test_y]}, {label_name_decoder[f_pred]}')"
   ]
  }
 ],
 "metadata": {
  "kernelspec": {
   "display_name": "Python [conda env:pytorch_16] *",
   "language": "python",
   "name": "conda-env-pytorch_16-py"
  },
  "language_info": {
   "codemirror_mode": {
    "name": "ipython",
    "version": 3
   },
   "file_extension": ".py",
   "mimetype": "text/x-python",
   "name": "python",
   "nbconvert_exporter": "python",
   "pygments_lexer": "ipython3",
   "version": "3.8.13"
  }
 },
 "nbformat": 4,
 "nbformat_minor": 5
}
