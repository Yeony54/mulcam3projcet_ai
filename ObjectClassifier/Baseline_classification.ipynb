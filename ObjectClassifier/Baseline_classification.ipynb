{
 "cells": [
  {
   "cell_type": "markdown",
   "id": "733d2e64",
   "metadata": {},
   "source": [
    "# Library"
   ]
  },
  {
   "cell_type": "code",
   "execution_count": 1,
   "id": "472bad1c",
   "metadata": {},
   "outputs": [],
   "source": [
    "import numpy as np\n",
    "import random\n",
    "import os\n",
    "import math\n",
    "from itertools import product\n",
    "\n",
    "from sklearn import preprocessing\n",
    "from sklearn.preprocessing import MinMaxScaler\n",
    "\n",
    "\n",
    "from glob import glob\n",
    "import pandas as pd\n",
    "import cv2\n",
    "from tqdm.auto import tqdm\n",
    "from PIL import Image\n",
    "from pathlib import Path\n",
    "import matplotlib.pyplot as plt\n",
    "\n",
    "\n",
    "import torch\n",
    "import torch.nn as nn\n",
    "import torch.nn.functional as F\n",
    "from torch.utils.data import DataLoader, Dataset\n",
    "from torch.utils.tensorboard import SummaryWriter\n",
    "\n",
    "from torch.autograd import Variable\n",
    "\n",
    "import torchvision.models as models\n",
    "from torchvision import transforms"
   ]
  },
  {
   "cell_type": "code",
   "execution_count": 2,
   "id": "a675350d",
   "metadata": {},
   "outputs": [
    {
     "name": "stdout",
     "output_type": "stream",
     "text": [
      "Using cuda device\n"
     ]
    }
   ],
   "source": [
    "device = 'cuda' if torch.cuda.is_available() else 'cpu'\n",
    "print(f\"Using {device} device\")"
   ]
  },
  {
   "cell_type": "markdown",
   "id": "8ad50b59",
   "metadata": {},
   "source": [
    "# 0. HyperParameter"
   ]
  },
  {
   "cell_type": "code",
   "execution_count": null,
   "id": "e62af450",
   "metadata": {},
   "outputs": [],
   "source": []
  },
  {
   "cell_type": "markdown",
   "id": "7a553a5f",
   "metadata": {},
   "source": [
    "# 1. Data Pre-processing"
   ]
  },
  {
   "cell_type": "markdown",
   "id": "adbdc03f",
   "metadata": {},
   "source": [
    "### - DataSet Processing"
   ]
  },
  {
   "cell_type": "code",
   "execution_count": 3,
   "id": "c4025e43",
   "metadata": {},
   "outputs": [],
   "source": [
    "def get_train_data(data_dir):\n",
    "    img_path_list = []\n",
    "    label_list = []\n",
    "    \n",
    "    image_path = os.path.join(data_dir, 'dessert')\n",
    "    \n",
    "    for product_name in os.listdir(image_path):\n",
    "        product_path = os.path.join(image_path, product_name)\n",
    "        if os.path.isdir(product_path):\n",
    "            # get image path\n",
    "            img_path_list.extend(glob(os.path.join(product_path, '*.jpg')))\n",
    "            img_path_list.extend(glob(os.path.join(product_path, '*.png')))\n",
    "            label = list(product_name[:5])\n",
    "            \n",
    "            # get label\n",
    "            label_list.append(''.join(label))\n",
    "                \n",
    "    return img_path_list, label_list"
   ]
  },
  {
   "cell_type": "code",
   "execution_count": 4,
   "id": "bdab6873",
   "metadata": {},
   "outputs": [],
   "source": [
    "img_list, label_list = get_train_data('./Data/product_image/Training/')"
   ]
  },
  {
   "cell_type": "code",
   "execution_count": 5,
   "id": "8a2fc2d6",
   "metadata": {},
   "outputs": [],
   "source": [
    "def data_blanced(img, label):\n",
    "    x = []\n",
    "    y = []\n",
    "    \n",
    "    for i in range(len(label)):\n",
    "        _img = img[(i * 114): ((i + 1) * 114)]\n",
    "        _label = label[i]\n",
    "        \n",
    "        for img_product in _img:\n",
    "            x.append(img_product)\n",
    "            y.append(_label)\n",
    "            \n",
    "    return x, y"
   ]
  },
  {
   "cell_type": "code",
   "execution_count": 6,
   "id": "1878dc54",
   "metadata": {},
   "outputs": [],
   "source": [
    "x, y = data_blanced(img_list, label_list)"
   ]
  },
  {
   "cell_type": "code",
   "execution_count": 7,
   "id": "e6368137",
   "metadata": {},
   "outputs": [],
   "source": [
    "# 레이블을 one-hot-vector로 변환\n",
    "le = preprocessing.LabelEncoder()\n",
    "targets = le.fit_transform(y)\n",
    "targets = torch.as_tensor(targets)\n",
    "one_hot_y = F.one_hot(targets)"
   ]
  },
  {
   "cell_type": "code",
   "execution_count": 8,
   "id": "fb33ca24",
   "metadata": {},
   "outputs": [
    {
     "data": {
      "text/plain": [
       "torch.Size([8664, 76])"
      ]
     },
     "execution_count": 8,
     "metadata": {},
     "output_type": "execute_result"
    }
   ],
   "source": [
    "one_hot_y.shape"
   ]
  },
  {
   "cell_type": "code",
   "execution_count": 9,
   "id": "e6b3ba9d",
   "metadata": {},
   "outputs": [],
   "source": [
    "def get_valid_data(data_dir):\n",
    "    img_valid_list = []\n",
    "    label_valid_list = []\n",
    "    \n",
    "    image_path = os.path.join(data_dir, 'dessert')\n",
    "    \n",
    "    for product_name in os.listdir(image_path):\n",
    "        product_path = os.path.join(image_path, product_name)\n",
    "        if os.path.isdir(product_path):\n",
    "            # get image path\n",
    "            img_valid_list.extend(glob(os.path.join(product_path, '*.jpg')))\n",
    "            img_valid_list.extend(glob(os.path.join(product_path, '*.png')))\n",
    "            label = list(product_name[:5])\n",
    "            \n",
    "            # get label\n",
    "            label_valid_list.append(''.join(label))\n",
    "                \n",
    "    return img_valid_list, label_valid_list"
   ]
  },
  {
   "cell_type": "code",
   "execution_count": 10,
   "id": "1d6c5d77",
   "metadata": {},
   "outputs": [],
   "source": [
    "def valid_data_blanced(img, label):\n",
    "    x = []\n",
    "    y = []\n",
    "    \n",
    "    for i in range(len(label)):\n",
    "        _img = img[(i * 15): ((i + 1) * 15)]\n",
    "        _label = label[i]\n",
    "        \n",
    "        for img_product in _img:\n",
    "            x.append(img_product)\n",
    "            y.append(_label)\n",
    "            \n",
    "    return x, y"
   ]
  },
  {
   "cell_type": "code",
   "execution_count": 11,
   "id": "4acdd64f",
   "metadata": {},
   "outputs": [
    {
     "data": {
      "text/plain": [
       "76"
      ]
     },
     "execution_count": 11,
     "metadata": {},
     "output_type": "execute_result"
    }
   ],
   "source": [
    "img_valid_list, label_valid_list = get_valid_data('./Data/product_image/Validation/')\n",
    "x_valid, y_valid = valid_data_blanced(img_valid_list, label_valid_list)\n",
    "len(label_valid_list)"
   ]
  },
  {
   "cell_type": "code",
   "execution_count": 12,
   "id": "8575b0ba",
   "metadata": {},
   "outputs": [
    {
     "data": {
      "text/plain": [
       "torch.Size([1140, 76])"
      ]
     },
     "execution_count": 12,
     "metadata": {},
     "output_type": "execute_result"
    }
   ],
   "source": [
    "le2 = preprocessing.LabelEncoder()\n",
    "targets_y = le2.fit_transform(y_valid)\n",
    "targets_y = torch.as_tensor(targets_y)\n",
    "one_hot_valid_y = F.one_hot(targets_y)\n",
    "one_hot_valid_y.shape"
   ]
  },
  {
   "cell_type": "markdown",
   "id": "9f928475",
   "metadata": {},
   "source": [
    "### - Augmentation\n",
    " - using albumentation"
   ]
  },
  {
   "cell_type": "code",
   "execution_count": null,
   "id": "ad89ebd7",
   "metadata": {},
   "outputs": [],
   "source": []
  },
  {
   "cell_type": "code",
   "execution_count": 13,
   "id": "c6de95aa",
   "metadata": {},
   "outputs": [],
   "source": [
    "# resize, toTensor, normalize\n",
    "\n",
    "train_transform = transforms.Compose([\n",
    "                    transforms.ToTensor(),\n",
    "                    transforms.Resize((256, 256)),\n",
    "                    transforms.Normalize(mean=(0.5, 0.5, 0.5), std=(0.5, 0.5, 0.5)),\n",
    "#                     transforms.RandomCrop(220),\n",
    "#                     transforms.RandomPerspective(distortion_scale=0.3, p=0.8),\n",
    "#                     transforms.RandomAffine(degrees=(-45, 45), scale=(0.9, 1.0)),\n",
    "#                     transforms.RandomRotation(degrees=(0, 180)),\n",
    "#                     transforms.ColorJitter(brightness=.7, hue=.4),\n",
    "                    ])\n",
    "\n",
    "test_transform = transforms.Compose([\n",
    "                    transforms.ToTensor(),\n",
    "                    transforms.Resize((256, 256)),\n",
    "                    transforms.Normalize(mean=(0.5, 0.5, 0.5), std=(0.5, 0.5, 0.5))\n",
    "                    ])"
   ]
  },
  {
   "cell_type": "code",
   "execution_count": 14,
   "id": "8e03a71d",
   "metadata": {},
   "outputs": [],
   "source": [
    "class CustomDataset(Dataset):\n",
    "    def __init__(self, img_path_list, label_list, train_mode=True, transforms=transforms):\n",
    "        self.transforms = transforms\n",
    "        self.train_mode = train_mode\n",
    "        self.img_path_list = img_path_list\n",
    "        self.label_list = label_list\n",
    "\n",
    "    def __getitem__(self, index):\n",
    "        img_path = self.img_path_list[index]\n",
    "        # Get image data\n",
    "        image = cv2.imread(img_path)\n",
    "        if self.transforms is not None:\n",
    "            image = self.transforms(image)\n",
    "\n",
    "        if self.train_mode:\n",
    "            label = self.label_list[index]\n",
    "            return image, label\n",
    "        else:\n",
    "            return image\n",
    "    \n",
    "    def __len__(self):\n",
    "        return len(self.img_path_list)"
   ]
  },
  {
   "cell_type": "code",
   "execution_count": 15,
   "id": "99e7b989",
   "metadata": {},
   "outputs": [],
   "source": [
    "train_dataset = CustomDataset(x, one_hot_y, train_mode=True, transforms=train_transform)\n",
    "train_loader = DataLoader(train_dataset, batch_size = 32, shuffle=True, num_workers=0, collate_fn=None)\n",
    "\n",
    "vali_dataset = CustomDataset(x_valid, one_hot_valid_y, train_mode=True, transforms=test_transform)\n",
    "vali_loader = DataLoader(vali_dataset, batch_size = 5, shuffle=False, num_workers=0, collate_fn=None)"
   ]
  },
  {
   "cell_type": "markdown",
   "id": "b59f1091",
   "metadata": {},
   "source": [
    "### - Data Loader"
   ]
  },
  {
   "cell_type": "markdown",
   "id": "252a5079",
   "metadata": {},
   "source": [
    "# 2. Function"
   ]
  },
  {
   "cell_type": "markdown",
   "id": "c1f836a6",
   "metadata": {},
   "source": [
    "### - EarlyStopping"
   ]
  },
  {
   "cell_type": "markdown",
   "id": "273041fb",
   "metadata": {},
   "source": [
    "### - LR Scheduler"
   ]
  },
  {
   "cell_type": "code",
   "execution_count": null,
   "id": "da6539a7",
   "metadata": {},
   "outputs": [],
   "source": []
  },
  {
   "cell_type": "markdown",
   "id": "b0458f2d",
   "metadata": {},
   "source": [
    "### - Tensorboard"
   ]
  },
  {
   "cell_type": "code",
   "execution_count": 16,
   "id": "da84639c",
   "metadata": {},
   "outputs": [],
   "source": [
    "from torch.utils.tensorboard import SummaryWriter\n",
    "\n",
    "writer = SummaryWriter('./result')"
   ]
  },
  {
   "cell_type": "markdown",
   "id": "c905b295",
   "metadata": {},
   "source": [
    "# 3. Models "
   ]
  },
  {
   "cell_type": "markdown",
   "id": "7f0435ed",
   "metadata": {},
   "source": [
    "### Model definitions"
   ]
  },
  {
   "cell_type": "code",
   "execution_count": 17,
   "id": "f0cbc237",
   "metadata": {},
   "outputs": [],
   "source": [
    "class ResNet50(torch.nn.Module):\n",
    "    def __init__(self):\n",
    "        super(ResNet50, self).__init__()\n",
    "        model = models.resnet50(pretrained=True)\n",
    "        modules = list(model.children())[:-1]\n",
    "        self.feature_extract = nn.Sequential(*modules)\n",
    "        self.fc1 = nn.Linear(2048, 1000)\n",
    "        self.relu = nn.ReLU()\n",
    "        self.fc2 = nn.Linear(1000,76)\n",
    "\n",
    "    def forward(self, x):\n",
    "        x = self.feature_extract(x)\n",
    "        # x = x.mean(dim=(-2, -1))\n",
    "        # (batch, 2048, 4, 4)\n",
    "        x = torch.squeeze(x)\n",
    "        x = self.relu(self.fc1(x))\n",
    "        out = self.fc2(x)\n",
    "        return out"
   ]
  },
  {
   "cell_type": "code",
   "execution_count": 18,
   "id": "44688202",
   "metadata": {},
   "outputs": [],
   "source": [
    "class EfficientNetb4(torch.nn.Module):\n",
    "    def __init__(self):\n",
    "        super(EfficientNetb4, self).__init__()\n",
    "        model = models.efficientnet_b4(pretrained=True)\n",
    "        modules = list(model.children())[:-1]\n",
    "        self.feature_extract = nn.Sequential(*modules)\n",
    "        self.fc1 = nn.Linear(1792, 1000)\n",
    "        self.relu = nn.ReLU()\n",
    "        self.fc2 = nn.Linear(1000,76)\n",
    "        \n",
    "    def forward(self, x):\n",
    "        x = self.feature_extract(x)\n",
    "        # (batch, 1792, 1, 1)\n",
    "        x = torch.squeeze(x)\n",
    "        x = self.relu(self.fc1(x))\n",
    "        out = self.fc2(x)\n",
    "        return out"
   ]
  },
  {
   "cell_type": "code",
   "execution_count": 19,
   "id": "36c153b9",
   "metadata": {},
   "outputs": [],
   "source": [
    "class RegNet(torch.nn.Module):\n",
    "    def __init__(self):\n",
    "        super(RegNet, self).__init__()\n",
    "        model = models.regnet_y_16gf(pretrained=True)\n",
    "        modules = list(model.children())[:-1]\n",
    "        self.feature_extract = nn.Sequential(*modules)\n",
    "        self.fc1 = nn.Linear(3024, 1000)\n",
    "        self.relu = nn.ReLU()\n",
    "        self.fc2 = nn.Linear(1000,76)\n",
    "        \n",
    "    def forward(self, x):\n",
    "        x = self.feature_extract(x)\n",
    "        # (batch, 3024, 1, 1)\n",
    "        x = torch.squeeze(x)\n",
    "        x = self.relu(self.fc1(x))\n",
    "        out = self.fc2(x)\n",
    "        return out"
   ]
  },
  {
   "cell_type": "markdown",
   "id": "e1b2c14c",
   "metadata": {},
   "source": [
    "# Parameters"
   ]
  },
  {
   "cell_type": "code",
   "execution_count": 20,
   "id": "c83f6bff",
   "metadata": {},
   "outputs": [],
   "source": [
    "PARAMS = {\n",
    "    'models' : ['ResNet50', 'EfficientNetb4', 'RegNet'],\n",
    "    'learning_rate' : [1e-2, 1e-3, 1e-4, 1e-5],\n",
    "    'optimizer' : ['adam', 'rmsprop', 'nadam'],\n",
    "}\n",
    "hyper_params=list(product(PARAMS['models'], PARAMS['learning_rate'],PARAMS['optimizer']))"
   ]
  },
  {
   "cell_type": "code",
   "execution_count": 21,
   "id": "bb1bfb3b",
   "metadata": {},
   "outputs": [
    {
     "name": "stdout",
     "output_type": "stream",
     "text": [
      "adam\n"
     ]
    }
   ],
   "source": [
    "for key in hyper_params:\n",
    "    print(key[2])\n",
    "    break"
   ]
  },
  {
   "cell_type": "code",
   "execution_count": 22,
   "id": "915b70d2",
   "metadata": {},
   "outputs": [],
   "source": [
    "def draw_graph(title, loss, valid_loss):\n",
    "    plt.plot(loss, label=\"Training Loss\")\n",
    "    plt.plot(valid_loss, label=\"Validation Loss\")\n",
    "    plt.legend(loc='upper right')\n",
    "    plt.title(title)\n",
    "    plt.savefig(\"./result/loss_chart/\" + title + \".png\")\n",
    "    plt.show()"
   ]
  },
  {
   "cell_type": "markdown",
   "id": "b1d0524f",
   "metadata": {},
   "source": [
    "# 4. Train"
   ]
  },
  {
   "cell_type": "code",
   "execution_count": 26,
   "id": "a15c3add",
   "metadata": {},
   "outputs": [],
   "source": [
    "def validation(model, vali_loader, criterion, device, epoch):\n",
    "    model.eval() # Evaluation\n",
    "    vali_loss = []\n",
    "\n",
    "    with torch.no_grad():\n",
    "        for img, label in tqdm(iter(vali_loader)):\n",
    "            img, label = img.float().to(device), label.float().to(device)\n",
    "\n",
    "            logit = model(img)\n",
    "            logit = torch.squeeze(logit)\n",
    "            loss = criterion(logit, label)\n",
    "            \n",
    "            writer.add_scalar(\"Loss/validation\", loss, epoch)\n",
    "            \n",
    "            vali_loss.append(loss.item())\n",
    "\n",
    "    vali_mae_loss = np.mean(vali_loss)\n",
    "    return vali_mae_loss"
   ]
  },
  {
   "cell_type": "code",
   "execution_count": 27,
   "id": "4debd34b",
   "metadata": {},
   "outputs": [],
   "source": [
    "def train(model, optimizer, train_loader, vali_loader, scheduler, device, params):\n",
    "    \n",
    "    model.to(device)\n",
    "    epochs = 50\n",
    "\n",
    "    loss_plot = []\n",
    "    vali_loss_plot = []\n",
    "    patience = 5\n",
    "    earlystopping = 0\n",
    "\n",
    "    # Loss Function\n",
    "    criterion = torch.nn.CrossEntropyLoss()\n",
    "    best_loss = 9999\n",
    "    \n",
    "    print(\"--------------------------------------------\")\n",
    "    print(\"model : {}\".format(params[0]))\n",
    "    print(\"optimizer : {}, learning rate : {}\".format(params[2], params[1]))\n",
    "    \n",
    "    for epoch in range(1,epochs+1):\n",
    "        model.train()\n",
    "        train_loss = []\n",
    "        for img, label in tqdm(iter(train_loader)):\n",
    "            img, label = img.float().to(device), label.float().to(device)\n",
    "            \n",
    "            optimizer.zero_grad()\n",
    "\n",
    "            # Data -> Model -> Output\n",
    "            logit = model(img)\n",
    "            logit = torch.squeeze(logit)\n",
    "            # Calc loss\n",
    "            loss = criterion(logit, label)\n",
    "            loss_plot.append(loss.item())\n",
    "            writer.add_scalar(\"Loss/train\", loss, epoch)\n",
    "\n",
    "            # backpropagation\n",
    "            loss.backward()\n",
    "            optimizer.step()\n",
    "\n",
    "            train_loss.append(loss.item())\n",
    "            \n",
    "        if scheduler is not None:\n",
    "            scheduler.step()\n",
    "            \n",
    "        # Evaluation Validation set\n",
    "        vali_loss = validation(model, vali_loader, criterion, device, epoch)\n",
    "        vali_loss_plot.append(vali_loss)\n",
    "        \n",
    "        print(f'Epoch [{epoch}] Train loss : [{np.mean(train_loss):.5f}] Validation loss : [{vali_loss:.5f}]\\n')\n",
    "        \n",
    "        # Model Saved\n",
    "        if best_loss > vali_loss:\n",
    "            best_loss = vali_loss\n",
    "            torch.save(model.state_dict(), './saved_models/{}_{}_{}_example.pth'.format(params[0], params[1], params[2]))\n",
    "            print('------------------ Model Saved ------------------')\n",
    "            earlystopping = 0\n",
    "        elif best_loss < vali_loss:\n",
    "            earlystopping += 1\n",
    "            if earlystopping == patience:\n",
    "                print(\"------------stop----------------\")\n",
    "                title = \"{}_{}_{}_epoch:{} loss\".format(params[0], params[1], params[2], epoch)\n",
    "                draw_graph(title, loss_plot, vali_loss_plot)\n",
    "                break\n",
    "                \n",
    "        if epochs == epoch:\n",
    "            title = \"{}_{}_{}_epoch:{} loss\".format(params[0], params[1], params[2], epoch)\n",
    "            draw_graph(title, loss_plot, vali_loss_plot)"
   ]
  },
  {
   "cell_type": "markdown",
   "id": "af2986f9",
   "metadata": {},
   "source": [
    "### run"
   ]
  },
  {
   "cell_type": "code",
   "execution_count": null,
   "id": "2ae7540e",
   "metadata": {
    "scrolled": false
   },
   "outputs": [
    {
     "name": "stdout",
     "output_type": "stream",
     "text": [
      "--------------------------------------------\n",
      "model : ResNet50\n",
      "optimizer : adam, learning rate : 0.01\n"
     ]
    },
    {
     "data": {
      "application/vnd.jupyter.widget-view+json": {
       "model_id": "c847328917c9450299c64320cc8069e6",
       "version_major": 2,
       "version_minor": 0
      },
      "text/plain": [
       "  0%|          | 0/271 [00:00<?, ?it/s]"
      ]
     },
     "metadata": {},
     "output_type": "display_data"
    },
    {
     "data": {
      "application/vnd.jupyter.widget-view+json": {
       "model_id": "d45d6a7276304d8683534e03bce56982",
       "version_major": 2,
       "version_minor": 0
      },
      "text/plain": [
       "  0%|          | 0/228 [00:00<?, ?it/s]"
      ]
     },
     "metadata": {},
     "output_type": "display_data"
    },
    {
     "name": "stdout",
     "output_type": "stream",
     "text": [
      "Epoch [1] Train loss : [4.49772] Validation loss : [4.22077]\n",
      "\n",
      "------------------ Model Saved ------------------\n"
     ]
    },
    {
     "data": {
      "application/vnd.jupyter.widget-view+json": {
       "model_id": "4e98cdaf76a34773a8aa10a437a71d5c",
       "version_major": 2,
       "version_minor": 0
      },
      "text/plain": [
       "  0%|          | 0/271 [00:00<?, ?it/s]"
      ]
     },
     "metadata": {},
     "output_type": "display_data"
    },
    {
     "data": {
      "application/vnd.jupyter.widget-view+json": {
       "model_id": "875ade9765444badb055ca3dffa91387",
       "version_major": 2,
       "version_minor": 0
      },
      "text/plain": [
       "  0%|          | 0/228 [00:00<?, ?it/s]"
      ]
     },
     "metadata": {},
     "output_type": "display_data"
    },
    {
     "name": "stdout",
     "output_type": "stream",
     "text": [
      "Epoch [2] Train loss : [4.16210] Validation loss : [4.11863]\n",
      "\n",
      "------------------ Model Saved ------------------\n"
     ]
    },
    {
     "data": {
      "application/vnd.jupyter.widget-view+json": {
       "model_id": "cab4f33bff4c4de8956c3b521ae8bb60",
       "version_major": 2,
       "version_minor": 0
      },
      "text/plain": [
       "  0%|          | 0/271 [00:00<?, ?it/s]"
      ]
     },
     "metadata": {},
     "output_type": "display_data"
    },
    {
     "data": {
      "application/vnd.jupyter.widget-view+json": {
       "model_id": "4c7ea1823f3d484f863ead7824607d6e",
       "version_major": 2,
       "version_minor": 0
      },
      "text/plain": [
       "  0%|          | 0/228 [00:00<?, ?it/s]"
      ]
     },
     "metadata": {},
     "output_type": "display_data"
    },
    {
     "name": "stdout",
     "output_type": "stream",
     "text": [
      "Epoch [3] Train loss : [3.61434] Validation loss : [3.53981]\n",
      "\n",
      "------------------ Model Saved ------------------\n"
     ]
    },
    {
     "data": {
      "application/vnd.jupyter.widget-view+json": {
       "model_id": "324a51c2effc49ec9f89661ff402fbb4",
       "version_major": 2,
       "version_minor": 0
      },
      "text/plain": [
       "  0%|          | 0/271 [00:00<?, ?it/s]"
      ]
     },
     "metadata": {},
     "output_type": "display_data"
    },
    {
     "data": {
      "application/vnd.jupyter.widget-view+json": {
       "model_id": "d1a6fdbc3c1e4c5ea37a95204f076a3b",
       "version_major": 2,
       "version_minor": 0
      },
      "text/plain": [
       "  0%|          | 0/228 [00:00<?, ?it/s]"
      ]
     },
     "metadata": {},
     "output_type": "display_data"
    },
    {
     "name": "stdout",
     "output_type": "stream",
     "text": [
      "Epoch [4] Train loss : [3.19554] Validation loss : [3.53852]\n",
      "\n",
      "------------------ Model Saved ------------------\n"
     ]
    },
    {
     "data": {
      "application/vnd.jupyter.widget-view+json": {
       "model_id": "144ba575c3fd4e2fbd7701a25d1f5806",
       "version_major": 2,
       "version_minor": 0
      },
      "text/plain": [
       "  0%|          | 0/271 [00:00<?, ?it/s]"
      ]
     },
     "metadata": {},
     "output_type": "display_data"
    },
    {
     "data": {
      "application/vnd.jupyter.widget-view+json": {
       "model_id": "67c3086829f54affbb35296968ca8ebc",
       "version_major": 2,
       "version_minor": 0
      },
      "text/plain": [
       "  0%|          | 0/228 [00:00<?, ?it/s]"
      ]
     },
     "metadata": {},
     "output_type": "display_data"
    },
    {
     "name": "stdout",
     "output_type": "stream",
     "text": [
      "Epoch [5] Train loss : [2.83701] Validation loss : [2.59798]\n",
      "\n",
      "------------------ Model Saved ------------------\n"
     ]
    },
    {
     "data": {
      "application/vnd.jupyter.widget-view+json": {
       "model_id": "04cc5f50256d4bf187309a90798754a5",
       "version_major": 2,
       "version_minor": 0
      },
      "text/plain": [
       "  0%|          | 0/271 [00:00<?, ?it/s]"
      ]
     },
     "metadata": {},
     "output_type": "display_data"
    },
    {
     "data": {
      "application/vnd.jupyter.widget-view+json": {
       "model_id": "dadb77f170ff499abccb79fa28dffa58",
       "version_major": 2,
       "version_minor": 0
      },
      "text/plain": [
       "  0%|          | 0/228 [00:00<?, ?it/s]"
      ]
     },
     "metadata": {},
     "output_type": "display_data"
    },
    {
     "name": "stdout",
     "output_type": "stream",
     "text": [
      "Epoch [6] Train loss : [2.49419] Validation loss : [3.40627]\n",
      "\n"
     ]
    },
    {
     "data": {
      "application/vnd.jupyter.widget-view+json": {
       "model_id": "507b856241034106be6f78a13705ee8d",
       "version_major": 2,
       "version_minor": 0
      },
      "text/plain": [
       "  0%|          | 0/271 [00:00<?, ?it/s]"
      ]
     },
     "metadata": {},
     "output_type": "display_data"
    },
    {
     "data": {
      "application/vnd.jupyter.widget-view+json": {
       "model_id": "e3059fbe33974bbdbdcab0dc88aa1c62",
       "version_major": 2,
       "version_minor": 0
      },
      "text/plain": [
       "  0%|          | 0/228 [00:00<?, ?it/s]"
      ]
     },
     "metadata": {},
     "output_type": "display_data"
    },
    {
     "name": "stdout",
     "output_type": "stream",
     "text": [
      "Epoch [7] Train loss : [2.07422] Validation loss : [3.39876]\n",
      "\n"
     ]
    },
    {
     "data": {
      "application/vnd.jupyter.widget-view+json": {
       "model_id": "08861ac408a048a6b5d27976289dbc22",
       "version_major": 2,
       "version_minor": 0
      },
      "text/plain": [
       "  0%|          | 0/271 [00:00<?, ?it/s]"
      ]
     },
     "metadata": {},
     "output_type": "display_data"
    },
    {
     "data": {
      "application/vnd.jupyter.widget-view+json": {
       "model_id": "2f1650ef270b43cc86483126fe4d9062",
       "version_major": 2,
       "version_minor": 0
      },
      "text/plain": [
       "  0%|          | 0/228 [00:00<?, ?it/s]"
      ]
     },
     "metadata": {},
     "output_type": "display_data"
    },
    {
     "name": "stdout",
     "output_type": "stream",
     "text": [
      "Epoch [8] Train loss : [1.66550] Validation loss : [1.96203]\n",
      "\n",
      "------------------ Model Saved ------------------\n"
     ]
    },
    {
     "data": {
      "application/vnd.jupyter.widget-view+json": {
       "model_id": "cb449cfeac4841048009bb1a88f4fe40",
       "version_major": 2,
       "version_minor": 0
      },
      "text/plain": [
       "  0%|          | 0/271 [00:00<?, ?it/s]"
      ]
     },
     "metadata": {},
     "output_type": "display_data"
    },
    {
     "data": {
      "application/vnd.jupyter.widget-view+json": {
       "model_id": "2b2ef2d8485043a4b42f3dbf891e174f",
       "version_major": 2,
       "version_minor": 0
      },
      "text/plain": [
       "  0%|          | 0/228 [00:00<?, ?it/s]"
      ]
     },
     "metadata": {},
     "output_type": "display_data"
    },
    {
     "name": "stdout",
     "output_type": "stream",
     "text": [
      "Epoch [9] Train loss : [1.35447] Validation loss : [2.35695]\n",
      "\n"
     ]
    },
    {
     "data": {
      "application/vnd.jupyter.widget-view+json": {
       "model_id": "c7564b69c1cd482ba0f32966d239d41f",
       "version_major": 2,
       "version_minor": 0
      },
      "text/plain": [
       "  0%|          | 0/271 [00:00<?, ?it/s]"
      ]
     },
     "metadata": {},
     "output_type": "display_data"
    },
    {
     "data": {
      "application/vnd.jupyter.widget-view+json": {
       "model_id": "55be4956bf3844099de65ee19a61aab9",
       "version_major": 2,
       "version_minor": 0
      },
      "text/plain": [
       "  0%|          | 0/228 [00:00<?, ?it/s]"
      ]
     },
     "metadata": {},
     "output_type": "display_data"
    },
    {
     "name": "stdout",
     "output_type": "stream",
     "text": [
      "Epoch [10] Train loss : [1.15292] Validation loss : [0.93981]\n",
      "\n",
      "------------------ Model Saved ------------------\n"
     ]
    },
    {
     "data": {
      "application/vnd.jupyter.widget-view+json": {
       "model_id": "67ddb7fb0e764d55aed19a2b1a54b2eb",
       "version_major": 2,
       "version_minor": 0
      },
      "text/plain": [
       "  0%|          | 0/271 [00:00<?, ?it/s]"
      ]
     },
     "metadata": {},
     "output_type": "display_data"
    },
    {
     "data": {
      "application/vnd.jupyter.widget-view+json": {
       "model_id": "063f0057272c4e88846c2768559772e9",
       "version_major": 2,
       "version_minor": 0
      },
      "text/plain": [
       "  0%|          | 0/228 [00:00<?, ?it/s]"
      ]
     },
     "metadata": {},
     "output_type": "display_data"
    },
    {
     "name": "stdout",
     "output_type": "stream",
     "text": [
      "Epoch [11] Train loss : [0.91635] Validation loss : [1.50603]\n",
      "\n"
     ]
    },
    {
     "data": {
      "application/vnd.jupyter.widget-view+json": {
       "model_id": "b19abbf3ffb0465595bcac81d1584043",
       "version_major": 2,
       "version_minor": 0
      },
      "text/plain": [
       "  0%|          | 0/271 [00:00<?, ?it/s]"
      ]
     },
     "metadata": {},
     "output_type": "display_data"
    },
    {
     "data": {
      "application/vnd.jupyter.widget-view+json": {
       "model_id": "de15e0d7e98f4140aa9f9fbbf897cf62",
       "version_major": 2,
       "version_minor": 0
      },
      "text/plain": [
       "  0%|          | 0/228 [00:00<?, ?it/s]"
      ]
     },
     "metadata": {},
     "output_type": "display_data"
    },
    {
     "name": "stdout",
     "output_type": "stream",
     "text": [
      "Epoch [12] Train loss : [0.79045] Validation loss : [0.92637]\n",
      "\n",
      "------------------ Model Saved ------------------\n"
     ]
    },
    {
     "data": {
      "application/vnd.jupyter.widget-view+json": {
       "model_id": "0f59165841734e3db5e02f9d5b7706b3",
       "version_major": 2,
       "version_minor": 0
      },
      "text/plain": [
       "  0%|          | 0/271 [00:00<?, ?it/s]"
      ]
     },
     "metadata": {},
     "output_type": "display_data"
    },
    {
     "data": {
      "application/vnd.jupyter.widget-view+json": {
       "model_id": "4dbf722f15ea4a9b966916fbdf807e13",
       "version_major": 2,
       "version_minor": 0
      },
      "text/plain": [
       "  0%|          | 0/228 [00:00<?, ?it/s]"
      ]
     },
     "metadata": {},
     "output_type": "display_data"
    },
    {
     "name": "stdout",
     "output_type": "stream",
     "text": [
      "Epoch [13] Train loss : [0.70916] Validation loss : [1.33338]\n",
      "\n"
     ]
    },
    {
     "data": {
      "application/vnd.jupyter.widget-view+json": {
       "model_id": "0c75d8f102504259bd4bfca9b6c557c8",
       "version_major": 2,
       "version_minor": 0
      },
      "text/plain": [
       "  0%|          | 0/271 [00:00<?, ?it/s]"
      ]
     },
     "metadata": {},
     "output_type": "display_data"
    },
    {
     "data": {
      "application/vnd.jupyter.widget-view+json": {
       "model_id": "dbeaa2df52ef40b0bd2e8b77887e8306",
       "version_major": 2,
       "version_minor": 0
      },
      "text/plain": [
       "  0%|          | 0/228 [00:00<?, ?it/s]"
      ]
     },
     "metadata": {},
     "output_type": "display_data"
    },
    {
     "name": "stdout",
     "output_type": "stream",
     "text": [
      "Epoch [14] Train loss : [0.56352] Validation loss : [0.41012]\n",
      "\n",
      "------------------ Model Saved ------------------\n"
     ]
    },
    {
     "data": {
      "application/vnd.jupyter.widget-view+json": {
       "model_id": "0f6f8216a8874ed3a90251b2aec4f74c",
       "version_major": 2,
       "version_minor": 0
      },
      "text/plain": [
       "  0%|          | 0/271 [00:00<?, ?it/s]"
      ]
     },
     "metadata": {},
     "output_type": "display_data"
    },
    {
     "data": {
      "application/vnd.jupyter.widget-view+json": {
       "model_id": "7e16e863745a422c9beaf6f1ab339cd4",
       "version_major": 2,
       "version_minor": 0
      },
      "text/plain": [
       "  0%|          | 0/228 [00:00<?, ?it/s]"
      ]
     },
     "metadata": {},
     "output_type": "display_data"
    },
    {
     "name": "stdout",
     "output_type": "stream",
     "text": [
      "Epoch [15] Train loss : [0.50277] Validation loss : [5.68170]\n",
      "\n"
     ]
    },
    {
     "data": {
      "application/vnd.jupyter.widget-view+json": {
       "model_id": "79b1f512fff74f8eaa20e90f253f7963",
       "version_major": 2,
       "version_minor": 0
      },
      "text/plain": [
       "  0%|          | 0/271 [00:00<?, ?it/s]"
      ]
     },
     "metadata": {},
     "output_type": "display_data"
    },
    {
     "data": {
      "application/vnd.jupyter.widget-view+json": {
       "model_id": "38b14ddde87443bf9fab5b290cd06fa4",
       "version_major": 2,
       "version_minor": 0
      },
      "text/plain": [
       "  0%|          | 0/228 [00:00<?, ?it/s]"
      ]
     },
     "metadata": {},
     "output_type": "display_data"
    },
    {
     "name": "stdout",
     "output_type": "stream",
     "text": [
      "Epoch [16] Train loss : [0.40356] Validation loss : [0.86475]\n",
      "\n"
     ]
    },
    {
     "data": {
      "application/vnd.jupyter.widget-view+json": {
       "model_id": "35c443aa06034cb39d2889e31fb48a43",
       "version_major": 2,
       "version_minor": 0
      },
      "text/plain": [
       "  0%|          | 0/271 [00:00<?, ?it/s]"
      ]
     },
     "metadata": {},
     "output_type": "display_data"
    },
    {
     "data": {
      "application/vnd.jupyter.widget-view+json": {
       "model_id": "6f64c019652e42d8b351c338c9e05d8b",
       "version_major": 2,
       "version_minor": 0
      },
      "text/plain": [
       "  0%|          | 0/228 [00:00<?, ?it/s]"
      ]
     },
     "metadata": {},
     "output_type": "display_data"
    },
    {
     "name": "stdout",
     "output_type": "stream",
     "text": [
      "Epoch [17] Train loss : [0.40924] Validation loss : [0.31165]\n",
      "\n",
      "------------------ Model Saved ------------------\n"
     ]
    },
    {
     "data": {
      "application/vnd.jupyter.widget-view+json": {
       "model_id": "4e22fbee66204c61aff1905d1a069bc6",
       "version_major": 2,
       "version_minor": 0
      },
      "text/plain": [
       "  0%|          | 0/271 [00:00<?, ?it/s]"
      ]
     },
     "metadata": {},
     "output_type": "display_data"
    },
    {
     "data": {
      "application/vnd.jupyter.widget-view+json": {
       "model_id": "ee25e46c883d46dfa9d73dd599c1c6a5",
       "version_major": 2,
       "version_minor": 0
      },
      "text/plain": [
       "  0%|          | 0/228 [00:00<?, ?it/s]"
      ]
     },
     "metadata": {},
     "output_type": "display_data"
    },
    {
     "name": "stdout",
     "output_type": "stream",
     "text": [
      "Epoch [18] Train loss : [0.29453] Validation loss : [0.77978]\n",
      "\n"
     ]
    },
    {
     "data": {
      "application/vnd.jupyter.widget-view+json": {
       "model_id": "7dfd0b52cebe408189c996b3dafcf898",
       "version_major": 2,
       "version_minor": 0
      },
      "text/plain": [
       "  0%|          | 0/271 [00:00<?, ?it/s]"
      ]
     },
     "metadata": {},
     "output_type": "display_data"
    }
   ],
   "source": [
    "for params in hyper_params:\n",
    "    \n",
    "    scheduler = None\n",
    "    \n",
    "    # model\n",
    "    if params[0] == 'ResNet50':\n",
    "        model = ResNet50()\n",
    "            # optimizer\n",
    "        if params[2] == 'adam':\n",
    "            optimizer = torch.optim.Adam(model.parameters(), lr=params[1])\n",
    "        elif params[2] == 'rmsprop':\n",
    "            optimizer = torch.optim.RMSprop(model.parameters(), lr=params[1])\n",
    "        elif params[2] == 'nadam':\n",
    "            optimizer = torch.optim.NAdam(model.parameters(), lr=params[1])\n",
    "            \n",
    "    \n",
    "        train(model, optimizer, train_loader, vali_loader, scheduler, device, params)\n",
    "        writer.flush()\n",
    "        writer.close()\n",
    "        \n",
    "        \n",
    "    elif params[0] == 'EfficientNetb4':\n",
    "        model = EfficientNetb4()\n",
    "            # optimizer\n",
    "        if params[2] == 'adam':\n",
    "            optimizer = torch.optim.Adam(model.parameters(), lr=params[1])\n",
    "        elif params[2] == 'rmsprop':\n",
    "            optimizer = torch.optim.RMSprop(model.parameters(), lr=params[1])\n",
    "        elif params[2] == 'nadam':\n",
    "            optimizer = torch.optim.NAdam(model.parameters(), lr=params[1])\n",
    "            \n",
    "        train(model, optimizer, train_loader, vali_loader, scheduler, device, params)\n",
    "        writer.flush()\n",
    "        writer.close()\n",
    "        \n",
    "    elif params[0] == 'RegNet':\n",
    "        model = RegNet()\n",
    "        if params[2] == 'adam':\n",
    "            optimizer = torch.optim.Adam(model.parameters(), lr=params[1])\n",
    "        elif params[2] == 'rmsprop':\n",
    "            optimizer = torch.optim.RMSprop(model.parameters(), lr=params[1])\n",
    "        elif params[2] == 'nadam':\n",
    "            optimizer = torch.optim.NAdam(model.parameters(), lr=params[1])\n",
    "            \n",
    "        train(model, optimizer, train_loader, vali_loader, scheduler, device, params)\n",
    "        writer.flush()\n",
    "        writer.close()\n",
    "    \n",
    "#     train(model, optimizer, train_loader, vali_loader, scheduler, device, params)\n",
    "#     writer.flush()\n",
    "#     writer.close()"
   ]
  },
  {
   "cell_type": "markdown",
   "id": "54902bbf",
   "metadata": {},
   "source": [
    "# 5. Inference"
   ]
  },
  {
   "cell_type": "code",
   "execution_count": null,
   "id": "7f0b6e2b",
   "metadata": {},
   "outputs": [],
   "source": []
  }
 ],
 "metadata": {
  "kernelspec": {
   "display_name": "Python [conda env:pytorch_16] *",
   "language": "python",
   "name": "conda-env-pytorch_16-py"
  },
  "language_info": {
   "codemirror_mode": {
    "name": "ipython",
    "version": 3
   },
   "file_extension": ".py",
   "mimetype": "text/x-python",
   "name": "python",
   "nbconvert_exporter": "python",
   "pygments_lexer": "ipython3",
   "version": "3.8.13"
  }
 },
 "nbformat": 4,
 "nbformat_minor": 5
}
