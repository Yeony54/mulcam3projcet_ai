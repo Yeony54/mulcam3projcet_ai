{
 "cells": [
  {
   "cell_type": "code",
   "execution_count": 1,
   "id": "d39f139f",
   "metadata": {},
   "outputs": [
    {
     "name": "stdout",
     "output_type": "stream",
     "text": [
      "Thu Jun  9 13:58:19 2022       \r\n",
      "+-----------------------------------------------------------------------------+\r\n",
      "| NVIDIA-SMI 450.142.00   Driver Version: 450.142.00   CUDA Version: 11.0     |\r\n",
      "|-------------------------------+----------------------+----------------------+\r\n",
      "| GPU  Name        Persistence-M| Bus-Id        Disp.A | Volatile Uncorr. ECC |\r\n",
      "| Fan  Temp  Perf  Pwr:Usage/Cap|         Memory-Usage | GPU-Util  Compute M. |\r\n",
      "|                               |                      |               MIG M. |\r\n",
      "|===============================+======================+======================|\r\n",
      "|   0  Tesla T4            On   | 00000000:00:1E.0 Off |                    0 |\r\n",
      "| N/A   39C    P0    26W /  70W |  15094MiB / 15109MiB |      0%      Default |\r\n",
      "|                               |                      |                  N/A |\r\n",
      "+-------------------------------+----------------------+----------------------+\r\n",
      "                                                                               \r\n",
      "+-----------------------------------------------------------------------------+\r\n",
      "| Processes:                                                                  |\r\n",
      "|  GPU   GI   CI        PID   Type   Process name                  GPU Memory |\r\n",
      "|        ID   ID                                                   Usage      |\r\n",
      "|=============================================================================|\r\n",
      "|    0   N/A  N/A      2963      C   ...untu/anaconda3/bin/python     1411MiB |\r\n",
      "|    0   N/A  N/A     16893      C   ...nvs/pytorch_16/bin/python     8327MiB |\r\n",
      "|    0   N/A  N/A     17271      C   ...nvs/pytorch_16/bin/python     5353MiB |\r\n",
      "+-----------------------------------------------------------------------------+\r\n"
     ]
    }
   ],
   "source": [
    "!nvidia-smi"
   ]
  },
  {
   "cell_type": "markdown",
   "id": "25decd3f",
   "metadata": {},
   "source": [
    "## Settings"
   ]
  },
  {
   "cell_type": "code",
   "execution_count": 2,
   "id": "760e0a1d",
   "metadata": {},
   "outputs": [],
   "source": [
    "import warnings\n",
    "warnings.filterwarnings('ignore')\n",
    "\n",
    "from glob import glob\n",
    "import pandas as pd\n",
    "import numpy as np \n",
    "from tqdm import tqdm\n",
    "import cv2\n",
    "\n",
    "import os\n",
    "import timm\n",
    "import random\n",
    "\n",
    "import torch\n",
    "from torch.utils.data import Dataset, DataLoader\n",
    "import torch.nn as nn\n",
    "import torchvision.transforms as transforms\n",
    "from sklearn.metrics import f1_score, accuracy_score\n",
    "import time\n",
    "\n",
    "from sklearn.model_selection import StratifiedKFold\n",
    "device = torch.device('cuda')"
   ]
  },
  {
   "cell_type": "markdown",
   "id": "1aacd6ae",
   "metadata": {},
   "source": [
    "## Image Pre-Process"
   ]
  },
  {
   "cell_type": "code",
   "execution_count": 6,
   "id": "cb9f3c03",
   "metadata": {},
   "outputs": [],
   "source": [
    "train_png = sorted(glob('/home/lab17/jupyter_home/Data/product_image/Training/image/**/*.jpg'))\n",
    "test_png = sorted(glob('/home/lab17/jupyter_home/Data/product_image/Validation/image/**/*.jpg'))\n",
    "\n",
    "# files = os.listdir('/home/lab17/jupyter_home/Data/bdata_snacks')\n",
    "# files"
   ]
  },
  {
   "cell_type": "code",
   "execution_count": 7,
   "id": "38d2df20",
   "metadata": {},
   "outputs": [
    {
     "name": "stdout",
     "output_type": "stream",
     "text": [
      "8664 8664\n",
      "1140 1140\n"
     ]
    }
   ],
   "source": [
    "print(len(train_png), len(set(train_png)))\n",
    "print(len(test_png), len(set(test_png)))"
   ]
  },
  {
   "cell_type": "code",
   "execution_count": 10,
   "id": "6a41bbf3",
   "metadata": {},
   "outputs": [],
   "source": [
    "# # decoder\n",
    "# files = os.listdir('/home/lab17/jupyter_home/Data/bdata_snacks')\n",
    "# train_labels = sorted(files)\n",
    "# train_dict = {i:l[:-4] for i, l in zip(range(311), train_labels)}"
   ]
  },
  {
   "cell_type": "code",
   "execution_count": 8,
   "id": "d8f6e004",
   "metadata": {},
   "outputs": [],
   "source": [
    "def img_load(path):\n",
    "    img = cv2.imread(path)[:,:,::-1]\n",
    "    img = cv2.resize(img, (256, 256),interpolation = cv2.INTER_AREA)\n",
    "    return img"
   ]
  },
  {
   "cell_type": "code",
   "execution_count": 9,
   "id": "3dd8e7a3",
   "metadata": {},
   "outputs": [
    {
     "name": "stderr",
     "output_type": "stream",
     "text": [
      "100%|███████████████████████████████████████| 8664/8664 [29:58<00:00,  4.82it/s]\n",
      "100%|███████████████████████████████████████| 1140/1140 [04:06<00:00,  4.62it/s]\n"
     ]
    }
   ],
   "source": [
    "train_imgs = [img_load(m) for m in tqdm(train_png)]\n",
    "test_imgs = [img_load(n) for n in tqdm(test_png)]"
   ]
  },
  {
   "cell_type": "code",
   "execution_count": 11,
   "id": "1d65f751",
   "metadata": {},
   "outputs": [],
   "source": [
    "np.save('/home/lab17/jupyter_home/Data/0609_product_train.npy', np.array(train_imgs))\n",
    "np.save('/home/lab17/jupyter_home/Data/0609_product_valid.npy', np.array(test_imgs))"
   ]
  },
  {
   "cell_type": "code",
   "execution_count": 15,
   "id": "eb6789c3",
   "metadata": {},
   "outputs": [],
   "source": [
    "train_imgs = np.load('/home/lab17/jupyter_home/Data/0609_product_train.npy')\n",
    "test_imgs = np.load('/home/lab17/jupyter_home/Data/0609_product_valid.npy')"
   ]
  },
  {
   "cell_type": "code",
   "execution_count": 16,
   "id": "6c34b549",
   "metadata": {},
   "outputs": [
    {
     "name": "stdout",
     "output_type": "stream",
     "text": [
      "train 평균 0.732019 0.721404 0.698443\n",
      "train 표준편차 0.110226 0.136621 0.186938\n"
     ]
    }
   ],
   "source": [
    "meanRGB = [np.mean(x, axis=(0,1)) for x in train_imgs]\n",
    "stdRGB = [np.std(x, axis=(0,1)) for x in train_imgs]\n",
    "\n",
    "meanR = np.mean([m[0] for m in meanRGB])/255\n",
    "meanG = np.mean([m[1] for m in meanRGB])/255\n",
    "meanB = np.mean([m[2] for m in meanRGB])/255\n",
    "\n",
    "stdR = np.mean([s[0] for s in stdRGB])/255\n",
    "stdG = np.mean([s[1] for s in stdRGB])/255\n",
    "stdB = np.mean([s[2] for s in stdRGB])/255\n",
    "\n",
    "print(\"train 평균\", round(meanR, 6), round(meanG, 6), round(meanB, 6))\n",
    "print(\"train 표준편차\", round(stdR, 6), round(stdG, 6), round(stdB, 6))"
   ]
  },
  {
   "cell_type": "code",
   "execution_count": 17,
   "id": "69babf68",
   "metadata": {},
   "outputs": [
    {
     "name": "stdout",
     "output_type": "stream",
     "text": [
      "test 평균 0.733427 0.722497 0.700222\n",
      "test 표준편차 0.108911 0.135953 0.186717\n"
     ]
    }
   ],
   "source": [
    "meanRGB = [np.mean(x, axis=(0,1)) for x in test_imgs]\n",
    "stdRGB = [np.std(x, axis=(0,1)) for x in test_imgs]\n",
    "\n",
    "meanR = np.mean([m[0] for m in meanRGB])/255\n",
    "meanG = np.mean([m[1] for m in meanRGB])/255\n",
    "meanB = np.mean([m[2] for m in meanRGB])/255\n",
    "\n",
    "stdR = np.mean([s[0] for s in stdRGB])/255\n",
    "stdG = np.mean([s[1] for s in stdRGB])/255\n",
    "stdB = np.mean([s[2] for s in stdRGB])/255\n",
    "\n",
    "print(\"test 평균\", round(meanR, 6), round(meanG, 6), round(meanB, 6))\n",
    "print(\"test 표준편차\", round(stdR, 6), round(stdG, 6), round(stdB, 6))"
   ]
  },
  {
   "cell_type": "code",
   "execution_count": null,
   "id": "e29110f3",
   "metadata": {},
   "outputs": [],
   "source": []
  }
 ],
 "metadata": {
  "kernelspec": {
   "display_name": "Python [conda env:pytorch_17] *",
   "language": "python",
   "name": "conda-env-pytorch_17-py"
  },
  "language_info": {
   "codemirror_mode": {
    "name": "ipython",
    "version": 3
   },
   "file_extension": ".py",
   "mimetype": "text/x-python",
   "name": "python",
   "nbconvert_exporter": "python",
   "pygments_lexer": "ipython3",
   "version": "3.8.13"
  }
 },
 "nbformat": 4,
 "nbformat_minor": 5
}
