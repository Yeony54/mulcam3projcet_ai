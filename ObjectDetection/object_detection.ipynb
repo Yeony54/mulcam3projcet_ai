{
 "cells": [
  {
   "cell_type": "code",
   "execution_count": 1,
   "id": "4ce3caee",
   "metadata": {},
   "outputs": [
    {
     "name": "stdout",
     "output_type": "stream",
     "text": [
      "Looking in indexes: https://pypi.org/simple, https://download.pytorch.org/whl/lts/1.8/cu111\n",
      "Requirement already satisfied: torch==1.8.2 in c:\\users\\yourm\\anaconda3\\lib\\site-packages (1.8.2+cu111)\n",
      "Requirement already satisfied: torchvision==0.9.2 in c:\\users\\yourm\\anaconda3\\lib\\site-packages (0.9.2+cu111)\n",
      "Requirement already satisfied: torchaudio===0.8.2 in c:\\users\\yourm\\anaconda3\\lib\\site-packages (0.8.2)\n",
      "Requirement already satisfied: numpy in c:\\users\\yourm\\anaconda3\\lib\\site-packages (from torch==1.8.2) (1.21.5)\n",
      "Requirement already satisfied: typing-extensions in c:\\users\\yourm\\anaconda3\\lib\\site-packages (from torch==1.8.2) (3.10.0.2)\n",
      "Requirement already satisfied: pillow>=4.1.1 in c:\\users\\yourm\\anaconda3\\lib\\site-packages (from torchvision==0.9.2) (8.4.0)\n"
     ]
    },
    {
     "name": "stderr",
     "output_type": "stream",
     "text": [
      "WARNING: There was an error checking the latest version of pip.\n"
     ]
    }
   ],
   "source": [
    "\n",
    "!pip3 install torch==1.8.2 torchvision==0.9.2 torchaudio===0.8.2 --extra-index-url https://download.pytorch.org/whl/lts/1.8/cu111"
   ]
  },
  {
   "cell_type": "code",
   "execution_count": 4,
   "id": "7f0d1d45",
   "metadata": {},
   "outputs": [
    {
     "name": "stderr",
     "output_type": "stream",
     "text": [
      "Cloning into 'yolov5'...\n"
     ]
    }
   ],
   "source": [
    "!git clone https://github.com/ultralytics/yolov5"
   ]
  },
  {
   "cell_type": "code",
   "execution_count": 23,
   "id": "59ab395e",
   "metadata": {},
   "outputs": [
    {
     "name": "stdout",
     "output_type": "stream",
     "text": [
      "Requirement already satisfied: matplotlib>=3.2.2 in c:\\users\\yourm\\anaconda3\\lib\\site-packages (from -r requirements.txt (line 5)) (3.4.3)\n",
      "Requirement already satisfied: numpy>=1.18.5 in c:\\users\\yourm\\anaconda3\\lib\\site-packages (from -r requirements.txt (line 6)) (1.21.5)\n",
      "Requirement already satisfied: opencv-python>=4.1.1 in c:\\users\\yourm\\anaconda3\\lib\\site-packages (from -r requirements.txt (line 7)) (4.5.5.64)\n",
      "Requirement already satisfied: Pillow>=7.1.2 in c:\\users\\yourm\\anaconda3\\lib\\site-packages (from -r requirements.txt (line 8)) (8.4.0)\n",
      "Requirement already satisfied: PyYAML>=5.3.1 in c:\\users\\yourm\\anaconda3\\lib\\site-packages (from -r requirements.txt (line 9)) (6.0)\n",
      "Requirement already satisfied: requests>=2.23.0 in c:\\users\\yourm\\anaconda3\\lib\\site-packages (from -r requirements.txt (line 10)) (2.26.0)\n",
      "Requirement already satisfied: scipy>=1.4.1 in c:\\users\\yourm\\anaconda3\\lib\\site-packages (from -r requirements.txt (line 11)) (1.7.1)\n",
      "Requirement already satisfied: torch>=1.7.0 in c:\\users\\yourm\\anaconda3\\lib\\site-packages (from -r requirements.txt (line 12)) (1.8.2+cu111)\n",
      "Requirement already satisfied: torchvision>=0.8.1 in c:\\users\\yourm\\anaconda3\\lib\\site-packages (from -r requirements.txt (line 13)) (0.9.2+cu111)\n",
      "Requirement already satisfied: tqdm>=4.41.0 in c:\\users\\yourm\\anaconda3\\lib\\site-packages (from -r requirements.txt (line 14)) (4.62.3)\n",
      "Requirement already satisfied: protobuf<=3.20.1 in c:\\users\\yourm\\anaconda3\\lib\\site-packages (from -r requirements.txt (line 15)) (3.19.4)\n",
      "Requirement already satisfied: tensorboard>=2.4.1 in c:\\users\\yourm\\anaconda3\\lib\\site-packages (from -r requirements.txt (line 18)) (2.8.0)\n",
      "Requirement already satisfied: pandas>=1.1.4 in c:\\users\\yourm\\anaconda3\\lib\\site-packages (from -r requirements.txt (line 22)) (1.3.4)\n",
      "Requirement already satisfied: seaborn>=0.11.0 in c:\\users\\yourm\\anaconda3\\lib\\site-packages (from -r requirements.txt (line 23)) (0.11.2)\n",
      "Requirement already satisfied: ipython in c:\\users\\yourm\\anaconda3\\lib\\site-packages (from -r requirements.txt (line 35)) (7.34.0)\n",
      "Requirement already satisfied: psutil in c:\\users\\yourm\\anaconda3\\lib\\site-packages (from -r requirements.txt (line 36)) (5.8.0)\n",
      "Requirement already satisfied: thop in c:\\users\\yourm\\anaconda3\\lib\\site-packages (from -r requirements.txt (line 37)) (0.0.31.post2005241907)\n",
      "Requirement already satisfied: kiwisolver>=1.0.1 in c:\\users\\yourm\\anaconda3\\lib\\site-packages (from matplotlib>=3.2.2->-r requirements.txt (line 5)) (1.3.1)\n",
      "Requirement already satisfied: cycler>=0.10 in c:\\users\\yourm\\anaconda3\\lib\\site-packages (from matplotlib>=3.2.2->-r requirements.txt (line 5)) (0.10.0)\n",
      "Requirement already satisfied: python-dateutil>=2.7 in c:\\users\\yourm\\anaconda3\\lib\\site-packages (from matplotlib>=3.2.2->-r requirements.txt (line 5)) (2.8.2)\n",
      "Requirement already satisfied: pyparsing>=2.2.1 in c:\\users\\yourm\\anaconda3\\lib\\site-packages (from matplotlib>=3.2.2->-r requirements.txt (line 5)) (3.0.4)\n",
      "Requirement already satisfied: urllib3<1.27,>=1.21.1 in c:\\users\\yourm\\anaconda3\\lib\\site-packages (from requests>=2.23.0->-r requirements.txt (line 10)) (1.26.7)\n",
      "Requirement already satisfied: charset-normalizer~=2.0.0 in c:\\users\\yourm\\anaconda3\\lib\\site-packages (from requests>=2.23.0->-r requirements.txt (line 10)) (2.0.4)\n",
      "Requirement already satisfied: idna<4,>=2.5 in c:\\users\\yourm\\anaconda3\\lib\\site-packages (from requests>=2.23.0->-r requirements.txt (line 10)) (3.2)\n",
      "Requirement already satisfied: certifi>=2017.4.17 in c:\\users\\yourm\\anaconda3\\lib\\site-packages (from requests>=2.23.0->-r requirements.txt (line 10)) (2022.5.18.1)\n",
      "Requirement already satisfied: typing-extensions in c:\\users\\yourm\\anaconda3\\lib\\site-packages (from torch>=1.7.0->-r requirements.txt (line 12)) (3.10.0.2)\n",
      "Requirement already satisfied: colorama in c:\\users\\yourm\\anaconda3\\lib\\site-packages (from tqdm>=4.41.0->-r requirements.txt (line 14)) (0.4.4)\n",
      "Requirement already satisfied: google-auth-oauthlib<0.5,>=0.4.1 in c:\\users\\yourm\\anaconda3\\lib\\site-packages (from tensorboard>=2.4.1->-r requirements.txt (line 18)) (0.4.6)\n",
      "Requirement already satisfied: markdown>=2.6.8 in c:\\users\\yourm\\anaconda3\\lib\\site-packages (from tensorboard>=2.4.1->-r requirements.txt (line 18)) (3.3.6)\n",
      "Requirement already satisfied: tensorboard-data-server<0.7.0,>=0.6.0 in c:\\users\\yourm\\anaconda3\\lib\\site-packages (from tensorboard>=2.4.1->-r requirements.txt (line 18)) (0.6.1)\n",
      "Requirement already satisfied: tensorboard-plugin-wit>=1.6.0 in c:\\users\\yourm\\anaconda3\\lib\\site-packages (from tensorboard>=2.4.1->-r requirements.txt (line 18)) (1.8.1)\n",
      "Requirement already satisfied: wheel>=0.26 in c:\\users\\yourm\\anaconda3\\lib\\site-packages (from tensorboard>=2.4.1->-r requirements.txt (line 18)) (0.37.0)\n",
      "Requirement already satisfied: setuptools>=41.0.0 in c:\\users\\yourm\\anaconda3\\lib\\site-packages (from tensorboard>=2.4.1->-r requirements.txt (line 18)) (58.0.4)\n",
      "Requirement already satisfied: absl-py>=0.4 in c:\\users\\yourm\\anaconda3\\lib\\site-packages (from tensorboard>=2.4.1->-r requirements.txt (line 18)) (1.0.0)\n",
      "Requirement already satisfied: werkzeug>=0.11.15 in c:\\users\\yourm\\anaconda3\\lib\\site-packages (from tensorboard>=2.4.1->-r requirements.txt (line 18)) (2.0.2)\n",
      "Requirement already satisfied: google-auth<3,>=1.6.3 in c:\\users\\yourm\\anaconda3\\lib\\site-packages (from tensorboard>=2.4.1->-r requirements.txt (line 18)) (2.6.0)\n",
      "Requirement already satisfied: grpcio>=1.24.3 in c:\\users\\yourm\\anaconda3\\lib\\site-packages (from tensorboard>=2.4.1->-r requirements.txt (line 18)) (1.44.0)\n",
      "Requirement already satisfied: pytz>=2017.3 in c:\\users\\yourm\\anaconda3\\lib\\site-packages (from pandas>=1.1.4->-r requirements.txt (line 22)) (2021.3)\n",
      "Requirement already satisfied: decorator in c:\\users\\yourm\\anaconda3\\lib\\site-packages (from ipython->-r requirements.txt (line 35)) (5.1.0)\n",
      "Requirement already satisfied: backcall in c:\\users\\yourm\\anaconda3\\lib\\site-packages (from ipython->-r requirements.txt (line 35)) (0.2.0)\n",
      "Requirement already satisfied: traitlets>=4.2 in c:\\users\\yourm\\anaconda3\\lib\\site-packages (from ipython->-r requirements.txt (line 35)) (5.1.0)\n",
      "Requirement already satisfied: jedi>=0.16 in c:\\users\\yourm\\anaconda3\\lib\\site-packages (from ipython->-r requirements.txt (line 35)) (0.18.0)\n",
      "Requirement already satisfied: prompt-toolkit!=3.0.0,!=3.0.1,<3.1.0,>=2.0.0 in c:\\users\\yourm\\anaconda3\\lib\\site-packages (from ipython->-r requirements.txt (line 35)) (3.0.20)\n",
      "Requirement already satisfied: pickleshare in c:\\users\\yourm\\anaconda3\\lib\\site-packages (from ipython->-r requirements.txt (line 35)) (0.7.5)\n",
      "Requirement already satisfied: pygments in c:\\users\\yourm\\anaconda3\\lib\\site-packages (from ipython->-r requirements.txt (line 35)) (2.10.0)\n",
      "Requirement already satisfied: matplotlib-inline in c:\\users\\yourm\\anaconda3\\lib\\site-packages (from ipython->-r requirements.txt (line 35)) (0.1.2)\n",
      "Requirement already satisfied: six in c:\\users\\yourm\\anaconda3\\lib\\site-packages (from absl-py>=0.4->tensorboard>=2.4.1->-r requirements.txt (line 18)) (1.16.0)\n",
      "Requirement already satisfied: cachetools<6.0,>=2.0.0 in c:\\users\\yourm\\anaconda3\\lib\\site-packages (from google-auth<3,>=1.6.3->tensorboard>=2.4.1->-r requirements.txt (line 18)) (5.0.0)\n",
      "Requirement already satisfied: rsa<5,>=3.1.4 in c:\\users\\yourm\\anaconda3\\lib\\site-packages (from google-auth<3,>=1.6.3->tensorboard>=2.4.1->-r requirements.txt (line 18)) (4.8)\n",
      "Requirement already satisfied: pyasn1-modules>=0.2.1 in c:\\users\\yourm\\anaconda3\\lib\\site-packages (from google-auth<3,>=1.6.3->tensorboard>=2.4.1->-r requirements.txt (line 18)) (0.2.8)\n",
      "Requirement already satisfied: requests-oauthlib>=0.7.0 in c:\\users\\yourm\\anaconda3\\lib\\site-packages (from google-auth-oauthlib<0.5,>=0.4.1->tensorboard>=2.4.1->-r requirements.txt (line 18)) (1.3.1)\n",
      "Requirement already satisfied: parso<0.9.0,>=0.8.0 in c:\\users\\yourm\\anaconda3\\lib\\site-packages (from jedi>=0.16->ipython->-r requirements.txt (line 35)) (0.8.2)\n",
      "Requirement already satisfied: importlib-metadata>=4.4 in c:\\users\\yourm\\anaconda3\\lib\\site-packages (from markdown>=2.6.8->tensorboard>=2.4.1->-r requirements.txt (line 18)) (4.8.1)\n",
      "Requirement already satisfied: wcwidth in c:\\users\\yourm\\anaconda3\\lib\\site-packages (from prompt-toolkit!=3.0.0,!=3.0.1,<3.1.0,>=2.0.0->ipython->-r requirements.txt (line 35)) (0.2.5)\n",
      "Requirement already satisfied: zipp>=0.5 in c:\\users\\yourm\\anaconda3\\lib\\site-packages (from importlib-metadata>=4.4->markdown>=2.6.8->tensorboard>=2.4.1->-r requirements.txt (line 18)) (3.6.0)\n",
      "Requirement already satisfied: pyasn1<0.5.0,>=0.4.6 in c:\\users\\yourm\\anaconda3\\lib\\site-packages (from pyasn1-modules>=0.2.1->google-auth<3,>=1.6.3->tensorboard>=2.4.1->-r requirements.txt (line 18)) (0.4.8)\n",
      "Requirement already satisfied: oauthlib>=3.0.0 in c:\\users\\yourm\\anaconda3\\lib\\site-packages (from requests-oauthlib>=0.7.0->google-auth-oauthlib<0.5,>=0.4.1->tensorboard>=2.4.1->-r requirements.txt (line 18)) (3.2.0)\n"
     ]
    },
    {
     "name": "stderr",
     "output_type": "stream",
     "text": [
      "WARNING: Ignore distutils configs in setup.cfg due to encoding errors.\n",
      "WARNING: Ignore distutils configs in setup.cfg due to encoding errors.\n",
      "WARNING: There was an error checking the latest version of pip.\n"
     ]
    }
   ],
   "source": [
    "!cd yolov5 & pip install -r requirements.txt"
   ]
  },
  {
   "cell_type": "code",
   "execution_count": 47,
   "id": "1643b418",
   "metadata": {},
   "outputs": [],
   "source": [
    "import torch\n",
    "from matplotlib import pyplot as plt\n",
    "import numpy as np\n",
    "import cv2\n",
    "import torchvision.transforms as transforms\n",
    "import os\n",
    "import shutil\n",
    "from PIL import Image\n"
   ]
  },
  {
   "cell_type": "code",
   "execution_count": 48,
   "id": "0c4eba2a",
   "metadata": {},
   "outputs": [
    {
     "name": "stderr",
     "output_type": "stream",
     "text": [
      "Using cache found in C:\\Users\\yourm/.cache\\torch\\hub\\ultralytics_yolov5_master\n",
      "YOLOv5  2022-6-7 Python-3.9.7 torch-1.8.2+cu111 CPU\n",
      "\n",
      "Fusing layers... \n",
      "YOLOv5s summary: 213 layers, 7225885 parameters, 0 gradients, 16.5 GFLOPs\n",
      "Adding AutoShape... \n"
     ]
    }
   ],
   "source": [
    "model = torch.hub.load('ultralytics/yolov5', 'yolov5s')"
   ]
  },
  {
   "cell_type": "code",
   "execution_count": 50,
   "id": "a807a297",
   "metadata": {},
   "outputs": [
    {
     "name": "stderr",
     "output_type": "stream",
     "text": [
      "Saved 1 image to \u001b[1mC:\\Users\\yourm\\Desktop\\yunghab3\\yolo_test\\runs\\detect\\exp_1\u001b[0m\n",
      "Saved 1 image to \u001b[1mC:\\Users\\yourm\\Desktop\\yunghab3\\yolo_test\\runs\\detect\\exp_1\u001b[0m\n",
      "Saved 1 image to \u001b[1mC:\\Users\\yourm\\Desktop\\yunghab3\\yolo_test\\runs\\detect\\exp_1\u001b[0m\n"
     ]
    },
    {
     "name": "stdout",
     "output_type": "stream",
     "text": [
      "사람입니다.!!\n"
     ]
    },
    {
     "name": "stderr",
     "output_type": "stream",
     "text": [
      "Saved 1 image to \u001b[1mC:\\Users\\yourm\\Desktop\\yunghab3\\yolo_test\\runs\\detect\\exp_1\u001b[0m\n",
      "Saved 1 image to \u001b[1mC:\\Users\\yourm\\Desktop\\yunghab3\\yolo_test\\runs\\detect\\exp_1\u001b[0m\n"
     ]
    },
    {
     "name": "stdout",
     "output_type": "stream",
     "text": [
      "사람입니다.!!\n"
     ]
    },
    {
     "name": "stderr",
     "output_type": "stream",
     "text": [
      "Saved 1 image to \u001b[1mC:\\Users\\yourm\\Desktop\\yunghab3\\yolo_test\\runs\\detect\\exp_1\u001b[0m\n",
      "Saved 1 image to \u001b[1mC:\\Users\\yourm\\Desktop\\yunghab3\\yolo_test\\runs\\detect\\exp_1\u001b[0m\n",
      "Saved 1 image to \u001b[1mC:\\Users\\yourm\\Desktop\\yunghab3\\yolo_test\\runs\\detect\\exp_1\u001b[0m\n"
     ]
    },
    {
     "name": "stdout",
     "output_type": "stream",
     "text": [
      "사람입니다.!!\n"
     ]
    },
    {
     "name": "stderr",
     "output_type": "stream",
     "text": [
      "Saved 1 image to \u001b[1mC:\\Users\\yourm\\Desktop\\yunghab3\\yolo_test\\runs\\detect\\exp_1\u001b[0m\n",
      "Saved 1 image to \u001b[1mC:\\Users\\yourm\\Desktop\\yunghab3\\yolo_test\\runs\\detect\\exp_1\u001b[0m\n"
     ]
    },
    {
     "name": "stdout",
     "output_type": "stream",
     "text": [
      "사람입니다.!!\n"
     ]
    },
    {
     "name": "stderr",
     "output_type": "stream",
     "text": [
      "Saved 1 image to \u001b[1mC:\\Users\\yourm\\Desktop\\yunghab3\\yolo_test\\runs\\detect\\exp_1\u001b[0m\n"
     ]
    },
    {
     "name": "stdout",
     "output_type": "stream",
     "text": [
      "사람입니다.!!\n"
     ]
    },
    {
     "name": "stderr",
     "output_type": "stream",
     "text": [
      "Saved 1 image to \u001b[1mC:\\Users\\yourm\\Desktop\\yunghab3\\yolo_test\\runs\\detect\\exp_1\u001b[0m\n"
     ]
    },
    {
     "name": "stdout",
     "output_type": "stream",
     "text": [
      "사람입니다.!!\n"
     ]
    },
    {
     "name": "stderr",
     "output_type": "stream",
     "text": [
      "Saved 1 image to \u001b[1mC:\\Users\\yourm\\Desktop\\yunghab3\\yolo_test\\runs\\detect\\exp_1\u001b[0m\n",
      "Saved 1 image to \u001b[1mC:\\Users\\yourm\\Desktop\\yunghab3\\yolo_test\\runs\\detect\\exp_1\u001b[0m\n",
      "Saved 1 image to \u001b[1mC:\\Users\\yourm\\Desktop\\yunghab3\\yolo_test\\runs\\detect\\exp_1\u001b[0m\n",
      "Saved 1 image to \u001b[1mC:\\Users\\yourm\\Desktop\\yunghab3\\yolo_test\\runs\\detect\\exp_1\u001b[0m\n"
     ]
    },
    {
     "ename": "FileNotFoundError",
     "evalue": "[Errno 2] No such file or directory: 'C:/Users/yourm/Desktop/yunghab3/yolo_test/mart_image/17.jpg'",
     "output_type": "error",
     "traceback": [
      "\u001b[1;31m---------------------------------------------------------------------------\u001b[0m",
      "\u001b[1;31mFileNotFoundError\u001b[0m                         Traceback (most recent call last)",
      "\u001b[1;32m~\\AppData\\Local\\Temp\\ipykernel_2040\\1331084651.py\u001b[0m in \u001b[0;36m<cell line: 6>\u001b[1;34m()\u001b[0m\n\u001b[0;32m      5\u001b[0m \u001b[1;32mwhile\u001b[0m \u001b[1;32mTrue\u001b[0m\u001b[1;33m:\u001b[0m\u001b[1;33m\u001b[0m\u001b[1;33m\u001b[0m\u001b[0m\n\u001b[0;32m      6\u001b[0m     \u001b[0mcount\u001b[0m \u001b[1;33m+=\u001b[0m \u001b[1;36m1\u001b[0m\u001b[1;33m\u001b[0m\u001b[1;33m\u001b[0m\u001b[0m\n\u001b[1;32m----> 7\u001b[1;33m     \u001b[0mimg\u001b[0m \u001b[1;33m=\u001b[0m \u001b[0mPIL\u001b[0m\u001b[1;33m.\u001b[0m\u001b[0mImage\u001b[0m\u001b[1;33m.\u001b[0m\u001b[0mopen\u001b[0m\u001b[1;33m(\u001b[0m\u001b[1;34m'C:/Users/yourm/Desktop/yunghab3/yolo_test/mart_image/{}.jpg'\u001b[0m\u001b[1;33m.\u001b[0m\u001b[0mformat\u001b[0m\u001b[1;33m(\u001b[0m\u001b[0mcount\u001b[0m\u001b[1;33m)\u001b[0m\u001b[1;33m)\u001b[0m\u001b[1;33m\u001b[0m\u001b[1;33m\u001b[0m\u001b[0m\n\u001b[0m\u001b[0;32m      8\u001b[0m     \u001b[1;31m#img.show()\u001b[0m\u001b[1;33m\u001b[0m\u001b[1;33m\u001b[0m\u001b[0m\n\u001b[0;32m      9\u001b[0m \u001b[1;33m\u001b[0m\u001b[0m\n",
      "\u001b[1;32m~\\anaconda3\\lib\\site-packages\\PIL\\Image.py\u001b[0m in \u001b[0;36mopen\u001b[1;34m(fp, mode, formats)\u001b[0m\n\u001b[0;32m   2973\u001b[0m \u001b[1;33m\u001b[0m\u001b[0m\n\u001b[0;32m   2974\u001b[0m     \u001b[1;32mif\u001b[0m \u001b[0mfilename\u001b[0m\u001b[1;33m:\u001b[0m\u001b[1;33m\u001b[0m\u001b[1;33m\u001b[0m\u001b[0m\n\u001b[1;32m-> 2975\u001b[1;33m         \u001b[0mfp\u001b[0m \u001b[1;33m=\u001b[0m \u001b[0mbuiltins\u001b[0m\u001b[1;33m.\u001b[0m\u001b[0mopen\u001b[0m\u001b[1;33m(\u001b[0m\u001b[0mfilename\u001b[0m\u001b[1;33m,\u001b[0m \u001b[1;34m\"rb\"\u001b[0m\u001b[1;33m)\u001b[0m\u001b[1;33m\u001b[0m\u001b[1;33m\u001b[0m\u001b[0m\n\u001b[0m\u001b[0;32m   2976\u001b[0m         \u001b[0mexclusive_fp\u001b[0m \u001b[1;33m=\u001b[0m \u001b[1;32mTrue\u001b[0m\u001b[1;33m\u001b[0m\u001b[1;33m\u001b[0m\u001b[0m\n\u001b[0;32m   2977\u001b[0m \u001b[1;33m\u001b[0m\u001b[0m\n",
      "\u001b[1;31mFileNotFoundError\u001b[0m: [Errno 2] No such file or directory: 'C:/Users/yourm/Desktop/yunghab3/yolo_test/mart_image/17.jpg'"
     ]
    }
   ],
   "source": [
    "\n",
    "count = 0\n",
    "def return_person():\n",
    "    print(\"사람입니다.!!\")\n",
    "\n",
    "while True:\n",
    "    #사진이 1부터 되어있어서 1부터 시작\n",
    "    count += 1\n",
    "    img = PIL.Image.open('C:/Users/yourm/Desktop/yunghab3/yolo_test/mart_image/{}.jpg'.format(count))\n",
    "    #img.show()\n",
    "    \n",
    "    # Make detections \n",
    "    results = model(img)\n",
    "    \n",
    "    #이미지를 보여주기 위한 save  나중에 지워도됨\n",
    "    results.save(save_dir='C:/Users/yourm/Desktop/yunghab3/yolo_test/runs/detect/exp_1')\n",
    "    \n",
    "    #save_dir\n",
    "    \n",
    "    image_df = results.pandas().xyxy[0]\n",
    "    person_img = image_df[image_df['name'] == 'person']\n",
    "    \n",
    "    #print(\"person_img.size() : \", person_img.shape[0])\n",
    "    \n",
    "    # Person 이 1명이라도 있으면 실행\n",
    "    if(person_img.shape[0] > 0):\n",
    "        for idx in range(0, person_img.shape[0], 1):\n",
    "            # 사람의 크기가 가로, 세로 반이 넘으면 사람으로 판단\n",
    "            if(((person_img.iloc[idx]['xmax'] - person_img.iloc[idx]['xmin']) > (img.width/2)) and \n",
    "               ((person_img.iloc[idx]['ymax'] - person_img.iloc[idx]['ymin']) > (img.height/2))): \n",
    "                return_person()\n",
    "            \n",
    "    #이미지를 보여주기 위해 나중에 지워도됨   \n",
    "    #img = PIL.Image.open('C:/Users/yourm/Desktop/yunghab3/yolo_test/runs/detect/exp/{}.jpg'.format(count))\n",
    "    #img = PIL.Image.open('C:/Users/yourm/Desktop/yunghab3/yolo_test/runs/detect/exp_1/{}.jpg'.format(count))\n",
    "    #img.show()\n",
    "    #shutil.rmtree('C:/Users/yourm/Desktop/yunghab3/yolo_test/runs/detect/exp')\n",
    "    "
   ]
  },
  {
   "cell_type": "code",
   "execution_count": null,
   "id": "1bfb80b3",
   "metadata": {},
   "outputs": [],
   "source": []
  },
  {
   "cell_type": "code",
   "execution_count": null,
   "id": "516ecb94",
   "metadata": {},
   "outputs": [],
   "source": []
  },
  {
   "cell_type": "code",
   "execution_count": null,
   "id": "e1b96a40",
   "metadata": {},
   "outputs": [],
   "source": []
  },
  {
   "cell_type": "code",
   "execution_count": null,
   "id": "80bd74d4",
   "metadata": {},
   "outputs": [],
   "source": []
  },
  {
   "cell_type": "code",
   "execution_count": null,
   "id": "c1f0875d",
   "metadata": {},
   "outputs": [],
   "source": []
  },
  {
   "cell_type": "code",
   "execution_count": null,
   "id": "2854d540",
   "metadata": {},
   "outputs": [],
   "source": []
  },
  {
   "cell_type": "code",
   "execution_count": null,
   "id": "1e681381",
   "metadata": {},
   "outputs": [],
   "source": []
  },
  {
   "cell_type": "code",
   "execution_count": null,
   "id": "42271f37",
   "metadata": {},
   "outputs": [],
   "source": []
  },
  {
   "cell_type": "code",
   "execution_count": null,
   "id": "2a7db9ce",
   "metadata": {},
   "outputs": [],
   "source": []
  },
  {
   "cell_type": "code",
   "execution_count": null,
   "id": "73c2fb37",
   "metadata": {},
   "outputs": [],
   "source": []
  },
  {
   "cell_type": "code",
   "execution_count": null,
   "id": "18f1b914",
   "metadata": {},
   "outputs": [],
   "source": []
  },
  {
   "cell_type": "code",
   "execution_count": null,
   "id": "5be924da",
   "metadata": {},
   "outputs": [],
   "source": []
  }
 ],
 "metadata": {
  "kernelspec": {
   "display_name": "Python 3 (ipykernel)",
   "language": "python",
   "name": "python3"
  },
  "language_info": {
   "codemirror_mode": {
    "name": "ipython",
    "version": 3
   },
   "file_extension": ".py",
   "mimetype": "text/x-python",
   "name": "python",
   "nbconvert_exporter": "python",
   "pygments_lexer": "ipython3",
   "version": "3.9.7"
  }
 },
 "nbformat": 4,
 "nbformat_minor": 5
}
