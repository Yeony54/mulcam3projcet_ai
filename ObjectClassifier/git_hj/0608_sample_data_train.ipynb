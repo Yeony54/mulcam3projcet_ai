{
 "cells": [
  {
   "cell_type": "markdown",
   "id": "1c38e7b2",
   "metadata": {},
   "source": [
    "# Library"
   ]
  },
  {
   "cell_type": "code",
   "execution_count": 1,
   "id": "81117f17",
   "metadata": {},
   "outputs": [
    {
     "name": "stdout",
     "output_type": "stream",
     "text": [
      "Wed Jun  8 13:17:02 2022       \r\n",
      "+-----------------------------------------------------------------------------+\r\n",
      "| NVIDIA-SMI 450.142.00   Driver Version: 450.142.00   CUDA Version: 11.0     |\r\n",
      "|-------------------------------+----------------------+----------------------+\r\n",
      "| GPU  Name        Persistence-M| Bus-Id        Disp.A | Volatile Uncorr. ECC |\r\n",
      "| Fan  Temp  Perf  Pwr:Usage/Cap|         Memory-Usage | GPU-Util  Compute M. |\r\n",
      "|                               |                      |               MIG M. |\r\n",
      "|===============================+======================+======================|\r\n",
      "|   0  Tesla T4            On   | 00000000:00:1E.0 Off |                    0 |\r\n",
      "| N/A   52C    P0    70W /  70W |  13022MiB / 15109MiB |    100%      Default |\r\n",
      "|                               |                      |                  N/A |\r\n",
      "+-------------------------------+----------------------+----------------------+\r\n",
      "                                                                               \r\n",
      "+-----------------------------------------------------------------------------+\r\n",
      "| Processes:                                                                  |\r\n",
      "|  GPU   GI   CI        PID   Type   Process name                  GPU Memory |\r\n",
      "|        ID   ID                                                   Usage      |\r\n",
      "|=============================================================================|\r\n",
      "|    0   N/A  N/A     29726      C   ...nvs/pytorch_17/bin/python    13019MiB |\r\n",
      "+-----------------------------------------------------------------------------+\r\n"
     ]
    }
   ],
   "source": [
    "!nvidia-smi"
   ]
  },
  {
   "cell_type": "code",
   "execution_count": 2,
   "id": "38c90d23",
   "metadata": {},
   "outputs": [],
   "source": [
    "import os\n",
    "import cv2\n",
    "import time\n",
    "import random\n",
    "import logging  # 로그 출력\n",
    "import easydict  # 속성으로 dict 값에 access할 수 있음\n",
    "import numpy as np\n",
    "import pandas as pd\n",
    "from tqdm import tqdm  # process bar\n",
    "from os.path import join as opj\n",
    "from ptflops import get_model_complexity_info\n",
    "from sklearn.model_selection import StratifiedKFold\n",
    "from sklearn.metrics import f1_score\n",
    "\n",
    "import timm\n",
    "import torch\n",
    "import torch.nn as nn\n",
    "import torch_optimizer as optim\n",
    "from torch.utils.data import Dataset, DataLoader\n",
    "from torch.cuda.amp import autocast, grad_scaler\n",
    "from torchvision import transforms\n",
    "\n",
    "import warnings\n",
    "warnings.filterwarnings('ignore')"
   ]
  },
  {
   "cell_type": "markdown",
   "id": "a2c90e8a",
   "metadata": {},
   "source": [
    "# Config"
   ]
  },
  {
   "cell_type": "markdown",
   "id": "73ff47ae",
   "metadata": {},
   "source": [
    "Hyper-parameter 정의"
   ]
  },
  {
   "cell_type": "code",
   "execution_count": 3,
   "id": "30d4e5b6",
   "metadata": {},
   "outputs": [],
   "source": [
    "args = easydict.EasyDict(\n",
    "    {'exp_num':'0',\n",
    "     \n",
    "     # Path settings\n",
    "     'data_path':'/home/lab16/jupyter_home/Data/',\n",
    "     'Kfold':1,\n",
    "     'model_path':'results/',\n",
    "\n",
    "     # Model parameter settings \n",
    "     'encoder_name':'regnety_160',\n",
    "     'drop_path_rate':0.2,\n",
    "     \n",
    "     # Training parameter settings\n",
    "     ## Base Parameter\n",
    "     'img_size':224,\n",
    "     'batch_size':16,\n",
    "     'epochs':200,\n",
    "     'optimizer':'Lamb',\n",
    "#      'optimizer':'Adadelta',\n",
    "     'initial_lr':5e-6,\n",
    "     'weight_decay':1e-3,\n",
    "\n",
    "     ## Augmentation\n",
    "     'aug_ver':2,\n",
    "\n",
    "     ## Scheduler (OnecycleLR)\n",
    "     'scheduler':'cycle',\n",
    "     'warm_epoch':5,\n",
    "     'max_lr':1e-3,\n",
    "\n",
    "     ### Cosine Annealing\n",
    "     'min_lr':5e-6,\n",
    "     'tmax':145,\n",
    "\n",
    "     ## etc.\n",
    "     'patience':20,\n",
    "     'clipping':None,\n",
    "\n",
    "     # Hardware settings\n",
    "     'amp':True,\n",
    "     'multi_gpu':False,\n",
    "     'logging':False,\n",
    "     'num_workers':4,\n",
    "     'seed':42\n",
    "    })"
   ]
  },
  {
   "cell_type": "markdown",
   "id": "eabf0e95",
   "metadata": {},
   "source": [
    "# Utils for training and Logging"
   ]
  },
  {
   "cell_type": "code",
   "execution_count": 4,
   "id": "d74a4b3b",
   "metadata": {},
   "outputs": [],
   "source": [
    "# Warmup Learning rate scheduler\n",
    "from torch.optim.lr_scheduler import _LRScheduler\n",
    "class WarmUpLR(_LRScheduler):\n",
    "    \"\"\"warmup_training learning rate scheduler\n",
    "    Args:\n",
    "        optimizer: optimizer(e.g. SGD)\n",
    "        total_iters: totoal_iters of warmup phase\n",
    "    \"\"\"\n",
    "    def __init__(self, optimizer, total_iters, last_epoch=-1):\n",
    "        \n",
    "        self.total_iters = total_iters\n",
    "        super().__init__(optimizer, last_epoch)\n",
    "\n",
    "    def get_lr(self):\n",
    "        \"\"\"we will use the first m batches, and set the learning\n",
    "        rate to base_lr * m / total_iters\n",
    "        \"\"\"\n",
    "        return [base_lr * self.last_epoch / (self.total_iters + 1e-8) for base_lr in self.base_lrs]\n",
    "\n",
    "# Logging\n",
    "def get_root_logger(logger_name='basicsr',\n",
    "                    log_level=logging.INFO,\n",
    "                    log_file=None):\n",
    "\n",
    "    logger = logging.getLogger(logger_name)\n",
    "    # if the logger has been initialized, just return it\n",
    "    if logger.hasHandlers():\n",
    "        return logger\n",
    "\n",
    "    format_str = '%(asctime)s %(levelname)s: %(message)s'\n",
    "    logging.basicConfig(format=format_str, level=log_level)\n",
    "\n",
    "    if log_file is not None:\n",
    "        file_handler = logging.FileHandler(log_file, 'w')\n",
    "        file_handler.setFormatter(logging.Formatter(format_str))\n",
    "        file_handler.setLevel(log_level)\n",
    "        logger.addHandler(file_handler)\n",
    "\n",
    "    return logger\n",
    "\n",
    "class AvgMeter(object):\n",
    "    def __init__(self):\n",
    "        self.reset()\n",
    "\n",
    "    def reset(self):\n",
    "        self.val = 0\n",
    "        self.avg = 0\n",
    "        self.sum = 0\n",
    "        self.count = 0\n",
    "        self.losses = []\n",
    "\n",
    "    def update(self, val, n=1):\n",
    "        self.val = val\n",
    "        self.sum += val * n\n",
    "        self.count += n\n",
    "        self.avg = self.sum / self.count\n",
    "        self.losses.append(val)"
   ]
  },
  {
   "cell_type": "code",
   "execution_count": null,
   "id": "4f420341",
   "metadata": {},
   "outputs": [],
   "source": []
  },
  {
   "cell_type": "markdown",
   "id": "34eb9c5b",
   "metadata": {},
   "source": [
    "# Dataset & Loader"
   ]
  },
  {
   "cell_type": "code",
   "execution_count": 5,
   "id": "c1e8c752",
   "metadata": {},
   "outputs": [],
   "source": [
    "# from torchvision.datasets import ImageFolder\n",
    "import torch.utils.data as data\n",
    "from torchvision import transforms\n",
    "from glob import glob"
   ]
  },
  {
   "cell_type": "code",
   "execution_count": 6,
   "id": "c29f8284",
   "metadata": {},
   "outputs": [],
   "source": [
    "import random\n",
    "import math\n",
    "from sklearn import preprocessing\n",
    "from sklearn.preprocessing import MinMaxScaler\n",
    "\n",
    "import torch\n",
    "import torch.nn as nn\n",
    "import torch.nn.functional as F"
   ]
  },
  {
   "cell_type": "code",
   "execution_count": null,
   "id": "431f22fe",
   "metadata": {},
   "outputs": [],
   "source": []
  },
  {
   "cell_type": "code",
   "execution_count": null,
   "id": "e3bdf031",
   "metadata": {},
   "outputs": [],
   "source": []
  },
  {
   "cell_type": "code",
   "execution_count": 7,
   "id": "09ae0371",
   "metadata": {},
   "outputs": [],
   "source": [
    "# # 레이블을 one-hot-vector로 변환\n",
    "# le = preprocessing.LabelEncoder()\n",
    "# targets = le.fit_transform(y)\n",
    "# targets = torch.as_tensor(targets)\n",
    "# one_hot_y = F.one_hot(targets)"
   ]
  },
  {
   "cell_type": "code",
   "execution_count": 8,
   "id": "5f1892dd",
   "metadata": {},
   "outputs": [],
   "source": [
    "# validation용 추가\n",
    "class Valid_Dataset(Dataset):\n",
    "    def __init__(self, transform=None): \n",
    "        total_images_path = glob('/home/lab16/jupyter_home/Data/sample/*.jpg')\n",
    "        file_names = []\n",
    "        for i in range(len(total_images_path)):\n",
    "            file_names.append(os.path.basename(total_images_path[i]))\n",
    "        file_names = np.array(file_names)\n",
    "        file_names.sort()\n",
    "\n",
    "        self.file_name = file_names\n",
    "        \n",
    "        each_label = []\n",
    "#         for i in range(len(total_images_path)):\n",
    "#             each_label.append(os.path.basename(total_images_path[i])[:5])\n",
    "            \n",
    "        for i in range(len(total_images_path)):\n",
    "            each_label.append(os.path.basename(total_images_path[i]))\n",
    "            \n",
    "        # 레이블을 one-hot-vector로 변환\n",
    "        le = preprocessing.LabelEncoder()\n",
    "        targets = le.fit_transform(each_label)\n",
    "        targets = torch.as_tensor(targets)\n",
    "#         one_hot_y = F.one_hot(targets)\n",
    "            \n",
    "        self.target = np.array(targets) # 목표는 label\n",
    "#         self.target = one_hot_y\n",
    "        self.transform = transform\n",
    "\n",
    "        print(f'Validation Dataset size:{len(self.file_name)}')\n",
    "\n",
    "    def __getitem__(self, idx):  # train 경로에 있는 png 이미지 읽어서 float32로 변환\n",
    "#         image = cv2.imread(opj('./data/train_256_new/', self.file_name[idx])).astype(np.float32)\n",
    "        image = cv2.imread(opj('/home/lab16/jupyter_home/Data/sample/', self.file_name[idx])).astype(np.float32)\n",
    "        image = cv2.cvtColor(image, cv2.COLOR_BGR2RGB) / 255.0  # BGR=>RGB 변환\n",
    "\n",
    "        target = self.target[idx]\n",
    "\n",
    "        if self.transform is not None:\n",
    "        # HWC => CHW-layout 변환\n",
    "            image = self.transform(torch.from_numpy(image.transpose(2,0,1)))\n",
    "\n",
    "        return image, target\n",
    "\n",
    "    def __len__(self):\n",
    "        return len(self.file_name)"
   ]
  },
  {
   "cell_type": "code",
   "execution_count": 9,
   "id": "16ad6970",
   "metadata": {},
   "outputs": [],
   "source": [
    "class Train_Dataset(Dataset):\n",
    "#     def __init__(self, df, transform=None):\n",
    "    def __init__(self, transform=None):\n",
    "#         self.file_name = df['file_name'].values      \n",
    "        \n",
    "        total_images_path = glob('/home/lab16/jupyter_home/Data/sample/*.jpg')\n",
    "        file_names = []\n",
    "        for i in range(len(total_images_path)):\n",
    "            file_names.append(os.path.basename(total_images_path[i]))\n",
    "            file_names.sort()\n",
    "        file_names = np.array(file_names)\n",
    "\n",
    "        self.file_name = file_names\n",
    "                \n",
    "        each_label = []\n",
    "#         for i in range(len(total_images_path)):\n",
    "#             each_label.append(os.path.basename(total_images_path[i])[:5])\n",
    "            \n",
    "        for i in range(len(total_images_path)):\n",
    "            each_label.append(os.path.basename(total_images_path[i]))\n",
    "\n",
    "        # 레이블을 one-hot-vector로 변환\n",
    "        le = preprocessing.LabelEncoder()\n",
    "        targets = le.fit_transform(each_label)\n",
    "        targets = torch.as_tensor(targets)\n",
    "#         one_hot_y = F.one_hot(targets)\n",
    "            \n",
    "        self.target = np.array(targets) # 목표는 label\n",
    "#         self.target = one_hot_y\n",
    "        self.transform = transform\n",
    "\n",
    "        print(f'Training Dataset size:{len(self.file_name)}')\n",
    "#         print(self.file_name)\n",
    "\n",
    "    def __getitem__(self, idx):  # train 경로에 있는 png 이미지 읽어서 float32로 변환\n",
    "#         image = cv2.imread(opj('./data/train_256_new/', self.file_name[idx])).astype(np.float32)\n",
    "        image = cv2.imread(opj('/home/lab16/jupyter_home/Data/sample/', self.file_name[idx])).astype(np.float32)\n",
    "        image = cv2.cvtColor(image, cv2.COLOR_BGR2RGB) / 255.0  # BGR=>RGB 변환\n",
    "\n",
    "        target = self.target[idx]\n",
    "\n",
    "        if self.transform is not None:\n",
    "        # HWC => CHW-layout 변환\n",
    "            image = self.transform(torch.from_numpy(image.transpose(2,0,1)))\n",
    "\n",
    "        return image, target\n",
    "\n",
    "    def __len__(self):\n",
    "        return len(self.file_name)\n",
    "\n",
    "class Test_dataset(Dataset):\n",
    "    def __init__(self, path, transform=None):\n",
    "#         total_images_path = glob(args.test_image_path + '*.jpg')\n",
    "        total_images_path = glob(path + '*.jpg')\n",
    "        file_names = []\n",
    "        for i in range(len(total_images_path)):\n",
    "            file_names.append(os.path.basename(total_images_path[i]))\n",
    "            file_names.sort()\n",
    "        file_names = np.array(file_names)\n",
    "\n",
    "        self.test_file_name = file_names\n",
    "        self.transform = transform\n",
    "\n",
    "        print(f'Test Dataset size:{len(self.test_file_name)}')\n",
    "        print(self.test_file_name)\n",
    "\n",
    "    def __getitem__(self, idx): # test 경로에 있는 png 이미지 읽어서 float32로 변환\n",
    "#         image = cv2.imread(opj('./data/test_256_new/', self.test_file_name[idx])).astype(np.float32)\n",
    "#         image = cv2.imread(opj(args.test_image_path, self.test_file_name[idx])).astype(np.float32)\n",
    "        image = cv2.imread(opj(path, self.test_file_name[idx])).astype(np.float32)\n",
    "        image = cv2.cvtColor(image, cv2.COLOR_BGR2RGB) / 255.0  # BGR=>RGB 변환\n",
    "\n",
    "        if self.transform is not None:\n",
    "            image = self.transform(torch.from_numpy(image.transpose(2,0,1)))\n",
    "\n",
    "        return image\n",
    "\n",
    "    def __len__(self):\n",
    "        return len(self.test_file_name)\n",
    "\n",
    "# def get_loader(df, phase: str, batch_size, shuffle, num_workers, transform):\n",
    "def get_loader(phase: str, batch_size, shuffle, num_workers, transform):\n",
    "    if phase == 'test':\n",
    "#         dataset = Test_dataset(df, transform)  \n",
    "        dataset = Test_dataset(transform) \n",
    "        data_loader = DataLoader(dataset, batch_size=batch_size, shuffle=shuffle, num_workers=num_workers, pin_memory=True)\n",
    "        \n",
    "    # 임시로 추가\n",
    "    elif phase == 'validation':\n",
    "#         dataset = Train_Dataset(df, transform)\n",
    "        dataset = Valid_Dataset(transform)\n",
    "        data_loader = DataLoader(dataset, batch_size=batch_size, shuffle=shuffle, num_workers=num_workers, pin_memory=True)\n",
    "        \n",
    "    else:\n",
    "#         dataset = Train_Dataset(df, transform)\n",
    "        path = ''\n",
    "        dataset = Train_Dataset(transform)\n",
    "        data_loader = DataLoader(dataset, batch_size=batch_size, shuffle=shuffle, num_workers=num_workers, pin_memory=True,\n",
    "                                 drop_last=False)\n",
    "        \n",
    "    return data_loader\n",
    "\n",
    "def get_train_augmentation(img_size, ver):\n",
    "    if ver == 1: # for validset\n",
    "        transform = transforms.Compose([\n",
    "                transforms.Resize((img_size, img_size)),\n",
    "                transforms.Normalize(mean=[0.485, 0.456, 0.406],\n",
    "                                     std=[0.229, 0.224, 0.225]),\n",
    "#                 transforms.ToTensor()\n",
    "                ])\n",
    "\n",
    "    if ver == 2:\n",
    "        transform = transforms.Compose([\n",
    "#                 transforms.RandomHorizontalFlip(),\n",
    "#                 transforms.RandomVerticalFlip(),\n",
    "                transforms.RandomCrop(224),\n",
    "                transforms.RandomPerspective(),\n",
    "                transforms.RandomAffine((20)),  # x, y축으로 이미지 늘림\n",
    "                transforms.RandomRotation(90),\n",
    "                transforms.Resize((img_size, img_size)),\n",
    "                transforms.Normalize(mean=[0.485, 0.456, 0.406],\n",
    "                                     std=[0.229, 0.224, 0.225]),\n",
    "                transforms.ColorJitter(brightness=0.5)\n",
    "#                 transforms.ToTensor()\n",
    "            ])\n",
    "    \n",
    "    return transform"
   ]
  },
  {
   "cell_type": "code",
   "execution_count": null,
   "id": "687ce401",
   "metadata": {},
   "outputs": [],
   "source": []
  },
  {
   "cell_type": "markdown",
   "id": "496a3605",
   "metadata": {},
   "source": [
    "# Network"
   ]
  },
  {
   "cell_type": "code",
   "execution_count": 10,
   "id": "98c73038",
   "metadata": {},
   "outputs": [],
   "source": [
    "class Network(nn.Module):\n",
    "    def __init__(self, args):\n",
    "        super().__init__()\n",
    "        # 사전 학습된 모델 사용하기\n",
    "        self.encoder = timm.create_model(args.encoder_name, pretrained=True,\n",
    "                                    drop_path_rate=args.drop_path_rate,\n",
    "                                    )\n",
    "        \n",
    "        if 'regnet' in args.encoder_name:        \n",
    "            num_head = self.encoder.head.fc.in_features\n",
    "            self.encoder.head.fc = nn.Linear(num_head, 311)\n",
    "        \n",
    "        elif 'efficient' in args.encoder_name:\n",
    "            num_head = self.encoder.classifier.in_features\n",
    "            self.encoder.classifier = nn.Linear(num_head, 311)\n",
    "\n",
    "    def forward(self, x):\n",
    "        x = self.encoder(x)\n",
    "        return x\n",
    "\n",
    "class Network_test(nn.Module):\n",
    "    def __init__(self, encoder_name):\n",
    "        super().__init__()\n",
    "        self.encoder = timm.create_model(encoder_name, pretrained=True,\n",
    "                                    drop_path_rate=0,\n",
    "                                    )\n",
    "        \n",
    "        if 'regnet' in encoder_name:        \n",
    "            num_head = self.encoder.head.fc.in_features\n",
    "            self.encoder.head.fc = nn.Linear(num_head, 311)\n",
    "        \n",
    "        elif 'efficient' in encoder_name:\n",
    "            num_head = self.encoder.classifier.in_features\n",
    "            self.encoder.classifier = nn.Linear(num_head, 311)\n",
    "    \n",
    "    def forward(self, x):\n",
    "        x = self.encoder(x)\n",
    "        return x"
   ]
  },
  {
   "cell_type": "markdown",
   "id": "574592ec",
   "metadata": {},
   "source": [
    "# Trainer for Training & Validation"
   ]
  },
  {
   "cell_type": "code",
   "execution_count": 11,
   "id": "d3456802",
   "metadata": {},
   "outputs": [],
   "source": [
    "class Trainer():\n",
    "    def __init__(self, args, save_path):\n",
    "        '''\n",
    "        args: arguments\n",
    "        save_path: Model 가중치 저장 경로\n",
    "        '''\n",
    "        super(Trainer, self).__init__()\n",
    "        self.device = torch.device('cuda' if torch.cuda.is_available() else 'cpu')\n",
    "        print(f'device:{self.device}')\n",
    "\n",
    "        # Logging\n",
    "        log_file = os.path.join(save_path, 'log_0608.log')\n",
    "        self.logger = get_root_logger(logger_name='IR', log_level=logging.INFO, log_file=log_file)\n",
    "        self.logger.info(args)\n",
    "        # self.logger.info(args.tag)\n",
    "\n",
    "        # Train, Valid Set load\n",
    "        ############################################################################\n",
    "#         df_train = pd.read_csv(opj(args.data_path, 'train_df.csv'))\n",
    "#         print('Read train_df.csv')\n",
    "\n",
    "#         kf = StratifiedKFold(n_splits=args.Kfold, shuffle=True, random_state=args.seed)\n",
    "#         for fold, (train_idx, val_idx) in enumerate(kf.split(range(len(df_train)), y=df_train['label'])):\n",
    "#             df_train.loc[val_idx, 'fold'] = fold\n",
    "#         val_idx = list(df_train[df_train['fold'] == int(args.fold)].index)\n",
    "\n",
    "#         df_val = df_train[df_train['fold'] == args.fold].reset_index(drop=True)\n",
    "#         df_train = df_train[df_train['fold'] != args.fold].reset_index(drop=True)\n",
    "\n",
    "        # Augmentation\n",
    "        self.train_transform = get_train_augmentation(img_size=args.img_size, ver=args.aug_ver)\n",
    "        self.test_transform = get_train_augmentation(img_size=args.img_size, ver=1)\n",
    "        \n",
    "        # 수정 - TrainLoader\n",
    "        self.train_loader = get_loader(phase='train', batch_size=args.batch_size, shuffle=True,\n",
    "                                       num_workers=args.num_workers, transform=self.train_transform)\n",
    "#         self.val_loader = get_loader(phase='validation', batch_size=args.batch_size, shuffle=False,\n",
    "#                                        num_workers=args.num_workers, transform=self.train_transform)\n",
    "        \n",
    "        # TrainLoader\n",
    "#         self.train_loader = get_loader(df_train, phase='train', batch_size=args.batch_size, shuffle=True,\n",
    "#                                        num_workers=args.num_workers, transform=self.train_transform)\n",
    "#         self.val_loader = get_loader(df_val, phase='train', batch_size=args.batch_size, shuffle=False,\n",
    "#                                        num_workers=args.num_workers, transform=self.test_transform)\n",
    "\n",
    "        # Network\n",
    "        self.model = Network(args).to(self.device)\n",
    "        macs, params = get_model_complexity_info(self.model, (3, args.img_size, args.img_size), as_strings=True,\n",
    "                                                 print_per_layer_stat=False, verbose=False)\n",
    "        self.logger.info('{:<30}  {:<8}'.format('Computational complexity: ', macs))\n",
    "        self.logger.info('{:<30}  {:<8}'.format('Number of parameters: ', params))\n",
    "\n",
    "        # Loss\n",
    "        self.criterion = nn.CrossEntropyLoss()\n",
    "        \n",
    "        # Optimizer & Scheduler\n",
    "        self.optimizer = optim.Lamb(self.model.parameters(), lr=args.initial_lr, weight_decay=args.weight_decay)\n",
    "#         self.optimizer = optim.Adadelta(self.model.parameters())\n",
    "        \n",
    "        iter_per_epoch = len(self.train_loader)\n",
    "        self.warmup_scheduler = WarmUpLR(self.optimizer, iter_per_epoch * args.warm_epoch)\n",
    "\n",
    "        if args.scheduler == 'step':\n",
    "            self.scheduler = torch.optim.lr_scheduler.MultiStepLR(self.optimizer, milestones=args.milestone, gamma=args.lr_factor, verbose=True)\n",
    "        elif args.scheduler == 'cos':\n",
    "            tmax = args.tmax # half-cycle \n",
    "            self.scheduler = torch.optim.lr_scheduler.CosineAnnealingLR(self.optimizer, T_max = tmax, eta_min=args.min_lr, verbose=True)\n",
    "        elif args.scheduler == 'cycle':\n",
    "            self.scheduler = torch.optim.lr_scheduler.OneCycleLR(self.optimizer, max_lr=args.max_lr, steps_per_epoch=iter_per_epoch, epochs=args.epochs)\n",
    "\n",
    "        if args.multi_gpu:\n",
    "            self.model = nn.DataParallel(self.model).to(self.device)\n",
    "\n",
    "        # Train / Validate\n",
    "        best_loss = np.inf\n",
    "        best_acc = 0\n",
    "        best_epoch = 0\n",
    "        early_stopping = 0\n",
    "        start = time.time()\n",
    "        for epoch in range(1, args.epochs+1):\n",
    "            self.epoch = epoch\n",
    "\n",
    "            if args.scheduler == 'cos':\n",
    "                if epoch > args.warm_epoch:\n",
    "                    self.scheduler.step()\n",
    "\n",
    "            # Training\n",
    "            train_loss, train_acc, train_f1 = self.training(args)\n",
    "\n",
    "            # Model weight in Multi_GPU or Single GPU\n",
    "            state_dict= self.model.module.state_dict() if args.multi_gpu else self.model.state_dict()\n",
    "\n",
    "            # Validation\n",
    "#             val_loss, val_acc, val_f1 = self.validate(args, phase='val')\n",
    "\n",
    "            # Save models\n",
    "#             if val_loss < best_loss:\n",
    "#                 early_stopping = 0\n",
    "#                 best_epoch = epoch\n",
    "#                 best_loss = val_loss\n",
    "#                 best_acc = val_acc\n",
    "#                 best_f1 = val_f1\n",
    "\n",
    "#                 torch.save({'epoch':epoch,\n",
    "#                             'state_dict':state_dict,\n",
    "#                             'optimizer': self.optimizer.state_dict(),\n",
    "#                             'scheduler': self.scheduler.state_dict(),\n",
    "#                     }, os.path.join(save_path, 'best_model_0608.pth'))\n",
    "#                 self.logger.info(f'-----------------SAVE:{best_epoch}epoch----------------')\n",
    "#             else:\n",
    "#                 early_stopping += 1\n",
    "\n",
    "#             # Early Stopping\n",
    "#             if early_stopping == args.patience:\n",
    "#                 break\n",
    "                \n",
    "#             print(f'\\nbest epoch:{best_epoch}/loss:{best_loss:.4f}/f1:{best_f1:.4f}')\n",
    "            \n",
    "            # val X\n",
    "            if train_loss < best_loss:\n",
    "                early_stopping = 0\n",
    "                best_epoch = epoch\n",
    "                best_loss = train_loss\n",
    "                best_acc = train_acc\n",
    "                best_f1 = train_f1\n",
    "\n",
    "                torch.save({'epoch':epoch,\n",
    "                            'state_dict':state_dict,\n",
    "                            'optimizer': self.optimizer.state_dict(),\n",
    "                            'scheduler': self.scheduler.state_dict(),\n",
    "                    }, os.path.join(save_path, 'best_model_0608.pth'))\n",
    "                self.logger.info(f'-----------------SAVE:{best_epoch}epoch----------------')\n",
    "            else:\n",
    "                early_stopping += 1\n",
    "\n",
    "            # Early Stopping\n",
    "            if early_stopping == args.patience:\n",
    "                break\n",
    "                \n",
    "            print(f'\\nbest epoch:{best_epoch}/loss:{best_loss:.4f}/f1:{best_f1:.4f}')\n",
    "            \n",
    "\n",
    "#         self.logger.info(f'\\nBest Val Epoch:{best_epoch} | Val Loss:{best_loss:.4f} | Val Acc:{best_acc:.4f} | Val F1:{best_f1:.4f}')\n",
    "        \n",
    "        self.logger.info(f'\\nBest Train Epoch:{best_epoch} | Train Loss:{best_loss:.4f} | Train Acc:{best_acc:.4f} | Train F1:{best_f1:.4f}')\n",
    "\n",
    "        end = time.time()\n",
    "        self.logger.info(f'Total Process time:{(end - start) / 60:.3f}Minute')\n",
    "\n",
    "    # Training\n",
    "    def training(self, args):\n",
    "        self.model.train()\n",
    "        train_loss = AvgMeter()\n",
    "        train_acc = 0\n",
    "        preds_list = []\n",
    "        targets_list = []\n",
    "\n",
    "        scaler = grad_scaler.GradScaler()\n",
    "        for i, (images, targets) in enumerate(tqdm(self.train_loader)):\n",
    "            images = torch.tensor(images, device=self.device, dtype=torch.float32)\n",
    "            targets = torch.tensor(targets, device=self.device, dtype=torch.long)\n",
    "            \n",
    "            if self.epoch <= args.warm_epoch:\n",
    "                self.warmup_scheduler.step()\n",
    "\n",
    "            self.model.zero_grad(set_to_none=True)\n",
    "            if args.amp:\n",
    "                with autocast():\n",
    "                    preds = self.model(images)\n",
    "                    loss = self.criterion(preds, targets)\n",
    "                scaler.scale(loss).backward()\n",
    "\n",
    "                # Gradient Clipping\n",
    "                if args.clipping is not None:\n",
    "                    scaler.unscale_(self.optimizer)\n",
    "                    torch.nn.utils.clip_grad_norm_(self.model.parameters(), args.clipping)\n",
    "\n",
    "                scaler.step(self.optimizer)\n",
    "                scaler.update()\n",
    "\n",
    "            else:\n",
    "                preds = self.model(images)\n",
    "                loss = self.criterion(preds, targets)\n",
    "                loss.backward()\n",
    "                nn.utils.clip_grad_norm_(self.model.parameters(), args.clipping)\n",
    "                self.optimizer.step()\n",
    "\n",
    "            if args.scheduler == 'cycle':\n",
    "                if self.epoch > args.warm_epoch:\n",
    "                    self.scheduler.step()\n",
    "\n",
    "            # Metric\n",
    "            train_acc += (preds.argmax(dim=1) == targets).sum().item()\n",
    "            preds_list.extend(preds.argmax(dim=1).cpu().detach().numpy())\n",
    "            targets_list.extend(targets.cpu().detach().numpy())\n",
    "            # log\n",
    "            train_loss.update(loss.item(), n=images.size(0))\n",
    "\n",
    "        train_acc /= len(self.train_loader.dataset)\n",
    "        train_f1 = f1_score(np.array(targets_list), np.array(preds_list), average='macro')\n",
    "\n",
    "        self.logger.info(f'Epoch:[{self.epoch:03d}/{args.epochs:03d}]')\n",
    "        self.logger.info(f'Train Loss:{train_loss.avg:.3f} | Acc:{train_acc:.4f} | F1:{train_f1:.4f}')\n",
    "        return train_loss.avg, train_acc, train_f1\n",
    "            \n",
    "    # Validation or Dev\n",
    "    def validate(self, args, phase='val'):\n",
    "        self.model.eval()\n",
    "        with torch.no_grad():\n",
    "            val_loss = AvgMeter()\n",
    "            val_acc = 0\n",
    "            preds_list = []\n",
    "            targets_list = []\n",
    "\n",
    "            for i, (images, targets) in enumerate(self.val_loader):\n",
    "                images = torch.tensor(images, device=self.device, dtype=torch.float32)\n",
    "                targets = torch.tensor(targets, device=self.device, dtype=torch.long)\n",
    "\n",
    "                preds = self.model(images)\n",
    "                loss = self.criterion(preds, targets)\n",
    "\n",
    "                # Metric\n",
    "                val_acc += (preds.argmax(dim=1) == targets).sum().item()\n",
    "                preds_list.extend(preds.argmax(dim=1).cpu().detach().numpy())\n",
    "                targets_list.extend(targets.cpu().detach().numpy())\n",
    "\n",
    "                # log\n",
    "                val_loss.update(loss.item(), n=images.size(0))\n",
    "            val_acc /= len(self.val_loader.dataset)\n",
    "            val_f1 = f1_score(np.array(targets_list), np.array(preds_list), average='macro')\n",
    "\n",
    "            self.logger.info(f'{phase} Loss:{val_loss.avg:.3f} | Acc:{val_acc:.4f} | F1:{val_f1:.4f}')\n",
    "        return val_loss.avg, val_acc, val_f1"
   ]
  },
  {
   "cell_type": "markdown",
   "id": "dc66f503",
   "metadata": {},
   "source": [
    "# Main"
   ]
  },
  {
   "cell_type": "code",
   "execution_count": 12,
   "id": "54d2a0a3",
   "metadata": {},
   "outputs": [],
   "source": [
    "def main(args):\n",
    "    print('<---- Training Params ---->')\n",
    "    \n",
    "    # Random Seed\n",
    "    seed = args.seed\n",
    "    os.environ['PYTHONHASHSEED'] = str(seed)\n",
    "    random.seed(seed)\n",
    "    np.random.seed(seed)\n",
    "    torch.manual_seed(seed)\n",
    "    torch.cuda.manual_seed(seed)\n",
    "    torch.cuda.manual_seed_all(seed)\n",
    "    torch.backends.cudnn.benchmark = True\n",
    "\n",
    "    save_path = os.path.join(args.model_path, (args.exp_num).zfill(3))\n",
    "    \n",
    "    # Create model directory\n",
    "    os.makedirs(save_path, exist_ok=True)\n",
    "    Trainer(args, save_path)\n",
    "\n",
    "    return save_path"
   ]
  },
  {
   "cell_type": "markdown",
   "id": "7e5763bf",
   "metadata": {},
   "source": [
    "# Inference"
   ]
  },
  {
   "cell_type": "code",
   "execution_count": 13,
   "id": "0beb201c",
   "metadata": {},
   "outputs": [],
   "source": [
    "def predict(encoder_name, test_loader, device, model_path):\n",
    "    model = Network_test(encoder_name).to(device)\n",
    "    model.load_state_dict(torch.load(opj(model_path, 'best_model_0608.pth'))['state_dict'])\n",
    "    model.eval()\n",
    "    preds_list = []\n",
    "    with torch.no_grad():\n",
    "        for images in tqdm(test_loader):\n",
    "            images = torch.as_tensor(images, device=device, dtype=torch.float32)\n",
    "            preds = model(images)\n",
    "            preds = torch.softmax(preds, dim=1)\n",
    "            preds_list.extend(preds.cpu().tolist())\n",
    "\n",
    "    return np.array(preds_list)\n",
    "\n",
    "def ensemble_5fold(model_path_list, test_loader, device):\n",
    "    predict_list = []\n",
    "    for model_path in model_path_list:\n",
    "        prediction = predict(encoder_name= 'regnety_160', \n",
    "                             test_loader = test_loader, device = device, model_path = model_path)\n",
    "        predict_list.append(prediction)\n",
    "    ensemble = (predict_list[0] + predict_list[1] + predict_list[2] + predict_list[3] + predict_list[4])/len(predict_list)\n",
    "\n",
    "    return ensemble"
   ]
  },
  {
   "cell_type": "code",
   "execution_count": 14,
   "id": "cc682d5c",
   "metadata": {},
   "outputs": [],
   "source": [
    "# fold X\n",
    "def result(model_path_list, test_loader, device):\n",
    "    predict_list = []\n",
    "    for model_path in model_path_list:\n",
    "        prediction = predict(encoder_name= 'regnety_160', \n",
    "                             test_loader = test_loader, device = device, model_path = model_path)\n",
    "        predict_list.append(prediction)\n",
    "    ensemble = predict_list[0]\n",
    "\n",
    "    return ensemble"
   ]
  },
  {
   "cell_type": "markdown",
   "id": "3ee8c70a",
   "metadata": {},
   "source": [
    "# Train & Inference"
   ]
  },
  {
   "cell_type": "code",
   "execution_count": 15,
   "id": "93d602b1",
   "metadata": {},
   "outputs": [],
   "source": [
    "img_size = 224\n",
    "device = torch.device('cuda' if torch.cuda.is_available() else 'cpu')"
   ]
  },
  {
   "cell_type": "code",
   "execution_count": 16,
   "id": "866d58ae",
   "metadata": {},
   "outputs": [],
   "source": [
    "# sub = pd.read_csv('./data/sample_submission.csv')\n",
    "# df_train = pd.read_csv('./data/train_df.csv')\n",
    "# df_test = pd.read_csv('./data/test_df.csv')"
   ]
  },
  {
   "cell_type": "code",
   "execution_count": 17,
   "id": "cae8472f",
   "metadata": {},
   "outputs": [],
   "source": [
    "# test_transform = get_train_augmentation(img_size=img_size, ver=1)\n",
    "# test_dataset = Test_dataset(df_test, test_transform)\n",
    "# test_loader = DataLoader(test_dataset, batch_size=64, shuffle=False, num_workers=0)"
   ]
  },
  {
   "cell_type": "code",
   "execution_count": null,
   "id": "fe785ba3",
   "metadata": {},
   "outputs": [],
   "source": []
  },
  {
   "cell_type": "code",
   "execution_count": null,
   "id": "2e377aa3",
   "metadata": {},
   "outputs": [],
   "source": []
  },
  {
   "cell_type": "code",
   "execution_count": 18,
   "id": "3e77ed23",
   "metadata": {
    "scrolled": false
   },
   "outputs": [
    {
     "name": "stderr",
     "output_type": "stream",
     "text": [
      "2022-06-08 10:17:53,510 INFO: {'exp_num': '0', 'data_path': '/home/lab16/jupyter_home/Data/', 'Kfold': 1, 'model_path': 'results/', 'encoder_name': 'regnety_160', 'drop_path_rate': 0.2, 'img_size': 224, 'batch_size': 16, 'epochs': 200, 'optimizer': 'Lamb', 'initial_lr': 5e-06, 'weight_decay': 0.001, 'aug_ver': 2, 'scheduler': 'cycle', 'warm_epoch': 5, 'max_lr': 0.001, 'min_lr': 5e-06, 'tmax': 145, 'patience': 20, 'clipping': None, 'amp': True, 'multi_gpu': False, 'logging': False, 'num_workers': 4, 'seed': 42, 'fold': 0}\n"
     ]
    },
    {
     "name": "stdout",
     "output_type": "stream",
     "text": [
      "<---- Training Params ---->\n",
      "device:cuda\n",
      "Training Dataset size:311\n"
     ]
    },
    {
     "name": "stderr",
     "output_type": "stream",
     "text": [
      "2022-06-08 10:17:54,717 INFO: Loading pretrained weights from url (https://dl.fbaipublicfiles.com/deit/regnety_160-a5fe301d.pth)\n",
      "2022-06-08 10:17:59,128 INFO: Computational complexity:       15.93 GMac\n",
      "2022-06-08 10:17:59,129 INFO: Number of parameters:           81.51 M \n",
      "100%|███████████████████████████████████████████| 20/20 [00:13<00:00,  1.47it/s]\n",
      "2022-06-08 10:18:12,735 INFO: Epoch:[001/200]\n",
      "2022-06-08 10:18:12,736 INFO: Train Loss:5.768 | Acc:0.0032 | F1:0.0006\n",
      "2022-06-08 10:18:16,765 INFO: -----------------SAVE:1epoch----------------\n"
     ]
    },
    {
     "name": "stdout",
     "output_type": "stream",
     "text": [
      "\n",
      "best epoch:1/loss:5.7676/f1:0.0006\n"
     ]
    },
    {
     "name": "stderr",
     "output_type": "stream",
     "text": [
      "100%|███████████████████████████████████████████| 20/20 [00:09<00:00,  2.07it/s]\n",
      "2022-06-08 10:18:26,435 INFO: Epoch:[002/200]\n",
      "2022-06-08 10:18:26,436 INFO: Train Loss:5.767 | Acc:0.0032 | F1:0.0008\n",
      "2022-06-08 10:18:30,516 INFO: -----------------SAVE:2epoch----------------\n"
     ]
    },
    {
     "name": "stdout",
     "output_type": "stream",
     "text": [
      "\n",
      "best epoch:2/loss:5.7675/f1:0.0008\n"
     ]
    },
    {
     "name": "stderr",
     "output_type": "stream",
     "text": [
      "100%|███████████████████████████████████████████| 20/20 [00:09<00:00,  2.11it/s]\n",
      "2022-06-08 10:18:39,983 INFO: Epoch:[003/200]\n",
      "2022-06-08 10:18:39,984 INFO: Train Loss:5.776 | Acc:0.0000 | F1:0.0000\n"
     ]
    },
    {
     "name": "stdout",
     "output_type": "stream",
     "text": [
      "\n",
      "best epoch:2/loss:5.7675/f1:0.0008\n"
     ]
    },
    {
     "name": "stderr",
     "output_type": "stream",
     "text": [
      "100%|███████████████████████████████████████████| 20/20 [00:09<00:00,  2.11it/s]\n",
      "2022-06-08 10:18:49,473 INFO: Epoch:[004/200]\n",
      "2022-06-08 10:18:49,474 INFO: Train Loss:5.789 | Acc:0.0000 | F1:0.0000\n"
     ]
    },
    {
     "name": "stdout",
     "output_type": "stream",
     "text": [
      "\n",
      "best epoch:2/loss:5.7675/f1:0.0008\n"
     ]
    },
    {
     "name": "stderr",
     "output_type": "stream",
     "text": [
      "100%|███████████████████████████████████████████| 20/20 [00:09<00:00,  2.07it/s]\n",
      "2022-06-08 10:18:59,133 INFO: Epoch:[005/200]\n",
      "2022-06-08 10:18:59,133 INFO: Train Loss:5.786 | Acc:0.0032 | F1:0.0005\n"
     ]
    },
    {
     "name": "stdout",
     "output_type": "stream",
     "text": [
      "\n",
      "best epoch:2/loss:5.7675/f1:0.0008\n"
     ]
    },
    {
     "name": "stderr",
     "output_type": "stream",
     "text": [
      "100%|███████████████████████████████████████████| 20/20 [00:09<00:00,  2.12it/s]\n",
      "2022-06-08 10:19:08,597 INFO: Epoch:[006/200]\n",
      "2022-06-08 10:19:08,598 INFO: Train Loss:5.754 | Acc:0.0000 | F1:0.0000\n",
      "2022-06-08 10:19:12,782 INFO: -----------------SAVE:6epoch----------------\n"
     ]
    },
    {
     "name": "stdout",
     "output_type": "stream",
     "text": [
      "\n",
      "best epoch:6/loss:5.7538/f1:0.0000\n"
     ]
    },
    {
     "name": "stderr",
     "output_type": "stream",
     "text": [
      "100%|███████████████████████████████████████████| 20/20 [00:09<00:00,  2.13it/s]\n",
      "2022-06-08 10:19:22,161 INFO: Epoch:[007/200]\n",
      "2022-06-08 10:19:22,162 INFO: Train Loss:5.752 | Acc:0.0000 | F1:0.0000\n",
      "2022-06-08 10:19:26,231 INFO: -----------------SAVE:7epoch----------------\n"
     ]
    },
    {
     "name": "stdout",
     "output_type": "stream",
     "text": [
      "\n",
      "best epoch:7/loss:5.7522/f1:0.0000\n"
     ]
    },
    {
     "name": "stderr",
     "output_type": "stream",
     "text": [
      "100%|███████████████████████████████████████████| 20/20 [00:09<00:00,  2.09it/s]\n",
      "2022-06-08 10:19:35,787 INFO: Epoch:[008/200]\n",
      "2022-06-08 10:19:35,788 INFO: Train Loss:5.748 | Acc:0.0032 | F1:0.0004\n",
      "2022-06-08 10:19:39,865 INFO: -----------------SAVE:8epoch----------------\n"
     ]
    },
    {
     "name": "stdout",
     "output_type": "stream",
     "text": [
      "\n",
      "best epoch:8/loss:5.7480/f1:0.0004\n"
     ]
    },
    {
     "name": "stderr",
     "output_type": "stream",
     "text": [
      "100%|███████████████████████████████████████████| 20/20 [00:09<00:00,  2.11it/s]\n",
      "2022-06-08 10:19:49,334 INFO: Epoch:[009/200]\n",
      "2022-06-08 10:19:49,335 INFO: Train Loss:5.764 | Acc:0.0032 | F1:0.0021\n"
     ]
    },
    {
     "name": "stdout",
     "output_type": "stream",
     "text": [
      "\n",
      "best epoch:8/loss:5.7480/f1:0.0004\n"
     ]
    },
    {
     "name": "stderr",
     "output_type": "stream",
     "text": [
      "100%|███████████████████████████████████████████| 20/20 [00:09<00:00,  2.10it/s]\n",
      "2022-06-08 10:19:58,862 INFO: Epoch:[010/200]\n",
      "2022-06-08 10:19:58,863 INFO: Train Loss:5.757 | Acc:0.0064 | F1:0.0020\n"
     ]
    },
    {
     "name": "stdout",
     "output_type": "stream",
     "text": [
      "\n",
      "best epoch:8/loss:5.7480/f1:0.0004\n"
     ]
    },
    {
     "name": "stderr",
     "output_type": "stream",
     "text": [
      "100%|███████████████████████████████████████████| 20/20 [00:09<00:00,  2.11it/s]\n",
      "2022-06-08 10:20:08,352 INFO: Epoch:[011/200]\n",
      "2022-06-08 10:20:08,352 INFO: Train Loss:5.751 | Acc:0.0032 | F1:0.0013\n"
     ]
    },
    {
     "name": "stdout",
     "output_type": "stream",
     "text": [
      "\n",
      "best epoch:8/loss:5.7480/f1:0.0004\n"
     ]
    },
    {
     "name": "stderr",
     "output_type": "stream",
     "text": [
      "100%|███████████████████████████████████████████| 20/20 [00:09<00:00,  2.10it/s]\n",
      "2022-06-08 10:20:17,883 INFO: Epoch:[012/200]\n",
      "2022-06-08 10:20:17,884 INFO: Train Loss:5.742 | Acc:0.0032 | F1:0.0002\n",
      "2022-06-08 10:20:21,976 INFO: -----------------SAVE:12epoch----------------\n"
     ]
    },
    {
     "name": "stdout",
     "output_type": "stream",
     "text": [
      "\n",
      "best epoch:12/loss:5.7419/f1:0.0002\n"
     ]
    },
    {
     "name": "stderr",
     "output_type": "stream",
     "text": [
      "100%|███████████████████████████████████████████| 20/20 [00:09<00:00,  2.07it/s]\n",
      "2022-06-08 10:20:31,648 INFO: Epoch:[013/200]\n",
      "2022-06-08 10:20:31,649 INFO: Train Loss:5.766 | Acc:0.0064 | F1:0.0023\n"
     ]
    },
    {
     "name": "stdout",
     "output_type": "stream",
     "text": [
      "\n",
      "best epoch:12/loss:5.7419/f1:0.0002\n"
     ]
    },
    {
     "name": "stderr",
     "output_type": "stream",
     "text": [
      "100%|███████████████████████████████████████████| 20/20 [00:09<00:00,  2.09it/s]\n",
      "2022-06-08 10:20:41,248 INFO: Epoch:[014/200]\n",
      "2022-06-08 10:20:41,249 INFO: Train Loss:5.756 | Acc:0.0000 | F1:0.0000\n"
     ]
    },
    {
     "name": "stdout",
     "output_type": "stream",
     "text": [
      "\n",
      "best epoch:12/loss:5.7419/f1:0.0002\n"
     ]
    },
    {
     "name": "stderr",
     "output_type": "stream",
     "text": [
      "100%|███████████████████████████████████████████| 20/20 [00:09<00:00,  2.08it/s]\n",
      "2022-06-08 10:20:50,853 INFO: Epoch:[015/200]\n",
      "2022-06-08 10:20:50,853 INFO: Train Loss:5.748 | Acc:0.0064 | F1:0.0039\n"
     ]
    },
    {
     "name": "stdout",
     "output_type": "stream",
     "text": [
      "\n",
      "best epoch:12/loss:5.7419/f1:0.0002\n"
     ]
    },
    {
     "name": "stderr",
     "output_type": "stream",
     "text": [
      "100%|███████████████████████████████████████████| 20/20 [00:09<00:00,  2.12it/s]\n",
      "2022-06-08 10:21:00,319 INFO: Epoch:[016/200]\n",
      "2022-06-08 10:21:00,320 INFO: Train Loss:5.759 | Acc:0.0000 | F1:0.0000\n"
     ]
    },
    {
     "name": "stdout",
     "output_type": "stream",
     "text": [
      "\n",
      "best epoch:12/loss:5.7419/f1:0.0002\n"
     ]
    },
    {
     "name": "stderr",
     "output_type": "stream",
     "text": [
      "100%|███████████████████████████████████████████| 20/20 [00:09<00:00,  2.10it/s]\n",
      "2022-06-08 10:21:09,841 INFO: Epoch:[017/200]\n",
      "2022-06-08 10:21:09,841 INFO: Train Loss:5.750 | Acc:0.0096 | F1:0.0034\n"
     ]
    },
    {
     "name": "stdout",
     "output_type": "stream",
     "text": [
      "\n",
      "best epoch:12/loss:5.7419/f1:0.0002\n"
     ]
    },
    {
     "name": "stderr",
     "output_type": "stream",
     "text": [
      "100%|███████████████████████████████████████████| 20/20 [00:09<00:00,  2.11it/s]\n",
      "2022-06-08 10:21:19,321 INFO: Epoch:[018/200]\n",
      "2022-06-08 10:21:19,321 INFO: Train Loss:5.742 | Acc:0.0032 | F1:0.0021\n",
      "2022-06-08 10:21:23,393 INFO: -----------------SAVE:18epoch----------------\n"
     ]
    },
    {
     "name": "stdout",
     "output_type": "stream",
     "text": [
      "\n",
      "best epoch:18/loss:5.7416/f1:0.0021\n"
     ]
    },
    {
     "name": "stderr",
     "output_type": "stream",
     "text": [
      "100%|███████████████████████████████████████████| 20/20 [00:09<00:00,  2.10it/s]\n",
      "2022-06-08 10:21:32,937 INFO: Epoch:[019/200]\n",
      "2022-06-08 10:21:32,938 INFO: Train Loss:5.733 | Acc:0.0096 | F1:0.0045\n",
      "2022-06-08 10:21:37,015 INFO: -----------------SAVE:19epoch----------------\n"
     ]
    },
    {
     "name": "stdout",
     "output_type": "stream",
     "text": [
      "\n",
      "best epoch:19/loss:5.7327/f1:0.0045\n"
     ]
    },
    {
     "name": "stderr",
     "output_type": "stream",
     "text": [
      "100%|███████████████████████████████████████████| 20/20 [00:09<00:00,  2.06it/s]\n",
      "2022-06-08 10:21:46,734 INFO: Epoch:[020/200]\n",
      "2022-06-08 10:21:46,735 INFO: Train Loss:5.743 | Acc:0.0096 | F1:0.0033\n"
     ]
    },
    {
     "name": "stdout",
     "output_type": "stream",
     "text": [
      "\n",
      "best epoch:19/loss:5.7327/f1:0.0045\n"
     ]
    },
    {
     "name": "stderr",
     "output_type": "stream",
     "text": [
      "100%|███████████████████████████████████████████| 20/20 [00:09<00:00,  2.09it/s]\n",
      "2022-06-08 10:21:56,329 INFO: Epoch:[021/200]\n",
      "2022-06-08 10:21:56,330 INFO: Train Loss:5.733 | Acc:0.0000 | F1:0.0000\n"
     ]
    },
    {
     "name": "stdout",
     "output_type": "stream",
     "text": [
      "\n",
      "best epoch:19/loss:5.7327/f1:0.0045\n"
     ]
    },
    {
     "name": "stderr",
     "output_type": "stream",
     "text": [
      "100%|███████████████████████████████████████████| 20/20 [00:09<00:00,  2.07it/s]\n",
      "2022-06-08 10:22:06,011 INFO: Epoch:[022/200]\n",
      "2022-06-08 10:22:06,011 INFO: Train Loss:5.723 | Acc:0.0064 | F1:0.0027\n",
      "2022-06-08 10:22:10,084 INFO: -----------------SAVE:22epoch----------------\n"
     ]
    },
    {
     "name": "stdout",
     "output_type": "stream",
     "text": [
      "\n",
      "best epoch:22/loss:5.7231/f1:0.0027\n"
     ]
    },
    {
     "name": "stderr",
     "output_type": "stream",
     "text": [
      "100%|███████████████████████████████████████████| 20/20 [00:09<00:00,  2.06it/s]\n",
      "2022-06-08 10:22:19,796 INFO: Epoch:[023/200]\n",
      "2022-06-08 10:22:19,796 INFO: Train Loss:5.735 | Acc:0.0032 | F1:0.0009\n"
     ]
    },
    {
     "name": "stdout",
     "output_type": "stream",
     "text": [
      "\n",
      "best epoch:22/loss:5.7231/f1:0.0027\n"
     ]
    },
    {
     "name": "stderr",
     "output_type": "stream",
     "text": [
      "100%|███████████████████████████████████████████| 20/20 [00:09<00:00,  2.09it/s]\n",
      "2022-06-08 10:22:29,364 INFO: Epoch:[024/200]\n",
      "2022-06-08 10:22:29,364 INFO: Train Loss:5.725 | Acc:0.0064 | F1:0.0011\n"
     ]
    },
    {
     "name": "stdout",
     "output_type": "stream",
     "text": [
      "\n",
      "best epoch:22/loss:5.7231/f1:0.0027\n"
     ]
    },
    {
     "name": "stderr",
     "output_type": "stream",
     "text": [
      "100%|███████████████████████████████████████████| 20/20 [00:09<00:00,  2.07it/s]\n",
      "2022-06-08 10:22:39,050 INFO: Epoch:[025/200]\n",
      "2022-06-08 10:22:39,051 INFO: Train Loss:5.701 | Acc:0.0096 | F1:0.0042\n",
      "2022-06-08 10:22:43,122 INFO: -----------------SAVE:25epoch----------------\n"
     ]
    },
    {
     "name": "stdout",
     "output_type": "stream",
     "text": [
      "\n",
      "best epoch:25/loss:5.7014/f1:0.0042\n"
     ]
    },
    {
     "name": "stderr",
     "output_type": "stream",
     "text": [
      "100%|███████████████████████████████████████████| 20/20 [00:09<00:00,  2.06it/s]\n",
      "2022-06-08 10:22:52,839 INFO: Epoch:[026/200]\n",
      "2022-06-08 10:22:52,840 INFO: Train Loss:5.717 | Acc:0.0064 | F1:0.0027\n"
     ]
    },
    {
     "name": "stdout",
     "output_type": "stream",
     "text": [
      "\n",
      "best epoch:25/loss:5.7014/f1:0.0042\n"
     ]
    },
    {
     "name": "stderr",
     "output_type": "stream",
     "text": [
      "100%|███████████████████████████████████████████| 20/20 [00:09<00:00,  2.07it/s]\n",
      "2022-06-08 10:23:02,521 INFO: Epoch:[027/200]\n",
      "2022-06-08 10:23:02,522 INFO: Train Loss:5.709 | Acc:0.0032 | F1:0.0021\n"
     ]
    },
    {
     "name": "stdout",
     "output_type": "stream",
     "text": [
      "\n",
      "best epoch:25/loss:5.7014/f1:0.0042\n"
     ]
    },
    {
     "name": "stderr",
     "output_type": "stream",
     "text": [
      "100%|███████████████████████████████████████████| 20/20 [00:09<00:00,  2.04it/s]\n",
      "2022-06-08 10:23:12,315 INFO: Epoch:[028/200]\n",
      "2022-06-08 10:23:12,316 INFO: Train Loss:5.686 | Acc:0.0129 | F1:0.0041\n",
      "2022-06-08 10:23:17,126 INFO: -----------------SAVE:28epoch----------------\n"
     ]
    },
    {
     "name": "stdout",
     "output_type": "stream",
     "text": [
      "\n",
      "best epoch:28/loss:5.6859/f1:0.0041\n"
     ]
    },
    {
     "name": "stderr",
     "output_type": "stream",
     "text": [
      "100%|███████████████████████████████████████████| 20/20 [00:11<00:00,  1.75it/s]\n",
      "2022-06-08 10:23:28,596 INFO: Epoch:[029/200]\n",
      "2022-06-08 10:23:28,597 INFO: Train Loss:5.703 | Acc:0.0096 | F1:0.0066\n"
     ]
    },
    {
     "name": "stdout",
     "output_type": "stream",
     "text": [
      "\n",
      "best epoch:28/loss:5.6859/f1:0.0041\n"
     ]
    },
    {
     "name": "stderr",
     "output_type": "stream",
     "text": [
      "100%|███████████████████████████████████████████| 20/20 [00:11<00:00,  1.72it/s]\n",
      "2022-06-08 10:23:40,251 INFO: Epoch:[030/200]\n",
      "2022-06-08 10:23:40,253 INFO: Train Loss:5.673 | Acc:0.0096 | F1:0.0051\n",
      "2022-06-08 10:23:44,868 INFO: -----------------SAVE:30epoch----------------\n"
     ]
    },
    {
     "name": "stdout",
     "output_type": "stream",
     "text": [
      "\n",
      "best epoch:30/loss:5.6733/f1:0.0051\n"
     ]
    },
    {
     "name": "stderr",
     "output_type": "stream",
     "text": [
      "100%|███████████████████████████████████████████| 20/20 [00:11<00:00,  1.79it/s]\n",
      "2022-06-08 10:23:56,036 INFO: Epoch:[031/200]\n",
      "2022-06-08 10:23:56,037 INFO: Train Loss:5.668 | Acc:0.0129 | F1:0.0072\n",
      "2022-06-08 10:24:00,133 INFO: -----------------SAVE:31epoch----------------\n"
     ]
    },
    {
     "name": "stdout",
     "output_type": "stream",
     "text": [
      "\n",
      "best epoch:31/loss:5.6676/f1:0.0072\n"
     ]
    },
    {
     "name": "stderr",
     "output_type": "stream",
     "text": [
      "100%|███████████████████████████████████████████| 20/20 [00:11<00:00,  1.74it/s]\n",
      "2022-06-08 10:24:11,644 INFO: Epoch:[032/200]\n",
      "2022-06-08 10:24:11,645 INFO: Train Loss:5.657 | Acc:0.0129 | F1:0.0079\n",
      "2022-06-08 10:24:16,264 INFO: -----------------SAVE:32epoch----------------\n"
     ]
    },
    {
     "name": "stdout",
     "output_type": "stream",
     "text": [
      "\n",
      "best epoch:32/loss:5.6572/f1:0.0079\n"
     ]
    },
    {
     "name": "stderr",
     "output_type": "stream",
     "text": [
      "100%|███████████████████████████████████████████| 20/20 [00:11<00:00,  1.69it/s]\n",
      "2022-06-08 10:24:28,094 INFO: Epoch:[033/200]\n",
      "2022-06-08 10:24:28,095 INFO: Train Loss:5.657 | Acc:0.0096 | F1:0.0050\n"
     ]
    },
    {
     "name": "stdout",
     "output_type": "stream",
     "text": [
      "\n",
      "best epoch:32/loss:5.6572/f1:0.0079\n"
     ]
    },
    {
     "name": "stderr",
     "output_type": "stream",
     "text": [
      "100%|███████████████████████████████████████████| 20/20 [00:11<00:00,  1.70it/s]\n",
      "2022-06-08 10:24:39,901 INFO: Epoch:[034/200]\n",
      "2022-06-08 10:24:39,902 INFO: Train Loss:5.644 | Acc:0.0129 | F1:0.0058\n",
      "2022-06-08 10:24:44,515 INFO: -----------------SAVE:34epoch----------------\n"
     ]
    },
    {
     "name": "stdout",
     "output_type": "stream",
     "text": [
      "\n",
      "best epoch:34/loss:5.6441/f1:0.0058\n"
     ]
    },
    {
     "name": "stderr",
     "output_type": "stream",
     "text": [
      "100%|███████████████████████████████████████████| 20/20 [00:11<00:00,  1.71it/s]\n",
      "2022-06-08 10:24:56,206 INFO: Epoch:[035/200]\n",
      "2022-06-08 10:24:56,207 INFO: Train Loss:5.630 | Acc:0.0161 | F1:0.0075\n",
      "2022-06-08 10:25:00,832 INFO: -----------------SAVE:35epoch----------------\n"
     ]
    },
    {
     "name": "stdout",
     "output_type": "stream",
     "text": [
      "\n",
      "best epoch:35/loss:5.6297/f1:0.0075\n"
     ]
    },
    {
     "name": "stderr",
     "output_type": "stream",
     "text": [
      "100%|███████████████████████████████████████████| 20/20 [00:11<00:00,  1.71it/s]\n",
      "2022-06-08 10:25:12,519 INFO: Epoch:[036/200]\n",
      "2022-06-08 10:25:12,520 INFO: Train Loss:5.622 | Acc:0.0257 | F1:0.0109\n",
      "2022-06-08 10:25:17,152 INFO: -----------------SAVE:36epoch----------------\n"
     ]
    },
    {
     "name": "stdout",
     "output_type": "stream",
     "text": [
      "\n",
      "best epoch:36/loss:5.6219/f1:0.0109\n"
     ]
    },
    {
     "name": "stderr",
     "output_type": "stream",
     "text": [
      "100%|███████████████████████████████████████████| 20/20 [00:11<00:00,  1.77it/s]\n",
      "2022-06-08 10:25:28,446 INFO: Epoch:[037/200]\n",
      "2022-06-08 10:25:28,447 INFO: Train Loss:5.599 | Acc:0.0193 | F1:0.0096\n",
      "2022-06-08 10:25:32,545 INFO: -----------------SAVE:37epoch----------------\n"
     ]
    },
    {
     "name": "stdout",
     "output_type": "stream",
     "text": [
      "\n",
      "best epoch:37/loss:5.5985/f1:0.0096\n"
     ]
    },
    {
     "name": "stderr",
     "output_type": "stream",
     "text": [
      "100%|███████████████████████████████████████████| 20/20 [00:11<00:00,  1.76it/s]\n",
      "2022-06-08 10:25:43,907 INFO: Epoch:[038/200]\n",
      "2022-06-08 10:25:43,908 INFO: Train Loss:5.559 | Acc:0.0450 | F1:0.0226\n",
      "2022-06-08 10:25:48,679 INFO: -----------------SAVE:38epoch----------------\n"
     ]
    },
    {
     "name": "stdout",
     "output_type": "stream",
     "text": [
      "\n",
      "best epoch:38/loss:5.5592/f1:0.0226\n"
     ]
    },
    {
     "name": "stderr",
     "output_type": "stream",
     "text": [
      "100%|███████████████████████████████████████████| 20/20 [00:11<00:00,  1.78it/s]\n",
      "2022-06-08 10:25:59,893 INFO: Epoch:[039/200]\n",
      "2022-06-08 10:25:59,894 INFO: Train Loss:5.535 | Acc:0.0129 | F1:0.0086\n",
      "2022-06-08 10:26:04,482 INFO: -----------------SAVE:39epoch----------------\n"
     ]
    },
    {
     "name": "stdout",
     "output_type": "stream",
     "text": [
      "\n",
      "best epoch:39/loss:5.5352/f1:0.0086\n"
     ]
    },
    {
     "name": "stderr",
     "output_type": "stream",
     "text": [
      "100%|███████████████████████████████████████████| 20/20 [00:11<00:00,  1.72it/s]\n",
      "2022-06-08 10:26:16,125 INFO: Epoch:[040/200]\n",
      "2022-06-08 10:26:16,126 INFO: Train Loss:5.505 | Acc:0.0386 | F1:0.0241\n",
      "2022-06-08 10:26:20,770 INFO: -----------------SAVE:40epoch----------------\n"
     ]
    },
    {
     "name": "stdout",
     "output_type": "stream",
     "text": [
      "\n",
      "best epoch:40/loss:5.5055/f1:0.0241\n"
     ]
    },
    {
     "name": "stderr",
     "output_type": "stream",
     "text": [
      "100%|███████████████████████████████████████████| 20/20 [00:11<00:00,  1.70it/s]\n",
      "2022-06-08 10:26:32,577 INFO: Epoch:[041/200]\n",
      "2022-06-08 10:26:32,578 INFO: Train Loss:5.482 | Acc:0.0450 | F1:0.0268\n",
      "2022-06-08 10:26:36,678 INFO: -----------------SAVE:41epoch----------------\n"
     ]
    },
    {
     "name": "stdout",
     "output_type": "stream",
     "text": [
      "\n",
      "best epoch:41/loss:5.4824/f1:0.0268\n"
     ]
    },
    {
     "name": "stderr",
     "output_type": "stream",
     "text": [
      "100%|███████████████████████████████████████████| 20/20 [00:11<00:00,  1.76it/s]\n",
      "2022-06-08 10:26:48,029 INFO: Epoch:[042/200]\n",
      "2022-06-08 10:26:48,031 INFO: Train Loss:5.472 | Acc:0.0579 | F1:0.0323\n",
      "2022-06-08 10:26:52,137 INFO: -----------------SAVE:42epoch----------------\n"
     ]
    },
    {
     "name": "stdout",
     "output_type": "stream",
     "text": [
      "\n",
      "best epoch:42/loss:5.4717/f1:0.0323\n"
     ]
    },
    {
     "name": "stderr",
     "output_type": "stream",
     "text": [
      "100%|███████████████████████████████████████████| 20/20 [00:11<00:00,  1.79it/s]\n",
      "2022-06-08 10:27:03,311 INFO: Epoch:[043/200]\n",
      "2022-06-08 10:27:03,311 INFO: Train Loss:5.359 | Acc:0.0418 | F1:0.0148\n",
      "2022-06-08 10:27:07,918 INFO: -----------------SAVE:43epoch----------------\n"
     ]
    },
    {
     "name": "stdout",
     "output_type": "stream",
     "text": [
      "\n",
      "best epoch:43/loss:5.3594/f1:0.0148\n"
     ]
    },
    {
     "name": "stderr",
     "output_type": "stream",
     "text": [
      "100%|███████████████████████████████████████████| 20/20 [00:11<00:00,  1.71it/s]\n",
      "2022-06-08 10:27:19,593 INFO: Epoch:[044/200]\n",
      "2022-06-08 10:27:19,594 INFO: Train Loss:5.337 | Acc:0.0707 | F1:0.0418\n",
      "2022-06-08 10:27:23,689 INFO: -----------------SAVE:44epoch----------------\n"
     ]
    },
    {
     "name": "stdout",
     "output_type": "stream",
     "text": [
      "\n",
      "best epoch:44/loss:5.3367/f1:0.0418\n"
     ]
    },
    {
     "name": "stderr",
     "output_type": "stream",
     "text": [
      "100%|███████████████████████████████████████████| 20/20 [00:11<00:00,  1.74it/s]\n",
      "2022-06-08 10:27:35,170 INFO: Epoch:[045/200]\n",
      "2022-06-08 10:27:35,171 INFO: Train Loss:5.304 | Acc:0.0643 | F1:0.0314\n",
      "2022-06-08 10:27:39,803 INFO: -----------------SAVE:45epoch----------------\n"
     ]
    },
    {
     "name": "stdout",
     "output_type": "stream",
     "text": [
      "\n",
      "best epoch:45/loss:5.3039/f1:0.0314\n"
     ]
    },
    {
     "name": "stderr",
     "output_type": "stream",
     "text": [
      "100%|███████████████████████████████████████████| 20/20 [00:11<00:00,  1.74it/s]\n",
      "2022-06-08 10:27:51,295 INFO: Epoch:[046/200]\n",
      "2022-06-08 10:27:51,296 INFO: Train Loss:5.262 | Acc:0.0868 | F1:0.0442\n",
      "2022-06-08 10:27:55,498 INFO: -----------------SAVE:46epoch----------------\n"
     ]
    },
    {
     "name": "stdout",
     "output_type": "stream",
     "text": [
      "\n",
      "best epoch:46/loss:5.2625/f1:0.0442\n"
     ]
    },
    {
     "name": "stderr",
     "output_type": "stream",
     "text": [
      "100%|███████████████████████████████████████████| 20/20 [00:11<00:00,  1.74it/s]\n",
      "2022-06-08 10:28:07,000 INFO: Epoch:[047/200]\n",
      "2022-06-08 10:28:07,003 INFO: Train Loss:5.119 | Acc:0.0965 | F1:0.0472\n",
      "2022-06-08 10:28:11,594 INFO: -----------------SAVE:47epoch----------------\n"
     ]
    },
    {
     "name": "stdout",
     "output_type": "stream",
     "text": [
      "\n",
      "best epoch:47/loss:5.1188/f1:0.0472\n"
     ]
    },
    {
     "name": "stderr",
     "output_type": "stream",
     "text": [
      "100%|███████████████████████████████████████████| 20/20 [00:11<00:00,  1.70it/s]\n",
      "2022-06-08 10:28:23,394 INFO: Epoch:[048/200]\n",
      "2022-06-08 10:28:23,396 INFO: Train Loss:5.091 | Acc:0.0900 | F1:0.0469\n",
      "2022-06-08 10:28:27,994 INFO: -----------------SAVE:48epoch----------------\n"
     ]
    },
    {
     "name": "stdout",
     "output_type": "stream",
     "text": [
      "\n",
      "best epoch:48/loss:5.0910/f1:0.0469\n"
     ]
    },
    {
     "name": "stderr",
     "output_type": "stream",
     "text": [
      "100%|███████████████████████████████████████████| 20/20 [00:11<00:00,  1.74it/s]\n",
      "2022-06-08 10:28:39,533 INFO: Epoch:[049/200]\n",
      "2022-06-08 10:28:39,534 INFO: Train Loss:5.064 | Acc:0.0932 | F1:0.0538\n",
      "2022-06-08 10:28:44,133 INFO: -----------------SAVE:49epoch----------------\n"
     ]
    },
    {
     "name": "stdout",
     "output_type": "stream",
     "text": [
      "\n",
      "best epoch:49/loss:5.0639/f1:0.0538\n"
     ]
    },
    {
     "name": "stderr",
     "output_type": "stream",
     "text": [
      "100%|███████████████████████████████████████████| 20/20 [00:11<00:00,  1.75it/s]\n",
      "2022-06-08 10:28:55,565 INFO: Epoch:[050/200]\n",
      "2022-06-08 10:28:55,567 INFO: Train Loss:4.962 | Acc:0.0932 | F1:0.0477\n",
      "2022-06-08 10:29:00,185 INFO: -----------------SAVE:50epoch----------------\n"
     ]
    },
    {
     "name": "stdout",
     "output_type": "stream",
     "text": [
      "\n",
      "best epoch:50/loss:4.9624/f1:0.0477\n"
     ]
    },
    {
     "name": "stderr",
     "output_type": "stream",
     "text": [
      "100%|███████████████████████████████████████████| 20/20 [00:11<00:00,  1.75it/s]\n",
      "2022-06-08 10:29:11,651 INFO: Epoch:[051/200]\n",
      "2022-06-08 10:29:11,652 INFO: Train Loss:4.917 | Acc:0.0965 | F1:0.0572\n",
      "2022-06-08 10:29:15,991 INFO: -----------------SAVE:51epoch----------------\n"
     ]
    },
    {
     "name": "stdout",
     "output_type": "stream",
     "text": [
      "\n",
      "best epoch:51/loss:4.9167/f1:0.0572\n"
     ]
    },
    {
     "name": "stderr",
     "output_type": "stream",
     "text": [
      "100%|███████████████████████████████████████████| 20/20 [00:11<00:00,  1.78it/s]\n",
      "2022-06-08 10:29:27,251 INFO: Epoch:[052/200]\n",
      "2022-06-08 10:29:27,252 INFO: Train Loss:4.819 | Acc:0.1190 | F1:0.0687\n",
      "2022-06-08 10:29:31,878 INFO: -----------------SAVE:52epoch----------------\n"
     ]
    },
    {
     "name": "stdout",
     "output_type": "stream",
     "text": [
      "\n",
      "best epoch:52/loss:4.8185/f1:0.0687\n"
     ]
    },
    {
     "name": "stderr",
     "output_type": "stream",
     "text": [
      "100%|███████████████████████████████████████████| 20/20 [00:09<00:00,  2.04it/s]\n",
      "2022-06-08 10:29:41,669 INFO: Epoch:[053/200]\n",
      "2022-06-08 10:29:41,670 INFO: Train Loss:4.743 | Acc:0.1254 | F1:0.0752\n",
      "2022-06-08 10:29:45,746 INFO: -----------------SAVE:53epoch----------------\n"
     ]
    },
    {
     "name": "stdout",
     "output_type": "stream",
     "text": [
      "\n",
      "best epoch:53/loss:4.7428/f1:0.0752\n"
     ]
    },
    {
     "name": "stderr",
     "output_type": "stream",
     "text": [
      "100%|███████████████████████████████████████████| 20/20 [00:09<00:00,  2.10it/s]\n",
      "2022-06-08 10:29:55,260 INFO: Epoch:[054/200]\n",
      "2022-06-08 10:29:55,260 INFO: Train Loss:4.692 | Acc:0.1350 | F1:0.0853\n",
      "2022-06-08 10:29:59,348 INFO: -----------------SAVE:54epoch----------------\n"
     ]
    },
    {
     "name": "stdout",
     "output_type": "stream",
     "text": [
      "\n",
      "best epoch:54/loss:4.6915/f1:0.0853\n"
     ]
    },
    {
     "name": "stderr",
     "output_type": "stream",
     "text": [
      "100%|███████████████████████████████████████████| 20/20 [00:09<00:00,  2.11it/s]\n",
      "2022-06-08 10:30:08,848 INFO: Epoch:[055/200]\n",
      "2022-06-08 10:30:08,849 INFO: Train Loss:4.645 | Acc:0.1318 | F1:0.0720\n",
      "2022-06-08 10:30:13,058 INFO: -----------------SAVE:55epoch----------------\n"
     ]
    },
    {
     "name": "stdout",
     "output_type": "stream",
     "text": [
      "\n",
      "best epoch:55/loss:4.6449/f1:0.0720\n"
     ]
    },
    {
     "name": "stderr",
     "output_type": "stream",
     "text": [
      "100%|███████████████████████████████████████████| 20/20 [00:09<00:00,  2.09it/s]\n",
      "2022-06-08 10:30:22,655 INFO: Epoch:[056/200]\n",
      "2022-06-08 10:30:22,655 INFO: Train Loss:4.545 | Acc:0.1479 | F1:0.0908\n",
      "2022-06-08 10:30:26,730 INFO: -----------------SAVE:56epoch----------------\n"
     ]
    },
    {
     "name": "stdout",
     "output_type": "stream",
     "text": [
      "\n",
      "best epoch:56/loss:4.5446/f1:0.0908\n"
     ]
    },
    {
     "name": "stderr",
     "output_type": "stream",
     "text": [
      "100%|███████████████████████████████████████████| 20/20 [00:09<00:00,  2.16it/s]\n",
      "2022-06-08 10:30:36,016 INFO: Epoch:[057/200]\n",
      "2022-06-08 10:30:36,017 INFO: Train Loss:4.535 | Acc:0.1383 | F1:0.0910\n",
      "2022-06-08 10:30:40,106 INFO: -----------------SAVE:57epoch----------------\n"
     ]
    },
    {
     "name": "stdout",
     "output_type": "stream",
     "text": [
      "\n",
      "best epoch:57/loss:4.5347/f1:0.0910\n"
     ]
    },
    {
     "name": "stderr",
     "output_type": "stream",
     "text": [
      "100%|███████████████████████████████████████████| 20/20 [00:09<00:00,  2.08it/s]\n",
      "2022-06-08 10:30:49,737 INFO: Epoch:[058/200]\n",
      "2022-06-08 10:30:49,737 INFO: Train Loss:4.412 | Acc:0.1929 | F1:0.1278\n",
      "2022-06-08 10:30:53,821 INFO: -----------------SAVE:58epoch----------------\n"
     ]
    },
    {
     "name": "stdout",
     "output_type": "stream",
     "text": [
      "\n",
      "best epoch:58/loss:4.4122/f1:0.1278\n"
     ]
    },
    {
     "name": "stderr",
     "output_type": "stream",
     "text": [
      "100%|███████████████████████████████████████████| 20/20 [00:09<00:00,  2.08it/s]\n",
      "2022-06-08 10:31:03,466 INFO: Epoch:[059/200]\n",
      "2022-06-08 10:31:03,466 INFO: Train Loss:4.424 | Acc:0.1704 | F1:0.1055\n"
     ]
    },
    {
     "name": "stdout",
     "output_type": "stream",
     "text": [
      "\n",
      "best epoch:58/loss:4.4122/f1:0.1278\n"
     ]
    },
    {
     "name": "stderr",
     "output_type": "stream",
     "text": [
      "100%|███████████████████████████████████████████| 20/20 [00:09<00:00,  2.09it/s]\n",
      "2022-06-08 10:31:13,062 INFO: Epoch:[060/200]\n",
      "2022-06-08 10:31:13,063 INFO: Train Loss:4.308 | Acc:0.2122 | F1:0.1464\n",
      "2022-06-08 10:31:17,135 INFO: -----------------SAVE:60epoch----------------\n"
     ]
    },
    {
     "name": "stdout",
     "output_type": "stream",
     "text": [
      "\n",
      "best epoch:60/loss:4.3075/f1:0.1464\n"
     ]
    },
    {
     "name": "stderr",
     "output_type": "stream",
     "text": [
      "100%|███████████████████████████████████████████| 20/20 [00:09<00:00,  2.13it/s]\n",
      "2022-06-08 10:31:26,549 INFO: Epoch:[061/200]\n",
      "2022-06-08 10:31:26,549 INFO: Train Loss:4.226 | Acc:0.1801 | F1:0.1154\n",
      "2022-06-08 10:31:30,630 INFO: -----------------SAVE:61epoch----------------\n"
     ]
    },
    {
     "name": "stdout",
     "output_type": "stream",
     "text": [
      "\n",
      "best epoch:61/loss:4.2264/f1:0.1154\n"
     ]
    },
    {
     "name": "stderr",
     "output_type": "stream",
     "text": [
      "100%|███████████████████████████████████████████| 20/20 [00:09<00:00,  2.11it/s]\n",
      "2022-06-08 10:31:40,119 INFO: Epoch:[062/200]\n",
      "2022-06-08 10:31:40,120 INFO: Train Loss:4.294 | Acc:0.1736 | F1:0.1232\n"
     ]
    },
    {
     "name": "stdout",
     "output_type": "stream",
     "text": [
      "\n",
      "best epoch:61/loss:4.2264/f1:0.1154\n"
     ]
    },
    {
     "name": "stderr",
     "output_type": "stream",
     "text": [
      "100%|███████████████████████████████████████████| 20/20 [00:09<00:00,  2.11it/s]\n",
      "2022-06-08 10:31:49,594 INFO: Epoch:[063/200]\n",
      "2022-06-08 10:31:49,595 INFO: Train Loss:4.199 | Acc:0.1961 | F1:0.1360\n",
      "2022-06-08 10:31:53,691 INFO: -----------------SAVE:63epoch----------------\n"
     ]
    },
    {
     "name": "stdout",
     "output_type": "stream",
     "text": [
      "\n",
      "best epoch:63/loss:4.1987/f1:0.1360\n"
     ]
    },
    {
     "name": "stderr",
     "output_type": "stream",
     "text": [
      "100%|███████████████████████████████████████████| 20/20 [00:09<00:00,  2.06it/s]\n",
      "2022-06-08 10:32:03,389 INFO: Epoch:[064/200]\n",
      "2022-06-08 10:32:03,390 INFO: Train Loss:4.075 | Acc:0.2476 | F1:0.1805\n",
      "2022-06-08 10:32:07,475 INFO: -----------------SAVE:64epoch----------------\n"
     ]
    },
    {
     "name": "stdout",
     "output_type": "stream",
     "text": [
      "\n",
      "best epoch:64/loss:4.0750/f1:0.1805\n"
     ]
    },
    {
     "name": "stderr",
     "output_type": "stream",
     "text": [
      "100%|███████████████████████████████████████████| 20/20 [00:09<00:00,  2.11it/s]\n",
      "2022-06-08 10:32:16,964 INFO: Epoch:[065/200]\n",
      "2022-06-08 10:32:16,964 INFO: Train Loss:4.061 | Acc:0.2219 | F1:0.1513\n",
      "2022-06-08 10:32:21,137 INFO: -----------------SAVE:65epoch----------------\n"
     ]
    },
    {
     "name": "stdout",
     "output_type": "stream",
     "text": [
      "\n",
      "best epoch:65/loss:4.0606/f1:0.1513\n"
     ]
    },
    {
     "name": "stderr",
     "output_type": "stream",
     "text": [
      "100%|███████████████████████████████████████████| 20/20 [00:09<00:00,  2.09it/s]\n",
      "2022-06-08 10:32:30,725 INFO: Epoch:[066/200]\n",
      "2022-06-08 10:32:30,726 INFO: Train Loss:4.041 | Acc:0.2379 | F1:0.1577\n",
      "2022-06-08 10:32:34,806 INFO: -----------------SAVE:66epoch----------------\n"
     ]
    },
    {
     "name": "stdout",
     "output_type": "stream",
     "text": [
      "\n",
      "best epoch:66/loss:4.0410/f1:0.1577\n"
     ]
    },
    {
     "name": "stderr",
     "output_type": "stream",
     "text": [
      "100%|███████████████████████████████████████████| 20/20 [00:09<00:00,  2.08it/s]\n",
      "2022-06-08 10:32:44,449 INFO: Epoch:[067/200]\n",
      "2022-06-08 10:32:44,450 INFO: Train Loss:3.953 | Acc:0.2154 | F1:0.1546\n",
      "2022-06-08 10:32:48,524 INFO: -----------------SAVE:67epoch----------------\n"
     ]
    },
    {
     "name": "stdout",
     "output_type": "stream",
     "text": [
      "\n",
      "best epoch:67/loss:3.9535/f1:0.1546\n"
     ]
    },
    {
     "name": "stderr",
     "output_type": "stream",
     "text": [
      "100%|███████████████████████████████████████████| 20/20 [00:09<00:00,  2.09it/s]\n",
      "2022-06-08 10:32:58,119 INFO: Epoch:[068/200]\n",
      "2022-06-08 10:32:58,120 INFO: Train Loss:4.045 | Acc:0.2026 | F1:0.1443\n"
     ]
    },
    {
     "name": "stdout",
     "output_type": "stream",
     "text": [
      "\n",
      "best epoch:67/loss:3.9535/f1:0.1546\n"
     ]
    },
    {
     "name": "stderr",
     "output_type": "stream",
     "text": [
      "100%|███████████████████████████████████████████| 20/20 [00:09<00:00,  2.06it/s]\n",
      "2022-06-08 10:33:07,816 INFO: Epoch:[069/200]\n",
      "2022-06-08 10:33:07,817 INFO: Train Loss:3.912 | Acc:0.2572 | F1:0.1870\n",
      "2022-06-08 10:33:11,904 INFO: -----------------SAVE:69epoch----------------\n"
     ]
    },
    {
     "name": "stdout",
     "output_type": "stream",
     "text": [
      "\n",
      "best epoch:69/loss:3.9116/f1:0.1870\n"
     ]
    },
    {
     "name": "stderr",
     "output_type": "stream",
     "text": [
      "100%|███████████████████████████████████████████| 20/20 [00:09<00:00,  2.07it/s]\n",
      "2022-06-08 10:33:21,592 INFO: Epoch:[070/200]\n",
      "2022-06-08 10:33:21,593 INFO: Train Loss:3.773 | Acc:0.2701 | F1:0.1894\n",
      "2022-06-08 10:33:25,681 INFO: -----------------SAVE:70epoch----------------\n"
     ]
    },
    {
     "name": "stdout",
     "output_type": "stream",
     "text": [
      "\n",
      "best epoch:70/loss:3.7728/f1:0.1894\n"
     ]
    },
    {
     "name": "stderr",
     "output_type": "stream",
     "text": [
      "100%|███████████████████████████████████████████| 20/20 [00:09<00:00,  2.09it/s]\n",
      "2022-06-08 10:33:35,250 INFO: Epoch:[071/200]\n",
      "2022-06-08 10:33:35,251 INFO: Train Loss:3.782 | Acc:0.2508 | F1:0.1878\n"
     ]
    },
    {
     "name": "stdout",
     "output_type": "stream",
     "text": [
      "\n",
      "best epoch:70/loss:3.7728/f1:0.1894\n"
     ]
    },
    {
     "name": "stderr",
     "output_type": "stream",
     "text": [
      "100%|███████████████████████████████████████████| 20/20 [00:09<00:00,  2.05it/s]\n",
      "2022-06-08 10:33:45,005 INFO: Epoch:[072/200]\n",
      "2022-06-08 10:33:45,005 INFO: Train Loss:3.663 | Acc:0.2797 | F1:0.2031\n",
      "2022-06-08 10:33:49,081 INFO: -----------------SAVE:72epoch----------------\n"
     ]
    },
    {
     "name": "stdout",
     "output_type": "stream",
     "text": [
      "\n",
      "best epoch:72/loss:3.6627/f1:0.2031\n"
     ]
    },
    {
     "name": "stderr",
     "output_type": "stream",
     "text": [
      "100%|███████████████████████████████████████████| 20/20 [00:09<00:00,  2.08it/s]\n",
      "2022-06-08 10:33:58,722 INFO: Epoch:[073/200]\n",
      "2022-06-08 10:33:58,723 INFO: Train Loss:3.839 | Acc:0.2701 | F1:0.2013\n"
     ]
    },
    {
     "name": "stdout",
     "output_type": "stream",
     "text": [
      "\n",
      "best epoch:72/loss:3.6627/f1:0.2031\n"
     ]
    },
    {
     "name": "stderr",
     "output_type": "stream",
     "text": [
      "100%|███████████████████████████████████████████| 20/20 [00:09<00:00,  2.05it/s]\n",
      "2022-06-08 10:34:08,492 INFO: Epoch:[074/200]\n",
      "2022-06-08 10:34:08,493 INFO: Train Loss:3.736 | Acc:0.2476 | F1:0.1787\n"
     ]
    },
    {
     "name": "stdout",
     "output_type": "stream",
     "text": [
      "\n",
      "best epoch:72/loss:3.6627/f1:0.2031\n"
     ]
    },
    {
     "name": "stderr",
     "output_type": "stream",
     "text": [
      "100%|███████████████████████████████████████████| 20/20 [00:09<00:00,  2.09it/s]\n",
      "2022-06-08 10:34:18,063 INFO: Epoch:[075/200]\n",
      "2022-06-08 10:34:18,064 INFO: Train Loss:3.723 | Acc:0.2830 | F1:0.2151\n"
     ]
    },
    {
     "name": "stdout",
     "output_type": "stream",
     "text": [
      "\n",
      "best epoch:72/loss:3.6627/f1:0.2031\n"
     ]
    },
    {
     "name": "stderr",
     "output_type": "stream",
     "text": [
      "100%|███████████████████████████████████████████| 20/20 [00:09<00:00,  2.08it/s]\n",
      "2022-06-08 10:34:27,668 INFO: Epoch:[076/200]\n",
      "2022-06-08 10:34:27,668 INFO: Train Loss:3.561 | Acc:0.2797 | F1:0.2143\n",
      "2022-06-08 10:34:31,774 INFO: -----------------SAVE:76epoch----------------\n"
     ]
    },
    {
     "name": "stdout",
     "output_type": "stream",
     "text": [
      "\n",
      "best epoch:76/loss:3.5610/f1:0.2143\n"
     ]
    },
    {
     "name": "stderr",
     "output_type": "stream",
     "text": [
      "100%|███████████████████████████████████████████| 20/20 [00:09<00:00,  2.09it/s]\n",
      "2022-06-08 10:34:41,363 INFO: Epoch:[077/200]\n",
      "2022-06-08 10:34:41,363 INFO: Train Loss:3.489 | Acc:0.2637 | F1:0.1979\n",
      "2022-06-08 10:34:45,448 INFO: -----------------SAVE:77epoch----------------\n"
     ]
    },
    {
     "name": "stdout",
     "output_type": "stream",
     "text": [
      "\n",
      "best epoch:77/loss:3.4887/f1:0.1979\n"
     ]
    },
    {
     "name": "stderr",
     "output_type": "stream",
     "text": [
      "100%|███████████████████████████████████████████| 20/20 [00:09<00:00,  2.06it/s]\n",
      "2022-06-08 10:34:55,145 INFO: Epoch:[078/200]\n",
      "2022-06-08 10:34:55,146 INFO: Train Loss:3.572 | Acc:0.3183 | F1:0.2417\n"
     ]
    },
    {
     "name": "stdout",
     "output_type": "stream",
     "text": [
      "\n",
      "best epoch:77/loss:3.4887/f1:0.1979\n"
     ]
    },
    {
     "name": "stderr",
     "output_type": "stream",
     "text": [
      "100%|███████████████████████████████████████████| 20/20 [00:09<00:00,  2.08it/s]\n",
      "2022-06-08 10:35:04,756 INFO: Epoch:[079/200]\n",
      "2022-06-08 10:35:04,757 INFO: Train Loss:3.390 | Acc:0.3408 | F1:0.2698\n",
      "2022-06-08 10:35:08,830 INFO: -----------------SAVE:79epoch----------------\n"
     ]
    },
    {
     "name": "stdout",
     "output_type": "stream",
     "text": [
      "\n",
      "best epoch:79/loss:3.3895/f1:0.2698\n"
     ]
    },
    {
     "name": "stderr",
     "output_type": "stream",
     "text": [
      "100%|███████████████████████████████████████████| 20/20 [00:09<00:00,  2.06it/s]\n",
      "2022-06-08 10:35:18,533 INFO: Epoch:[080/200]\n",
      "2022-06-08 10:35:18,534 INFO: Train Loss:3.307 | Acc:0.3698 | F1:0.2902\n",
      "2022-06-08 10:35:22,724 INFO: -----------------SAVE:80epoch----------------\n"
     ]
    },
    {
     "name": "stdout",
     "output_type": "stream",
     "text": [
      "\n",
      "best epoch:80/loss:3.3067/f1:0.2902\n"
     ]
    },
    {
     "name": "stderr",
     "output_type": "stream",
     "text": [
      "100%|███████████████████████████████████████████| 20/20 [00:09<00:00,  2.07it/s]\n",
      "2022-06-08 10:35:32,406 INFO: Epoch:[081/200]\n",
      "2022-06-08 10:35:32,406 INFO: Train Loss:3.479 | Acc:0.3087 | F1:0.2354\n"
     ]
    },
    {
     "name": "stdout",
     "output_type": "stream",
     "text": [
      "\n",
      "best epoch:80/loss:3.3067/f1:0.2902\n"
     ]
    },
    {
     "name": "stderr",
     "output_type": "stream",
     "text": [
      "100%|███████████████████████████████████████████| 20/20 [00:09<00:00,  2.06it/s]\n",
      "2022-06-08 10:35:42,121 INFO: Epoch:[082/200]\n",
      "2022-06-08 10:35:42,121 INFO: Train Loss:3.361 | Acc:0.3537 | F1:0.2859\n"
     ]
    },
    {
     "name": "stdout",
     "output_type": "stream",
     "text": [
      "\n",
      "best epoch:80/loss:3.3067/f1:0.2902\n"
     ]
    },
    {
     "name": "stderr",
     "output_type": "stream",
     "text": [
      "100%|███████████████████████████████████████████| 20/20 [00:09<00:00,  2.06it/s]\n",
      "2022-06-08 10:35:51,854 INFO: Epoch:[083/200]\n",
      "2022-06-08 10:35:51,855 INFO: Train Loss:3.263 | Acc:0.3376 | F1:0.2708\n",
      "2022-06-08 10:35:55,949 INFO: -----------------SAVE:83epoch----------------\n"
     ]
    },
    {
     "name": "stdout",
     "output_type": "stream",
     "text": [
      "\n",
      "best epoch:83/loss:3.2630/f1:0.2708\n"
     ]
    },
    {
     "name": "stderr",
     "output_type": "stream",
     "text": [
      "100%|███████████████████████████████████████████| 20/20 [00:09<00:00,  2.05it/s]\n",
      "2022-06-08 10:36:05,730 INFO: Epoch:[084/200]\n",
      "2022-06-08 10:36:05,731 INFO: Train Loss:3.222 | Acc:0.3537 | F1:0.2685\n",
      "2022-06-08 10:36:09,819 INFO: -----------------SAVE:84epoch----------------\n"
     ]
    },
    {
     "name": "stdout",
     "output_type": "stream",
     "text": [
      "\n",
      "best epoch:84/loss:3.2218/f1:0.2685\n"
     ]
    },
    {
     "name": "stderr",
     "output_type": "stream",
     "text": [
      "100%|███████████████████████████████████████████| 20/20 [00:09<00:00,  2.03it/s]\n",
      "2022-06-08 10:36:19,669 INFO: Epoch:[085/200]\n",
      "2022-06-08 10:36:19,670 INFO: Train Loss:3.257 | Acc:0.3408 | F1:0.2575\n"
     ]
    },
    {
     "name": "stdout",
     "output_type": "stream",
     "text": [
      "\n",
      "best epoch:84/loss:3.2218/f1:0.2685\n"
     ]
    },
    {
     "name": "stderr",
     "output_type": "stream",
     "text": [
      "100%|███████████████████████████████████████████| 20/20 [00:09<00:00,  2.05it/s]\n",
      "2022-06-08 10:36:29,418 INFO: Epoch:[086/200]\n",
      "2022-06-08 10:36:29,419 INFO: Train Loss:3.167 | Acc:0.3794 | F1:0.2979\n",
      "2022-06-08 10:36:33,506 INFO: -----------------SAVE:86epoch----------------\n"
     ]
    },
    {
     "name": "stdout",
     "output_type": "stream",
     "text": [
      "\n",
      "best epoch:86/loss:3.1670/f1:0.2979\n"
     ]
    },
    {
     "name": "stderr",
     "output_type": "stream",
     "text": [
      "100%|███████████████████████████████████████████| 20/20 [00:09<00:00,  2.03it/s]\n",
      "2022-06-08 10:36:43,346 INFO: Epoch:[087/200]\n",
      "2022-06-08 10:36:43,347 INFO: Train Loss:3.129 | Acc:0.4019 | F1:0.3362\n",
      "2022-06-08 10:36:47,414 INFO: -----------------SAVE:87epoch----------------\n"
     ]
    },
    {
     "name": "stdout",
     "output_type": "stream",
     "text": [
      "\n",
      "best epoch:87/loss:3.1291/f1:0.3362\n"
     ]
    },
    {
     "name": "stderr",
     "output_type": "stream",
     "text": [
      "100%|███████████████████████████████████████████| 20/20 [00:09<00:00,  2.05it/s]\n",
      "2022-06-08 10:36:57,159 INFO: Epoch:[088/200]\n",
      "2022-06-08 10:36:57,160 INFO: Train Loss:3.175 | Acc:0.3633 | F1:0.2953\n"
     ]
    },
    {
     "name": "stdout",
     "output_type": "stream",
     "text": [
      "\n",
      "best epoch:87/loss:3.1291/f1:0.3362\n"
     ]
    },
    {
     "name": "stderr",
     "output_type": "stream",
     "text": [
      "100%|███████████████████████████████████████████| 20/20 [00:09<00:00,  2.05it/s]\n",
      "2022-06-08 10:37:06,927 INFO: Epoch:[089/200]\n",
      "2022-06-08 10:37:06,928 INFO: Train Loss:3.098 | Acc:0.3987 | F1:0.3207\n",
      "2022-06-08 10:37:11,018 INFO: -----------------SAVE:89epoch----------------\n"
     ]
    },
    {
     "name": "stdout",
     "output_type": "stream",
     "text": [
      "\n",
      "best epoch:89/loss:3.0980/f1:0.3207\n"
     ]
    },
    {
     "name": "stderr",
     "output_type": "stream",
     "text": [
      "100%|███████████████████████████████████████████| 20/20 [00:09<00:00,  2.07it/s]\n",
      "2022-06-08 10:37:20,678 INFO: Epoch:[090/200]\n",
      "2022-06-08 10:37:20,678 INFO: Train Loss:3.116 | Acc:0.3987 | F1:0.3211\n"
     ]
    },
    {
     "name": "stdout",
     "output_type": "stream",
     "text": [
      "\n",
      "best epoch:89/loss:3.0980/f1:0.3207\n"
     ]
    },
    {
     "name": "stderr",
     "output_type": "stream",
     "text": [
      "100%|███████████████████████████████████████████| 20/20 [00:09<00:00,  2.05it/s]\n",
      "2022-06-08 10:37:30,461 INFO: Epoch:[091/200]\n",
      "2022-06-08 10:37:30,461 INFO: Train Loss:3.028 | Acc:0.4277 | F1:0.3543\n",
      "2022-06-08 10:37:34,540 INFO: -----------------SAVE:91epoch----------------\n"
     ]
    },
    {
     "name": "stdout",
     "output_type": "stream",
     "text": [
      "\n",
      "best epoch:91/loss:3.0275/f1:0.3543\n"
     ]
    },
    {
     "name": "stderr",
     "output_type": "stream",
     "text": [
      "100%|███████████████████████████████████████████| 20/20 [00:09<00:00,  2.07it/s]\n",
      "2022-06-08 10:37:44,188 INFO: Epoch:[092/200]\n",
      "2022-06-08 10:37:44,189 INFO: Train Loss:3.091 | Acc:0.3826 | F1:0.3040\n"
     ]
    },
    {
     "name": "stdout",
     "output_type": "stream",
     "text": [
      "\n",
      "best epoch:91/loss:3.0275/f1:0.3543\n"
     ]
    },
    {
     "name": "stderr",
     "output_type": "stream",
     "text": [
      "100%|███████████████████████████████████████████| 20/20 [00:09<00:00,  2.07it/s]\n",
      "2022-06-08 10:37:53,860 INFO: Epoch:[093/200]\n",
      "2022-06-08 10:37:53,861 INFO: Train Loss:3.016 | Acc:0.4116 | F1:0.3393\n",
      "2022-06-08 10:37:58,038 INFO: -----------------SAVE:93epoch----------------\n"
     ]
    },
    {
     "name": "stdout",
     "output_type": "stream",
     "text": [
      "\n",
      "best epoch:93/loss:3.0164/f1:0.3393\n"
     ]
    },
    {
     "name": "stderr",
     "output_type": "stream",
     "text": [
      "100%|███████████████████████████████████████████| 20/20 [00:09<00:00,  2.05it/s]\n",
      "2022-06-08 10:38:07,813 INFO: Epoch:[094/200]\n",
      "2022-06-08 10:38:07,814 INFO: Train Loss:2.962 | Acc:0.4051 | F1:0.3305\n",
      "2022-06-08 10:38:11,884 INFO: -----------------SAVE:94epoch----------------\n"
     ]
    },
    {
     "name": "stdout",
     "output_type": "stream",
     "text": [
      "\n",
      "best epoch:94/loss:2.9625/f1:0.3305\n"
     ]
    },
    {
     "name": "stderr",
     "output_type": "stream",
     "text": [
      "100%|███████████████████████████████████████████| 20/20 [00:09<00:00,  2.04it/s]\n",
      "2022-06-08 10:38:21,709 INFO: Epoch:[095/200]\n",
      "2022-06-08 10:38:21,710 INFO: Train Loss:2.930 | Acc:0.3891 | F1:0.3203\n",
      "2022-06-08 10:38:25,778 INFO: -----------------SAVE:95epoch----------------\n"
     ]
    },
    {
     "name": "stdout",
     "output_type": "stream",
     "text": [
      "\n",
      "best epoch:95/loss:2.9298/f1:0.3203\n"
     ]
    },
    {
     "name": "stderr",
     "output_type": "stream",
     "text": [
      "100%|███████████████████████████████████████████| 20/20 [00:09<00:00,  2.07it/s]\n",
      "2022-06-08 10:38:35,468 INFO: Epoch:[096/200]\n",
      "2022-06-08 10:38:35,469 INFO: Train Loss:2.872 | Acc:0.4180 | F1:0.3514\n",
      "2022-06-08 10:38:39,555 INFO: -----------------SAVE:96epoch----------------\n"
     ]
    },
    {
     "name": "stdout",
     "output_type": "stream",
     "text": [
      "\n",
      "best epoch:96/loss:2.8718/f1:0.3514\n"
     ]
    },
    {
     "name": "stderr",
     "output_type": "stream",
     "text": [
      "100%|███████████████████████████████████████████| 20/20 [00:09<00:00,  2.07it/s]\n",
      "2022-06-08 10:38:49,231 INFO: Epoch:[097/200]\n",
      "2022-06-08 10:38:49,232 INFO: Train Loss:2.966 | Acc:0.4084 | F1:0.3359\n"
     ]
    },
    {
     "name": "stdout",
     "output_type": "stream",
     "text": [
      "\n",
      "best epoch:96/loss:2.8718/f1:0.3514\n"
     ]
    },
    {
     "name": "stderr",
     "output_type": "stream",
     "text": [
      "100%|███████████████████████████████████████████| 20/20 [00:09<00:00,  2.12it/s]\n",
      "2022-06-08 10:38:58,679 INFO: Epoch:[098/200]\n",
      "2022-06-08 10:38:58,680 INFO: Train Loss:2.628 | Acc:0.5016 | F1:0.4235\n",
      "2022-06-08 10:39:02,755 INFO: -----------------SAVE:98epoch----------------\n"
     ]
    },
    {
     "name": "stdout",
     "output_type": "stream",
     "text": [
      "\n",
      "best epoch:98/loss:2.6280/f1:0.4235\n"
     ]
    },
    {
     "name": "stderr",
     "output_type": "stream",
     "text": [
      "100%|███████████████████████████████████████████| 20/20 [00:09<00:00,  2.07it/s]\n",
      "2022-06-08 10:39:12,402 INFO: Epoch:[099/200]\n",
      "2022-06-08 10:39:12,403 INFO: Train Loss:2.625 | Acc:0.4855 | F1:0.4152\n",
      "2022-06-08 10:39:16,496 INFO: -----------------SAVE:99epoch----------------\n"
     ]
    },
    {
     "name": "stdout",
     "output_type": "stream",
     "text": [
      "\n",
      "best epoch:99/loss:2.6253/f1:0.4152\n"
     ]
    },
    {
     "name": "stderr",
     "output_type": "stream",
     "text": [
      "100%|███████████████████████████████████████████| 20/20 [00:09<00:00,  2.11it/s]\n",
      "2022-06-08 10:39:25,959 INFO: Epoch:[100/200]\n",
      "2022-06-08 10:39:25,960 INFO: Train Loss:2.724 | Acc:0.4566 | F1:0.3887\n"
     ]
    },
    {
     "name": "stdout",
     "output_type": "stream",
     "text": [
      "\n",
      "best epoch:99/loss:2.6253/f1:0.4152\n"
     ]
    },
    {
     "name": "stderr",
     "output_type": "stream",
     "text": [
      "100%|███████████████████████████████████████████| 20/20 [00:09<00:00,  2.09it/s]\n",
      "2022-06-08 10:39:35,535 INFO: Epoch:[101/200]\n",
      "2022-06-08 10:39:35,535 INFO: Train Loss:2.672 | Acc:0.4695 | F1:0.3987\n"
     ]
    },
    {
     "name": "stdout",
     "output_type": "stream",
     "text": [
      "\n",
      "best epoch:99/loss:2.6253/f1:0.4152\n"
     ]
    },
    {
     "name": "stderr",
     "output_type": "stream",
     "text": [
      "100%|███████████████████████████████████████████| 20/20 [00:09<00:00,  2.08it/s]\n",
      "2022-06-08 10:39:45,171 INFO: Epoch:[102/200]\n",
      "2022-06-08 10:39:45,171 INFO: Train Loss:2.736 | Acc:0.4212 | F1:0.3532\n"
     ]
    },
    {
     "name": "stdout",
     "output_type": "stream",
     "text": [
      "\n",
      "best epoch:99/loss:2.6253/f1:0.4152\n"
     ]
    },
    {
     "name": "stderr",
     "output_type": "stream",
     "text": [
      "100%|███████████████████████████████████████████| 20/20 [00:09<00:00,  2.11it/s]\n",
      "2022-06-08 10:39:54,646 INFO: Epoch:[103/200]\n",
      "2022-06-08 10:39:54,647 INFO: Train Loss:2.724 | Acc:0.4727 | F1:0.4055\n"
     ]
    },
    {
     "name": "stdout",
     "output_type": "stream",
     "text": [
      "\n",
      "best epoch:99/loss:2.6253/f1:0.4152\n"
     ]
    },
    {
     "name": "stderr",
     "output_type": "stream",
     "text": [
      "100%|███████████████████████████████████████████| 20/20 [00:09<00:00,  2.11it/s]\n",
      "2022-06-08 10:40:04,127 INFO: Epoch:[104/200]\n",
      "2022-06-08 10:40:04,127 INFO: Train Loss:2.662 | Acc:0.4437 | F1:0.3719\n"
     ]
    },
    {
     "name": "stdout",
     "output_type": "stream",
     "text": [
      "\n",
      "best epoch:99/loss:2.6253/f1:0.4152\n"
     ]
    },
    {
     "name": "stderr",
     "output_type": "stream",
     "text": [
      "100%|███████████████████████████████████████████| 20/20 [00:09<00:00,  2.11it/s]\n",
      "2022-06-08 10:40:13,615 INFO: Epoch:[105/200]\n",
      "2022-06-08 10:40:13,615 INFO: Train Loss:2.637 | Acc:0.4598 | F1:0.3857\n"
     ]
    },
    {
     "name": "stdout",
     "output_type": "stream",
     "text": [
      "\n",
      "best epoch:99/loss:2.6253/f1:0.4152\n"
     ]
    },
    {
     "name": "stderr",
     "output_type": "stream",
     "text": [
      "100%|███████████████████████████████████████████| 20/20 [00:09<00:00,  2.15it/s]\n",
      "2022-06-08 10:40:22,947 INFO: Epoch:[106/200]\n",
      "2022-06-08 10:40:22,947 INFO: Train Loss:2.595 | Acc:0.4566 | F1:0.3820\n",
      "2022-06-08 10:40:26,586 INFO: -----------------SAVE:106epoch----------------\n"
     ]
    },
    {
     "name": "stdout",
     "output_type": "stream",
     "text": [
      "\n",
      "best epoch:106/loss:2.5953/f1:0.3820\n"
     ]
    },
    {
     "name": "stderr",
     "output_type": "stream",
     "text": [
      "100%|███████████████████████████████████████████| 20/20 [00:09<00:00,  2.08it/s]\n",
      "2022-06-08 10:40:36,200 INFO: Epoch:[107/200]\n",
      "2022-06-08 10:40:36,201 INFO: Train Loss:2.511 | Acc:0.4823 | F1:0.4171\n",
      "2022-06-08 10:40:40,286 INFO: -----------------SAVE:107epoch----------------\n"
     ]
    },
    {
     "name": "stdout",
     "output_type": "stream",
     "text": [
      "\n",
      "best epoch:107/loss:2.5109/f1:0.4171\n"
     ]
    },
    {
     "name": "stderr",
     "output_type": "stream",
     "text": [
      "100%|███████████████████████████████████████████| 20/20 [00:09<00:00,  2.09it/s]\n",
      "2022-06-08 10:40:49,858 INFO: Epoch:[108/200]\n",
      "2022-06-08 10:40:49,859 INFO: Train Loss:2.643 | Acc:0.4759 | F1:0.4025\n"
     ]
    },
    {
     "name": "stdout",
     "output_type": "stream",
     "text": [
      "\n",
      "best epoch:107/loss:2.5109/f1:0.4171\n"
     ]
    },
    {
     "name": "stderr",
     "output_type": "stream",
     "text": [
      "100%|███████████████████████████████████████████| 20/20 [00:09<00:00,  2.09it/s]\n",
      "2022-06-08 10:40:59,459 INFO: Epoch:[109/200]\n",
      "2022-06-08 10:40:59,459 INFO: Train Loss:2.454 | Acc:0.5273 | F1:0.4568\n",
      "2022-06-08 10:41:03,533 INFO: -----------------SAVE:109epoch----------------\n"
     ]
    },
    {
     "name": "stdout",
     "output_type": "stream",
     "text": [
      "\n",
      "best epoch:109/loss:2.4539/f1:0.4568\n"
     ]
    },
    {
     "name": "stderr",
     "output_type": "stream",
     "text": [
      "100%|███████████████████████████████████████████| 20/20 [00:09<00:00,  2.08it/s]\n",
      "2022-06-08 10:41:13,163 INFO: Epoch:[110/200]\n",
      "2022-06-08 10:41:13,164 INFO: Train Loss:2.365 | Acc:0.5466 | F1:0.4736\n",
      "2022-06-08 10:41:17,322 INFO: -----------------SAVE:110epoch----------------\n"
     ]
    },
    {
     "name": "stdout",
     "output_type": "stream",
     "text": [
      "\n",
      "best epoch:110/loss:2.3651/f1:0.4736\n"
     ]
    },
    {
     "name": "stderr",
     "output_type": "stream",
     "text": [
      "100%|███████████████████████████████████████████| 20/20 [00:09<00:00,  2.10it/s]\n",
      "2022-06-08 10:41:26,868 INFO: Epoch:[111/200]\n",
      "2022-06-08 10:41:26,869 INFO: Train Loss:2.408 | Acc:0.5466 | F1:0.4865\n"
     ]
    },
    {
     "name": "stdout",
     "output_type": "stream",
     "text": [
      "\n",
      "best epoch:110/loss:2.3651/f1:0.4736\n"
     ]
    },
    {
     "name": "stderr",
     "output_type": "stream",
     "text": [
      "100%|███████████████████████████████████████████| 20/20 [00:09<00:00,  2.12it/s]\n",
      "2022-06-08 10:41:36,334 INFO: Epoch:[112/200]\n",
      "2022-06-08 10:41:36,335 INFO: Train Loss:2.375 | Acc:0.5402 | F1:0.4850\n"
     ]
    },
    {
     "name": "stdout",
     "output_type": "stream",
     "text": [
      "\n",
      "best epoch:110/loss:2.3651/f1:0.4736\n"
     ]
    },
    {
     "name": "stderr",
     "output_type": "stream",
     "text": [
      "100%|███████████████████████████████████████████| 20/20 [00:09<00:00,  2.05it/s]\n",
      "2022-06-08 10:41:46,083 INFO: Epoch:[113/200]\n",
      "2022-06-08 10:41:46,083 INFO: Train Loss:2.323 | Acc:0.5113 | F1:0.4422\n",
      "2022-06-08 10:41:50,244 INFO: -----------------SAVE:113epoch----------------\n"
     ]
    },
    {
     "name": "stdout",
     "output_type": "stream",
     "text": [
      "\n",
      "best epoch:113/loss:2.3231/f1:0.4422\n"
     ]
    },
    {
     "name": "stderr",
     "output_type": "stream",
     "text": [
      "100%|███████████████████████████████████████████| 20/20 [00:09<00:00,  2.11it/s]\n",
      "2022-06-08 10:41:59,742 INFO: Epoch:[114/200]\n",
      "2022-06-08 10:41:59,743 INFO: Train Loss:2.521 | Acc:0.5016 | F1:0.4431\n"
     ]
    },
    {
     "name": "stdout",
     "output_type": "stream",
     "text": [
      "\n",
      "best epoch:113/loss:2.3231/f1:0.4422\n"
     ]
    },
    {
     "name": "stderr",
     "output_type": "stream",
     "text": [
      "100%|███████████████████████████████████████████| 20/20 [00:09<00:00,  2.09it/s]\n",
      "2022-06-08 10:42:09,317 INFO: Epoch:[115/200]\n",
      "2022-06-08 10:42:09,317 INFO: Train Loss:2.369 | Acc:0.5402 | F1:0.4699\n"
     ]
    },
    {
     "name": "stdout",
     "output_type": "stream",
     "text": [
      "\n",
      "best epoch:113/loss:2.3231/f1:0.4422\n"
     ]
    },
    {
     "name": "stderr",
     "output_type": "stream",
     "text": [
      "100%|███████████████████████████████████████████| 20/20 [00:09<00:00,  2.10it/s]\n",
      "2022-06-08 10:42:18,867 INFO: Epoch:[116/200]\n",
      "2022-06-08 10:42:18,867 INFO: Train Loss:2.238 | Acc:0.5145 | F1:0.4446\n",
      "2022-06-08 10:42:22,922 INFO: -----------------SAVE:116epoch----------------\n"
     ]
    },
    {
     "name": "stdout",
     "output_type": "stream",
     "text": [
      "\n",
      "best epoch:116/loss:2.2381/f1:0.4446\n"
     ]
    },
    {
     "name": "stderr",
     "output_type": "stream",
     "text": [
      "100%|███████████████████████████████████████████| 20/20 [00:09<00:00,  2.11it/s]\n",
      "2022-06-08 10:42:32,411 INFO: Epoch:[117/200]\n",
      "2022-06-08 10:42:32,411 INFO: Train Loss:2.290 | Acc:0.5563 | F1:0.4962\n"
     ]
    },
    {
     "name": "stdout",
     "output_type": "stream",
     "text": [
      "\n",
      "best epoch:116/loss:2.2381/f1:0.4446\n"
     ]
    },
    {
     "name": "stderr",
     "output_type": "stream",
     "text": [
      "100%|███████████████████████████████████████████| 20/20 [00:09<00:00,  2.08it/s]\n",
      "2022-06-08 10:42:42,048 INFO: Epoch:[118/200]\n",
      "2022-06-08 10:42:42,049 INFO: Train Loss:2.104 | Acc:0.5852 | F1:0.5155\n",
      "2022-06-08 10:42:46,112 INFO: -----------------SAVE:118epoch----------------\n"
     ]
    },
    {
     "name": "stdout",
     "output_type": "stream",
     "text": [
      "\n",
      "best epoch:118/loss:2.1039/f1:0.5155\n"
     ]
    },
    {
     "name": "stderr",
     "output_type": "stream",
     "text": [
      "100%|███████████████████████████████████████████| 20/20 [00:09<00:00,  2.14it/s]\n",
      "2022-06-08 10:42:55,478 INFO: Epoch:[119/200]\n",
      "2022-06-08 10:42:55,478 INFO: Train Loss:2.380 | Acc:0.5209 | F1:0.4597\n"
     ]
    },
    {
     "name": "stdout",
     "output_type": "stream",
     "text": [
      "\n",
      "best epoch:118/loss:2.1039/f1:0.5155\n"
     ]
    },
    {
     "name": "stderr",
     "output_type": "stream",
     "text": [
      "100%|███████████████████████████████████████████| 20/20 [00:09<00:00,  2.09it/s]\n",
      "2022-06-08 10:43:05,035 INFO: Epoch:[120/200]\n",
      "2022-06-08 10:43:05,036 INFO: Train Loss:2.312 | Acc:0.5595 | F1:0.4913\n"
     ]
    },
    {
     "name": "stdout",
     "output_type": "stream",
     "text": [
      "\n",
      "best epoch:118/loss:2.1039/f1:0.5155\n"
     ]
    },
    {
     "name": "stderr",
     "output_type": "stream",
     "text": [
      "100%|███████████████████████████████████████████| 20/20 [00:09<00:00,  2.07it/s]\n",
      "2022-06-08 10:43:14,688 INFO: Epoch:[121/200]\n",
      "2022-06-08 10:43:14,689 INFO: Train Loss:2.039 | Acc:0.5884 | F1:0.5183\n",
      "2022-06-08 10:43:18,761 INFO: -----------------SAVE:121epoch----------------\n"
     ]
    },
    {
     "name": "stdout",
     "output_type": "stream",
     "text": [
      "\n",
      "best epoch:121/loss:2.0392/f1:0.5183\n"
     ]
    },
    {
     "name": "stderr",
     "output_type": "stream",
     "text": [
      "100%|███████████████████████████████████████████| 20/20 [00:09<00:00,  2.09it/s]\n",
      "2022-06-08 10:43:28,356 INFO: Epoch:[122/200]\n",
      "2022-06-08 10:43:28,357 INFO: Train Loss:2.114 | Acc:0.5531 | F1:0.4817\n"
     ]
    },
    {
     "name": "stdout",
     "output_type": "stream",
     "text": [
      "\n",
      "best epoch:121/loss:2.0392/f1:0.5183\n"
     ]
    },
    {
     "name": "stderr",
     "output_type": "stream",
     "text": [
      "100%|███████████████████████████████████████████| 20/20 [00:09<00:00,  2.09it/s]\n",
      "2022-06-08 10:43:37,953 INFO: Epoch:[123/200]\n",
      "2022-06-08 10:43:37,953 INFO: Train Loss:2.114 | Acc:0.5691 | F1:0.5049\n"
     ]
    },
    {
     "name": "stdout",
     "output_type": "stream",
     "text": [
      "\n",
      "best epoch:121/loss:2.0392/f1:0.5183\n"
     ]
    },
    {
     "name": "stderr",
     "output_type": "stream",
     "text": [
      "100%|███████████████████████████████████████████| 20/20 [00:09<00:00,  2.15it/s]\n",
      "2022-06-08 10:43:47,287 INFO: Epoch:[124/200]\n",
      "2022-06-08 10:43:47,288 INFO: Train Loss:2.232 | Acc:0.5338 | F1:0.4502\n"
     ]
    },
    {
     "name": "stdout",
     "output_type": "stream",
     "text": [
      "\n",
      "best epoch:121/loss:2.0392/f1:0.5183\n"
     ]
    },
    {
     "name": "stderr",
     "output_type": "stream",
     "text": [
      "100%|███████████████████████████████████████████| 20/20 [00:09<00:00,  2.13it/s]\n",
      "2022-06-08 10:43:56,704 INFO: Epoch:[125/200]\n",
      "2022-06-08 10:43:56,705 INFO: Train Loss:2.117 | Acc:0.5498 | F1:0.4753\n"
     ]
    },
    {
     "name": "stdout",
     "output_type": "stream",
     "text": [
      "\n",
      "best epoch:121/loss:2.0392/f1:0.5183\n"
     ]
    },
    {
     "name": "stderr",
     "output_type": "stream",
     "text": [
      "100%|███████████████████████████████████████████| 20/20 [00:09<00:00,  2.02it/s]\n",
      "2022-06-08 10:44:06,608 INFO: Epoch:[126/200]\n",
      "2022-06-08 10:44:06,609 INFO: Train Loss:2.115 | Acc:0.5756 | F1:0.5143\n"
     ]
    },
    {
     "name": "stdout",
     "output_type": "stream",
     "text": [
      "\n",
      "best epoch:121/loss:2.0392/f1:0.5183\n"
     ]
    },
    {
     "name": "stderr",
     "output_type": "stream",
     "text": [
      "100%|███████████████████████████████████████████| 20/20 [00:09<00:00,  2.11it/s]\n",
      "2022-06-08 10:44:16,108 INFO: Epoch:[127/200]\n",
      "2022-06-08 10:44:16,108 INFO: Train Loss:2.132 | Acc:0.5595 | F1:0.4877\n"
     ]
    },
    {
     "name": "stdout",
     "output_type": "stream",
     "text": [
      "\n",
      "best epoch:121/loss:2.0392/f1:0.5183\n"
     ]
    },
    {
     "name": "stderr",
     "output_type": "stream",
     "text": [
      "100%|███████████████████████████████████████████| 20/20 [00:09<00:00,  2.09it/s]\n",
      "2022-06-08 10:44:25,702 INFO: Epoch:[128/200]\n",
      "2022-06-08 10:44:25,703 INFO: Train Loss:2.119 | Acc:0.5659 | F1:0.5046\n"
     ]
    },
    {
     "name": "stdout",
     "output_type": "stream",
     "text": [
      "\n",
      "best epoch:121/loss:2.0392/f1:0.5183\n"
     ]
    },
    {
     "name": "stderr",
     "output_type": "stream",
     "text": [
      "100%|███████████████████████████████████████████| 20/20 [00:09<00:00,  2.11it/s]\n",
      "2022-06-08 10:44:35,195 INFO: Epoch:[129/200]\n",
      "2022-06-08 10:44:35,195 INFO: Train Loss:2.039 | Acc:0.5916 | F1:0.5177\n",
      "2022-06-08 10:44:39,271 INFO: -----------------SAVE:129epoch----------------\n"
     ]
    },
    {
     "name": "stdout",
     "output_type": "stream",
     "text": [
      "\n",
      "best epoch:129/loss:2.0387/f1:0.5177\n"
     ]
    },
    {
     "name": "stderr",
     "output_type": "stream",
     "text": [
      "100%|███████████████████████████████████████████| 20/20 [00:09<00:00,  2.11it/s]\n",
      "2022-06-08 10:44:48,761 INFO: Epoch:[130/200]\n",
      "2022-06-08 10:44:48,762 INFO: Train Loss:1.982 | Acc:0.6045 | F1:0.5363\n",
      "2022-06-08 10:44:52,860 INFO: -----------------SAVE:130epoch----------------\n"
     ]
    },
    {
     "name": "stdout",
     "output_type": "stream",
     "text": [
      "\n",
      "best epoch:130/loss:1.9823/f1:0.5363\n"
     ]
    },
    {
     "name": "stderr",
     "output_type": "stream",
     "text": [
      "100%|███████████████████████████████████████████| 20/20 [00:09<00:00,  2.10it/s]\n",
      "2022-06-08 10:45:02,397 INFO: Epoch:[131/200]\n",
      "2022-06-08 10:45:02,398 INFO: Train Loss:2.157 | Acc:0.5402 | F1:0.4697\n"
     ]
    },
    {
     "name": "stdout",
     "output_type": "stream",
     "text": [
      "\n",
      "best epoch:130/loss:1.9823/f1:0.5363\n"
     ]
    },
    {
     "name": "stderr",
     "output_type": "stream",
     "text": [
      "100%|███████████████████████████████████████████| 20/20 [00:09<00:00,  2.13it/s]\n",
      "2022-06-08 10:45:11,782 INFO: Epoch:[132/200]\n",
      "2022-06-08 10:45:11,782 INFO: Train Loss:2.015 | Acc:0.5723 | F1:0.5023\n"
     ]
    },
    {
     "name": "stdout",
     "output_type": "stream",
     "text": [
      "\n",
      "best epoch:130/loss:1.9823/f1:0.5363\n"
     ]
    },
    {
     "name": "stderr",
     "output_type": "stream",
     "text": [
      "100%|███████████████████████████████████████████| 20/20 [00:09<00:00,  2.10it/s]\n",
      "2022-06-08 10:45:21,309 INFO: Epoch:[133/200]\n",
      "2022-06-08 10:45:21,309 INFO: Train Loss:1.983 | Acc:0.6238 | F1:0.5597\n"
     ]
    },
    {
     "name": "stdout",
     "output_type": "stream",
     "text": [
      "\n",
      "best epoch:130/loss:1.9823/f1:0.5363\n"
     ]
    },
    {
     "name": "stderr",
     "output_type": "stream",
     "text": [
      "100%|███████████████████████████████████████████| 20/20 [00:09<00:00,  2.11it/s]\n",
      "2022-06-08 10:45:30,809 INFO: Epoch:[134/200]\n",
      "2022-06-08 10:45:30,810 INFO: Train Loss:1.937 | Acc:0.6270 | F1:0.5683\n",
      "2022-06-08 10:45:34,982 INFO: -----------------SAVE:134epoch----------------\n"
     ]
    },
    {
     "name": "stdout",
     "output_type": "stream",
     "text": [
      "\n",
      "best epoch:134/loss:1.9368/f1:0.5683\n"
     ]
    },
    {
     "name": "stderr",
     "output_type": "stream",
     "text": [
      "100%|███████████████████████████████████████████| 20/20 [00:09<00:00,  2.10it/s]\n",
      "2022-06-08 10:45:44,521 INFO: Epoch:[135/200]\n",
      "2022-06-08 10:45:44,522 INFO: Train Loss:1.963 | Acc:0.6045 | F1:0.5353\n"
     ]
    },
    {
     "name": "stdout",
     "output_type": "stream",
     "text": [
      "\n",
      "best epoch:134/loss:1.9368/f1:0.5683\n"
     ]
    },
    {
     "name": "stderr",
     "output_type": "stream",
     "text": [
      "100%|███████████████████████████████████████████| 20/20 [00:09<00:00,  2.11it/s]\n",
      "2022-06-08 10:45:54,028 INFO: Epoch:[136/200]\n",
      "2022-06-08 10:45:54,029 INFO: Train Loss:2.100 | Acc:0.5338 | F1:0.4562\n"
     ]
    },
    {
     "name": "stdout",
     "output_type": "stream",
     "text": [
      "\n",
      "best epoch:134/loss:1.9368/f1:0.5683\n"
     ]
    },
    {
     "name": "stderr",
     "output_type": "stream",
     "text": [
      "100%|███████████████████████████████████████████| 20/20 [00:09<00:00,  2.09it/s]\n",
      "2022-06-08 10:46:03,606 INFO: Epoch:[137/200]\n",
      "2022-06-08 10:46:03,607 INFO: Train Loss:1.900 | Acc:0.6206 | F1:0.5529\n",
      "2022-06-08 10:46:07,694 INFO: -----------------SAVE:137epoch----------------\n"
     ]
    },
    {
     "name": "stdout",
     "output_type": "stream",
     "text": [
      "\n",
      "best epoch:137/loss:1.8999/f1:0.5529\n"
     ]
    },
    {
     "name": "stderr",
     "output_type": "stream",
     "text": [
      "100%|███████████████████████████████████████████| 20/20 [00:09<00:00,  2.12it/s]\n",
      "2022-06-08 10:46:17,113 INFO: Epoch:[138/200]\n",
      "2022-06-08 10:46:17,114 INFO: Train Loss:1.862 | Acc:0.5916 | F1:0.5328\n",
      "2022-06-08 10:46:21,170 INFO: -----------------SAVE:138epoch----------------\n"
     ]
    },
    {
     "name": "stdout",
     "output_type": "stream",
     "text": [
      "\n",
      "best epoch:138/loss:1.8623/f1:0.5328\n"
     ]
    },
    {
     "name": "stderr",
     "output_type": "stream",
     "text": [
      "100%|███████████████████████████████████████████| 20/20 [00:09<00:00,  2.06it/s]\n",
      "2022-06-08 10:46:30,882 INFO: Epoch:[139/200]\n",
      "2022-06-08 10:46:30,883 INFO: Train Loss:1.934 | Acc:0.5981 | F1:0.5250\n"
     ]
    },
    {
     "name": "stdout",
     "output_type": "stream",
     "text": [
      "\n",
      "best epoch:138/loss:1.8623/f1:0.5328\n"
     ]
    },
    {
     "name": "stderr",
     "output_type": "stream",
     "text": [
      "100%|███████████████████████████████████████████| 20/20 [00:09<00:00,  2.13it/s]\n",
      "2022-06-08 10:46:40,273 INFO: Epoch:[140/200]\n",
      "2022-06-08 10:46:40,274 INFO: Train Loss:2.002 | Acc:0.5788 | F1:0.5159\n"
     ]
    },
    {
     "name": "stdout",
     "output_type": "stream",
     "text": [
      "\n",
      "best epoch:138/loss:1.8623/f1:0.5328\n"
     ]
    },
    {
     "name": "stderr",
     "output_type": "stream",
     "text": [
      "100%|███████████████████████████████████████████| 20/20 [00:09<00:00,  2.12it/s]\n",
      "2022-06-08 10:46:49,722 INFO: Epoch:[141/200]\n",
      "2022-06-08 10:46:49,723 INFO: Train Loss:1.995 | Acc:0.5820 | F1:0.5091\n"
     ]
    },
    {
     "name": "stdout",
     "output_type": "stream",
     "text": [
      "\n",
      "best epoch:138/loss:1.8623/f1:0.5328\n"
     ]
    },
    {
     "name": "stderr",
     "output_type": "stream",
     "text": [
      "100%|███████████████████████████████████████████| 20/20 [00:09<00:00,  2.09it/s]\n",
      "2022-06-08 10:46:59,284 INFO: Epoch:[142/200]\n",
      "2022-06-08 10:46:59,284 INFO: Train Loss:1.848 | Acc:0.6141 | F1:0.5492\n",
      "2022-06-08 10:47:03,358 INFO: -----------------SAVE:142epoch----------------\n"
     ]
    },
    {
     "name": "stdout",
     "output_type": "stream",
     "text": [
      "\n",
      "best epoch:142/loss:1.8481/f1:0.5492\n"
     ]
    },
    {
     "name": "stderr",
     "output_type": "stream",
     "text": [
      "100%|███████████████████████████████████████████| 20/20 [00:09<00:00,  2.05it/s]\n",
      "2022-06-08 10:47:13,122 INFO: Epoch:[143/200]\n",
      "2022-06-08 10:47:13,123 INFO: Train Loss:1.786 | Acc:0.6656 | F1:0.5975\n",
      "2022-06-08 10:47:17,184 INFO: -----------------SAVE:143epoch----------------\n"
     ]
    },
    {
     "name": "stdout",
     "output_type": "stream",
     "text": [
      "\n",
      "best epoch:143/loss:1.7862/f1:0.5975\n"
     ]
    },
    {
     "name": "stderr",
     "output_type": "stream",
     "text": [
      "100%|███████████████████████████████████████████| 20/20 [00:09<00:00,  2.09it/s]\n",
      "2022-06-08 10:47:26,763 INFO: Epoch:[144/200]\n",
      "2022-06-08 10:47:26,764 INFO: Train Loss:1.846 | Acc:0.6495 | F1:0.5738\n"
     ]
    },
    {
     "name": "stdout",
     "output_type": "stream",
     "text": [
      "\n",
      "best epoch:143/loss:1.7862/f1:0.5975\n"
     ]
    },
    {
     "name": "stderr",
     "output_type": "stream",
     "text": [
      "100%|███████████████████████████████████████████| 20/20 [00:09<00:00,  2.08it/s]\n",
      "2022-06-08 10:47:36,385 INFO: Epoch:[145/200]\n",
      "2022-06-08 10:47:36,386 INFO: Train Loss:1.682 | Acc:0.6849 | F1:0.6192\n",
      "2022-06-08 10:47:40,462 INFO: -----------------SAVE:145epoch----------------\n"
     ]
    },
    {
     "name": "stdout",
     "output_type": "stream",
     "text": [
      "\n",
      "best epoch:145/loss:1.6823/f1:0.6192\n"
     ]
    },
    {
     "name": "stderr",
     "output_type": "stream",
     "text": [
      "100%|███████████████████████████████████████████| 20/20 [00:09<00:00,  2.07it/s]\n",
      "2022-06-08 10:47:50,150 INFO: Epoch:[146/200]\n",
      "2022-06-08 10:47:50,150 INFO: Train Loss:1.929 | Acc:0.5981 | F1:0.5305\n"
     ]
    },
    {
     "name": "stdout",
     "output_type": "stream",
     "text": [
      "\n",
      "best epoch:145/loss:1.6823/f1:0.6192\n"
     ]
    },
    {
     "name": "stderr",
     "output_type": "stream",
     "text": [
      "100%|███████████████████████████████████████████| 20/20 [00:09<00:00,  2.07it/s]\n",
      "2022-06-08 10:47:59,842 INFO: Epoch:[147/200]\n",
      "2022-06-08 10:47:59,843 INFO: Train Loss:1.589 | Acc:0.6752 | F1:0.6126\n",
      "2022-06-08 10:48:03,925 INFO: -----------------SAVE:147epoch----------------\n"
     ]
    },
    {
     "name": "stdout",
     "output_type": "stream",
     "text": [
      "\n",
      "best epoch:147/loss:1.5891/f1:0.6126\n"
     ]
    },
    {
     "name": "stderr",
     "output_type": "stream",
     "text": [
      "100%|███████████████████████████████████████████| 20/20 [00:09<00:00,  2.04it/s]\n",
      "2022-06-08 10:48:13,717 INFO: Epoch:[148/200]\n",
      "2022-06-08 10:48:13,718 INFO: Train Loss:1.833 | Acc:0.6302 | F1:0.5591\n"
     ]
    },
    {
     "name": "stdout",
     "output_type": "stream",
     "text": [
      "\n",
      "best epoch:147/loss:1.5891/f1:0.6126\n"
     ]
    },
    {
     "name": "stderr",
     "output_type": "stream",
     "text": [
      "100%|███████████████████████████████████████████| 20/20 [00:09<00:00,  2.11it/s]\n",
      "2022-06-08 10:48:23,221 INFO: Epoch:[149/200]\n",
      "2022-06-08 10:48:23,221 INFO: Train Loss:1.735 | Acc:0.6270 | F1:0.5674\n"
     ]
    },
    {
     "name": "stdout",
     "output_type": "stream",
     "text": [
      "\n",
      "best epoch:147/loss:1.5891/f1:0.6126\n"
     ]
    },
    {
     "name": "stderr",
     "output_type": "stream",
     "text": [
      "100%|███████████████████████████████████████████| 20/20 [00:09<00:00,  2.06it/s]\n",
      "2022-06-08 10:48:32,919 INFO: Epoch:[150/200]\n",
      "2022-06-08 10:48:32,920 INFO: Train Loss:1.799 | Acc:0.6270 | F1:0.5562\n"
     ]
    },
    {
     "name": "stdout",
     "output_type": "stream",
     "text": [
      "\n",
      "best epoch:147/loss:1.5891/f1:0.6126\n"
     ]
    },
    {
     "name": "stderr",
     "output_type": "stream",
     "text": [
      "100%|███████████████████████████████████████████| 20/20 [00:09<00:00,  2.08it/s]\n",
      "2022-06-08 10:48:42,557 INFO: Epoch:[151/200]\n",
      "2022-06-08 10:48:42,558 INFO: Train Loss:1.628 | Acc:0.6688 | F1:0.6061\n"
     ]
    },
    {
     "name": "stdout",
     "output_type": "stream",
     "text": [
      "\n",
      "best epoch:147/loss:1.5891/f1:0.6126\n"
     ]
    },
    {
     "name": "stderr",
     "output_type": "stream",
     "text": [
      "100%|███████████████████████████████████████████| 20/20 [00:09<00:00,  2.06it/s]\n",
      "2022-06-08 10:48:52,272 INFO: Epoch:[152/200]\n",
      "2022-06-08 10:48:52,272 INFO: Train Loss:1.721 | Acc:0.6045 | F1:0.5358\n"
     ]
    },
    {
     "name": "stdout",
     "output_type": "stream",
     "text": [
      "\n",
      "best epoch:147/loss:1.5891/f1:0.6126\n"
     ]
    },
    {
     "name": "stderr",
     "output_type": "stream",
     "text": [
      "100%|███████████████████████████████████████████| 20/20 [00:09<00:00,  2.06it/s]\n",
      "2022-06-08 10:49:01,985 INFO: Epoch:[153/200]\n",
      "2022-06-08 10:49:01,986 INFO: Train Loss:1.621 | Acc:0.6720 | F1:0.6079\n"
     ]
    },
    {
     "name": "stdout",
     "output_type": "stream",
     "text": [
      "\n",
      "best epoch:147/loss:1.5891/f1:0.6126\n"
     ]
    },
    {
     "name": "stderr",
     "output_type": "stream",
     "text": [
      "100%|███████████████████████████████████████████| 20/20 [00:09<00:00,  2.09it/s]\n",
      "2022-06-08 10:49:11,569 INFO: Epoch:[154/200]\n",
      "2022-06-08 10:49:11,570 INFO: Train Loss:1.631 | Acc:0.6881 | F1:0.6424\n"
     ]
    },
    {
     "name": "stdout",
     "output_type": "stream",
     "text": [
      "\n",
      "best epoch:147/loss:1.5891/f1:0.6126\n"
     ]
    },
    {
     "name": "stderr",
     "output_type": "stream",
     "text": [
      "100%|███████████████████████████████████████████| 20/20 [00:09<00:00,  2.04it/s]\n",
      "2022-06-08 10:49:21,364 INFO: Epoch:[155/200]\n",
      "2022-06-08 10:49:21,365 INFO: Train Loss:1.828 | Acc:0.6238 | F1:0.5661\n"
     ]
    },
    {
     "name": "stdout",
     "output_type": "stream",
     "text": [
      "\n",
      "best epoch:147/loss:1.5891/f1:0.6126\n"
     ]
    },
    {
     "name": "stderr",
     "output_type": "stream",
     "text": [
      "100%|███████████████████████████████████████████| 20/20 [00:09<00:00,  2.08it/s]\n",
      "2022-06-08 10:49:30,973 INFO: Epoch:[156/200]\n",
      "2022-06-08 10:49:30,974 INFO: Train Loss:1.714 | Acc:0.6206 | F1:0.5550\n"
     ]
    },
    {
     "name": "stdout",
     "output_type": "stream",
     "text": [
      "\n",
      "best epoch:147/loss:1.5891/f1:0.6126\n"
     ]
    },
    {
     "name": "stderr",
     "output_type": "stream",
     "text": [
      "100%|███████████████████████████████████████████| 20/20 [00:09<00:00,  2.09it/s]\n",
      "2022-06-08 10:49:40,567 INFO: Epoch:[157/200]\n",
      "2022-06-08 10:49:40,568 INFO: Train Loss:1.545 | Acc:0.6977 | F1:0.6386\n",
      "2022-06-08 10:49:44,737 INFO: -----------------SAVE:157epoch----------------\n"
     ]
    },
    {
     "name": "stdout",
     "output_type": "stream",
     "text": [
      "\n",
      "best epoch:157/loss:1.5454/f1:0.6386\n"
     ]
    },
    {
     "name": "stderr",
     "output_type": "stream",
     "text": [
      "100%|███████████████████████████████████████████| 20/20 [00:09<00:00,  2.06it/s]\n",
      "2022-06-08 10:49:54,474 INFO: Epoch:[158/200]\n",
      "2022-06-08 10:49:54,475 INFO: Train Loss:1.658 | Acc:0.6495 | F1:0.5847\n"
     ]
    },
    {
     "name": "stdout",
     "output_type": "stream",
     "text": [
      "\n",
      "best epoch:157/loss:1.5454/f1:0.6386\n"
     ]
    },
    {
     "name": "stderr",
     "output_type": "stream",
     "text": [
      "100%|███████████████████████████████████████████| 20/20 [00:09<00:00,  2.06it/s]\n",
      "2022-06-08 10:50:04,199 INFO: Epoch:[159/200]\n",
      "2022-06-08 10:50:04,200 INFO: Train Loss:1.524 | Acc:0.6977 | F1:0.6387\n",
      "2022-06-08 10:50:08,288 INFO: -----------------SAVE:159epoch----------------\n"
     ]
    },
    {
     "name": "stdout",
     "output_type": "stream",
     "text": [
      "\n",
      "best epoch:159/loss:1.5242/f1:0.6387\n"
     ]
    },
    {
     "name": "stderr",
     "output_type": "stream",
     "text": [
      "100%|███████████████████████████████████████████| 20/20 [00:09<00:00,  2.05it/s]\n",
      "2022-06-08 10:50:18,046 INFO: Epoch:[160/200]\n",
      "2022-06-08 10:50:18,046 INFO: Train Loss:1.579 | Acc:0.6913 | F1:0.6245\n"
     ]
    },
    {
     "name": "stdout",
     "output_type": "stream",
     "text": [
      "\n",
      "best epoch:159/loss:1.5242/f1:0.6387\n"
     ]
    },
    {
     "name": "stderr",
     "output_type": "stream",
     "text": [
      "100%|███████████████████████████████████████████| 20/20 [00:09<00:00,  2.09it/s]\n",
      "2022-06-08 10:50:27,645 INFO: Epoch:[161/200]\n",
      "2022-06-08 10:50:27,645 INFO: Train Loss:1.637 | Acc:0.6688 | F1:0.6130\n"
     ]
    },
    {
     "name": "stdout",
     "output_type": "stream",
     "text": [
      "\n",
      "best epoch:159/loss:1.5242/f1:0.6387\n"
     ]
    },
    {
     "name": "stderr",
     "output_type": "stream",
     "text": [
      "100%|███████████████████████████████████████████| 20/20 [00:09<00:00,  2.05it/s]\n",
      "2022-06-08 10:50:37,398 INFO: Epoch:[162/200]\n",
      "2022-06-08 10:50:37,398 INFO: Train Loss:1.610 | Acc:0.6624 | F1:0.5926\n"
     ]
    },
    {
     "name": "stdout",
     "output_type": "stream",
     "text": [
      "\n",
      "best epoch:159/loss:1.5242/f1:0.6387\n"
     ]
    },
    {
     "name": "stderr",
     "output_type": "stream",
     "text": [
      "100%|███████████████████████████████████████████| 20/20 [00:09<00:00,  2.03it/s]\n",
      "2022-06-08 10:50:47,280 INFO: Epoch:[163/200]\n",
      "2022-06-08 10:50:47,281 INFO: Train Loss:1.524 | Acc:0.6752 | F1:0.6103\n"
     ]
    },
    {
     "name": "stdout",
     "output_type": "stream",
     "text": [
      "\n",
      "best epoch:159/loss:1.5242/f1:0.6387\n"
     ]
    },
    {
     "name": "stderr",
     "output_type": "stream",
     "text": [
      "100%|███████████████████████████████████████████| 20/20 [00:09<00:00,  2.06it/s]\n",
      "2022-06-08 10:50:57,018 INFO: Epoch:[164/200]\n",
      "2022-06-08 10:50:57,019 INFO: Train Loss:1.528 | Acc:0.7074 | F1:0.6506\n"
     ]
    },
    {
     "name": "stdout",
     "output_type": "stream",
     "text": [
      "\n",
      "best epoch:159/loss:1.5242/f1:0.6387\n"
     ]
    },
    {
     "name": "stderr",
     "output_type": "stream",
     "text": [
      "100%|███████████████████████████████████████████| 20/20 [00:09<00:00,  2.07it/s]\n",
      "2022-06-08 10:51:06,689 INFO: Epoch:[165/200]\n",
      "2022-06-08 10:51:06,690 INFO: Train Loss:1.656 | Acc:0.6592 | F1:0.5924\n"
     ]
    },
    {
     "name": "stdout",
     "output_type": "stream",
     "text": [
      "\n",
      "best epoch:159/loss:1.5242/f1:0.6387\n"
     ]
    },
    {
     "name": "stderr",
     "output_type": "stream",
     "text": [
      "100%|███████████████████████████████████████████| 20/20 [00:09<00:00,  2.03it/s]\n",
      "2022-06-08 10:51:16,546 INFO: Epoch:[166/200]\n",
      "2022-06-08 10:51:16,547 INFO: Train Loss:1.499 | Acc:0.7010 | F1:0.6396\n",
      "2022-06-08 10:51:20,635 INFO: -----------------SAVE:166epoch----------------\n"
     ]
    },
    {
     "name": "stdout",
     "output_type": "stream",
     "text": [
      "\n",
      "best epoch:166/loss:1.4994/f1:0.6396\n"
     ]
    },
    {
     "name": "stderr",
     "output_type": "stream",
     "text": [
      "100%|███████████████████████████████████████████| 20/20 [00:09<00:00,  2.05it/s]\n",
      "2022-06-08 10:51:30,422 INFO: Epoch:[167/200]\n",
      "2022-06-08 10:51:30,422 INFO: Train Loss:1.581 | Acc:0.6334 | F1:0.5676\n"
     ]
    },
    {
     "name": "stdout",
     "output_type": "stream",
     "text": [
      "\n",
      "best epoch:166/loss:1.4994/f1:0.6396\n"
     ]
    },
    {
     "name": "stderr",
     "output_type": "stream",
     "text": [
      "100%|███████████████████████████████████████████| 20/20 [00:09<00:00,  2.04it/s]\n",
      "2022-06-08 10:51:40,239 INFO: Epoch:[168/200]\n",
      "2022-06-08 10:51:40,240 INFO: Train Loss:1.504 | Acc:0.6945 | F1:0.6399\n"
     ]
    },
    {
     "name": "stdout",
     "output_type": "stream",
     "text": [
      "\n",
      "best epoch:166/loss:1.4994/f1:0.6396\n"
     ]
    },
    {
     "name": "stderr",
     "output_type": "stream",
     "text": [
      "100%|███████████████████████████████████████████| 20/20 [00:09<00:00,  2.06it/s]\n",
      "2022-06-08 10:51:49,940 INFO: Epoch:[169/200]\n",
      "2022-06-08 10:51:49,941 INFO: Train Loss:1.572 | Acc:0.6688 | F1:0.6168\n"
     ]
    },
    {
     "name": "stdout",
     "output_type": "stream",
     "text": [
      "\n",
      "best epoch:166/loss:1.4994/f1:0.6396\n"
     ]
    },
    {
     "name": "stderr",
     "output_type": "stream",
     "text": [
      "100%|███████████████████████████████████████████| 20/20 [00:09<00:00,  2.08it/s]\n",
      "2022-06-08 10:51:59,561 INFO: Epoch:[170/200]\n",
      "2022-06-08 10:51:59,562 INFO: Train Loss:1.444 | Acc:0.7106 | F1:0.6532\n",
      "2022-06-08 10:52:03,631 INFO: -----------------SAVE:170epoch----------------\n"
     ]
    },
    {
     "name": "stdout",
     "output_type": "stream",
     "text": [
      "\n",
      "best epoch:170/loss:1.4441/f1:0.6532\n"
     ]
    },
    {
     "name": "stderr",
     "output_type": "stream",
     "text": [
      "100%|███████████████████████████████████████████| 20/20 [00:09<00:00,  2.04it/s]\n",
      "2022-06-08 10:52:13,441 INFO: Epoch:[171/200]\n",
      "2022-06-08 10:52:13,442 INFO: Train Loss:1.638 | Acc:0.6399 | F1:0.5787\n"
     ]
    },
    {
     "name": "stdout",
     "output_type": "stream",
     "text": [
      "\n",
      "best epoch:170/loss:1.4441/f1:0.6532\n"
     ]
    },
    {
     "name": "stderr",
     "output_type": "stream",
     "text": [
      "100%|███████████████████████████████████████████| 20/20 [00:09<00:00,  2.05it/s]\n",
      "2022-06-08 10:52:23,196 INFO: Epoch:[172/200]\n",
      "2022-06-08 10:52:23,197 INFO: Train Loss:1.604 | Acc:0.7010 | F1:0.6532\n"
     ]
    },
    {
     "name": "stdout",
     "output_type": "stream",
     "text": [
      "\n",
      "best epoch:170/loss:1.4441/f1:0.6532\n"
     ]
    },
    {
     "name": "stderr",
     "output_type": "stream",
     "text": [
      "100%|███████████████████████████████████████████| 20/20 [00:09<00:00,  2.06it/s]\n",
      "2022-06-08 10:52:32,906 INFO: Epoch:[173/200]\n",
      "2022-06-08 10:52:32,907 INFO: Train Loss:1.547 | Acc:0.6881 | F1:0.6222\n"
     ]
    },
    {
     "name": "stdout",
     "output_type": "stream",
     "text": [
      "\n",
      "best epoch:170/loss:1.4441/f1:0.6532\n"
     ]
    },
    {
     "name": "stderr",
     "output_type": "stream",
     "text": [
      "100%|███████████████████████████████████████████| 20/20 [00:09<00:00,  2.06it/s]\n",
      "2022-06-08 10:52:42,647 INFO: Epoch:[174/200]\n",
      "2022-06-08 10:52:42,647 INFO: Train Loss:1.474 | Acc:0.7106 | F1:0.6584\n"
     ]
    },
    {
     "name": "stdout",
     "output_type": "stream",
     "text": [
      "\n",
      "best epoch:170/loss:1.4441/f1:0.6532\n"
     ]
    },
    {
     "name": "stderr",
     "output_type": "stream",
     "text": [
      "100%|███████████████████████████████████████████| 20/20 [00:09<00:00,  2.03it/s]\n",
      "2022-06-08 10:52:52,528 INFO: Epoch:[175/200]\n",
      "2022-06-08 10:52:52,529 INFO: Train Loss:1.515 | Acc:0.7170 | F1:0.6629\n"
     ]
    },
    {
     "name": "stdout",
     "output_type": "stream",
     "text": [
      "\n",
      "best epoch:170/loss:1.4441/f1:0.6532\n"
     ]
    },
    {
     "name": "stderr",
     "output_type": "stream",
     "text": [
      "100%|███████████████████████████████████████████| 20/20 [00:09<00:00,  2.07it/s]\n",
      "2022-06-08 10:53:02,203 INFO: Epoch:[176/200]\n",
      "2022-06-08 10:53:02,204 INFO: Train Loss:1.476 | Acc:0.6945 | F1:0.6320\n"
     ]
    },
    {
     "name": "stdout",
     "output_type": "stream",
     "text": [
      "\n",
      "best epoch:170/loss:1.4441/f1:0.6532\n"
     ]
    },
    {
     "name": "stderr",
     "output_type": "stream",
     "text": [
      "100%|███████████████████████████████████████████| 20/20 [00:09<00:00,  2.04it/s]\n",
      "2022-06-08 10:53:12,031 INFO: Epoch:[177/200]\n",
      "2022-06-08 10:53:12,032 INFO: Train Loss:1.472 | Acc:0.7042 | F1:0.6548\n"
     ]
    },
    {
     "name": "stdout",
     "output_type": "stream",
     "text": [
      "\n",
      "best epoch:170/loss:1.4441/f1:0.6532\n"
     ]
    },
    {
     "name": "stderr",
     "output_type": "stream",
     "text": [
      "100%|███████████████████████████████████████████| 20/20 [00:09<00:00,  2.03it/s]\n",
      "2022-06-08 10:53:21,897 INFO: Epoch:[178/200]\n",
      "2022-06-08 10:53:21,897 INFO: Train Loss:1.466 | Acc:0.7074 | F1:0.6545\n"
     ]
    },
    {
     "name": "stdout",
     "output_type": "stream",
     "text": [
      "\n",
      "best epoch:170/loss:1.4441/f1:0.6532\n"
     ]
    },
    {
     "name": "stderr",
     "output_type": "stream",
     "text": [
      "100%|███████████████████████████████████████████| 20/20 [00:09<00:00,  2.06it/s]\n",
      "2022-06-08 10:53:31,630 INFO: Epoch:[179/200]\n",
      "2022-06-08 10:53:31,631 INFO: Train Loss:1.503 | Acc:0.7203 | F1:0.6538\n"
     ]
    },
    {
     "name": "stdout",
     "output_type": "stream",
     "text": [
      "\n",
      "best epoch:170/loss:1.4441/f1:0.6532\n"
     ]
    },
    {
     "name": "stderr",
     "output_type": "stream",
     "text": [
      "100%|███████████████████████████████████████████| 20/20 [00:09<00:00,  2.04it/s]\n",
      "2022-06-08 10:53:41,428 INFO: Epoch:[180/200]\n",
      "2022-06-08 10:53:41,428 INFO: Train Loss:1.551 | Acc:0.7042 | F1:0.6459\n"
     ]
    },
    {
     "name": "stdout",
     "output_type": "stream",
     "text": [
      "\n",
      "best epoch:170/loss:1.4441/f1:0.6532\n"
     ]
    },
    {
     "name": "stderr",
     "output_type": "stream",
     "text": [
      "100%|███████████████████████████████████████████| 20/20 [00:09<00:00,  2.06it/s]\n",
      "2022-06-08 10:53:51,142 INFO: Epoch:[181/200]\n",
      "2022-06-08 10:53:51,143 INFO: Train Loss:1.409 | Acc:0.7363 | F1:0.6880\n",
      "2022-06-08 10:53:55,237 INFO: -----------------SAVE:181epoch----------------\n"
     ]
    },
    {
     "name": "stdout",
     "output_type": "stream",
     "text": [
      "\n",
      "best epoch:181/loss:1.4090/f1:0.6880\n"
     ]
    },
    {
     "name": "stderr",
     "output_type": "stream",
     "text": [
      "100%|███████████████████████████████████████████| 20/20 [00:09<00:00,  2.04it/s]\n",
      "2022-06-08 10:54:05,048 INFO: Epoch:[182/200]\n",
      "2022-06-08 10:54:05,048 INFO: Train Loss:1.564 | Acc:0.7074 | F1:0.6508\n"
     ]
    },
    {
     "name": "stdout",
     "output_type": "stream",
     "text": [
      "\n",
      "best epoch:181/loss:1.4090/f1:0.6880\n"
     ]
    },
    {
     "name": "stderr",
     "output_type": "stream",
     "text": [
      "100%|███████████████████████████████████████████| 20/20 [00:09<00:00,  2.06it/s]\n",
      "2022-06-08 10:54:14,781 INFO: Epoch:[183/200]\n",
      "2022-06-08 10:54:14,782 INFO: Train Loss:1.580 | Acc:0.6399 | F1:0.5756\n"
     ]
    },
    {
     "name": "stdout",
     "output_type": "stream",
     "text": [
      "\n",
      "best epoch:181/loss:1.4090/f1:0.6880\n"
     ]
    },
    {
     "name": "stderr",
     "output_type": "stream",
     "text": [
      "100%|███████████████████████████████████████████| 20/20 [00:09<00:00,  2.02it/s]\n",
      "2022-06-08 10:54:24,705 INFO: Epoch:[184/200]\n",
      "2022-06-08 10:54:24,706 INFO: Train Loss:1.504 | Acc:0.7138 | F1:0.6596\n"
     ]
    },
    {
     "name": "stdout",
     "output_type": "stream",
     "text": [
      "\n",
      "best epoch:181/loss:1.4090/f1:0.6880\n"
     ]
    },
    {
     "name": "stderr",
     "output_type": "stream",
     "text": [
      "100%|███████████████████████████████████████████| 20/20 [00:09<00:00,  2.08it/s]\n",
      "2022-06-08 10:54:34,308 INFO: Epoch:[185/200]\n",
      "2022-06-08 10:54:34,309 INFO: Train Loss:1.488 | Acc:0.7010 | F1:0.6447\n"
     ]
    },
    {
     "name": "stdout",
     "output_type": "stream",
     "text": [
      "\n",
      "best epoch:181/loss:1.4090/f1:0.6880\n"
     ]
    },
    {
     "name": "stderr",
     "output_type": "stream",
     "text": [
      "100%|███████████████████████████████████████████| 20/20 [00:09<00:00,  2.09it/s]\n",
      "2022-06-08 10:54:43,895 INFO: Epoch:[186/200]\n",
      "2022-06-08 10:54:43,896 INFO: Train Loss:1.493 | Acc:0.6945 | F1:0.6408\n"
     ]
    },
    {
     "name": "stdout",
     "output_type": "stream",
     "text": [
      "\n",
      "best epoch:181/loss:1.4090/f1:0.6880\n"
     ]
    },
    {
     "name": "stderr",
     "output_type": "stream",
     "text": [
      "100%|███████████████████████████████████████████| 20/20 [00:09<00:00,  2.05it/s]\n",
      "2022-06-08 10:54:53,648 INFO: Epoch:[187/200]\n",
      "2022-06-08 10:54:53,649 INFO: Train Loss:1.371 | Acc:0.7653 | F1:0.7127\n",
      "2022-06-08 10:54:57,724 INFO: -----------------SAVE:187epoch----------------\n"
     ]
    },
    {
     "name": "stdout",
     "output_type": "stream",
     "text": [
      "\n",
      "best epoch:187/loss:1.3706/f1:0.7127\n"
     ]
    },
    {
     "name": "stderr",
     "output_type": "stream",
     "text": [
      "100%|███████████████████████████████████████████| 20/20 [00:09<00:00,  2.06it/s]\n",
      "2022-06-08 10:55:07,432 INFO: Epoch:[188/200]\n",
      "2022-06-08 10:55:07,433 INFO: Train Loss:1.430 | Acc:0.7363 | F1:0.6808\n"
     ]
    },
    {
     "name": "stdout",
     "output_type": "stream",
     "text": [
      "\n",
      "best epoch:187/loss:1.3706/f1:0.7127\n"
     ]
    },
    {
     "name": "stderr",
     "output_type": "stream",
     "text": [
      "100%|███████████████████████████████████████████| 20/20 [00:09<00:00,  2.07it/s]\n",
      "2022-06-08 10:55:17,113 INFO: Epoch:[189/200]\n",
      "2022-06-08 10:55:17,114 INFO: Train Loss:1.474 | Acc:0.7235 | F1:0.6682\n"
     ]
    },
    {
     "name": "stdout",
     "output_type": "stream",
     "text": [
      "\n",
      "best epoch:187/loss:1.3706/f1:0.7127\n"
     ]
    },
    {
     "name": "stderr",
     "output_type": "stream",
     "text": [
      "100%|███████████████████████████████████████████| 20/20 [00:09<00:00,  2.04it/s]\n",
      "2022-06-08 10:55:26,924 INFO: Epoch:[190/200]\n",
      "2022-06-08 10:55:26,925 INFO: Train Loss:1.344 | Acc:0.7621 | F1:0.7089\n",
      "2022-06-08 10:55:31,062 INFO: -----------------SAVE:190epoch----------------\n"
     ]
    },
    {
     "name": "stdout",
     "output_type": "stream",
     "text": [
      "\n",
      "best epoch:190/loss:1.3443/f1:0.7089\n"
     ]
    },
    {
     "name": "stderr",
     "output_type": "stream",
     "text": [
      "100%|███████████████████████████████████████████| 20/20 [00:09<00:00,  2.05it/s]\n",
      "2022-06-08 10:55:40,830 INFO: Epoch:[191/200]\n",
      "2022-06-08 10:55:40,831 INFO: Train Loss:1.491 | Acc:0.6849 | F1:0.6349\n"
     ]
    },
    {
     "name": "stdout",
     "output_type": "stream",
     "text": [
      "\n",
      "best epoch:190/loss:1.3443/f1:0.7089\n"
     ]
    },
    {
     "name": "stderr",
     "output_type": "stream",
     "text": [
      "100%|███████████████████████████████████████████| 20/20 [00:09<00:00,  2.06it/s]\n",
      "2022-06-08 10:55:50,543 INFO: Epoch:[192/200]\n",
      "2022-06-08 10:55:50,543 INFO: Train Loss:1.633 | Acc:0.6913 | F1:0.6354\n"
     ]
    },
    {
     "name": "stdout",
     "output_type": "stream",
     "text": [
      "\n",
      "best epoch:190/loss:1.3443/f1:0.7089\n"
     ]
    },
    {
     "name": "stderr",
     "output_type": "stream",
     "text": [
      "100%|███████████████████████████████████████████| 20/20 [00:09<00:00,  2.04it/s]\n",
      "2022-06-08 10:56:00,376 INFO: Epoch:[193/200]\n",
      "2022-06-08 10:56:00,377 INFO: Train Loss:1.471 | Acc:0.6817 | F1:0.6163\n"
     ]
    },
    {
     "name": "stdout",
     "output_type": "stream",
     "text": [
      "\n",
      "best epoch:190/loss:1.3443/f1:0.7089\n"
     ]
    },
    {
     "name": "stderr",
     "output_type": "stream",
     "text": [
      "100%|███████████████████████████████████████████| 20/20 [00:09<00:00,  2.04it/s]\n",
      "2022-06-08 10:56:10,169 INFO: Epoch:[194/200]\n",
      "2022-06-08 10:56:10,170 INFO: Train Loss:1.367 | Acc:0.7395 | F1:0.6896\n"
     ]
    },
    {
     "name": "stdout",
     "output_type": "stream",
     "text": [
      "\n",
      "best epoch:190/loss:1.3443/f1:0.7089\n"
     ]
    },
    {
     "name": "stderr",
     "output_type": "stream",
     "text": [
      "100%|███████████████████████████████████████████| 20/20 [00:09<00:00,  2.05it/s]\n",
      "2022-06-08 10:56:19,957 INFO: Epoch:[195/200]\n",
      "2022-06-08 10:56:19,957 INFO: Train Loss:1.532 | Acc:0.7106 | F1:0.6645\n"
     ]
    },
    {
     "name": "stdout",
     "output_type": "stream",
     "text": [
      "\n",
      "best epoch:190/loss:1.3443/f1:0.7089\n"
     ]
    },
    {
     "name": "stderr",
     "output_type": "stream",
     "text": [
      "100%|███████████████████████████████████████████| 20/20 [00:09<00:00,  2.05it/s]\n",
      "2022-06-08 10:56:29,730 INFO: Epoch:[196/200]\n",
      "2022-06-08 10:56:29,731 INFO: Train Loss:1.362 | Acc:0.7428 | F1:0.6910\n"
     ]
    },
    {
     "name": "stdout",
     "output_type": "stream",
     "text": [
      "\n",
      "best epoch:190/loss:1.3443/f1:0.7089\n"
     ]
    },
    {
     "name": "stderr",
     "output_type": "stream",
     "text": [
      "100%|███████████████████████████████████████████| 20/20 [00:09<00:00,  2.03it/s]\n",
      "2022-06-08 10:56:39,613 INFO: Epoch:[197/200]\n",
      "2022-06-08 10:56:39,613 INFO: Train Loss:1.529 | Acc:0.6913 | F1:0.6375\n"
     ]
    },
    {
     "name": "stdout",
     "output_type": "stream",
     "text": [
      "\n",
      "best epoch:190/loss:1.3443/f1:0.7089\n"
     ]
    },
    {
     "name": "stderr",
     "output_type": "stream",
     "text": [
      "100%|███████████████████████████████████████████| 20/20 [00:09<00:00,  2.03it/s]\n",
      "2022-06-08 10:56:49,486 INFO: Epoch:[198/200]\n",
      "2022-06-08 10:56:49,487 INFO: Train Loss:1.390 | Acc:0.7460 | F1:0.6910\n"
     ]
    },
    {
     "name": "stdout",
     "output_type": "stream",
     "text": [
      "\n",
      "best epoch:190/loss:1.3443/f1:0.7089\n"
     ]
    },
    {
     "name": "stderr",
     "output_type": "stream",
     "text": [
      "100%|███████████████████████████████████████████| 20/20 [00:09<00:00,  2.04it/s]\n",
      "2022-06-08 10:56:59,313 INFO: Epoch:[199/200]\n",
      "2022-06-08 10:56:59,314 INFO: Train Loss:1.485 | Acc:0.7042 | F1:0.6523\n"
     ]
    },
    {
     "name": "stdout",
     "output_type": "stream",
     "text": [
      "\n",
      "best epoch:190/loss:1.3443/f1:0.7089\n"
     ]
    },
    {
     "name": "stderr",
     "output_type": "stream",
     "text": [
      "100%|███████████████████████████████████████████| 20/20 [00:09<00:00,  2.06it/s]\n",
      "2022-06-08 10:57:09,018 INFO: Epoch:[200/200]\n",
      "2022-06-08 10:57:09,019 INFO: Train Loss:1.453 | Acc:0.7267 | F1:0.6707\n",
      "2022-06-08 10:57:09,024 INFO: \n",
      "Best Train Epoch:190 | Train Loss:1.3443 | Train Acc:0.7621 | Train F1:0.7089\n",
      "2022-06-08 10:57:09,025 INFO: Total Process time:39.165Minute\n"
     ]
    },
    {
     "name": "stdout",
     "output_type": "stream",
     "text": [
      "\n",
      "best epoch:190/loss:1.3443/f1:0.7089\n"
     ]
    }
   ],
   "source": [
    "# fold 없이\n",
    "models_path = []\n",
    "args.fold = 0\n",
    "args.exp_num = str(0)\n",
    "save_path = main(args)\n",
    "models_path.append(save_path)"
   ]
  },
  {
   "cell_type": "code",
   "execution_count": 19,
   "id": "f626fb20",
   "metadata": {},
   "outputs": [
    {
     "data": {
      "text/plain": [
       "['results/000']"
      ]
     },
     "execution_count": 19,
     "metadata": {},
     "output_type": "execute_result"
    }
   ],
   "source": [
    "models_path"
   ]
  },
  {
   "cell_type": "code",
   "execution_count": 20,
   "id": "a866b263",
   "metadata": {},
   "outputs": [],
   "source": [
    "# # fold X\n",
    "# result = result(models_path, test_loader, device)"
   ]
  },
  {
   "cell_type": "code",
   "execution_count": 21,
   "id": "d34beddd",
   "metadata": {},
   "outputs": [
    {
     "name": "stdout",
     "output_type": "stream",
     "text": [
      "batch_size = 16\n",
      "epochs = 200\n",
      "img_size = 224\n",
      "patience = 20\n"
     ]
    }
   ],
   "source": [
    "# 학습에 사용한 모델의 batch_size, epoch, img_size, patience\n",
    "print('batch_size =', args.batch_size)\n",
    "print('epochs =', args.epochs)\n",
    "print('img_size =', args.img_size)\n",
    "print('patience =', args.patience)"
   ]
  },
  {
   "cell_type": "code",
   "execution_count": 22,
   "id": "a1f5385e",
   "metadata": {},
   "outputs": [
    {
     "name": "stdout",
     "output_type": "stream",
     "text": [
      "model = regnety_160\n"
     ]
    }
   ],
   "source": [
    "print('model =', args.encoder_name)"
   ]
  },
  {
   "cell_type": "code",
   "execution_count": null,
   "id": "f18ee487",
   "metadata": {},
   "outputs": [],
   "source": []
  },
  {
   "cell_type": "code",
   "execution_count": null,
   "id": "fdfece32",
   "metadata": {},
   "outputs": [],
   "source": []
  },
  {
   "cell_type": "code",
   "execution_count": null,
   "id": "32afb705",
   "metadata": {},
   "outputs": [],
   "source": []
  },
  {
   "cell_type": "code",
   "execution_count": null,
   "id": "d2b2aea6",
   "metadata": {},
   "outputs": [],
   "source": []
  },
  {
   "cell_type": "code",
   "execution_count": null,
   "id": "9f94a302",
   "metadata": {},
   "outputs": [],
   "source": []
  },
  {
   "cell_type": "code",
   "execution_count": null,
   "id": "58f81609",
   "metadata": {},
   "outputs": [],
   "source": []
  }
 ],
 "metadata": {
  "kernelspec": {
   "display_name": "Python [conda env:pytorch_16] *",
   "language": "python",
   "name": "conda-env-pytorch_16-py"
  },
  "language_info": {
   "codemirror_mode": {
    "name": "ipython",
    "version": 3
   },
   "file_extension": ".py",
   "mimetype": "text/x-python",
   "name": "python",
   "nbconvert_exporter": "python",
   "pygments_lexer": "ipython3",
   "version": "3.8.13"
  }
 },
 "nbformat": 4,
 "nbformat_minor": 5
}
