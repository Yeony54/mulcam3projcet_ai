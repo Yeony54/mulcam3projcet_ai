{
 "cells": [
  {
   "cell_type": "code",
   "execution_count": 1,
   "id": "NWm2EDuv4sCg",
   "metadata": {
    "colab": {
     "base_uri": "https://localhost:8080/"
    },
    "executionInfo": {
     "elapsed": 19488,
     "status": "ok",
     "timestamp": 1652399878775,
     "user": {
      "displayName": "jiyeon seo",
      "userId": "13077474525846695766"
     },
     "user_tz": -540
    },
    "id": "NWm2EDuv4sCg",
    "outputId": "853e895d-752b-45eb-ace5-30bd57350471"
   },
   "outputs": [],
   "source": [
    "# from google.colab import drive\n",
    "# drive.mount('/content/drive')"
   ]
  },
  {
   "cell_type": "code",
   "execution_count": 2,
   "id": "SvMP8rdQ42W2",
   "metadata": {
    "colab": {
     "base_uri": "https://localhost:8080/"
    },
    "executionInfo": {
     "elapsed": 3697,
     "status": "ok",
     "timestamp": 1652399888579,
     "user": {
      "displayName": "jiyeon seo",
      "userId": "13077474525846695766"
     },
     "user_tz": -540
    },
    "id": "SvMP8rdQ42W2",
    "outputId": "9169db97-399d-45a5-c6dc-52bf9abb32b6"
   },
   "outputs": [],
   "source": [
    "# !pip install timm"
   ]
  },
  {
   "cell_type": "code",
   "execution_count": 1,
   "id": "LlcNsGEk7L5r",
   "metadata": {
    "executionInfo": {
     "elapsed": 5444,
     "status": "ok",
     "timestamp": 1652399900429,
     "user": {
      "displayName": "jiyeon seo",
      "userId": "13077474525846695766"
     },
     "user_tz": -540
    },
    "id": "LlcNsGEk7L5r"
   },
   "outputs": [],
   "source": [
    "import warnings\n",
    "warnings.filterwarnings('ignore')\n",
    "\n",
    "from glob import glob\n",
    "import pandas as pd\n",
    "import numpy as np \n",
    "from tqdm import tqdm\n",
    "import cv2\n",
    "\n",
    "import os\n",
    "import timm\n",
    "import random\n",
    "\n",
    "import torch\n",
    "from torch.utils.data import Dataset, DataLoader\n",
    "import torch.nn as nn\n",
    "import torchvision.transforms as transforms\n",
    "from sklearn.metrics import f1_score, accuracy_score\n",
    "import time\n",
    "\n",
    "from sklearn.model_selection import StratifiedKFold\n",
    "device = torch.device('cuda')"
   ]
  },
  {
   "cell_type": "code",
   "execution_count": 2,
   "id": "lXH5F_hA7uMl",
   "metadata": {
    "executionInfo": {
     "elapsed": 5,
     "status": "ok",
     "timestamp": 1652399900430,
     "user": {
      "displayName": "jiyeon seo",
      "userId": "13077474525846695766"
     },
     "user_tz": -540
    },
    "id": "lXH5F_hA7uMl"
   },
   "outputs": [],
   "source": [
    "# path = '/content/drive/MyDrive/ColabNotebook/'\n",
    "path = './'"
   ]
  },
  {
   "cell_type": "code",
   "execution_count": 5,
   "id": "FWntO1VD7L5u",
   "metadata": {
    "executionInfo": {
     "elapsed": 5,
     "status": "ok",
     "timestamp": 1652399900431,
     "user": {
      "displayName": "jiyeon seo",
      "userId": "13077474525846695766"
     },
     "user_tz": -540
    },
    "id": "FWntO1VD7L5u"
   },
   "outputs": [],
   "source": [
    "# train_png = sorted(glob(path + 'data/train/*.png'))\n",
    "# test_png = sorted(glob(path + 'data/test/*.png'))"
   ]
  },
  {
   "cell_type": "code",
   "execution_count": 6,
   "id": "atSgPJRn-OCW",
   "metadata": {
    "executionInfo": {
     "elapsed": 5,
     "status": "ok",
     "timestamp": 1652399900431,
     "user": {
      "displayName": "jiyeon seo",
      "userId": "13077474525846695766"
     },
     "user_tz": -540
    },
    "id": "atSgPJRn-OCW"
   },
   "outputs": [],
   "source": [
    "# len(train_png), len(test_png)"
   ]
  },
  {
   "cell_type": "code",
   "execution_count": 3,
   "id": "xv0_rDVq7L5v",
   "metadata": {
    "executionInfo": {
     "elapsed": 767,
     "status": "ok",
     "timestamp": 1652399901194,
     "user": {
      "displayName": "jiyeon seo",
      "userId": "13077474525846695766"
     },
     "user_tz": -540
    },
    "id": "xv0_rDVq7L5v"
   },
   "outputs": [],
   "source": [
    "train_y = pd.read_csv(path +\"data/train_df.csv\")\n",
    "\n",
    "\n",
    "train_labels = train_y[\"label\"]\n",
    "\n",
    "label_unique = sorted(np.unique(train_labels))\n",
    "label_unique = {key:value for key,value in zip(label_unique, range(len(label_unique)))}\n",
    "\n",
    "train_labels = [label_unique[k] for k in train_labels]\n",
    "\n",
    "train_classes = train_y['class']\n",
    "\n",
    "class_unique = sorted(np.unique(train_classes))\n",
    "class_unique = {key:value for key,value in zip(class_unique, range(len(class_unique)))}\n",
    "\n",
    "train_classes = [class_unique[k] for k in train_classes]"
   ]
  },
  {
   "cell_type": "code",
   "execution_count": 4,
   "id": "iMhC0nPw7L5w",
   "metadata": {
    "executionInfo": {
     "elapsed": 2,
     "status": "ok",
     "timestamp": 1652399903979,
     "user": {
      "displayName": "jiyeon seo",
      "userId": "13077474525846695766"
     },
     "user_tz": -540
    },
    "id": "iMhC0nPw7L5w"
   },
   "outputs": [],
   "source": [
    "def img_load(path):\n",
    "    img = cv2.imread(path)[:,:,::-1]\n",
    "    img = cv2.resize(img, (384, 384),interpolation = cv2.INTER_AREA)\n",
    "    return img"
   ]
  },
  {
   "cell_type": "code",
   "execution_count": null,
   "id": "zsmJA3E97L5x",
   "metadata": {
    "colab": {
     "base_uri": "https://localhost:8080/"
    },
    "id": "zsmJA3E97L5x",
    "outputId": "e0dc61fe-5617-42e8-c8b0-0e95b9f60656"
   },
   "outputs": [
    {
     "name": "stderr",
     "output_type": "stream",
     "text": [
      "100%|███████████████████████████████████████| 4277/4277 [02:04<00:00, 34.43it/s]\n",
      "100%|███████████████████████████████████████| 2154/2154 [01:02<00:00, 34.61it/s]\n"
     ]
    }
   ],
   "source": [
    "# train_imgs = [img_load(m) for m in tqdm(train_png)]\n",
    "# test_imgs = [img_load(n) for n in tqdm(test_png)]"
   ]
  },
  {
   "cell_type": "code",
   "execution_count": null,
   "id": "KA73Lku9A2N9",
   "metadata": {
    "id": "KA73Lku9A2N9"
   },
   "outputs": [],
   "source": [
    "# np.save(path + 'data/train_imgs_384', np.array(train_imgs))\n",
    "# np.save(path + 'data/test_imgs_384', np.array(test_imgs))"
   ]
  },
  {
   "cell_type": "code",
   "execution_count": 5,
   "id": "L6qBdX7nCp8L",
   "metadata": {
    "executionInfo": {
     "elapsed": 32725,
     "status": "ok",
     "timestamp": 1652399939127,
     "user": {
      "displayName": "jiyeon seo",
      "userId": "13077474525846695766"
     },
     "user_tz": -540
    },
    "id": "L6qBdX7nCp8L"
   },
   "outputs": [],
   "source": [
    "train_imgs = np.load(path + 'data/train_imgs_384.npy')\n",
    "test_imgs = np.load(path + 'data/test_imgs_384.npy')"
   ]
  },
  {
   "cell_type": "code",
   "execution_count": 8,
   "id": "sscGLiJKPy6H",
   "metadata": {
    "colab": {
     "base_uri": "https://localhost:8080/"
    },
    "executionInfo": {
     "elapsed": 51692,
     "status": "ok",
     "timestamp": 1652399990814,
     "user": {
      "displayName": "jiyeon seo",
      "userId": "13077474525846695766"
     },
     "user_tz": -540
    },
    "id": "sscGLiJKPy6H",
    "outputId": "b639352f-405c-419f-9f77-c9ddde5d0d88"
   },
   "outputs": [
    {
     "name": "stdout",
     "output_type": "stream",
     "text": [
      "train 평균 0.4330380901867049 0.4034575319032911 0.39415050509784405\n",
      "train 표준편차 0.1815717110252788 0.17403455556798705 0.16323395055036488\n"
     ]
    }
   ],
   "source": [
    "# meanRGB = [np.mean(x, axis=(0,1)) for x in train_imgs]\n",
    "# stdRGB = [np.std(x, axis=(0,1)) for x in train_imgs]\n",
    "\n",
    "# meanR = np.mean([m[0] for m in meanRGB])/255\n",
    "# meanG = np.mean([m[1] for m in meanRGB])/255\n",
    "# meanB = np.mean([m[2] for m in meanRGB])/255\n",
    "\n",
    "# stdR = np.mean([s[0] for s in stdRGB])/255\n",
    "# stdG = np.mean([s[1] for s in stdRGB])/255\n",
    "# stdB = np.mean([s[2] for s in stdRGB])/255\n",
    "\n",
    "# print(\"train 평균\",meanR, meanG, meanB)\n",
    "# print(\"train 표준편차\",stdR, stdG, stdB)\n",
    "\n",
    "# train 평균 0.4330380901867049 0.4034575319032911 0.39415050509784405\n",
    "# train 표준편차 0.1815717110252788 0.17403455556798705 0.16323395055036488"
   ]
  },
  {
   "cell_type": "code",
   "execution_count": 9,
   "id": "JwVIQCrUSCFE",
   "metadata": {
    "colab": {
     "base_uri": "https://localhost:8080/"
    },
    "executionInfo": {
     "elapsed": 26484,
     "status": "ok",
     "timestamp": 1652400017289,
     "user": {
      "displayName": "jiyeon seo",
      "userId": "13077474525846695766"
     },
     "user_tz": -540
    },
    "id": "JwVIQCrUSCFE",
    "outputId": "c6f651f3-8c6e-4f6f-d1bf-d0b10a1274fc"
   },
   "outputs": [
    {
     "name": "stdout",
     "output_type": "stream",
     "text": [
      "test 평균 0.41825619520929724 0.3931011906330291 0.386631764639131\n",
      "test 표준편차 0.19505524270747931 0.19005280951759498 0.18053225852732663\n"
     ]
    }
   ],
   "source": [
    "# meanRGB = [np.mean(x, axis=(0,1)) for x in test_imgs]\n",
    "# stdRGB = [np.std(x, axis=(0,1)) for x in test_imgs]\n",
    "\n",
    "# meanR = np.mean([m[0] for m in meanRGB])/255\n",
    "# meanG = np.mean([m[1] for m in meanRGB])/255\n",
    "# meanB = np.mean([m[2] for m in meanRGB])/255\n",
    "\n",
    "# stdR = np.mean([s[0] for s in stdRGB])/255\n",
    "# stdG = np.mean([s[1] for s in stdRGB])/255\n",
    "# stdB = np.mean([s[2] for s in stdRGB])/255\n",
    "\n",
    "# print(\"test 평균\",meanR, meanG, meanB)\n",
    "# print(\"test 표준편차\",stdR, stdG, stdB)\n",
    "\n",
    "# test 평균 0.41825619520929724 0.3931011906330291 0.386631764639131\n",
    "# test 표준편차 0.19505524270747931 0.19005280951759498 0.18053225852732663"
   ]
  },
  {
   "cell_type": "code",
   "execution_count": 6,
   "id": "VFXzojoo7L5y",
   "metadata": {
    "executionInfo": {
     "elapsed": 14,
     "status": "ok",
     "timestamp": 1652400017289,
     "user": {
      "displayName": "jiyeon seo",
      "userId": "13077474525846695766"
     },
     "user_tz": -540
    },
    "id": "VFXzojoo7L5y"
   },
   "outputs": [],
   "source": [
    "class Custom_dataset(Dataset):\n",
    "    # def __init__(self, img_paths, labels, mode='train'):\n",
    "    #     self.img_paths = img_paths\n",
    "    #     self.labels = labels\n",
    "    #     self.mode=mode\n",
    "    def __init__(self, img_paths, labels, classes, mode='train'):\n",
    "        self.img_paths = img_paths\n",
    "        self.labels = labels\n",
    "        self.mode=mode\n",
    "        self.classes=classes\n",
    "    def __len__(self):\n",
    "        return len(self.img_paths)\n",
    "    def __getitem__(self, idx):\n",
    "        img = self.img_paths[idx]\n",
    "        if self.mode == 'train':\n",
    "            if self.classes[idx]==7:\n",
    "                # print(idx, '7')\n",
    "                train_transform = transforms.Compose([\n",
    "                        transforms.ToTensor(),\n",
    "                        transforms.Normalize(mean = [0.433038, 0.403458, 0.394151],\n",
    "                                            std = [0.181572, 0.174035, 0.163234]),\n",
    "                        transforms.RandomAffine((-45, 45)),\n",
    "                    \n",
    "                        # transforms.RandomVerticalFlip(p=0.5),   # - 이미지를 랜덤으로 수직으로 뒤집는다. p =0이면 뒤집지 않는다.\n",
    "                        # transforms.RandomHorizontalFlip(p=0.5), # - 이미지를 랜덤으로 수평으로 뒤집는다.\n",
    "                        transforms.RandomRotation((0,80))       #  이미지를 랜덤으로 degrees 각도로 회전한다.\n",
    "                        \n",
    "                    ])\n",
    "                img = train_transform(img)\n",
    "            else :\n",
    "                train_transform = transforms.Compose([\n",
    "                        transforms.ToTensor(),\n",
    "                        transforms.Normalize(mean = [0.433038, 0.403458, 0.394151],\n",
    "                                            std = [0.181572, 0.174035, 0.163234]),\n",
    "                        transforms.RandomAffine((-45, 45)),\n",
    "                    \n",
    "                        transforms.RandomVerticalFlip(p=0.5),   # - 이미지를 랜덤으로 수직으로 뒤집는다. p =0이면 뒤집지 않는다.\n",
    "                        transforms.RandomHorizontalFlip(p=0.5), # - 이미지를 랜덤으로 수평으로 뒤집는다.\n",
    "                        transforms.RandomRotation((0,80))       #  이미지를 랜덤으로 degrees 각도로 회전한다.\n",
    "                        \n",
    "                    ])\n",
    "                img = train_transform(img)\n",
    "        if self.mode == 'test':\n",
    "          test_transform = transforms.Compose([\n",
    "                transforms.ToTensor(),\n",
    "                transforms.Normalize(mean = [0.418256, 0.393101, 0.386632],\n",
    "                                     std = [0.195055, 0.190053, 0.185323]),\n",
    "              \n",
    "            ])\n",
    "          img = test_transform(img)\n",
    "\n",
    "        \n",
    "        label = self.labels[idx]\n",
    "        return img, label\n",
    "    \n",
    "class Network(nn.Module):\n",
    "    def __init__(self,mode = 'train'):\n",
    "        super(Network, self).__init__()\n",
    "        self.mode = mode\n",
    "        if self.mode == 'train':\n",
    "          self.model = timm.create_model('efficientnet_b4', pretrained=True, num_classes=88, drop_path_rate = 0.2)\n",
    "        if self.mode == 'test':\n",
    "          self.model = timm.create_model('efficientnet_b4', pretrained=True, num_classes=88, drop_path_rate = 0)\n",
    "        \n",
    "    def forward(self, x):\n",
    "        x = self.model(x)\n",
    "        return x"
   ]
  },
  {
   "cell_type": "code",
   "execution_count": 7,
   "id": "38qk8sGbYiO_",
   "metadata": {
    "executionInfo": {
     "elapsed": 13,
     "status": "ok",
     "timestamp": 1652400017290,
     "user": {
      "displayName": "jiyeon seo",
      "userId": "13077474525846695766"
     },
     "user_tz": -540
    },
    "id": "38qk8sGbYiO_"
   },
   "outputs": [],
   "source": [
    "def score_function(real, pred):\n",
    "    score = f1_score(real, pred, average=\"macro\")\n",
    "    return score"
   ]
  },
  {
   "cell_type": "code",
   "execution_count": 8,
   "id": "EnOG2n30-Dz5",
   "metadata": {
    "executionInfo": {
     "elapsed": 13,
     "status": "ok",
     "timestamp": 1652400017290,
     "user": {
      "displayName": "jiyeon seo",
      "userId": "13077474525846695766"
     },
     "user_tz": -540
    },
    "id": "EnOG2n30-Dz5"
   },
   "outputs": [],
   "source": [
    "def main(seed = 2022):\n",
    "    os.environ['PYTHONHASHSEED'] = str(seed)\n",
    "    random.seed(seed)\n",
    "    np.random.seed(seed)\n",
    "    torch.manual_seed(seed)\n",
    "    torch.cuda.manual_seed(seed)\n",
    "    torch.cuda.manual_seed_all(seed)\n",
    "    torch.backends.cudnn.benchmark = True\n",
    "    \n",
    "main(2022)"
   ]
  },
  {
   "cell_type": "markdown",
   "id": "0sHMqIWSBHsJ",
   "metadata": {
    "id": "0sHMqIWSBHsJ"
   },
   "source": [
    "## StaratifieldKFold"
   ]
  },
  {
   "cell_type": "code",
   "execution_count": 9,
   "id": "lkNCkyG9RPzX",
   "metadata": {
    "colab": {
     "base_uri": "https://localhost:8080/"
    },
    "id": "lkNCkyG9RPzX",
    "outputId": "d81476fe-ff5d-45dd-dc8e-bf9bb87eaeec",
    "scrolled": true
   },
   "outputs": [
    {
     "name": "stdout",
     "output_type": "stream",
     "text": [
      "----------fold_3 start!----------\n",
      "-----------------SAVE:1 epoch----------------\n",
      "epoch : 1/70    time : 161s/11130s\n",
      "TRAIN    loss : 1.06244    f1 : 0.19319\n",
      "Val    loss : 0.53727    f1 : 0.29737\n",
      "-----------------SAVE:2 epoch----------------\n",
      "epoch : 2/70    time : 151s/10255s\n",
      "TRAIN    loss : 0.50552    f1 : 0.36187\n",
      "Val    loss : 0.40816    f1 : 0.48811\n",
      "-----------------SAVE:3 epoch----------------\n",
      "epoch : 3/70    time : 151s/10110s\n",
      "TRAIN    loss : 0.36798    f1 : 0.55286\n",
      "Val    loss : 0.28413    f1 : 0.56178\n",
      "-----------------SAVE:4 epoch----------------\n",
      "epoch : 4/70    time : 150s/9909s\n",
      "TRAIN    loss : 0.30682    f1 : 0.60308\n",
      "Val    loss : 0.22353    f1 : 0.62999\n",
      "-----------------SAVE:5 epoch----------------\n",
      "epoch : 5/70    time : 150s/9771s\n",
      "TRAIN    loss : 0.23782    f1 : 0.70403\n",
      "Val    loss : 0.23144    f1 : 0.71164\n",
      "-----------------SAVE:6 epoch----------------\n",
      "epoch : 6/70    time : 151s/9679s\n",
      "TRAIN    loss : 0.20374    f1 : 0.74574\n",
      "Val    loss : 0.12840    f1 : 0.79175\n",
      "-----------------SAVE:7 epoch----------------\n",
      "epoch : 7/70    time : 151s/9526s\n",
      "TRAIN    loss : 0.14987    f1 : 0.79299\n",
      "Val    loss : 0.08053    f1 : 0.88099\n",
      "epoch : 8/70    time : 149s/9246s\n",
      "TRAIN    loss : 0.13418    f1 : 0.82889\n",
      "Val    loss : 0.08835    f1 : 0.83301\n",
      "epoch : 9/70    time : 150s/9147s\n",
      "TRAIN    loss : 0.13071    f1 : 0.83474\n",
      "Val    loss : 0.07831    f1 : 0.86972\n",
      "epoch : 10/70    time : 149s/8965s\n",
      "TRAIN    loss : 0.10634    f1 : 0.87736\n",
      "Val    loss : 0.06347    f1 : 0.87909\n",
      "-----------------SAVE:11 epoch----------------\n",
      "epoch : 11/70    time : 150s/8859s\n",
      "TRAIN    loss : 0.08444    f1 : 0.88130\n",
      "Val    loss : 0.05410    f1 : 0.91226\n",
      "-----------------SAVE:12 epoch----------------\n",
      "epoch : 12/70    time : 150s/8708s\n",
      "TRAIN    loss : 0.08828    f1 : 0.87789\n",
      "Val    loss : 0.04466    f1 : 0.91599\n",
      "-----------------SAVE:13 epoch----------------\n",
      "epoch : 13/70    time : 149s/8507s\n",
      "TRAIN    loss : 0.08019    f1 : 0.90485\n",
      "Val    loss : 0.03082    f1 : 0.95295\n",
      "epoch : 14/70    time : 148s/8291s\n",
      "TRAIN    loss : 0.06697    f1 : 0.90847\n",
      "Val    loss : 0.07546    f1 : 0.94578\n",
      "epoch : 15/70    time : 149s/8209s\n",
      "TRAIN    loss : 0.06923    f1 : 0.91425\n",
      "Val    loss : 0.07445    f1 : 0.95115\n",
      "epoch : 16/70    time : 150s/8104s\n",
      "TRAIN    loss : 0.05398    f1 : 0.93279\n",
      "Val    loss : 0.04433    f1 : 0.94563\n",
      "-----------------SAVE:17 epoch----------------\n",
      "epoch : 17/70    time : 151s/8000s\n",
      "TRAIN    loss : 0.05017    f1 : 0.94224\n",
      "Val    loss : 0.04474    f1 : 0.96281\n",
      "epoch : 18/70    time : 150s/7778s\n",
      "TRAIN    loss : 0.04710    f1 : 0.95501\n",
      "Val    loss : 0.02619    f1 : 0.94487\n",
      "epoch : 19/70    time : 149s/7613s\n",
      "TRAIN    loss : 0.03970    f1 : 0.95160\n",
      "Val    loss : 0.02299    f1 : 0.95498\n",
      "epoch : 20/70    time : 148s/7416s\n",
      "TRAIN    loss : 0.03966    f1 : 0.95111\n",
      "Val    loss : 0.01516    f1 : 0.95735\n",
      "-----------------SAVE:21 epoch----------------\n",
      "epoch : 21/70    time : 150s/7345s\n",
      "TRAIN    loss : 0.03835    f1 : 0.94687\n",
      "Val    loss : 0.01787    f1 : 0.97643\n",
      "-----------------SAVE:22 epoch----------------\n",
      "epoch : 22/70    time : 150s/7188s\n",
      "TRAIN    loss : 0.03250    f1 : 0.96264\n",
      "Val    loss : 0.01186    f1 : 0.97879\n",
      "epoch : 23/70    time : 149s/7014s\n",
      "TRAIN    loss : 0.04037    f1 : 0.95613\n",
      "Val    loss : 0.02875    f1 : 0.93516\n",
      "-----------------SAVE:24 epoch----------------\n",
      "epoch : 24/70    time : 151s/6938s\n",
      "TRAIN    loss : 0.04145    f1 : 0.95921\n",
      "Val    loss : 0.01693    f1 : 0.98159\n",
      "-----------------SAVE:25 epoch----------------\n",
      "epoch : 25/70    time : 150s/6741s\n",
      "TRAIN    loss : 0.02777    f1 : 0.96838\n",
      "Val    loss : 0.05051    f1 : 0.98466\n",
      "-----------------SAVE:26 epoch----------------\n",
      "epoch : 26/70    time : 150s/6606s\n",
      "TRAIN    loss : 0.03014    f1 : 0.96832\n",
      "Val    loss : 0.00590    f1 : 0.99608\n",
      "epoch : 27/70    time : 149s/6419s\n",
      "TRAIN    loss : 0.02230    f1 : 0.97320\n",
      "Val    loss : 0.02480    f1 : 0.96420\n",
      "epoch : 28/70    time : 149s/6270s\n",
      "TRAIN    loss : 0.01838    f1 : 0.98461\n",
      "Val    loss : 0.01508    f1 : 0.99526\n",
      "-----------------SAVE:29 epoch----------------\n",
      "epoch : 29/70    time : 151s/6174s\n",
      "TRAIN    loss : 0.01671    f1 : 0.98663\n",
      "Val    loss : 0.00569    f1 : 0.99764\n",
      "epoch : 30/70    time : 149s/5959s\n",
      "TRAIN    loss : 0.01464    f1 : 0.98342\n",
      "Val    loss : 0.00827    f1 : 0.99006\n",
      "-----------------SAVE:31 epoch----------------\n",
      "epoch : 31/70    time : 151s/5870s\n",
      "TRAIN    loss : 0.01911    f1 : 0.97764\n",
      "Val    loss : 0.00774    f1 : 1.00000\n",
      "epoch : 32/70    time : 149s/5651s\n",
      "TRAIN    loss : 0.01559    f1 : 0.98227\n",
      "Val    loss : 0.00345    f1 : 0.98636\n",
      "epoch : 33/70    time : 150s/5551s\n",
      "TRAIN    loss : 0.01525    f1 : 0.97840\n",
      "Val    loss : 0.00270    f1 : 0.99394\n",
      "epoch : 34/70    time : 149s/5373s\n",
      "TRAIN    loss : 0.01759    f1 : 0.98100\n",
      "Val    loss : 0.01402    f1 : 0.98030\n",
      "epoch : 35/70    time : 149s/5211s\n",
      "TRAIN    loss : 0.01475    f1 : 0.98531\n",
      "Val    loss : 0.00457    f1 : 0.98636\n",
      "epoch : 36/70    time : 148s/5034s\n",
      "TRAIN    loss : 0.01267    f1 : 0.98312\n",
      "Val    loss : 0.00604    f1 : 0.98030\n",
      "epoch : 37/70    time : 149s/4918s\n",
      "TRAIN    loss : 0.01168    f1 : 0.98682\n",
      "Val    loss : 0.00780    f1 : 0.97641\n",
      "epoch : 38/70    time : 149s/4778s\n",
      "TRAIN    loss : 0.01768    f1 : 0.97866\n",
      "Val    loss : 0.00433    f1 : 1.00000\n",
      "epoch : 39/70    time : 149s/4614s\n",
      "TRAIN    loss : 0.01685    f1 : 0.98434\n",
      "Val    loss : 0.00879    f1 : 0.99762\n",
      "epoch : 40/70    time : 149s/4472s\n",
      "TRAIN    loss : 0.01175    f1 : 0.98505\n",
      "Val    loss : 0.00369    f1 : 1.00000\n",
      "epoch : 41/70    time : 149s/4323s\n",
      "TRAIN    loss : 0.01505    f1 : 0.98483\n",
      "Val    loss : 0.00817    f1 : 0.97856\n",
      "epoch : 42/70    time : 149s/4177s\n",
      "TRAIN    loss : 0.01481    f1 : 0.98292\n",
      "Val    loss : 0.03862    f1 : 0.99157\n",
      "epoch : 43/70    time : 149s/4022s\n",
      "TRAIN    loss : 0.01690    f1 : 0.98312\n",
      "Val    loss : 0.00272    f1 : 1.00000\n",
      "epoch : 44/70    time : 149s/3862s\n",
      "TRAIN    loss : 0.01679    f1 : 0.98350\n",
      "Val    loss : 0.00277    f1 : 1.00000\n",
      "epoch : 45/70    time : 148s/3711s\n",
      "TRAIN    loss : 0.01222    f1 : 0.98904\n",
      "Val    loss : 0.00206    f1 : 1.00000\n",
      "epoch : 46/70    time : 148s/3563s\n",
      "TRAIN    loss : 0.01165    f1 : 0.98547\n",
      "Val    loss : 0.00886    f1 : 0.98850\n",
      "epoch : 47/70    time : 149s/3424s\n",
      "TRAIN    loss : 0.01127    f1 : 0.98822\n",
      "Val    loss : 0.00319    f1 : 0.99762\n",
      "epoch : 48/70    time : 149s/3269s\n",
      "TRAIN    loss : 0.01260    f1 : 0.99136\n",
      "Val    loss : 0.00532    f1 : 0.99762\n",
      "epoch : 49/70    time : 149s/3124s\n",
      "TRAIN    loss : 0.00893    f1 : 0.98732\n",
      "Val    loss : 0.00168    f1 : 0.99762\n",
      "epoch : 50/70    time : 148s/2952s\n",
      "TRAIN    loss : 0.00520    f1 : 0.99467\n",
      "Val    loss : 0.00089    f1 : 1.00000\n",
      "epoch : 51/70    time : 149s/2829s\n",
      "TRAIN    loss : 0.01223    f1 : 0.98536\n",
      "Val    loss : 0.00231    f1 : 0.99762\n",
      "----------fold_4 start!----------\n",
      "-----------------SAVE:1 epoch----------------\n",
      "epoch : 1/70    time : 150s/10323s\n",
      "TRAIN    loss : 1.04547    f1 : 0.21782\n",
      "Val    loss : 0.52043    f1 : 0.29615\n",
      "-----------------SAVE:2 epoch----------------\n",
      "epoch : 2/70    time : 150s/10189s\n",
      "TRAIN    loss : 0.49960    f1 : 0.40318\n",
      "Val    loss : 0.40209    f1 : 0.47326\n",
      "-----------------SAVE:3 epoch----------------\n",
      "epoch : 3/70    time : 150s/10035s\n",
      "TRAIN    loss : 0.37897    f1 : 0.50396\n",
      "Val    loss : 0.28060    f1 : 0.55296\n",
      "-----------------SAVE:4 epoch----------------\n",
      "epoch : 4/70    time : 150s/9876s\n",
      "TRAIN    loss : 0.27907    f1 : 0.64258\n",
      "Val    loss : 0.19659    f1 : 0.66927\n",
      "-----------------SAVE:5 epoch----------------\n",
      "epoch : 5/70    time : 150s/9733s\n",
      "TRAIN    loss : 0.21953    f1 : 0.71007\n",
      "Val    loss : 0.15180    f1 : 0.71394\n",
      "-----------------SAVE:6 epoch----------------\n",
      "epoch : 6/70    time : 150s/9583s\n",
      "TRAIN    loss : 0.17895    f1 : 0.76510\n",
      "Val    loss : 0.11412    f1 : 0.81734\n",
      "epoch : 7/70    time : 149s/9387s\n",
      "TRAIN    loss : 0.16068    f1 : 0.77411\n",
      "Val    loss : 0.13426    f1 : 0.78196\n",
      "-----------------SAVE:8 epoch----------------\n",
      "epoch : 8/70    time : 150s/9279s\n",
      "TRAIN    loss : 0.12730    f1 : 0.82274\n",
      "Val    loss : 0.09604    f1 : 0.85947\n",
      "-----------------SAVE:9 epoch----------------\n",
      "epoch : 9/70    time : 150s/9127s\n",
      "TRAIN    loss : 0.11230    f1 : 0.84525\n",
      "Val    loss : 0.16542    f1 : 0.86449\n",
      "-----------------SAVE:10 epoch----------------\n",
      "epoch : 10/70    time : 150s/8991s\n",
      "TRAIN    loss : 0.10786    f1 : 0.86695\n",
      "Val    loss : 0.06560    f1 : 0.91802\n"
     ]
    },
    {
     "name": "stdout",
     "output_type": "stream",
     "text": [
      "epoch : 11/70    time : 149s/8792s\n",
      "TRAIN    loss : 0.08997    f1 : 0.87158\n",
      "Val    loss : 0.06509    f1 : 0.90329\n",
      "epoch : 12/70    time : 149s/8650s\n",
      "TRAIN    loss : 0.07797    f1 : 0.91372\n",
      "Val    loss : 0.09865    f1 : 0.90055\n",
      "epoch : 13/70    time : 149s/8499s\n",
      "TRAIN    loss : 0.06860    f1 : 0.91379\n",
      "Val    loss : 0.04891    f1 : 0.90975\n",
      "-----------------SAVE:14 epoch----------------\n",
      "epoch : 14/70    time : 150s/8402s\n",
      "TRAIN    loss : 0.06093    f1 : 0.91924\n",
      "Val    loss : 0.05662    f1 : 0.92999\n",
      "-----------------SAVE:15 epoch----------------\n",
      "epoch : 15/70    time : 150s/8234s\n",
      "TRAIN    loss : 0.05429    f1 : 0.93749\n",
      "Val    loss : 0.03086    f1 : 0.93650\n",
      "-----------------SAVE:16 epoch----------------\n",
      "epoch : 16/70    time : 150s/8102s\n",
      "TRAIN    loss : 0.05875    f1 : 0.92694\n",
      "Val    loss : 0.02171    f1 : 0.97570\n",
      "epoch : 17/70    time : 149s/7912s\n",
      "TRAIN    loss : 0.05524    f1 : 0.94430\n",
      "Val    loss : 0.06244    f1 : 0.97090\n",
      "-----------------SAVE:18 epoch----------------\n",
      "epoch : 18/70    time : 150s/7795s\n",
      "TRAIN    loss : 0.05180    f1 : 0.93630\n",
      "Val    loss : 0.01842    f1 : 0.99474\n",
      "epoch : 19/70    time : 149s/7611s\n",
      "TRAIN    loss : 0.03699    f1 : 0.95076\n",
      "Val    loss : 0.00950    f1 : 0.99147\n",
      "epoch : 20/70    time : 149s/7458s\n",
      "TRAIN    loss : 0.02773    f1 : 0.96568\n",
      "Val    loss : 0.01901    f1 : 0.96385\n",
      "epoch : 21/70    time : 149s/7310s\n",
      "TRAIN    loss : 0.03993    f1 : 0.96021\n",
      "Val    loss : 0.01527    f1 : 0.98753\n",
      "epoch : 22/70    time : 149s/7167s\n",
      "TRAIN    loss : 0.03445    f1 : 0.95397\n",
      "Val    loss : 0.02083    f1 : 0.97107\n",
      "epoch : 23/70    time : 149s/7008s\n",
      "TRAIN    loss : 0.02575    f1 : 0.96557\n",
      "Val    loss : 0.03139    f1 : 0.96102\n",
      "epoch : 24/70    time : 149s/6869s\n",
      "TRAIN    loss : 0.03399    f1 : 0.95700\n",
      "Val    loss : 0.01498    f1 : 0.99349\n",
      "epoch : 25/70    time : 149s/6717s\n",
      "TRAIN    loss : 0.02458    f1 : 0.97456\n",
      "Val    loss : 0.00643    f1 : 0.98224\n",
      "epoch : 26/70    time : 149s/6561s\n",
      "TRAIN    loss : 0.01834    f1 : 0.98205\n",
      "Val    loss : 0.02374    f1 : 0.98702\n",
      "epoch : 27/70    time : 149s/6406s\n",
      "TRAIN    loss : 0.02715    f1 : 0.96452\n",
      "Val    loss : 0.01297    f1 : 0.99129\n",
      "epoch : 28/70    time : 149s/6258s\n",
      "TRAIN    loss : 0.02204    f1 : 0.97401\n",
      "Val    loss : 0.02377    f1 : 0.98226\n",
      "epoch : 29/70    time : 149s/6108s\n",
      "TRAIN    loss : 0.01882    f1 : 0.97665\n",
      "Val    loss : 0.00811    f1 : 0.99367\n",
      "epoch : 30/70    time : 149s/5965s\n",
      "TRAIN    loss : 0.02383    f1 : 0.97042\n",
      "Val    loss : 0.01008    f1 : 0.97923\n",
      "epoch : 31/70    time : 149s/5813s\n",
      "TRAIN    loss : 0.01454    f1 : 0.98024\n",
      "Val    loss : 0.00500    f1 : 0.99433\n",
      "-----------------SAVE:32 epoch----------------\n",
      "epoch : 32/70    time : 150s/5682s\n",
      "TRAIN    loss : 0.01640    f1 : 0.97867\n",
      "Val    loss : 0.00428    f1 : 1.00000\n",
      "epoch : 33/70    time : 149s/5503s\n",
      "TRAIN    loss : 0.01304    f1 : 0.98346\n",
      "Val    loss : 0.02615    f1 : 0.98204\n",
      "epoch : 34/70    time : 149s/5348s\n",
      "TRAIN    loss : 0.02121    f1 : 0.96786\n",
      "Val    loss : 0.01944    f1 : 0.98817\n",
      "epoch : 35/70    time : 149s/5215s\n",
      "TRAIN    loss : 0.02584    f1 : 0.97169\n",
      "Val    loss : 0.01803    f1 : 0.99061\n",
      "epoch : 36/70    time : 149s/5063s\n",
      "TRAIN    loss : 0.02172    f1 : 0.97320\n",
      "Val    loss : 0.01263    f1 : 0.97683\n",
      "epoch : 37/70    time : 149s/4908s\n",
      "TRAIN    loss : 0.01590    f1 : 0.98295\n",
      "Val    loss : 0.00539    f1 : 0.99827\n",
      "epoch : 38/70    time : 149s/4757s\n",
      "TRAIN    loss : 0.01227    f1 : 0.98645\n",
      "Val    loss : 0.01279    f1 : 0.96674\n",
      "epoch : 39/70    time : 149s/4617s\n",
      "TRAIN    loss : 0.01597    f1 : 0.98309\n",
      "Val    loss : 0.00772    f1 : 0.98227\n",
      "epoch : 40/70    time : 152s/4548s\n",
      "TRAIN    loss : 0.01036    f1 : 0.98878\n",
      "Val    loss : 0.00893    f1 : 0.99297\n",
      "epoch : 41/70    time : 149s/4330s\n",
      "TRAIN    loss : 0.01875    f1 : 0.98021\n",
      "Val    loss : 0.00830    f1 : 0.97856\n",
      "epoch : 42/70    time : 149s/4164s\n",
      "TRAIN    loss : 0.00780    f1 : 0.99150\n",
      "Val    loss : 0.00757    f1 : 0.97523\n",
      "epoch : 43/70    time : 149s/4014s\n",
      "TRAIN    loss : 0.01215    f1 : 0.98439\n",
      "Val    loss : 0.00411    f1 : 0.98407\n",
      "epoch : 44/70    time : 149s/3878s\n",
      "TRAIN    loss : 0.00921    f1 : 0.99188\n",
      "Val    loss : 0.00296    f1 : 0.99757\n",
      "epoch : 45/70    time : 149s/3715s\n",
      "TRAIN    loss : 0.01342    f1 : 0.98996\n",
      "Val    loss : 0.00450    f1 : 0.99214\n",
      "epoch : 46/70    time : 149s/3568s\n",
      "TRAIN    loss : 0.00849    f1 : 0.99170\n",
      "Val    loss : 0.00619    f1 : 0.99827\n",
      "epoch : 47/70    time : 149s/3427s\n",
      "TRAIN    loss : 0.00894    f1 : 0.99249\n",
      "Val    loss : 0.03971    f1 : 0.98754\n",
      "epoch : 48/70    time : 149s/3277s\n",
      "TRAIN    loss : 0.01026    f1 : 0.99237\n",
      "Val    loss : 0.00527    f1 : 0.99214\n",
      "epoch : 49/70    time : 149s/3130s\n",
      "TRAIN    loss : 0.01688    f1 : 0.98131\n",
      "Val    loss : 0.01527    f1 : 0.97657\n",
      "epoch : 50/70    time : 149s/2979s\n",
      "TRAIN    loss : 0.01300    f1 : 0.98370\n",
      "Val    loss : 0.00619    f1 : 0.99279\n",
      "epoch : 51/70    time : 149s/2830s\n",
      "TRAIN    loss : 0.00815    f1 : 0.99178\n",
      "Val    loss : 0.00592    f1 : 0.99827\n",
      "epoch : 52/70    time : 149s/2680s\n",
      "TRAIN    loss : 0.00895    f1 : 0.99260\n",
      "Val    loss : 0.00423    f1 : 0.99603\n"
     ]
    }
   ],
   "source": [
    "import gc\n",
    "\n",
    "cv = StratifiedKFold(n_splits = 5, random_state = 2022,shuffle=True)\n",
    "batch_size = 32\n",
    "epochs = 70\n",
    "pred_ensemble = []\n",
    "\n",
    "\n",
    "for idx, (train_idx, val_idx) in enumerate(cv.split(train_imgs, np.array(train_labels))):\n",
    "    if idx in [0,1,2] : pass\n",
    "    else :\n",
    "        print(\"----------fold_{} start!----------\".format(idx))\n",
    "        t_imgs, val_imgs = train_imgs[train_idx],  train_imgs[val_idx]\n",
    "        t_labels, val_labels = np.array(train_labels)[train_idx], np.array(train_labels)[val_idx]\n",
    "\n",
    "        # Train\n",
    "        train_dataset = Custom_dataset(np.array(train_imgs), np.array(train_labels), np.array(train_classes), mode='train')\n",
    "        train_loader = DataLoader(train_dataset, shuffle=True, batch_size=batch_size)\n",
    "\n",
    "        # Val\n",
    "        val_dataset = Custom_dataset(np.array(val_imgs), np.array(val_labels), np.array([]), mode='test')\n",
    "        val_loader = DataLoader(val_dataset, shuffle=True, batch_size=batch_size)\n",
    "\n",
    "\n",
    "        gc.collect()\n",
    "        torch.cuda.empty_cache()\n",
    "        best=0\n",
    "\n",
    "        model = Network().to(device)\n",
    "\n",
    "    #   optimizer = torch.optim.AdamW(model.parameters(), lr=2e-4, weight_decay = 2e-2)\n",
    "        optimizer = torch.optim.Adadelta(model.parameters())\n",
    "        criterion = nn.CrossEntropyLoss()\n",
    "        scaler = torch.cuda.amp.GradScaler()  \n",
    "\n",
    "        best_f1 = 0\n",
    "        early_stopping = 0\n",
    "        for epoch in range(epochs):\n",
    "            start=time.time()\n",
    "            train_loss = 0\n",
    "            train_pred=[]\n",
    "            train_y=[]\n",
    "            model.train()\n",
    "            for batch in (train_loader):\n",
    "                optimizer.zero_grad()\n",
    "                x = torch.tensor(batch[0], dtype=torch.float32, device=device)\n",
    "                y = torch.tensor(batch[1], dtype=torch.long, device=device)\n",
    "                with torch.cuda.amp.autocast():\n",
    "                    pred = model(x)\n",
    "                loss = criterion(pred, y)\n",
    "\n",
    "\n",
    "                scaler.scale(loss).backward()\n",
    "                scaler.step(optimizer)\n",
    "                scaler.update()\n",
    "\n",
    "                train_loss += loss.item()/len(train_loader)\n",
    "                train_pred += pred.argmax(1).detach().cpu().numpy().tolist()\n",
    "                train_y += y.detach().cpu().numpy().tolist()\n",
    "            train_f1 = score_function(train_y, train_pred)\n",
    "            state_dict= model.state_dict()\n",
    "            model.eval()\n",
    "            with torch.no_grad():\n",
    "                val_loss = 0 \n",
    "                val_pred = []\n",
    "                val_y = []\n",
    "\n",
    "\n",
    "                for batch in (val_loader):\n",
    "                    x_val = torch.tensor(batch[0], dtype = torch.float32, device = device)\n",
    "                    y_val = torch.tensor(batch[1], dtype=torch.long, device=device)\n",
    "                    with torch.cuda.amp.autocast():\n",
    "                        pred_val = model(x_val)\n",
    "                    loss_val = criterion(pred_val, y_val)\n",
    "\n",
    "                    val_loss += loss_val.item()/len(val_loader)\n",
    "                    val_pred += pred_val.argmax(1).detach().cpu().numpy().tolist()\n",
    "                    val_y += y_val.detach().cpu().numpy().tolist()\n",
    "                val_f1 = score_function(val_y, val_pred)\n",
    "\n",
    "                if val_f1 > best_f1:\n",
    "                    best_epoch = epoch\n",
    "                    best_loss = val_loss\n",
    "                    best_f1 = val_f1\n",
    "                    early_stopping = 0\n",
    "\n",
    "                    torch.save({'epoch':epoch,\n",
    "                                'state_dict':state_dict,\n",
    "                                'optimizer': optimizer.state_dict(),\n",
    "                                'scaler': scaler.state_dict(),\n",
    "                         }, path +'0513_best_model_{}.pth'.format(idx))\n",
    "                    print('-----------------SAVE:{} epoch----------------'.format(best_epoch+1))\n",
    "                else:\n",
    "                    early_stopping += 1\n",
    "\n",
    "                    # Early Stopping\n",
    "                if early_stopping == 20:\n",
    "                    TIME = time.time() - start\n",
    "                    print(f'epoch : {epoch+1}/{epochs}    time : {TIME:.0f}s/{TIME*(epochs-epoch-1):.0f}s')\n",
    "                    print(f'TRAIN    loss : {train_loss:.5f}    f1 : {train_f1:.5f}')\n",
    "                    print(f'Val    loss : {val_loss:.5f}    f1 : {val_f1:.5f}')\n",
    "                    break\n",
    "\n",
    "            TIME = time.time() - start\n",
    "            print(f'epoch : {epoch+1}/{epochs}    time : {TIME:.0f}s/{TIME*(epochs-epoch-1):.0f}s')\n",
    "            print(f'TRAIN    loss : {train_loss:.5f}    f1 : {train_f1:.5f}')\n",
    "            print(f'Val    loss : {val_loss:.5f}    f1 : {val_f1:.5f}')"
   ]
  },
  {
   "cell_type": "code",
   "execution_count": 10,
   "id": "Jl2OKpQiO5S1",
   "metadata": {
    "id": "Jl2OKpQiO5S1"
   },
   "outputs": [],
   "source": [
    "pred_ensemble = []\n",
    "batch_size = 32\n",
    "# Test\n",
    "test_dataset = Custom_dataset(np.array(test_imgs), np.array([\"tmp\"]*len(test_imgs)), np.array([]), mode='test')\n",
    "test_loader = DataLoader(test_dataset, shuffle=False, batch_size=batch_size)\n",
    "\n",
    "for i in range(5):\n",
    "    model_test = Network(mode = 'test').to(device)\n",
    "    model_test.load_state_dict(torch.load((path+'0513_best_model_{}.pth'.format(i)))['state_dict'])\n",
    "    model_test.eval()\n",
    "    pred_prob = []\n",
    "    with torch.no_grad():\n",
    "        for batch in (test_loader):\n",
    "            x = torch.tensor(batch[0], dtype = torch.float32, device = device)\n",
    "            with torch.cuda.amp.autocast():\n",
    "                pred = model_test(x)\n",
    "                pred_prob.extend(pred.detach().cpu().numpy())\n",
    "        pred_ensemble.append(pred_prob)"
   ]
  },
  {
   "cell_type": "code",
   "execution_count": 11,
   "id": "seat84vNOOtT",
   "metadata": {
    "colab": {
     "base_uri": "https://localhost:8080/"
    },
    "id": "seat84vNOOtT",
    "outputId": "71c853b2-29c3-430e-e4d0-cb1a66e11196"
   },
   "outputs": [
    {
     "data": {
      "text/plain": [
       "5"
      ]
     },
     "execution_count": 11,
     "metadata": {},
     "output_type": "execute_result"
    }
   ],
   "source": [
    "len(pred_ensemble)"
   ]
  },
  {
   "cell_type": "code",
   "execution_count": 12,
   "id": "GjsHs-T3SPJq",
   "metadata": {
    "id": "GjsHs-T3SPJq"
   },
   "outputs": [],
   "source": [
    "pred = (np.array(pred_ensemble[0])+ np.array(pred_ensemble[1])+ np.array(pred_ensemble[3]) + np.array(pred_ensemble[4]) )/4\n",
    "f_pred = np.array(pred).argmax(1).tolist()"
   ]
  },
  {
   "cell_type": "code",
   "execution_count": 13,
   "id": "UIglTwAV7L54",
   "metadata": {
    "id": "UIglTwAV7L54"
   },
   "outputs": [],
   "source": [
    "label_decoder = {val:key for key, val in label_unique.items()}\n",
    "\n",
    "f_result = [label_decoder[result] for result in f_pred]"
   ]
  },
  {
   "cell_type": "code",
   "execution_count": 14,
   "id": "292QDIS5DOKf",
   "metadata": {
    "colab": {
     "base_uri": "https://localhost:8080/",
     "height": 423
    },
    "id": "292QDIS5DOKf",
    "outputId": "0e47d38f-d36a-40cd-a925-90e6bce52652"
   },
   "outputs": [
    {
     "data": {
      "text/html": [
       "<div>\n",
       "<style scoped>\n",
       "    .dataframe tbody tr th:only-of-type {\n",
       "        vertical-align: middle;\n",
       "    }\n",
       "\n",
       "    .dataframe tbody tr th {\n",
       "        vertical-align: top;\n",
       "    }\n",
       "\n",
       "    .dataframe thead th {\n",
       "        text-align: right;\n",
       "    }\n",
       "</style>\n",
       "<table border=\"1\" class=\"dataframe\">\n",
       "  <thead>\n",
       "    <tr style=\"text-align: right;\">\n",
       "      <th></th>\n",
       "      <th>index</th>\n",
       "      <th>label</th>\n",
       "    </tr>\n",
       "  </thead>\n",
       "  <tbody>\n",
       "    <tr>\n",
       "      <th>0</th>\n",
       "      <td>0</td>\n",
       "      <td>tile-glue_strip</td>\n",
       "    </tr>\n",
       "    <tr>\n",
       "      <th>1</th>\n",
       "      <td>1</td>\n",
       "      <td>grid-good</td>\n",
       "    </tr>\n",
       "    <tr>\n",
       "      <th>2</th>\n",
       "      <td>2</td>\n",
       "      <td>transistor-good</td>\n",
       "    </tr>\n",
       "    <tr>\n",
       "      <th>3</th>\n",
       "      <td>3</td>\n",
       "      <td>tile-gray_stroke</td>\n",
       "    </tr>\n",
       "    <tr>\n",
       "      <th>4</th>\n",
       "      <td>4</td>\n",
       "      <td>tile-good</td>\n",
       "    </tr>\n",
       "    <tr>\n",
       "      <th>...</th>\n",
       "      <td>...</td>\n",
       "      <td>...</td>\n",
       "    </tr>\n",
       "    <tr>\n",
       "      <th>2149</th>\n",
       "      <td>2149</td>\n",
       "      <td>tile-gray_stroke</td>\n",
       "    </tr>\n",
       "    <tr>\n",
       "      <th>2150</th>\n",
       "      <td>2150</td>\n",
       "      <td>screw-good</td>\n",
       "    </tr>\n",
       "    <tr>\n",
       "      <th>2151</th>\n",
       "      <td>2151</td>\n",
       "      <td>grid-good</td>\n",
       "    </tr>\n",
       "    <tr>\n",
       "      <th>2152</th>\n",
       "      <td>2152</td>\n",
       "      <td>cable-good</td>\n",
       "    </tr>\n",
       "    <tr>\n",
       "      <th>2153</th>\n",
       "      <td>2153</td>\n",
       "      <td>zipper-good</td>\n",
       "    </tr>\n",
       "  </tbody>\n",
       "</table>\n",
       "<p>2154 rows × 2 columns</p>\n",
       "</div>"
      ],
      "text/plain": [
       "      index             label\n",
       "0         0   tile-glue_strip\n",
       "1         1         grid-good\n",
       "2         2   transistor-good\n",
       "3         3  tile-gray_stroke\n",
       "4         4         tile-good\n",
       "...     ...               ...\n",
       "2149   2149  tile-gray_stroke\n",
       "2150   2150        screw-good\n",
       "2151   2151         grid-good\n",
       "2152   2152        cable-good\n",
       "2153   2153       zipper-good\n",
       "\n",
       "[2154 rows x 2 columns]"
      ]
     },
     "execution_count": 14,
     "metadata": {},
     "output_type": "execute_result"
    }
   ],
   "source": [
    "submission = pd.read_csv(path + \"data/sample_submission.csv\")\n",
    "\n",
    "submission[\"label\"] = f_result\n",
    "\n",
    "submission"
   ]
  },
  {
   "cell_type": "code",
   "execution_count": 16,
   "id": "1naZSLGZ7L55",
   "metadata": {
    "id": "1naZSLGZ7L55"
   },
   "outputs": [],
   "source": [
    "submission.to_csv(path + \"data/submission/0513_b45F_norm_epoch70_4_2.csv\", index = False)"
   ]
  },
  {
   "cell_type": "markdown",
   "id": "p87_msjB7L51",
   "metadata": {
    "id": "p87_msjB7L51"
   },
   "source": [
    "## Efficientb4 모델 학습"
   ]
  },
  {
   "cell_type": "markdown",
   "id": "MW9Fx7QADii5",
   "metadata": {
    "id": "MW9Fx7QADii5"
   },
   "source": [
    "사전 학습 모델의 성능 파악을 할 때 Fold 학습은 실행 시간이 오래걸려서 fold를 나누지 않은 데이터에 대해서 학습을 진행하고 성능을 비교하였습니다."
   ]
  },
  {
   "cell_type": "code",
   "execution_count": 15,
   "id": "syUpL8e_7L50",
   "metadata": {
    "executionInfo": {
     "elapsed": 2139,
     "status": "ok",
     "timestamp": 1652400037476,
     "user": {
      "displayName": "jiyeon seo",
      "userId": "13077474525846695766"
     },
     "user_tz": -540
    },
    "id": "syUpL8e_7L50"
   },
   "outputs": [],
   "source": [
    "batch_size = 32\n",
    "epochs = 30\n",
    "\n",
    "# Train\n",
    "train_dataset = Custom_dataset(np.array(train_imgs), np.array(train_labels), np.array(train_classes), mode='train')\n",
    "train_loader = DataLoader(train_dataset, shuffle=True, batch_size=batch_size)\n",
    "\n",
    "# Test\n",
    "test_dataset = Custom_dataset(np.array(test_imgs), np.array([\"tmp\"]*len(test_imgs)), np.array([]), mode='test')\n",
    "test_loader = DataLoader(test_dataset, shuffle=False, batch_size=batch_size)"
   ]
  },
  {
   "cell_type": "code",
   "execution_count": 16,
   "id": "cJc8Yj7zrh4g",
   "metadata": {
    "executionInfo": {
     "elapsed": 6,
     "status": "ok",
     "timestamp": 1652400037477,
     "user": {
      "displayName": "jiyeon seo",
      "userId": "13077474525846695766"
     },
     "user_tz": -540
    },
    "id": "cJc8Yj7zrh4g"
   },
   "outputs": [],
   "source": [
    "import gc\n",
    "gc.collect()\n",
    "torch.cuda.empty_cache()"
   ]
  },
  {
   "cell_type": "code",
   "execution_count": null,
   "id": "tpCGp41k7L51",
   "metadata": {
    "colab": {
     "base_uri": "https://localhost:8080/"
    },
    "id": "tpCGp41k7L51",
    "outputId": "bc053cc5-ced2-45f4-c1cf-f571405a01aa"
   },
   "outputs": [
    {
     "name": "stderr",
     "output_type": "stream",
     "text": [
      "Downloading: \"https://github.com/rwightman/pytorch-image-models/releases/download/v0.1-weights/efficientnet_b4_ra2_320-7eb33cd5.pth\" to /root/.cache/torch/hub/checkpoints/efficientnet_b4_ra2_320-7eb33cd5.pth\n"
     ]
    }
   ],
   "source": [
    "def score_function(real, pred):\n",
    "    score = f1_score(real, pred, average=\"macro\")\n",
    "    return score\n",
    "\n",
    "model = Network().to(device)\n",
    "\n",
    "# optimizer = torch.optim.AdamW(model.parameters(), lr=5e-5, weight_decay = 1e-3)\n",
    "# optimizer = torch.optim.Adadelta(model.parameters(), weight_decay = 1e-3)\n",
    "optimizer = torch.optim.Adadelta(model.parameters())\n",
    "criterion = nn.CrossEntropyLoss()\n",
    "scaler = torch.cuda.amp.GradScaler() \n",
    "\n",
    "batch_size = 32\n",
    "epochs = 30\n",
    "\n",
    "best=0\n",
    "for epoch in range(epochs):\n",
    "    start=time.time()\n",
    "    train_loss = 0\n",
    "    train_pred=[]\n",
    "    train_y=[]\n",
    "    model.train()\n",
    "    for batch in (train_loader):\n",
    "        optimizer.zero_grad()\n",
    "        x = torch.tensor(batch[0], dtype=torch.float32, device=device)\n",
    "        y = torch.tensor(batch[1], dtype=torch.long, device=device)\n",
    "        with torch.cuda.amp.autocast():\n",
    "            pred = model(x)\n",
    "        loss = criterion(pred, y)\n",
    "\n",
    "\n",
    "        scaler.scale(loss).backward()\n",
    "        scaler.step(optimizer)\n",
    "        scaler.update()\n",
    "        \n",
    "        train_loss += loss.item()/len(train_loader)\n",
    "        train_pred += pred.argmax(1).detach().cpu().numpy().tolist()\n",
    "        train_y += y.detach().cpu().numpy().tolist()\n",
    "        \n",
    "    \n",
    "    train_f1 = score_function(train_y, train_pred)\n",
    "\n",
    "    TIME = time.time() - start\n",
    "    print(f'epoch : {epoch+1}/{epochs}    time : {TIME:.0f}s/{TIME*(epochs-epoch-1):.0f}s')\n",
    "    print(f'TRAIN    loss : {train_loss:.5f}    f1 : {train_f1:.5f}')"
   ]
  },
  {
   "cell_type": "markdown",
   "id": "YssPW4xq7L53",
   "metadata": {
    "id": "YssPW4xq7L53"
   },
   "source": [
    "### 추론"
   ]
  },
  {
   "cell_type": "code",
   "execution_count": null,
   "id": "1w_VB_PY7L53",
   "metadata": {
    "id": "1w_VB_PY7L53"
   },
   "outputs": [],
   "source": [
    "model.eval()\n",
    "f_pred = []\n",
    "pred_prob = []\n",
    "\n",
    "with torch.no_grad():\n",
    "    for batch in (test_loader):\n",
    "        x = torch.tensor(batch[0], dtype = torch.float32, device = device)\n",
    "        with torch.cuda.amp.autocast():\n",
    "            pred = model(x)\n",
    "            pred_prob.extend(pred.detach().cpu().numpy())\n",
    "        f_pred.extend(pred.argmax(1).detach().cpu().numpy().tolist())"
   ]
  },
  {
   "cell_type": "code",
   "execution_count": null,
   "id": "aZMML2u3DTHx",
   "metadata": {
    "id": "aZMML2u3DTHx"
   },
   "outputs": [],
   "source": [
    "label_decoder = {val:key for key, val in label_unique.items()}\n",
    "\n",
    "f_result = [label_decoder[result] for result in f_pred]"
   ]
  },
  {
   "cell_type": "markdown",
   "id": "I4io2mJC7L54",
   "metadata": {
    "id": "I4io2mJC7L54"
   },
   "source": [
    "### 제출물 생성"
   ]
  },
  {
   "cell_type": "code",
   "execution_count": null,
   "id": "XCV3FEKe7L55",
   "metadata": {
    "colab": {
     "base_uri": "https://localhost:8080/",
     "height": 424
    },
    "executionInfo": {
     "elapsed": 473,
     "status": "ok",
     "timestamp": 1652366803317,
     "user": {
      "displayName": "Jiyeon Seo",
      "userId": "13545171303062516687"
     },
     "user_tz": -540
    },
    "id": "XCV3FEKe7L55",
    "outputId": "1b189e4b-2176-4587-9006-bef1808afe25"
   },
   "outputs": [
    {
     "data": {
      "text/html": [
       "\n",
       "  <div id=\"df-3279c721-66eb-4500-9590-61c40a0ab11f\">\n",
       "    <div class=\"colab-df-container\">\n",
       "      <div>\n",
       "<style scoped>\n",
       "    .dataframe tbody tr th:only-of-type {\n",
       "        vertical-align: middle;\n",
       "    }\n",
       "\n",
       "    .dataframe tbody tr th {\n",
       "        vertical-align: top;\n",
       "    }\n",
       "\n",
       "    .dataframe thead th {\n",
       "        text-align: right;\n",
       "    }\n",
       "</style>\n",
       "<table border=\"1\" class=\"dataframe\">\n",
       "  <thead>\n",
       "    <tr style=\"text-align: right;\">\n",
       "      <th></th>\n",
       "      <th>index</th>\n",
       "      <th>label</th>\n",
       "    </tr>\n",
       "  </thead>\n",
       "  <tbody>\n",
       "    <tr>\n",
       "      <th>0</th>\n",
       "      <td>0</td>\n",
       "      <td>tile-glue_strip</td>\n",
       "    </tr>\n",
       "    <tr>\n",
       "      <th>1</th>\n",
       "      <td>1</td>\n",
       "      <td>grid-good</td>\n",
       "    </tr>\n",
       "    <tr>\n",
       "      <th>2</th>\n",
       "      <td>2</td>\n",
       "      <td>transistor-good</td>\n",
       "    </tr>\n",
       "    <tr>\n",
       "      <th>3</th>\n",
       "      <td>3</td>\n",
       "      <td>tile-gray_stroke</td>\n",
       "    </tr>\n",
       "    <tr>\n",
       "      <th>4</th>\n",
       "      <td>4</td>\n",
       "      <td>tile-good</td>\n",
       "    </tr>\n",
       "    <tr>\n",
       "      <th>...</th>\n",
       "      <td>...</td>\n",
       "      <td>...</td>\n",
       "    </tr>\n",
       "    <tr>\n",
       "      <th>2149</th>\n",
       "      <td>2149</td>\n",
       "      <td>tile-gray_stroke</td>\n",
       "    </tr>\n",
       "    <tr>\n",
       "      <th>2150</th>\n",
       "      <td>2150</td>\n",
       "      <td>screw-good</td>\n",
       "    </tr>\n",
       "    <tr>\n",
       "      <th>2151</th>\n",
       "      <td>2151</td>\n",
       "      <td>grid-good</td>\n",
       "    </tr>\n",
       "    <tr>\n",
       "      <th>2152</th>\n",
       "      <td>2152</td>\n",
       "      <td>cable-good</td>\n",
       "    </tr>\n",
       "    <tr>\n",
       "      <th>2153</th>\n",
       "      <td>2153</td>\n",
       "      <td>zipper-good</td>\n",
       "    </tr>\n",
       "  </tbody>\n",
       "</table>\n",
       "<p>2154 rows × 2 columns</p>\n",
       "</div>\n",
       "      <button class=\"colab-df-convert\" onclick=\"convertToInteractive('df-3279c721-66eb-4500-9590-61c40a0ab11f')\"\n",
       "              title=\"Convert this dataframe to an interactive table.\"\n",
       "              style=\"display:none;\">\n",
       "        \n",
       "  <svg xmlns=\"http://www.w3.org/2000/svg\" height=\"24px\"viewBox=\"0 0 24 24\"\n",
       "       width=\"24px\">\n",
       "    <path d=\"M0 0h24v24H0V0z\" fill=\"none\"/>\n",
       "    <path d=\"M18.56 5.44l.94 2.06.94-2.06 2.06-.94-2.06-.94-.94-2.06-.94 2.06-2.06.94zm-11 1L8.5 8.5l.94-2.06 2.06-.94-2.06-.94L8.5 2.5l-.94 2.06-2.06.94zm10 10l.94 2.06.94-2.06 2.06-.94-2.06-.94-.94-2.06-.94 2.06-2.06.94z\"/><path d=\"M17.41 7.96l-1.37-1.37c-.4-.4-.92-.59-1.43-.59-.52 0-1.04.2-1.43.59L10.3 9.45l-7.72 7.72c-.78.78-.78 2.05 0 2.83L4 21.41c.39.39.9.59 1.41.59.51 0 1.02-.2 1.41-.59l7.78-7.78 2.81-2.81c.8-.78.8-2.07 0-2.86zM5.41 20L4 18.59l7.72-7.72 1.47 1.35L5.41 20z\"/>\n",
       "  </svg>\n",
       "      </button>\n",
       "      \n",
       "  <style>\n",
       "    .colab-df-container {\n",
       "      display:flex;\n",
       "      flex-wrap:wrap;\n",
       "      gap: 12px;\n",
       "    }\n",
       "\n",
       "    .colab-df-convert {\n",
       "      background-color: #E8F0FE;\n",
       "      border: none;\n",
       "      border-radius: 50%;\n",
       "      cursor: pointer;\n",
       "      display: none;\n",
       "      fill: #1967D2;\n",
       "      height: 32px;\n",
       "      padding: 0 0 0 0;\n",
       "      width: 32px;\n",
       "    }\n",
       "\n",
       "    .colab-df-convert:hover {\n",
       "      background-color: #E2EBFA;\n",
       "      box-shadow: 0px 1px 2px rgba(60, 64, 67, 0.3), 0px 1px 3px 1px rgba(60, 64, 67, 0.15);\n",
       "      fill: #174EA6;\n",
       "    }\n",
       "\n",
       "    [theme=dark] .colab-df-convert {\n",
       "      background-color: #3B4455;\n",
       "      fill: #D2E3FC;\n",
       "    }\n",
       "\n",
       "    [theme=dark] .colab-df-convert:hover {\n",
       "      background-color: #434B5C;\n",
       "      box-shadow: 0px 1px 3px 1px rgba(0, 0, 0, 0.15);\n",
       "      filter: drop-shadow(0px 1px 2px rgba(0, 0, 0, 0.3));\n",
       "      fill: #FFFFFF;\n",
       "    }\n",
       "  </style>\n",
       "\n",
       "      <script>\n",
       "        const buttonEl =\n",
       "          document.querySelector('#df-3279c721-66eb-4500-9590-61c40a0ab11f button.colab-df-convert');\n",
       "        buttonEl.style.display =\n",
       "          google.colab.kernel.accessAllowed ? 'block' : 'none';\n",
       "\n",
       "        async function convertToInteractive(key) {\n",
       "          const element = document.querySelector('#df-3279c721-66eb-4500-9590-61c40a0ab11f');\n",
       "          const dataTable =\n",
       "            await google.colab.kernel.invokeFunction('convertToInteractive',\n",
       "                                                     [key], {});\n",
       "          if (!dataTable) return;\n",
       "\n",
       "          const docLinkHtml = 'Like what you see? Visit the ' +\n",
       "            '<a target=\"_blank\" href=https://colab.research.google.com/notebooks/data_table.ipynb>data table notebook</a>'\n",
       "            + ' to learn more about interactive tables.';\n",
       "          element.innerHTML = '';\n",
       "          dataTable['output_type'] = 'display_data';\n",
       "          await google.colab.output.renderOutput(dataTable, element);\n",
       "          const docLink = document.createElement('div');\n",
       "          docLink.innerHTML = docLinkHtml;\n",
       "          element.appendChild(docLink);\n",
       "        }\n",
       "      </script>\n",
       "    </div>\n",
       "  </div>\n",
       "  "
      ],
      "text/plain": [
       "      index             label\n",
       "0         0   tile-glue_strip\n",
       "1         1         grid-good\n",
       "2         2   transistor-good\n",
       "3         3  tile-gray_stroke\n",
       "4         4         tile-good\n",
       "...     ...               ...\n",
       "2149   2149  tile-gray_stroke\n",
       "2150   2150        screw-good\n",
       "2151   2151         grid-good\n",
       "2152   2152        cable-good\n",
       "2153   2153       zipper-good\n",
       "\n",
       "[2154 rows x 2 columns]"
      ]
     },
     "execution_count": 23,
     "metadata": {},
     "output_type": "execute_result"
    }
   ],
   "source": [
    "submission = pd.read_csv(path + \"data/sample_submission.csv\")\n",
    "\n",
    "submission[\"label\"] = f_result\n",
    "\n",
    "submission"
   ]
  },
  {
   "cell_type": "code",
   "execution_count": null,
   "id": "jsl6tXbz7L56",
   "metadata": {
    "id": "jsl6tXbz7L56"
   },
   "outputs": [],
   "source": [
    "# efficient b4, 30 epoch, adadelta, allflip\n",
    "submission.to_csv(path + \"submission/0512_b4_norm_30epoch_allflip.csv\", index = False)"
   ]
  },
  {
   "cell_type": "code",
   "execution_count": null,
   "id": "171ed5c0",
   "metadata": {
    "id": "171ed5c0"
   },
   "outputs": [],
   "source": []
  }
 ],
 "metadata": {
  "accelerator": "GPU",
  "colab": {
   "collapsed_sections": [],
   "machine_shape": "hm",
   "name": "0512_Efficientnet_b4_exceptNut.ipynb",
   "provenance": []
  },
  "kernelspec": {
   "display_name": "Python 3 (ipykernel)",
   "language": "python",
   "name": "python3"
  },
  "language_info": {
   "codemirror_mode": {
    "name": "ipython",
    "version": 3
   },
   "file_extension": ".py",
   "mimetype": "text/x-python",
   "name": "python",
   "nbconvert_exporter": "python",
   "pygments_lexer": "ipython3",
   "version": "3.8.13"
  }
 },
 "nbformat": 4,
 "nbformat_minor": 5
}
