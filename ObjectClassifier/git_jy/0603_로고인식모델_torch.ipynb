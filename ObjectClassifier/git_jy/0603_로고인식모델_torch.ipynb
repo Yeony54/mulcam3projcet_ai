{
 "cells": [
  {
   "cell_type": "code",
   "execution_count": null,
   "id": "0a1be1f9",
   "metadata": {},
   "outputs": [],
   "source": [
    "import torch\n",
    "import torchvision\n",
    "import torchvision.transforms as transforms\n",
    "from torch.utils.data import DataLoader\n",
    "import torch.nn as nn\n",
    "import torch.nn.functional as F\n",
    "import torch.optim as optim\n",
    "import matplotlib.pyplot as plt"
   ]
  },
  {
   "cell_type": "code",
   "execution_count": null,
   "id": "f52d02da",
   "metadata": {},
   "outputs": [],
   "source": [
    "base_path = '/home/lab17/jupyter_home/Data/product_image'\n",
    "\n",
    "train_jpg = sorted(glob(os.path.join(base_path, 'Training/image/**/*.jpg')))\n",
    "valid_jpg = sorted(glob(os.path.join(base_path, 'Validation/image/**/*.jpg')))\n",
    "\n",
    "train_label = [int(t_img[len(base_path+'/Training/image/'):len(base_path+'/Training/image/')+5]) for t_img in train_jpg]\n",
    "valid_label = [int(v_img[len(base_path+'/Validation/image/'):len(base_path+'/Validation/image/')+5]) for v_img in valid_jpg]\n",
    "\n",
    "print('train_label count', len(set(train_label)))\n",
    "print('valid_label count', len(set(valid_label)))\n",
    "print('train_label length' , len(train_label))\n",
    "print('valid_label length' , len(valid_label))"
   ]
  },
  {
   "cell_type": "code",
   "execution_count": null,
   "id": "875e61e2",
   "metadata": {},
   "outputs": [],
   "source": [
    "class Custom_dataset(Dataset):\n",
    "    def __init__(self, files, labels=None, mode='train'):\n",
    "        self.mode = mode\n",
    "        self.files = files\n",
    "        if mode == 'train':\n",
    "            self.labels = labels\n",
    "            \n",
    "    def __len__(self):\n",
    "        return len(self.files)\n",
    "    \n",
    "    def __getitem__(self, i):\n",
    "        if self.mode == 'train':\n",
    "            img = cv2.imread(self.files[i])\n",
    "            img = cv2.resize(img, dsize=(256, 256), interpolation=cv2.INTER_AREA)\n",
    "            img = img.astype(np.float32)/255\n",
    "            \n",
    "            # 0~3 사이의 임의의 정수 생성\n",
    "            rand = random.randrange(0,4)\n",
    "       \n",
    "            img = np.transpose(img, (2,0,1))\n",
    "            return {\n",
    "                'img' : torch.tensor(img, dtype=torch.float32),\n",
    "                'label' : torch.tensor(self.labels[i], dtype=torch.long)\n",
    "            }\n",
    "        else:\n",
    "            img = cv2.imread('test_imgs/'+self.files[i])\n",
    "            img = cv2.resize(img, dsize=(256, 256), interpolation=cv2.INTER_AREA)\n",
    "            img = img.astype(np.float32)/255\n",
    "\n",
    "            img = np.transpose(img, (2,0,1))\n",
    "            return {\n",
    "                'img' : torch.tensor(img, dtype=torch.float32),\n",
    "            }"
   ]
  },
  {
   "cell_type": "code",
   "execution_count": null,
   "id": "5364830d",
   "metadata": {},
   "outputs": [],
   "source": [
    "transform = transforms.Compose(\n",
    "    [transforms.ToTensor(),\n",
    "    transforms.Normalize((0.5,0.5,0.5), (0.5,0.5,0.5))]\n",
    "    )\n"
   ]
  }
 ],
 "metadata": {
  "kernelspec": {
   "display_name": "Python [conda env:pytorch_17] *",
   "language": "python",
   "name": "conda-env-pytorch_17-py"
  },
  "language_info": {
   "codemirror_mode": {
    "name": "ipython",
    "version": 3
   },
   "file_extension": ".py",
   "mimetype": "text/x-python",
   "name": "python",
   "nbconvert_exporter": "python",
   "pygments_lexer": "ipython3",
   "version": "3.8.13"
  }
 },
 "nbformat": 4,
 "nbformat_minor": 5
}
