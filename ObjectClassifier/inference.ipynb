{
 "cells": [
  {
   "cell_type": "code",
   "execution_count": 1,
   "id": "b09eea18",
   "metadata": {},
   "outputs": [],
   "source": [
    "import json\n",
    "import logging\n",
    "import os\n",
    "import torch\n",
    "import requests\n",
    "from PIL import Image\n",
    "from torchvision import transforms\n",
    "from torchvision import models\n",
    "import torch.nn as nn"
   ]
  },
  {
   "cell_type": "code",
   "execution_count": 6,
   "id": "15d9b815",
   "metadata": {},
   "outputs": [],
   "source": [
    "logger = logging.getLogger(__name__)"
   ]
  },
  {
   "cell_type": "code",
   "execution_count": 8,
   "id": "22059e43",
   "metadata": {},
   "outputs": [],
   "source": [
    "class ResNet50(torch.nn.Module):\n",
    "    def __init__(self):\n",
    "        super(ResNet50, self).__init__()\n",
    "        model = models.resnet50(pretrained=True)\n",
    "        modules = list(model.children())[:-1]\n",
    "        self.feature_extract = nn.Sequential(*modules)\n",
    "        self.fc1 = nn.Linear(2048, 1000)\n",
    "        self.relu = nn.ReLU()\n",
    "        self.fc2 = nn.Linear(1000,7)\n",
    "        self.softmax = nn.Softmax(dim=1)\n",
    "\n",
    "    def forward(self, x):\n",
    "        x = self.feature_extract(x)\n",
    "        # x = x.mean(dim=(-2, -1))\n",
    "        # (batch, 2048, 4, 4)\n",
    "        x = torch.squeeze(x)\n",
    "        x = self.relu(self.fc1(x))\n",
    "        out = self.fc2(x)\n",
    "        out = self.softmax(out)\n",
    "        return out"
   ]
  },
  {
   "cell_type": "code",
   "execution_count": 5,
   "id": "aa027a25",
   "metadata": {},
   "outputs": [],
   "source": [
    "def model_fn(model_dir):\n",
    "    device = torch.device('cpu')\n",
    "    logger.info('Loading the model.')\n",
    "    model = ResNet50()\n",
    "\n",
    "\n",
    "    with open(os.path.join(model_dir, 'model_0.pth'), 'rb') as f:\n",
    "        model.load_state_dict(torch.load(f))\n",
    "\n",
    "    model.to(device).eval()\n",
    "    logger.info('Done loading model')\n",
    "    return model"
   ]
  },
  {
   "cell_type": "code",
   "execution_count": 7,
   "id": "48d65fa8",
   "metadata": {},
   "outputs": [],
   "source": [
    "def input_fn(request_body, content_type='application/json'):\n",
    "    logger.info('Deserializing the input data.')\n",
    "    if content_type == 'application/json':\n",
    "        input_data = json.loads(request_body)\n",
    "        url = input_data['url']\n",
    "        logger.info(f'Image url: {url}')\n",
    "        image_data = Image.open(requests.get(url, stream=True).raw)\n",
    "\n",
    "        image_transform = transforms.Compose([\n",
    "            transforms.Resize(size=256),\n",
    "            transforms.ToTensor(),\n",
    "            transforms.Normalize([0.485, 0.456, 0.406], [0.229, 0.224, 0.225])\n",
    "        ])\n",
    "\n",
    "        return image_transform(image_data)\n",
    "    raise Exception(f'Requested unsupported ContentType in content_type: {content_type}')"
   ]
  },
  {
   "cell_type": "code",
   "execution_count": null,
   "id": "f843460d",
   "metadata": {},
   "outputs": [],
   "source": [
    "def output_fn(prediction_output, accept='application/json'):\n",
    "    logger.info('Serializing the generated output.')\n",
    "    # 각 분류기마다 다른 레이블 값을 가짐. 해당 레이블 값을 토대로 쿼리 진행\n",
    "    label = ['35102', '55701', '65753', '66304', '35192', '45661', '35954']\n",
    "    classes = {0: label[0], 1: label[1], 2: label[2], 3: label[3], 4: label[4], 5: label[5], 6: label[6]}\n",
    "\n",
    "    topk, topclass = prediction_output.topk(1, dim=0)\n",
    "    result = []\n",
    "\n",
    "    for i in range(3):\n",
    "        pred = {'prediction': classes[topclass.cpu().numpy()[0]], 'score': f'{topk.cpu().numpy()[0] * 100}%'}\n",
    "        logger.info(f'Adding pediction: {pred}')\n",
    "        result.append(pred)\n",
    "\n",
    "    if accept == 'application/json':\n",
    "        return json.dumps(result), accept\n",
    "    raise Exception(f'Requested unsupported ContentType in Accept: {accept}')"
   ]
  },
  {
   "cell_type": "code",
   "execution_count": null,
   "id": "796a7cde",
   "metadata": {},
   "outputs": [],
   "source": [
    "def predict_fn(input_data, model):\n",
    "    logger.info('Generating prediction based on input parameters.')\n",
    "    if torch.cuda.is_available():\n",
    "        input_data = input_data.view(1, 3, 224, 224).cuda()\n",
    "    else:\n",
    "        input_data = input_data.view(1, 3, 224, 224)\n",
    "\n",
    "    with torch.no_grad():\n",
    "        model.eval()\n",
    "        out = model(input_data)\n",
    "        ps = torch.exp(out)\n",
    "\n",
    "    return ps"
   ]
  }
 ],
 "metadata": {
  "kernelspec": {
   "display_name": "conda_pytorch_latest_p36",
   "language": "python",
   "name": "conda_pytorch_latest_p36"
  },
  "language_info": {
   "codemirror_mode": {
    "name": "ipython",
    "version": 3
   },
   "file_extension": ".py",
   "mimetype": "text/x-python",
   "name": "python",
   "nbconvert_exporter": "python",
   "pygments_lexer": "ipython3",
   "version": "3.6.13"
  }
 },
 "nbformat": 4,
 "nbformat_minor": 5
}
