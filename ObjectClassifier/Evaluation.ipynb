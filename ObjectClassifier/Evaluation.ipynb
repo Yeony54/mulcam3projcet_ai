{
  "cells": [
    {
      "cell_type": "markdown",
      "metadata": {
        "id": "view-in-github",
        "colab_type": "text"
      },
      "source": [
        "<a href=\"https://colab.research.google.com/github/InhuKim/ai/blob/main/Evaluation.ipynb\" target=\"_parent\"><img src=\"https://colab.research.google.com/assets/colab-badge.svg\" alt=\"Open In Colab\"/></a>"
      ]
    },
    {
      "cell_type": "code",
      "execution_count": null,
      "id": "4c356142",
      "metadata": {
        "id": "4c356142"
      },
      "outputs": [],
      "source": [
        "import numpy as np\n",
        "import random\n",
        "import os\n",
        "import math\n",
        "from sklearn import preprocessing\n",
        "from sklearn.preprocessing import MinMaxScaler\n",
        "from itertools import product\n",
        "\n",
        "\n",
        "from glob import glob\n",
        "import pandas as pd\n",
        "import cv2\n",
        "from tqdm.auto import tqdm\n",
        "import matplotlib.pyplot as plt\n",
        "\n",
        "\n",
        "import torch\n",
        "import torch.nn as nn\n",
        "import torch.nn.functional as F\n",
        "from torch.utils.data import DataLoader, Dataset\n",
        "\n",
        "from torch.autograd import Variable\n",
        "\n",
        "import torchvision.models as models\n",
        "from torchvision import transforms"
      ]
    },
    {
      "cell_type": "code",
      "source": [
        "from google.colab import drive\n",
        "drive.mount('/content/drive')"
      ],
      "metadata": {
        "colab": {
          "base_uri": "https://localhost:8080/"
        },
        "id": "3mXHH2hFIyrM",
        "outputId": "65c6024c-8dd3-4b0a-c3aa-5ae4ebaad6a1"
      },
      "id": "3mXHH2hFIyrM",
      "execution_count": null,
      "outputs": [
        {
          "output_type": "stream",
          "name": "stdout",
          "text": [
            "Drive already mounted at /content/drive; to attempt to forcibly remount, call drive.mount(\"/content/drive\", force_remount=True).\n"
          ]
        }
      ]
    },
    {
      "cell_type": "code",
      "execution_count": null,
      "id": "b9e119fa",
      "metadata": {
        "id": "b9e119fa",
        "colab": {
          "base_uri": "https://localhost:8080/"
        },
        "outputId": "a8bdb144-3cf2-4911-b3e4-81a942d8f574"
      },
      "outputs": [
        {
          "output_type": "stream",
          "name": "stdout",
          "text": [
            "Using cuda device\n"
          ]
        }
      ],
      "source": [
        "device = 'cuda' if torch.cuda.is_available() else 'cpu'\n",
        "print(f\"Using {device} device\")"
      ]
    },
    {
      "cell_type": "code",
      "execution_count": null,
      "id": "3e024084",
      "metadata": {
        "id": "3e024084",
        "outputId": "40bb09d8-8798-4555-a066-9950bbe8fe2e",
        "colab": {
          "base_uri": "https://localhost:8080/"
        }
      },
      "outputs": [
        {
          "output_type": "execute_result",
          "data": {
            "text/plain": [
              "True"
            ]
          },
          "metadata": {},
          "execution_count": 122
        }
      ],
      "source": [
        "torch.cuda.is_available()"
      ]
    },
    {
      "cell_type": "code",
      "execution_count": null,
      "id": "840c846c",
      "metadata": {
        "id": "840c846c"
      },
      "outputs": [],
      "source": [
        "torch.cuda.empty_cache()"
      ]
    },
    {
      "cell_type": "code",
      "source": [
        "CFG = {\n",
        "    'IMG_SIZE':256,\n",
        "    'EPOCHS':50,\n",
        "    'PATIENCE':5,\n",
        "    'class':14\n",
        "}"
      ],
      "metadata": {
        "id": "ccPRytMNE_JF"
      },
      "id": "ccPRytMNE_JF",
      "execution_count": null,
      "outputs": []
    },
    {
      "cell_type": "markdown",
      "id": "0e248641",
      "metadata": {
        "id": "0e248641"
      },
      "source": [
        "### data"
      ]
    },
    {
      "cell_type": "code",
      "execution_count": null,
      "id": "36f8c3d1",
      "metadata": {
        "id": "36f8c3d1"
      },
      "outputs": [],
      "source": [
        "def get_train_data(data_dir):\n",
        "    img_path_list = []\n",
        "    label_list = []\n",
        "    \n",
        "    image_path = os.path.join(data_dir, 'training')\n",
        "    \n",
        "    for product_name in os.listdir(image_path):\n",
        "        product_path = os.path.join(image_path, product_name)\n",
        "        if os.path.isdir(product_path):\n",
        "            # get image path\n",
        "            img_path_list.extend(glob(os.path.join(product_path, '*.jpg')))\n",
        "            img_path_list.extend(glob(os.path.join(product_path, '*.png')))\n",
        "            label = list(product_name[:5])\n",
        "            \n",
        "            # get label\n",
        "            label_list.append(''.join(label))\n",
        "                \n",
        "    return img_path_list, label_list"
      ]
    },
    {
      "cell_type": "code",
      "execution_count": null,
      "id": "9b328db6",
      "metadata": {
        "scrolled": true,
        "id": "9b328db6"
      },
      "outputs": [],
      "source": [
        "img_list, label_list = get_train_data('/content/drive/MyDrive/Colab_Notebooks/data/product_data/')"
      ]
    },
    {
      "cell_type": "code",
      "execution_count": null,
      "id": "166e8203",
      "metadata": {
        "id": "166e8203"
      },
      "outputs": [],
      "source": [
        "def data_blanced(img, label):\n",
        "    x = []\n",
        "    y = []\n",
        "    \n",
        "    for i in range(CFG['class']):\n",
        "        _img = img[(i * 114): ((i + 1) * 114)]\n",
        "        _label = label[i]\n",
        "        \n",
        "        for img_product in _img:\n",
        "            x.append(img_product)\n",
        "            y.append(_label)\n",
        "            \n",
        "    return x, y"
      ]
    },
    {
      "cell_type": "code",
      "execution_count": null,
      "id": "42e0b929",
      "metadata": {
        "id": "42e0b929"
      },
      "outputs": [],
      "source": [
        "x, y = data_blanced(img_list, label_list)"
      ]
    },
    {
      "cell_type": "code",
      "execution_count": null,
      "id": "29ee4584",
      "metadata": {
        "id": "29ee4584"
      },
      "outputs": [],
      "source": [
        "le = preprocessing.LabelEncoder()\n",
        "targets = le.fit_transform(y)\n",
        "targets = torch.as_tensor(targets)"
      ]
    },
    {
      "cell_type": "code",
      "execution_count": null,
      "id": "d65e78c8",
      "metadata": {
        "id": "d65e78c8",
        "outputId": "385a3796-036a-4442-9c34-8b0ec6622096",
        "colab": {
          "base_uri": "https://localhost:8080/"
        }
      },
      "outputs": [
        {
          "output_type": "execute_result",
          "data": {
            "text/plain": [
              "['35585',\n",
              " '35584',\n",
              " '45030',\n",
              " '45658',\n",
              " '45660',\n",
              " '45659',\n",
              " '25222',\n",
              " '25228',\n",
              " '35211',\n",
              " '45657',\n",
              " '55701',\n",
              " '55034',\n",
              " '55702',\n",
              " '45661']"
            ]
          },
          "metadata": {},
          "execution_count": 130
        }
      ],
      "source": [
        "label_list"
      ]
    },
    {
      "cell_type": "code",
      "execution_count": null,
      "id": "86c082f5",
      "metadata": {
        "id": "86c082f5"
      },
      "outputs": [],
      "source": [
        "one_hot_y = F.one_hot(targets)"
      ]
    },
    {
      "cell_type": "code",
      "execution_count": null,
      "id": "8d603fa2",
      "metadata": {
        "id": "8d603fa2",
        "outputId": "20109a6d-7582-4ccb-d4c0-66dd298107ce",
        "colab": {
          "base_uri": "https://localhost:8080/"
        }
      },
      "outputs": [
        {
          "output_type": "execute_result",
          "data": {
            "text/plain": [
              "torch.Size([1596, 14])"
            ]
          },
          "metadata": {},
          "execution_count": 17
        }
      ],
      "source": [
        "one_hot_y.shape"
      ]
    },
    {
      "cell_type": "code",
      "execution_count": null,
      "id": "4a78c57c",
      "metadata": {
        "id": "4a78c57c"
      },
      "outputs": [],
      "source": [
        "def get_valid_data(data_dir):\n",
        "    img_valid_list = []\n",
        "    label_valid_list = []\n",
        "    \n",
        "    image_path = os.path.join(data_dir, 'validation')\n",
        "    \n",
        "    for product_name in os.listdir(image_path):\n",
        "        product_path = os.path.join(image_path, product_name)\n",
        "        if os.path.isdir(product_path):\n",
        "            # get image path\n",
        "            img_valid_list.extend(glob(os.path.join(product_path, '*.jpg')))\n",
        "            img_valid_list.extend(glob(os.path.join(product_path, '*.png')))\n",
        "            label = list(product_name[:5])\n",
        "            \n",
        "            # get label\n",
        "            label_valid_list.append(''.join(label))\n",
        "                \n",
        "    return img_valid_list, label_valid_list"
      ]
    },
    {
      "cell_type": "code",
      "execution_count": null,
      "id": "c0553db7",
      "metadata": {
        "id": "c0553db7"
      },
      "outputs": [],
      "source": [
        "def valid_data_blanced(img, label):\n",
        "    x = []\n",
        "    y = []\n",
        "    \n",
        "    for i in range(CFG['class']):\n",
        "        _img = img[(i * 15): ((i + 1) * 15)]\n",
        "        _label = label[i]\n",
        "        \n",
        "        for img_product in _img:\n",
        "            x.append(img_product)\n",
        "            y.append(_label)\n",
        "            \n",
        "    return x, y"
      ]
    },
    {
      "cell_type": "code",
      "execution_count": null,
      "id": "f40d5ee2",
      "metadata": {
        "id": "f40d5ee2"
      },
      "outputs": [],
      "source": [
        "img_valid_list, label_valid_list = get_valid_data('/content/drive/MyDrive/Colab_Notebooks/data/product_data/')"
      ]
    },
    {
      "cell_type": "code",
      "execution_count": null,
      "id": "85a2705a",
      "metadata": {
        "id": "85a2705a"
      },
      "outputs": [],
      "source": [
        "x_valid, y_valid = valid_data_blanced(img_valid_list, label_valid_list)"
      ]
    },
    {
      "cell_type": "code",
      "execution_count": null,
      "id": "ae0f8689",
      "metadata": {
        "id": "ae0f8689",
        "outputId": "fb796f44-b8fa-45a5-8dc9-94e4986d5147",
        "colab": {
          "base_uri": "https://localhost:8080/"
        }
      },
      "outputs": [
        {
          "output_type": "execute_result",
          "data": {
            "text/plain": [
              "14"
            ]
          },
          "metadata": {},
          "execution_count": 22
        }
      ],
      "source": [
        "len(label_valid_list)"
      ]
    },
    {
      "cell_type": "code",
      "execution_count": null,
      "id": "c1e892b7",
      "metadata": {
        "id": "c1e892b7"
      },
      "outputs": [],
      "source": [
        "le2 = preprocessing.LabelEncoder()\n",
        "targets_y = le2.fit_transform(y_valid)\n",
        "targets_y = torch.as_tensor(targets_y)\n",
        "one_hot_valid_y = F.one_hot(targets_y)"
      ]
    },
    {
      "cell_type": "code",
      "execution_count": null,
      "id": "33cccb3f",
      "metadata": {
        "id": "33cccb3f",
        "outputId": "5f28a532-ce1a-429b-ad96-cc8a436aaa01",
        "colab": {
          "base_uri": "https://localhost:8080/"
        }
      },
      "outputs": [
        {
          "output_type": "execute_result",
          "data": {
            "text/plain": [
              "torch.Size([210, 14])"
            ]
          },
          "metadata": {},
          "execution_count": 24
        }
      ],
      "source": [
        "one_hot_valid_y.shape"
      ]
    },
    {
      "cell_type": "code",
      "source": [
        "test_path = '/content/drive/MyDrive/Colab_Notebooks/data/test_img'\n",
        "def get_test_data(data_dir):\n",
        "    img_test_list = []\n",
        "    label_test_list = []\n",
        "    \n",
        "    product_path = data_dir\n",
        "    img_test_list.extend(glob(os.path.join(product_path, '*.jpg')))\n",
        "    img_test_list.extend(glob(os.path.join(product_path, '*.png')))\n",
        "    \n",
        "    print(img_test_list)\n",
        "                \n",
        "    return img_test_list, label_test_list"
      ],
      "metadata": {
        "id": "ahI4kJy_r4jY"
      },
      "id": "ahI4kJy_r4jY",
      "execution_count": null,
      "outputs": []
    },
    {
      "cell_type": "code",
      "source": [
        "img_test_list, label_test_list = get_test_data(test_path)"
      ],
      "metadata": {
        "id": "Q4xYTQwnr_ii",
        "colab": {
          "base_uri": "https://localhost:8080/"
        },
        "outputId": "8442071e-0fbe-4c52-bc0f-a5e1811f2304"
      },
      "id": "Q4xYTQwnr_ii",
      "execution_count": null,
      "outputs": [
        {
          "output_type": "stream",
          "name": "stdout",
          "text": [
            "['/content/drive/MyDrive/Colab_Notebooks/data/test_img/25222_2.jpg', '/content/drive/MyDrive/Colab_Notebooks/data/test_img/55701_4.jpg', '/content/drive/MyDrive/Colab_Notebooks/data/test_img/35211_1.jpg', '/content/drive/MyDrive/Colab_Notebooks/data/test_img/45660_2.jpg', '/content/drive/MyDrive/Colab_Notebooks/data/test_img/35211_4.jpg', '/content/drive/MyDrive/Colab_Notebooks/data/test_img/55702_3.jpg', '/content/drive/MyDrive/Colab_Notebooks/data/test_img/45659_1.jpg', '/content/drive/MyDrive/Colab_Notebooks/data/test_img/55701_1.jpg', '/content/drive/MyDrive/Colab_Notebooks/data/test_img/35585_1.jpg', '/content/drive/MyDrive/Colab_Notebooks/data/test_img/25222_4.jpg', '/content/drive/MyDrive/Colab_Notebooks/data/test_img/55701_2.jpg', '/content/drive/MyDrive/Colab_Notebooks/data/test_img/45657_2.jpg', '/content/drive/MyDrive/Colab_Notebooks/data/test_img/35211_2.jpg', '/content/drive/MyDrive/Colab_Notebooks/data/test_img/25222_1.jpg', '/content/drive/MyDrive/Colab_Notebooks/data/test_img/45660_1.jpg', '/content/drive/MyDrive/Colab_Notebooks/data/test_img/45661_2.jpg', '/content/drive/MyDrive/Colab_Notebooks/data/test_img/45030_1.jpg', '/content/drive/MyDrive/Colab_Notebooks/data/test_img/45657_1.jpg', '/content/drive/MyDrive/Colab_Notebooks/data/test_img/25228_1.jpg', '/content/drive/MyDrive/Colab_Notebooks/data/test_img/25222_3.jpg', '/content/drive/MyDrive/Colab_Notebooks/data/test_img/55701_3.jpg', '/content/drive/MyDrive/Colab_Notebooks/data/test_img/45657_3.jpg', '/content/drive/MyDrive/Colab_Notebooks/data/test_img/35584_1.jpg', '/content/drive/MyDrive/Colab_Notebooks/data/test_img/45661_1.jpg', '/content/drive/MyDrive/Colab_Notebooks/data/test_img/35211_3.jpg', '/content/drive/MyDrive/Colab_Notebooks/data/test_img/55034_1.jpg', '/content/drive/MyDrive/Colab_Notebooks/data/test_img/45030_2.jpg', '/content/drive/MyDrive/Colab_Notebooks/data/test_img/55702_1.jpg', '/content/drive/MyDrive/Colab_Notebooks/data/test_img/35584_2.jpg', '/content/drive/MyDrive/Colab_Notebooks/data/test_img/55702_2.jpg', '/content/drive/MyDrive/Colab_Notebooks/data/test_img/45659_2.jpg']\n"
          ]
        }
      ]
    },
    {
      "cell_type": "code",
      "execution_count": null,
      "id": "04b09677",
      "metadata": {
        "id": "04b09677"
      },
      "outputs": [],
      "source": [
        "class CustomDataset(Dataset):\n",
        "    def __init__(self, img_path_list, label_list, train_mode=True, transforms=None):\n",
        "        self.transforms = transforms\n",
        "        self.train_mode = train_mode\n",
        "        self.img_path_list = img_path_list\n",
        "        self.label_list = label_list\n",
        "\n",
        "    def __getitem__(self, index):\n",
        "        img_path = self.img_path_list[index]\n",
        "        # Get image data\n",
        "        image = cv2.imread(img_path)\n",
        "        image = cv2.cvtColor(image, cv2.COLOR_BGR2RGB)\n",
        "        if self.transforms is not None:\n",
        "            image = self.transforms(image)\n",
        "\n",
        "        if self.train_mode:\n",
        "            label = self.label_list[index]\n",
        "            return image, label\n",
        "        else:\n",
        "            return image\n",
        "    \n",
        "    def __len__(self):\n",
        "        return len(self.img_path_list)"
      ]
    },
    {
      "cell_type": "code",
      "execution_count": null,
      "id": "ebfa6b7f",
      "metadata": {
        "id": "ebfa6b7f"
      },
      "outputs": [],
      "source": [
        "train_transform = transforms.Compose([\n",
        "                    transforms.ToTensor(),\n",
        "                    transforms.Resize((256, 256)),\n",
        "                    transforms.Normalize(mean=(0.5, 0.5, 0.5), std=(0.5, 0.5, 0.5))\n",
        "                    ])\n",
        "\n",
        "test_transform = transforms.Compose([\n",
        "                    transforms.ToTensor(),\n",
        "                    transforms.Resize((256, 256)),\n",
        "                    transforms.Normalize(mean=(0.5, 0.5, 0.5), std=(0.5, 0.5, 0.5))\n",
        "                    ])"
      ]
    },
    {
      "cell_type": "code",
      "execution_count": null,
      "id": "77eb80be",
      "metadata": {
        "id": "77eb80be"
      },
      "outputs": [],
      "source": [
        "train_dataset = CustomDataset(x, one_hot_y, train_mode=True, transforms=train_transform)\n",
        "train_loader = DataLoader(train_dataset, batch_size = 32, shuffle=True, num_workers=0, collate_fn=None)\n",
        "\n",
        "vali_dataset = CustomDataset(x_valid, one_hot_valid_y, train_mode=True, transforms=test_transform)\n",
        "vali_loader = DataLoader(vali_dataset, batch_size = 5, shuffle=False, num_workers=0, collate_fn=None)\n",
        "\n",
        "test_dataset = CustomDataset(img_test_list, label_test_list, train_mode=False, transforms=test_transform)\n",
        "test_loader = DataLoader(test_dataset, batch_size = 31, shuffle=False, num_workers=0, collate_fn=None)"
      ]
    },
    {
      "cell_type": "code",
      "source": [
        "def draw_graph(title, loss, valid_loss):\n",
        "    plt.plot(loss, label=\"Training Loss\")\n",
        "    plt.plot(valid_loss, label=\"Validation Loss\")\n",
        "    plt.legend(loc='upper right')\n",
        "    plt.title(title)\n",
        "    plt.savefig(\"/content/drive/MyDrive/project/result/loss_chart/\" + title + \".png\")\n",
        "    plt.show()"
      ],
      "metadata": {
        "id": "UyqztuQvFYo3"
      },
      "id": "UyqztuQvFYo3",
      "execution_count": null,
      "outputs": []
    },
    {
      "cell_type": "markdown",
      "id": "91233e3c",
      "metadata": {
        "id": "91233e3c"
      },
      "source": [
        "### model"
      ]
    },
    {
      "cell_type": "code",
      "execution_count": null,
      "id": "0add7f63",
      "metadata": {
        "id": "0add7f63"
      },
      "outputs": [],
      "source": [
        "class ResNet50(torch.nn.Module):\n",
        "    def __init__(self):\n",
        "        super(ResNet50, self).__init__()\n",
        "        model = models.resnet50(pretrained=True)\n",
        "        modules = list(model.children())[:-1]\n",
        "        self.feature_extract = nn.Sequential(*modules)\n",
        "        self.fc1 = nn.Linear(2048, 1000)\n",
        "        self.relu = nn.ReLU()\n",
        "        self.dropout = nn.Dropout(0.3)\n",
        "        self.fc2 = nn.Linear(1000,CFG['class'])\n",
        "\n",
        "    def forward(self, x):\n",
        "        x = self.feature_extract(x)\n",
        "        # x = x.mean(dim=(-2, -1))\n",
        "        # (batch, 2048, 4, 4)\n",
        "        x = torch.squeeze(x)\n",
        "        x = self.relu(self.fc1(x))\n",
        "        out = self.fc2(x)\n",
        "        return out"
      ]
    },
    {
      "cell_type": "code",
      "source": [
        "class EfficientNetb4(torch.nn.Module):\n",
        "    def __init__(self):\n",
        "        super(EfficientNetb4, self).__init__()\n",
        "        model = models.efficientnet_b4(pretrained=True)\n",
        "        modules = list(model.children())[:-1]\n",
        "        self.feature_extract = nn.Sequential(*modules)\n",
        "        self.fc1 = nn.Linear(1792, 1000)\n",
        "        self.relu = nn.ReLU()\n",
        "        self.fc2 = nn.Linear(1000, CFG['class'])\n",
        "        # self.softmax = nn.Softmax(dim=0)\n",
        "        \n",
        "    def forward(self, x):\n",
        "        x = self.feature_extract(x)\n",
        "        # (batch, 1792, 1, 1)\n",
        "        x = torch.squeeze(x)\n",
        "        x = self.relu(self.fc1(x))\n",
        "        out = self.fc2(x)\n",
        "        # out = self.softmax(out)\n",
        "        \n",
        "        return out"
      ],
      "metadata": {
        "id": "B4EHtLgABD1k"
      },
      "id": "B4EHtLgABD1k",
      "execution_count": null,
      "outputs": []
    },
    {
      "cell_type": "code",
      "source": [
        "class RegNet(torch.nn.Module):\n",
        "    def __init__(self):\n",
        "        super(RegNet, self).__init__()\n",
        "        model = models.regnet_y_16gf(pretrained=True)\n",
        "        modules = list(model.children())[:-1]\n",
        "        self.feature_extract = nn.Sequential(*modules)\n",
        "        self.fc1 = nn.Linear(3024, 1000)\n",
        "        self.relu = nn.ReLU()\n",
        "        self.fc2 = nn.Linear(1000, CFG['class'])\n",
        "        # self.softmax = nn.Softmax(dim=0)\n",
        "        \n",
        "    def forward(self, x):\n",
        "        x = self.feature_extract(x)\n",
        "        # (batch, 3024, 1, 1)\n",
        "        x = torch.squeeze(x)\n",
        "        x = self.relu(self.fc1(x))\n",
        "        out = self.fc2(x)\n",
        "        # out = self.softmax(out)\n",
        "        \n",
        "        return out"
      ],
      "metadata": {
        "id": "3U1LJNSwBIYE"
      },
      "id": "3U1LJNSwBIYE",
      "execution_count": null,
      "outputs": []
    },
    {
      "cell_type": "markdown",
      "source": [
        "# 성능 평가"
      ],
      "metadata": {
        "id": "AEnLftPzI9jC"
      },
      "id": "AEnLftPzI9jC"
    },
    {
      "cell_type": "code",
      "source": [
        "PARAMS = {\n",
        "    'models' : ['ResNet50', 'EfficientNetb4', 'RegNet'],\n",
        "    # 'models' : ['ResNet50'],\n",
        "    # 'learning_rate' : [1e-3, 1e-4, 1e-5],\n",
        "    'learning_rate' : [1e-5],\n",
        "    # 'optimizer' : ['Lamb', 'adam', 'rmsprop', 'nadam', ],\n",
        "    'optimizer' : ['adam','rmsprop', 'nadam', 'lamb'],\n",
        "    'scheduler' : ['CosineAnnealing']\n",
        "}\n",
        "hyper_params=list(product(PARAMS['models'], PARAMS['learning_rate'],PARAMS['optimizer'], PARAMS['scheduler']))"
      ],
      "metadata": {
        "id": "kBaFvQ1cOPQf"
      },
      "id": "kBaFvQ1cOPQf",
      "execution_count": null,
      "outputs": []
    },
    {
      "cell_type": "code",
      "execution_count": null,
      "id": "811e0fa8",
      "metadata": {
        "id": "811e0fa8"
      },
      "outputs": [],
      "source": [
        "def predict(model, test_loader, device):\n",
        "    model.eval()\n",
        "    model_pred = []\n",
        "    with torch.no_grad():\n",
        "        for img in tqdm(iter(test_loader)):\n",
        "            img = img.float().to(device)\n",
        "            \n",
        "            pred_logit = model(img)\n",
        "            pred_logit = pred_logit.squeeze().detach().cpu()\n",
        "            \n",
        "            model_pred.extend(pred_logit)\n",
        "    return model_pred"
      ]
    },
    {
      "cell_type": "code",
      "source": [
        "def get_test_label(data_dir):\n",
        "    img_test_list = []\n",
        "    label_test_list = []\n",
        "    \n",
        "    product_path = data_dir\n",
        "    product_name = glob(os.path.join(product_path, '*.jpg'))\n",
        "    img_test_list.extend(glob(os.path.join(product_path, '*.jpg')))\n",
        "    img_test_list.extend(glob(os.path.join(product_path, '*.png')))\n",
        "            # get image path\n",
        "    for j in range(len(product_name)):\n",
        "        label = list(product_name[j][-11:-6])\n",
        "        label_test_list.append(''.join(label))\n",
        "                \n",
        "    return label_test_list"
      ],
      "metadata": {
        "id": "wr57cq6FETTk"
      },
      "id": "wr57cq6FETTk",
      "execution_count": null,
      "outputs": []
    },
    {
      "cell_type": "code",
      "source": [
        "test_label = get_test_label(test_path)\n",
        "test_label"
      ],
      "metadata": {
        "id": "rU7eOsM8FKTG",
        "outputId": "2660805f-46b5-4ceb-ed0a-9843f4cf3065",
        "colab": {
          "base_uri": "https://localhost:8080/"
        }
      },
      "id": "rU7eOsM8FKTG",
      "execution_count": null,
      "outputs": [
        {
          "output_type": "execute_result",
          "data": {
            "text/plain": [
              "['25222',\n",
              " '55701',\n",
              " '35211',\n",
              " '45660',\n",
              " '35211',\n",
              " '55702',\n",
              " '45659',\n",
              " '55701',\n",
              " '35585',\n",
              " '25222',\n",
              " '55701',\n",
              " '45657',\n",
              " '35211',\n",
              " '25222',\n",
              " '45660',\n",
              " '45661',\n",
              " '45030',\n",
              " '45657',\n",
              " '25228',\n",
              " '25222',\n",
              " '55701',\n",
              " '45657',\n",
              " '35584',\n",
              " '45661',\n",
              " '35211',\n",
              " '55034',\n",
              " '45030',\n",
              " '55702',\n",
              " '35584',\n",
              " '55702',\n",
              " '45659']"
            ]
          },
          "metadata": {},
          "execution_count": 238
        }
      ]
    },
    {
      "cell_type": "code",
      "source": [
        "label = ['35585',\n",
        " '35584',\n",
        " '45030',\n",
        " '45658',\n",
        " '45660',\n",
        " '45659',\n",
        " '25222',\n",
        " '25228',\n",
        " '35211',\n",
        " '45657',\n",
        " '55701',\n",
        " '55034',\n",
        " '55702',\n",
        " '45661']"
      ],
      "metadata": {
        "id": "L9HCkQb3qXpX"
      },
      "id": "L9HCkQb3qXpX",
      "execution_count": null,
      "outputs": []
    },
    {
      "cell_type": "code",
      "execution_count": null,
      "id": "2afaccdd",
      "metadata": {
        "id": "2afaccdd",
        "outputId": "129f9c8e-88e1-4d79-b814-db90d4dcb345",
        "colab": {
          "base_uri": "https://localhost:8080/"
        }
      },
      "outputs": [
        {
          "output_type": "execute_result",
          "data": {
            "text/plain": [
              "<All keys matched successfully>"
            ]
          },
          "metadata": {},
          "execution_count": 228
        }
      ],
      "source": [
        "checkpoint = torch.load('/content/drive/MyDrive/project/saved_models/ResNet50_1e-05_Lamb_CosineAnnealing_example.pth')\n",
        "checkpoint2 = torch.load('/content/drive/MyDrive/project/saved_models/EfficientNetb4_0.001_adam_CosineAnnealing_example.pth')\n",
        "checkpoint3 = torch.load('/content/drive/MyDrive/project/saved_models/RegNet_1e-05_adam_CosineAnnealing_example.pth')\n",
        "\n",
        "title = 'ResNet50_1e-05_Lamb'\n",
        "\n",
        "resnet_model = ResNet50().to(device)\n",
        "resnet_model.load_state_dict(checkpoint)\n",
        "\n",
        "# effinet_model = EfficientNetb4().to(device)\n",
        "# effinet_model.load_state_dict(checkpoint2)\n",
        "\n",
        "# regnet_model = RegNet().to(device)\n",
        "# regnet_model.load_state_dict(checkpoint3)\n"
      ]
    },
    {
      "cell_type": "code",
      "source": [
        "preds = predict(resnet_model, test_loader, device)"
      ],
      "metadata": {
        "colab": {
          "base_uri": "https://localhost:8080/",
          "height": 49,
          "referenced_widgets": [
            "29bc374c39e64cb3b62ac15ae692a9af",
            "010feaba59594612b15a43b1dc0754f6",
            "a3203a1ab1da406aba3e4ce03ed13cc5",
            "b4623b5bee1044419aee718a386af21a",
            "081d7134e8f94829a6ebfa9455c5eec6",
            "aafe989fb0a146098dca4d5bc4109d3c",
            "29136dcb309d4298bfb41225aa6979b3",
            "c096aea4d1014526b1b0fa3101e8d84c",
            "8390ffa5b16f4ebdb2318ed8d6d1ae01",
            "0f360e6a8393424b9d92b63b9c48bb55",
            "a271d00f6ae24daeaa774ead6ed4be6b"
          ]
        },
        "id": "IJquQGhisVcf",
        "outputId": "a546f8dc-3112-4af3-b2e2-170f53fdce1d"
      },
      "id": "IJquQGhisVcf",
      "execution_count": null,
      "outputs": [
        {
          "output_type": "display_data",
          "data": {
            "text/plain": [
              "  0%|          | 0/1 [00:00<?, ?it/s]"
            ],
            "application/vnd.jupyter.widget-view+json": {
              "version_major": 2,
              "version_minor": 0,
              "model_id": "29bc374c39e64cb3b62ac15ae692a9af"
            }
          },
          "metadata": {}
        }
      ]
    },
    {
      "cell_type": "code",
      "source": [
        "len(preds)"
      ],
      "metadata": {
        "colab": {
          "base_uri": "https://localhost:8080/"
        },
        "id": "hIC-mUaBB9Np",
        "outputId": "d84857b4-6ee9-4196-8744-4336642345f1"
      },
      "id": "hIC-mUaBB9Np",
      "execution_count": null,
      "outputs": [
        {
          "output_type": "execute_result",
          "data": {
            "text/plain": [
              "31"
            ]
          },
          "metadata": {},
          "execution_count": 230
        }
      ]
    },
    {
      "cell_type": "code",
      "source": [
        "result = []\n",
        "for i in range(len(preds)):\n",
        "    out = preds[i].argmax()\n",
        "    result.append(out.tolist())\n"
      ],
      "metadata": {
        "id": "Bqcu107WsxRX"
      },
      "id": "Bqcu107WsxRX",
      "execution_count": null,
      "outputs": []
    },
    {
      "cell_type": "code",
      "source": [
        "prediction = []\n",
        "for k in result:\n",
        "    out = label[k]\n",
        "    prediction.append(out)"
      ],
      "metadata": {
        "id": "jYytAiG5qiZx"
      },
      "id": "jYytAiG5qiZx",
      "execution_count": null,
      "outputs": []
    },
    {
      "cell_type": "code",
      "execution_count": null,
      "id": "969fdd8c",
      "metadata": {
        "id": "969fdd8c",
        "outputId": "058082da-efa6-42dd-d83d-d0c0cbd5682e",
        "colab": {
          "base_uri": "https://localhost:8080/"
        }
      },
      "outputs": [
        {
          "output_type": "execute_result",
          "data": {
            "text/plain": [
              "0.03225806451612903"
            ]
          },
          "metadata": {},
          "execution_count": 233
        }
      ],
      "source": [
        "from sklearn.metrics import accuracy_score\n",
        "from sklearn.metrics import confusion_matrix\n",
        "from sklearn.metrics import plot_confusion_matrix\n",
        "\n",
        "accuracy_score(prediction, test_label)"
      ]
    },
    {
      "cell_type": "code",
      "execution_count": null,
      "id": "22c996d6",
      "metadata": {
        "id": "22c996d6"
      },
      "outputs": [],
      "source": [
        "a = confusion_matrix(prediction, test_label)"
      ]
    },
    {
      "cell_type": "code",
      "source": [
        "a"
      ],
      "metadata": {
        "colab": {
          "base_uri": "https://localhost:8080/"
        },
        "id": "1rLkQPMpMTmw",
        "outputId": "d3ab2b72-2ec3-4325-9fb5-daa9da44310c"
      },
      "id": "1rLkQPMpMTmw",
      "execution_count": null,
      "outputs": [
        {
          "output_type": "execute_result",
          "data": {
            "text/plain": [
              "array([[0, 0, 0, 0, 0, 0, 0, 0, 0, 0, 0, 0, 0],\n",
              "       [0, 0, 0, 0, 0, 0, 0, 0, 1, 0, 0, 0, 0],\n",
              "       [0, 0, 0, 1, 0, 0, 1, 0, 0, 0, 0, 1, 1],\n",
              "       [0, 0, 0, 0, 0, 0, 0, 0, 0, 0, 0, 0, 0],\n",
              "       [2, 1, 0, 0, 0, 0, 0, 0, 0, 0, 0, 0, 0],\n",
              "       [0, 0, 0, 0, 0, 0, 0, 0, 0, 0, 0, 0, 0],\n",
              "       [0, 0, 0, 0, 0, 0, 1, 0, 0, 1, 0, 0, 0],\n",
              "       [0, 0, 2, 0, 0, 0, 0, 0, 0, 0, 1, 0, 0],\n",
              "       [1, 0, 1, 1, 1, 0, 0, 0, 0, 1, 0, 1, 0],\n",
              "       [0, 0, 0, 0, 0, 0, 0, 0, 0, 0, 0, 1, 0],\n",
              "       [1, 0, 1, 0, 0, 2, 1, 2, 1, 0, 0, 1, 2],\n",
              "       [0, 0, 0, 0, 0, 0, 0, 0, 0, 0, 0, 0, 0],\n",
              "       [0, 0, 0, 0, 0, 0, 0, 0, 0, 0, 0, 0, 0]])"
            ]
          },
          "metadata": {},
          "execution_count": 235
        }
      ]
    },
    {
      "cell_type": "code",
      "source": [
        "from sklearn import metrics\n",
        "import seaborn as sns\n",
        "import matplotlib.pyplot as plt\n",
        "\n",
        "splot = sns.heatmap(pd.DataFrame(a), annot=True, cmap=\"YlGnBu\", fmt='g')\n",
        "plt.title(title, y=1.1)\n",
        "plt.ylabel('Actual label')\n",
        "plt.xlabel('Predicted label')\n",
        "plt.show()"
      ],
      "metadata": {
        "colab": {
          "base_uri": "https://localhost:8080/",
          "height": 295
        },
        "id": "LKQu1XOrK1YN",
        "outputId": "818c5bb4-712c-4b7b-d64d-1c8390cffd1b"
      },
      "id": "LKQu1XOrK1YN",
      "execution_count": null,
      "outputs": [
        {
          "output_type": "display_data",
          "data": {
            "text/plain": [
              "<Figure size 432x288 with 2 Axes>"
            ],
            "image/png": "[encoded data removed]"
          },
          "metadata": {
            "needs_background": "light"
          }
        }
      ]
    },
    {
      "cell_type": "code",
      "source": [
        "sfig = splot.get_figure()\n",
        "sfig.savefig('/content/drive/MyDrive/project/result/confusion_matrix/' + title + 'confusion matrix.png')"
      ],
      "metadata": {
        "id": "8aqKuMvBLWl2"
      },
      "id": "8aqKuMvBLWl2",
      "execution_count": null,
      "outputs": []
    },
    {
      "cell_type": "code",
      "source": [
        ""
      ],
      "metadata": {
        "id": "EBjybUnqQpBx"
      },
      "id": "EBjybUnqQpBx",
      "execution_count": null,
      "outputs": []
    }
  ],
  "metadata": {
    "kernelspec": {
      "display_name": "Python 3",
      "name": "python3"
    },
    "language_info": {
      "name": "python"
    },
    "colab": {
      "name": "Evaluation",
      "provenance": [],
      "machine_shape": "hm",
      "toc_visible": true,
      "include_colab_link": true
    },
    "accelerator": "GPU",
    "gpuClass": "standard",
    "widgets": {
      "application/vnd.jupyter.widget-state+json": {
        "29bc374c39e64cb3b62ac15ae692a9af": {
          "model_module": "@jupyter-widgets/controls",
          "model_name": "HBoxModel",
          "model_module_version": "1.5.0",
          "state": {
            "_dom_classes": [],
            "_model_module": "@jupyter-widgets/controls",
            "_model_module_version": "1.5.0",
            "_model_name": "HBoxModel",
            "_view_count": null,
            "_view_module": "@jupyter-widgets/controls",
            "_view_module_version": "1.5.0",
            "_view_name": "HBoxView",
            "box_style": "",
            "children": [
              "IPY_MODEL_010feaba59594612b15a43b1dc0754f6",
              "IPY_MODEL_a3203a1ab1da406aba3e4ce03ed13cc5",
              "IPY_MODEL_b4623b5bee1044419aee718a386af21a"
            ],
            "layout": "IPY_MODEL_081d7134e8f94829a6ebfa9455c5eec6"
          }
        },
        "010feaba59594612b15a43b1dc0754f6": {
          "model_module": "@jupyter-widgets/controls",
          "model_name": "HTMLModel",
          "model_module_version": "1.5.0",
          "state": {
            "_dom_classes": [],
            "_model_module": "@jupyter-widgets/controls",
            "_model_module_version": "1.5.0",
            "_model_name": "HTMLModel",
            "_view_count": null,
            "_view_module": "@jupyter-widgets/controls",
            "_view_module_version": "1.5.0",
            "_view_name": "HTMLView",
            "description": "",
            "description_tooltip": null,
            "layout": "IPY_MODEL_aafe989fb0a146098dca4d5bc4109d3c",
            "placeholder": "​",
            "style": "IPY_MODEL_29136dcb309d4298bfb41225aa6979b3",
            "value": "100%"
          }
        },
        "a3203a1ab1da406aba3e4ce03ed13cc5": {
          "model_module": "@jupyter-widgets/controls",
          "model_name": "FloatProgressModel",
          "model_module_version": "1.5.0",
          "state": {
            "_dom_classes": [],
            "_model_module": "@jupyter-widgets/controls",
            "_model_module_version": "1.5.0",
            "_model_name": "FloatProgressModel",
            "_view_count": null,
            "_view_module": "@jupyter-widgets/controls",
            "_view_module_version": "1.5.0",
            "_view_name": "ProgressView",
            "bar_style": "success",
            "description": "",
            "description_tooltip": null,
            "layout": "IPY_MODEL_c096aea4d1014526b1b0fa3101e8d84c",
            "max": 1,
            "min": 0,
            "orientation": "horizontal",
            "style": "IPY_MODEL_8390ffa5b16f4ebdb2318ed8d6d1ae01",
            "value": 1
          }
        },
        "b4623b5bee1044419aee718a386af21a": {
          "model_module": "@jupyter-widgets/controls",
          "model_name": "HTMLModel",
          "model_module_version": "1.5.0",
          "state": {
            "_dom_classes": [],
            "_model_module": "@jupyter-widgets/controls",
            "_model_module_version": "1.5.0",
            "_model_name": "HTMLModel",
            "_view_count": null,
            "_view_module": "@jupyter-widgets/controls",
            "_view_module_version": "1.5.0",
            "_view_name": "HTMLView",
            "description": "",
            "description_tooltip": null,
            "layout": "IPY_MODEL_0f360e6a8393424b9d92b63b9c48bb55",
            "placeholder": "​",
            "style": "IPY_MODEL_a271d00f6ae24daeaa774ead6ed4be6b",
            "value": " 1/1 [00:00&lt;00:00,  1.82it/s]"
          }
        },
        "081d7134e8f94829a6ebfa9455c5eec6": {
          "model_module": "@jupyter-widgets/base",
          "model_name": "LayoutModel",
          "model_module_version": "1.2.0",
          "state": {
            "_model_module": "@jupyter-widgets/base",
            "_model_module_version": "1.2.0",
            "_model_name": "LayoutModel",
            "_view_count": null,
            "_view_module": "@jupyter-widgets/base",
            "_view_module_version": "1.2.0",
            "_view_name": "LayoutView",
            "align_content": null,
            "align_items": null,
            "align_self": null,
            "border": null,
            "bottom": null,
            "display": null,
            "flex": null,
            "flex_flow": null,
            "grid_area": null,
            "grid_auto_columns": null,
            "grid_auto_flow": null,
            "grid_auto_rows": null,
            "grid_column": null,
            "grid_gap": null,
            "grid_row": null,
            "grid_template_areas": null,
            "grid_template_columns": null,
            "grid_template_rows": null,
            "height": null,
            "justify_content": null,
            "justify_items": null,
            "left": null,
            "margin": null,
            "max_height": null,
            "max_width": null,
            "min_height": null,
            "min_width": null,
            "object_fit": null,
            "object_position": null,
            "order": null,
            "overflow": null,
            "overflow_x": null,
            "overflow_y": null,
            "padding": null,
            "right": null,
            "top": null,
            "visibility": null,
            "width": null
          }
        },
        "aafe989fb0a146098dca4d5bc4109d3c": {
          "model_module": "@jupyter-widgets/base",
          "model_name": "LayoutModel",
          "model_module_version": "1.2.0",
          "state": {
            "_model_module": "@jupyter-widgets/base",
            "_model_module_version": "1.2.0",
            "_model_name": "LayoutModel",
            "_view_count": null,
            "_view_module": "@jupyter-widgets/base",
            "_view_module_version": "1.2.0",
            "_view_name": "LayoutView",
            "align_content": null,
            "align_items": null,
            "align_self": null,
            "border": null,
            "bottom": null,
            "display": null,
            "flex": null,
            "flex_flow": null,
            "grid_area": null,
            "grid_auto_columns": null,
            "grid_auto_flow": null,
            "grid_auto_rows": null,
            "grid_column": null,
            "grid_gap": null,
            "grid_row": null,
            "grid_template_areas": null,
            "grid_template_columns": null,
            "grid_template_rows": null,
            "height": null,
            "justify_content": null,
            "justify_items": null,
            "left": null,
            "margin": null,
            "max_height": null,
            "max_width": null,
            "min_height": null,
            "min_width": null,
            "object_fit": null,
            "object_position": null,
            "order": null,
            "overflow": null,
            "overflow_x": null,
            "overflow_y": null,
            "padding": null,
            "right": null,
            "top": null,
            "visibility": null,
            "width": null
          }
        },
        "29136dcb309d4298bfb41225aa6979b3": {
          "model_module": "@jupyter-widgets/controls",
          "model_name": "DescriptionStyleModel",
          "model_module_version": "1.5.0",
          "state": {
            "_model_module": "@jupyter-widgets/controls",
            "_model_module_version": "1.5.0",
            "_model_name": "DescriptionStyleModel",
            "_view_count": null,
            "_view_module": "@jupyter-widgets/base",
            "_view_module_version": "1.2.0",
            "_view_name": "StyleView",
            "description_width": ""
          }
        },
        "c096aea4d1014526b1b0fa3101e8d84c": {
          "model_module": "@jupyter-widgets/base",
          "model_name": "LayoutModel",
          "model_module_version": "1.2.0",
          "state": {
            "_model_module": "@jupyter-widgets/base",
            "_model_module_version": "1.2.0",
            "_model_name": "LayoutModel",
            "_view_count": null,
            "_view_module": "@jupyter-widgets/base",
            "_view_module_version": "1.2.0",
            "_view_name": "LayoutView",
            "align_content": null,
            "align_items": null,
            "align_self": null,
            "border": null,
            "bottom": null,
            "display": null,
            "flex": null,
            "flex_flow": null,
            "grid_area": null,
            "grid_auto_columns": null,
            "grid_auto_flow": null,
            "grid_auto_rows": null,
            "grid_column": null,
            "grid_gap": null,
            "grid_row": null,
            "grid_template_areas": null,
            "grid_template_columns": null,
            "grid_template_rows": null,
            "height": null,
            "justify_content": null,
            "justify_items": null,
            "left": null,
            "margin": null,
            "max_height": null,
            "max_width": null,
            "min_height": null,
            "min_width": null,
            "object_fit": null,
            "object_position": null,
            "order": null,
            "overflow": null,
            "overflow_x": null,
            "overflow_y": null,
            "padding": null,
            "right": null,
            "top": null,
            "visibility": null,
            "width": null
          }
        },
        "8390ffa5b16f4ebdb2318ed8d6d1ae01": {
          "model_module": "@jupyter-widgets/controls",
          "model_name": "ProgressStyleModel",
          "model_module_version": "1.5.0",
          "state": {
            "_model_module": "@jupyter-widgets/controls",
            "_model_module_version": "1.5.0",
            "_model_name": "ProgressStyleModel",
            "_view_count": null,
            "_view_module": "@jupyter-widgets/base",
            "_view_module_version": "1.2.0",
            "_view_name": "StyleView",
            "bar_color": null,
            "description_width": ""
          }
        },
        "0f360e6a8393424b9d92b63b9c48bb55": {
          "model_module": "@jupyter-widgets/base",
          "model_name": "LayoutModel",
          "model_module_version": "1.2.0",
          "state": {
            "_model_module": "@jupyter-widgets/base",
            "_model_module_version": "1.2.0",
            "_model_name": "LayoutModel",
            "_view_count": null,
            "_view_module": "@jupyter-widgets/base",
            "_view_module_version": "1.2.0",
            "_view_name": "LayoutView",
            "align_content": null,
            "align_items": null,
            "align_self": null,
            "border": null,
            "bottom": null,
            "display": null,
            "flex": null,
            "flex_flow": null,
            "grid_area": null,
            "grid_auto_columns": null,
            "grid_auto_flow": null,
            "grid_auto_rows": null,
            "grid_column": null,
            "grid_gap": null,
            "grid_row": null,
            "grid_template_areas": null,
            "grid_template_columns": null,
            "grid_template_rows": null,
            "height": null,
            "justify_content": null,
            "justify_items": null,
            "left": null,
            "margin": null,
            "max_height": null,
            "max_width": null,
            "min_height": null,
            "min_width": null,
            "object_fit": null,
            "object_position": null,
            "order": null,
            "overflow": null,
            "overflow_x": null,
            "overflow_y": null,
            "padding": null,
            "right": null,
            "top": null,
            "visibility": null,
            "width": null
          }
        },
        "a271d00f6ae24daeaa774ead6ed4be6b": {
          "model_module": "@jupyter-widgets/controls",
          "model_name": "DescriptionStyleModel",
          "model_module_version": "1.5.0",
          "state": {
            "_model_module": "@jupyter-widgets/controls",
            "_model_module_version": "1.5.0",
            "_model_name": "DescriptionStyleModel",
            "_view_count": null,
            "_view_module": "@jupyter-widgets/base",
            "_view_module_version": "1.2.0",
            "_view_name": "StyleView",
            "description_width": ""
          }
        }
      }
    }
  },
  "nbformat": 4,
  "nbformat_minor": 5
}